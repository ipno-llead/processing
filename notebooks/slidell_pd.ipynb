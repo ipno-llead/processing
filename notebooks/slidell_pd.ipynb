{
 "metadata": {
  "language_info": {
   "codemirror_mode": {
    "name": "ipython",
    "version": 3
   },
   "file_extension": ".py",
   "mimetype": "text/x-python",
   "name": "python",
   "nbconvert_exporter": "python",
   "pygments_lexer": "ipython3",
   "version": "3.9.2"
  },
  "orig_nbformat": 2,
  "kernelspec": {
   "name": "python392jvsc74a57bd055d6dfa6f6295e03bf132df3e61c1565ff1c22b645ef82a5638b280b97b3597b",
   "display_name": "Python 3.9.2 64-bit ('base': virtualenvwrapper)"
  }
 },
 "nbformat": 4,
 "nbformat_minor": 2,
 "cells": [
  {
   "cell_type": "code",
   "execution_count": 1,
   "metadata": {},
   "outputs": [],
   "source": [
    "import sys; sys.path.append('../')\n",
    "import pandas as pd\n",
    "\n",
    "from clean.slidell_pd import clean09, clean19, clean"
   ]
  },
  {
   "cell_type": "code",
   "execution_count": 2,
   "metadata": {},
   "outputs": [
    {
     "output_type": "stream",
     "name": "stderr",
     "text": [
      "/Users/khoipham/.virtualenvs/base/lib/python3.9/site-packages/pandas/core/indexing.py:1676: SettingWithCopyWarning: \nA value is trying to be set on a copy of a slice from a DataFrame.\nTry using .loc[row_indexer,col_indexer] = value instead\n\nSee the caveats in the documentation: https://pandas.pydata.org/pandas-docs/stable/user_guide/indexing.html#returning-a-view-versus-a-copy\n  self._setitem_single_column(ilocs[0], value, pi)\n"
     ]
    },
    {
     "output_type": "execute_result",
     "data": {
      "text/plain": [
       "                          rank_desc  salary salary_freq first_name  \\\n",
       "0          police officer 2nd class   15.58      hourly      brian   \n",
       "1          police officer 2nd class   16.61      hourly      brian   \n",
       "2          police officer 2nd class   16.21      hourly      brian   \n",
       "3          police officer 1st class   17.62      hourly      brian   \n",
       "4          police officer 3rd class   15.24      hourly     walter   \n",
       "...                             ...     ...         ...        ...   \n",
       "1781       police officer 1st class   19.45      hourly    stanley   \n",
       "1782       police officer 1st class   19.45      hourly    stanley   \n",
       "1783         reserve police officer   30.00      hourly    stanley   \n",
       "1784  temporary police officer - sr   19.45      hourly    stanley   \n",
       "1785                        captain   24.05      hourly    michael   \n",
       "\n",
       "        last_name hire_year hire_month hire_day salary_year salary_month  \\\n",
       "0           brown      2007          8       27        2007            8   \n",
       "1           brown      2007          8       27        2008           11   \n",
       "2           brown      2007          8       27        2008            7   \n",
       "3           brown      2007          8       27        2009            2   \n",
       "4        burtanog      2015         11       19        2015           11   \n",
       "...           ...       ...        ...      ...         ...          ...   \n",
       "1781  rabalais jr      2010          7        2        2008            7   \n",
       "1782  rabalais jr      2010          7        2        2010            1   \n",
       "1783  rabalais jr      2010          7        2        2010            7   \n",
       "1784  rabalais jr      2010          7        2        2012            1   \n",
       "1785       youngs      1974          2       13        2000            7   \n",
       "\n",
       "     salary_day  data_production_year      agency  \\\n",
       "0            27                  2009  Slidell PD   \n",
       "1            27                  2009  Slidell PD   \n",
       "2             1                  2009  Slidell PD   \n",
       "3             9                  2009  Slidell PD   \n",
       "4            19                  2019  Slidell PD   \n",
       "...         ...                   ...         ...   \n",
       "1781          1                  2009  Slidell PD   \n",
       "1782          1                  2019  Slidell PD   \n",
       "1783          2                  2019  Slidell PD   \n",
       "1784         17                  2019  Slidell PD   \n",
       "1785          1                  2009  Slidell PD   \n",
       "\n",
       "                                   uid badge_no          department_desc  \\\n",
       "0     00c08237ece5277edf40555bc33b67e3      NaN                      NaN   \n",
       "1     00c08237ece5277edf40555bc33b67e3      NaN                      NaN   \n",
       "2     00c08237ece5277edf40555bc33b67e3      NaN                      NaN   \n",
       "3     00c08237ece5277edf40555bc33b67e3      NaN                      NaN   \n",
       "4     040c3bdf4d40cd3e464f3c2c22a45848      213  criminal investigations   \n",
       "...                                ...      ...                      ...   \n",
       "1781  fd998fa62749503109c4634049c61213      212          patrol division   \n",
       "1782  fd998fa62749503109c4634049c61213      212          patrol division   \n",
       "1783  fd998fa62749503109c4634049c61213      212          patrol division   \n",
       "1784  fd998fa62749503109c4634049c61213      212          patrol division   \n",
       "1785  ffed8bba5b654be261b1eee71ebf01f4      NaN                      NaN   \n",
       "\n",
       "       employment_status  \n",
       "0                    NaN  \n",
       "1                    NaN  \n",
       "2                    NaN  \n",
       "3                    NaN  \n",
       "4     no longer with spd  \n",
       "...                  ...  \n",
       "1781             retired  \n",
       "1782             retired  \n",
       "1783             retired  \n",
       "1784             retired  \n",
       "1785                 NaN  \n",
       "\n",
       "[1786 rows x 17 columns]"
      ],
      "text/html": "<div>\n<style scoped>\n    .dataframe tbody tr th:only-of-type {\n        vertical-align: middle;\n    }\n\n    .dataframe tbody tr th {\n        vertical-align: top;\n    }\n\n    .dataframe thead th {\n        text-align: right;\n    }\n</style>\n<table border=\"1\" class=\"dataframe\">\n  <thead>\n    <tr style=\"text-align: right;\">\n      <th></th>\n      <th>rank_desc</th>\n      <th>salary</th>\n      <th>salary_freq</th>\n      <th>first_name</th>\n      <th>last_name</th>\n      <th>hire_year</th>\n      <th>hire_month</th>\n      <th>hire_day</th>\n      <th>salary_year</th>\n      <th>salary_month</th>\n      <th>salary_day</th>\n      <th>data_production_year</th>\n      <th>agency</th>\n      <th>uid</th>\n      <th>badge_no</th>\n      <th>department_desc</th>\n      <th>employment_status</th>\n    </tr>\n  </thead>\n  <tbody>\n    <tr>\n      <th>0</th>\n      <td>police officer 2nd class</td>\n      <td>15.58</td>\n      <td>hourly</td>\n      <td>brian</td>\n      <td>brown</td>\n      <td>2007</td>\n      <td>8</td>\n      <td>27</td>\n      <td>2007</td>\n      <td>8</td>\n      <td>27</td>\n      <td>2009</td>\n      <td>Slidell PD</td>\n      <td>00c08237ece5277edf40555bc33b67e3</td>\n      <td>NaN</td>\n      <td>NaN</td>\n      <td>NaN</td>\n    </tr>\n    <tr>\n      <th>1</th>\n      <td>police officer 2nd class</td>\n      <td>16.61</td>\n      <td>hourly</td>\n      <td>brian</td>\n      <td>brown</td>\n      <td>2007</td>\n      <td>8</td>\n      <td>27</td>\n      <td>2008</td>\n      <td>11</td>\n      <td>27</td>\n      <td>2009</td>\n      <td>Slidell PD</td>\n      <td>00c08237ece5277edf40555bc33b67e3</td>\n      <td>NaN</td>\n      <td>NaN</td>\n      <td>NaN</td>\n    </tr>\n    <tr>\n      <th>2</th>\n      <td>police officer 2nd class</td>\n      <td>16.21</td>\n      <td>hourly</td>\n      <td>brian</td>\n      <td>brown</td>\n      <td>2007</td>\n      <td>8</td>\n      <td>27</td>\n      <td>2008</td>\n      <td>7</td>\n      <td>1</td>\n      <td>2009</td>\n      <td>Slidell PD</td>\n      <td>00c08237ece5277edf40555bc33b67e3</td>\n      <td>NaN</td>\n      <td>NaN</td>\n      <td>NaN</td>\n    </tr>\n    <tr>\n      <th>3</th>\n      <td>police officer 1st class</td>\n      <td>17.62</td>\n      <td>hourly</td>\n      <td>brian</td>\n      <td>brown</td>\n      <td>2007</td>\n      <td>8</td>\n      <td>27</td>\n      <td>2009</td>\n      <td>2</td>\n      <td>9</td>\n      <td>2009</td>\n      <td>Slidell PD</td>\n      <td>00c08237ece5277edf40555bc33b67e3</td>\n      <td>NaN</td>\n      <td>NaN</td>\n      <td>NaN</td>\n    </tr>\n    <tr>\n      <th>4</th>\n      <td>police officer 3rd class</td>\n      <td>15.24</td>\n      <td>hourly</td>\n      <td>walter</td>\n      <td>burtanog</td>\n      <td>2015</td>\n      <td>11</td>\n      <td>19</td>\n      <td>2015</td>\n      <td>11</td>\n      <td>19</td>\n      <td>2019</td>\n      <td>Slidell PD</td>\n      <td>040c3bdf4d40cd3e464f3c2c22a45848</td>\n      <td>213</td>\n      <td>criminal investigations</td>\n      <td>no longer with spd</td>\n    </tr>\n    <tr>\n      <th>...</th>\n      <td>...</td>\n      <td>...</td>\n      <td>...</td>\n      <td>...</td>\n      <td>...</td>\n      <td>...</td>\n      <td>...</td>\n      <td>...</td>\n      <td>...</td>\n      <td>...</td>\n      <td>...</td>\n      <td>...</td>\n      <td>...</td>\n      <td>...</td>\n      <td>...</td>\n      <td>...</td>\n      <td>...</td>\n    </tr>\n    <tr>\n      <th>1781</th>\n      <td>police officer 1st class</td>\n      <td>19.45</td>\n      <td>hourly</td>\n      <td>stanley</td>\n      <td>rabalais jr</td>\n      <td>2010</td>\n      <td>7</td>\n      <td>2</td>\n      <td>2008</td>\n      <td>7</td>\n      <td>1</td>\n      <td>2009</td>\n      <td>Slidell PD</td>\n      <td>fd998fa62749503109c4634049c61213</td>\n      <td>212</td>\n      <td>patrol division</td>\n      <td>retired</td>\n    </tr>\n    <tr>\n      <th>1782</th>\n      <td>police officer 1st class</td>\n      <td>19.45</td>\n      <td>hourly</td>\n      <td>stanley</td>\n      <td>rabalais jr</td>\n      <td>2010</td>\n      <td>7</td>\n      <td>2</td>\n      <td>2010</td>\n      <td>1</td>\n      <td>1</td>\n      <td>2019</td>\n      <td>Slidell PD</td>\n      <td>fd998fa62749503109c4634049c61213</td>\n      <td>212</td>\n      <td>patrol division</td>\n      <td>retired</td>\n    </tr>\n    <tr>\n      <th>1783</th>\n      <td>reserve police officer</td>\n      <td>30.00</td>\n      <td>hourly</td>\n      <td>stanley</td>\n      <td>rabalais jr</td>\n      <td>2010</td>\n      <td>7</td>\n      <td>2</td>\n      <td>2010</td>\n      <td>7</td>\n      <td>2</td>\n      <td>2019</td>\n      <td>Slidell PD</td>\n      <td>fd998fa62749503109c4634049c61213</td>\n      <td>212</td>\n      <td>patrol division</td>\n      <td>retired</td>\n    </tr>\n    <tr>\n      <th>1784</th>\n      <td>temporary police officer - sr</td>\n      <td>19.45</td>\n      <td>hourly</td>\n      <td>stanley</td>\n      <td>rabalais jr</td>\n      <td>2010</td>\n      <td>7</td>\n      <td>2</td>\n      <td>2012</td>\n      <td>1</td>\n      <td>17</td>\n      <td>2019</td>\n      <td>Slidell PD</td>\n      <td>fd998fa62749503109c4634049c61213</td>\n      <td>212</td>\n      <td>patrol division</td>\n      <td>retired</td>\n    </tr>\n    <tr>\n      <th>1785</th>\n      <td>captain</td>\n      <td>24.05</td>\n      <td>hourly</td>\n      <td>michael</td>\n      <td>youngs</td>\n      <td>1974</td>\n      <td>2</td>\n      <td>13</td>\n      <td>2000</td>\n      <td>7</td>\n      <td>1</td>\n      <td>2009</td>\n      <td>Slidell PD</td>\n      <td>ffed8bba5b654be261b1eee71ebf01f4</td>\n      <td>NaN</td>\n      <td>NaN</td>\n      <td>NaN</td>\n    </tr>\n  </tbody>\n</table>\n<p>1786 rows × 17 columns</p>\n</div>"
     },
     "metadata": {},
     "execution_count": 2
    }
   ],
   "source": [
    "df = clean()\n",
    "df"
   ]
  },
  {
   "cell_type": "code",
   "execution_count": 4,
   "metadata": {},
   "outputs": [
    {
     "output_type": "execute_result",
     "data": {
      "text/plain": [
       "           rank_desc  salary salary_freq first_name last_name hire_year  \\\n",
       "1426  police officer   11.41   bi-weekly       alan       roy      2002   \n",
       "\n",
       "     hire_month hire_day salary_year salary_month salary_day  \\\n",
       "1426         11       25        2004            2         25   \n",
       "\n",
       "      data_production_year      agency                               uid  \\\n",
       "1426                  2009  Slidell PD  c7a2b15665a57e6dd60612e65aa3bd8c   \n",
       "\n",
       "     badge_no department_desc employment_status  \n",
       "1426      NaN             NaN               NaN  "
      ],
      "text/html": "<div>\n<style scoped>\n    .dataframe tbody tr th:only-of-type {\n        vertical-align: middle;\n    }\n\n    .dataframe tbody tr th {\n        vertical-align: top;\n    }\n\n    .dataframe thead th {\n        text-align: right;\n    }\n</style>\n<table border=\"1\" class=\"dataframe\">\n  <thead>\n    <tr style=\"text-align: right;\">\n      <th></th>\n      <th>rank_desc</th>\n      <th>salary</th>\n      <th>salary_freq</th>\n      <th>first_name</th>\n      <th>last_name</th>\n      <th>hire_year</th>\n      <th>hire_month</th>\n      <th>hire_day</th>\n      <th>salary_year</th>\n      <th>salary_month</th>\n      <th>salary_day</th>\n      <th>data_production_year</th>\n      <th>agency</th>\n      <th>uid</th>\n      <th>badge_no</th>\n      <th>department_desc</th>\n      <th>employment_status</th>\n    </tr>\n  </thead>\n  <tbody>\n    <tr>\n      <th>1426</th>\n      <td>police officer</td>\n      <td>11.41</td>\n      <td>bi-weekly</td>\n      <td>alan</td>\n      <td>roy</td>\n      <td>2002</td>\n      <td>11</td>\n      <td>25</td>\n      <td>2004</td>\n      <td>2</td>\n      <td>25</td>\n      <td>2009</td>\n      <td>Slidell PD</td>\n      <td>c7a2b15665a57e6dd60612e65aa3bd8c</td>\n      <td>NaN</td>\n      <td>NaN</td>\n      <td>NaN</td>\n    </tr>\n  </tbody>\n</table>\n</div>"
     },
     "metadata": {},
     "execution_count": 4
    }
   ],
   "source": [
    "df.loc[df.salary_freq == 'bi-weekly']"
   ]
  },
  {
   "cell_type": "code",
   "execution_count": null,
   "metadata": {},
   "outputs": [],
   "source": []
  }
 ]
}
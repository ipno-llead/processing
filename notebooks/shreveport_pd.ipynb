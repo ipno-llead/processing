{
 "metadata": {
  "language_info": {
   "codemirror_mode": {
    "name": "ipython",
    "version": 3
   },
   "file_extension": ".py",
   "mimetype": "text/x-python",
   "name": "python",
   "nbconvert_exporter": "python",
   "pygments_lexer": "ipython3",
   "version": "3.9.2"
  },
  "orig_nbformat": 4,
  "kernelspec": {
   "name": "python3",
   "display_name": "Python 3.9.2 64-bit ('base': virtualenvwrapper)"
  },
  "interpreter": {
   "hash": "55d6dfa6f6295e03bf132df3e61c1565ff1c22b645ef82a5638b280b97b3597b"
  }
 },
 "nbformat": 4,
 "nbformat_minor": 2,
 "cells": [
  {
   "cell_type": "code",
   "execution_count": 2,
   "metadata": {},
   "outputs": [],
   "source": [
    "import sys; sys.path.append('../')\n",
    "import pandas as pd\n",
    "\n",
    "from clean.shreveport_pd_cprr import clean_cprr"
   ]
  },
  {
   "cell_type": "code",
   "execution_count": 3,
   "metadata": {},
   "outputs": [
    {
     "output_type": "stream",
     "name": "stderr",
     "text": [
      "/Users/khoipham/.virtualenvs/base/lib/python3.9/site-packages/pandas/core/indexing.py:1597: SettingWithCopyWarning: \nA value is trying to be set on a copy of a slice from a DataFrame.\nTry using .loc[row_indexer,col_indexer] = value instead\n\nSee the caveats in the documentation: https://pandas.pydata.org/pandas-docs/stable/user_guide/indexing.html#returning-a-view-versus-a-copy\n  self.obj[key] = value\n/Users/khoipham/.virtualenvs/base/lib/python3.9/site-packages/pandas/core/indexing.py:1676: SettingWithCopyWarning: \nA value is trying to be set on a copy of a slice from a DataFrame.\nTry using .loc[row_indexer,col_indexer] = value instead\n\nSee the caveats in the documentation: https://pandas.pydata.org/pandas-docs/stable/user_guide/indexing.html#returning-a-view-versus-a-copy\n  self._setitem_single_column(ilocs[0], value, pi)\n/Users/khoipham/.virtualenvs/base/lib/python3.9/site-packages/pandas/core/indexing.py:1843: SettingWithCopyWarning: \nA value is trying to be set on a copy of a slice from a DataFrame.\nTry using .loc[row_indexer,col_indexer] = value instead\n\nSee the caveats in the documentation: https://pandas.pydata.org/pandas-docs/stable/user_guide/indexing.html#returning-a-view-versus-a-copy\n  self.obj[item_labels[indexer[info_axis]]] = value\n"
     ]
    },
    {
     "output_type": "execute_result",
     "data": {
      "text/plain": [
       "    receive_date tracking_number                     allegation  \\\n",
       "0     01/08/2018        N 01-001             spd 701.01 communi   \n",
       "1     01/08/2018        N 01-001              spd 306.01 duties   \n",
       "2     01/08/2018        N 01-001            spd 606.10 firearms   \n",
       "3     01/08/2018        N 01-002          scj a-105 iii, (c) (4   \n",
       "4     01/08/2018        N 01-002            spd 306.01 duties &   \n",
       "..           ...             ...                            ...   \n",
       "350   12/20/2018        N 12-212        spd 404.01 completion o   \n",
       "351   12/28/2018        N 12-213       spd 501,06 police vehicl   \n",
       "352   12/28/2018        N 12-214        spd 404,01 completion o   \n",
       "353   12/28/2018        N 12-214  spd 602.01 traffic crash inve   \n",
       "354   12/28/2018        N 12-215        spd 404.01 completion o   \n",
       "\n",
       "       disposition         agency data_production_year  \\\n",
       "0              NaN  Shreveport PD                 2018   \n",
       "1        SUSTAINED  Shreveport PD                 2018   \n",
       "2        SUSTAINED  Shreveport PD                 2018   \n",
       "3    NOT SUSTAINED  Shreveport PD                 2018   \n",
       "4    NOT SUSTAINED  Shreveport PD                 2018   \n",
       "..             ...            ...                  ...   \n",
       "350            NaN  Shreveport PD                 2018   \n",
       "351            NaN  Shreveport PD                 2018   \n",
       "352            NaN  Shreveport PD                 2018   \n",
       "353            NaN  Shreveport PD                 2018   \n",
       "354            NaN  Shreveport PD                 2018   \n",
       "\n",
       "                                  uid first_name last_name middle_name  \\\n",
       "0                                 NaN        NaN       NaN         NaN   \n",
       "1                                 NaN        NaN       NaN         NaN   \n",
       "2                                 NaN        NaN       NaN         NaN   \n",
       "3                                 NaN        NaN       NaN         NaN   \n",
       "4                                 NaN        NaN       NaN         NaN   \n",
       "..                                ...        ...       ...         ...   \n",
       "350  3407f73afee796ec143c57db964be646      henry     burak               \n",
       "351  a2fdb843916725ce82c0775cef7279a8   treveion    brooks               \n",
       "352  2fa8f986e10deb410d5ee8cc7961dcf2    michael   flentge               \n",
       "353  2fa8f986e10deb410d5ee8cc7961dcf2    michael   flentge               \n",
       "354  ad532aedb39a1def4924afd4d962781c      dylan    hudson               \n",
       "\n",
       "    middle_initial  complainant_name                     complaint_uid  \n",
       "0              NaN               NaN  7cd8c42b39ba11b8e898ea8fa3d754f6  \n",
       "1              NaN               NaN  908083461db92595201a7b46546ec142  \n",
       "2              NaN               NaN  16018a11f10276c7d36b9f16c00c63bb  \n",
       "3              NaN               NaN  bccc95562da476895e52dd2a13da6d8f  \n",
       "4              NaN               NaN  cab09a04b18040eb53f72f08cc247e55  \n",
       "..             ...               ...                               ...  \n",
       "350                     Mims, Katie   f94df74283bdb6bfbb7ec71f7ba95aac  \n",
       "351                    Grant, Keith   221cef2208eeac84307e05511dd3d444  \n",
       "352                 Miles, LaShunda   cd449098eb0f5aa310569ccae3b12afb  \n",
       "353                 Miles, LaShunda   243340d305a5dbf65e4539fbf04a51aa  \n",
       "354                    Brown, Keith   9cbd77714b1ca02cadd9443ceab60bae  \n",
       "\n",
       "[355 rows x 13 columns]"
      ],
      "text/html": "<div>\n<style scoped>\n    .dataframe tbody tr th:only-of-type {\n        vertical-align: middle;\n    }\n\n    .dataframe tbody tr th {\n        vertical-align: top;\n    }\n\n    .dataframe thead th {\n        text-align: right;\n    }\n</style>\n<table border=\"1\" class=\"dataframe\">\n  <thead>\n    <tr style=\"text-align: right;\">\n      <th></th>\n      <th>receive_date</th>\n      <th>tracking_number</th>\n      <th>allegation</th>\n      <th>disposition</th>\n      <th>agency</th>\n      <th>data_production_year</th>\n      <th>uid</th>\n      <th>first_name</th>\n      <th>last_name</th>\n      <th>middle_name</th>\n      <th>middle_initial</th>\n      <th>complainant_name</th>\n      <th>complaint_uid</th>\n    </tr>\n  </thead>\n  <tbody>\n    <tr>\n      <th>0</th>\n      <td>01/08/2018</td>\n      <td>N 01-001</td>\n      <td>spd 701.01 communi</td>\n      <td>NaN</td>\n      <td>Shreveport PD</td>\n      <td>2018</td>\n      <td>NaN</td>\n      <td>NaN</td>\n      <td>NaN</td>\n      <td>NaN</td>\n      <td>NaN</td>\n      <td>NaN</td>\n      <td>7cd8c42b39ba11b8e898ea8fa3d754f6</td>\n    </tr>\n    <tr>\n      <th>1</th>\n      <td>01/08/2018</td>\n      <td>N 01-001</td>\n      <td>spd 306.01 duties</td>\n      <td>SUSTAINED</td>\n      <td>Shreveport PD</td>\n      <td>2018</td>\n      <td>NaN</td>\n      <td>NaN</td>\n      <td>NaN</td>\n      <td>NaN</td>\n      <td>NaN</td>\n      <td>NaN</td>\n      <td>908083461db92595201a7b46546ec142</td>\n    </tr>\n    <tr>\n      <th>2</th>\n      <td>01/08/2018</td>\n      <td>N 01-001</td>\n      <td>spd 606.10 firearms</td>\n      <td>SUSTAINED</td>\n      <td>Shreveport PD</td>\n      <td>2018</td>\n      <td>NaN</td>\n      <td>NaN</td>\n      <td>NaN</td>\n      <td>NaN</td>\n      <td>NaN</td>\n      <td>NaN</td>\n      <td>16018a11f10276c7d36b9f16c00c63bb</td>\n    </tr>\n    <tr>\n      <th>3</th>\n      <td>01/08/2018</td>\n      <td>N 01-002</td>\n      <td>scj a-105 iii, (c) (4</td>\n      <td>NOT SUSTAINED</td>\n      <td>Shreveport PD</td>\n      <td>2018</td>\n      <td>NaN</td>\n      <td>NaN</td>\n      <td>NaN</td>\n      <td>NaN</td>\n      <td>NaN</td>\n      <td>NaN</td>\n      <td>bccc95562da476895e52dd2a13da6d8f</td>\n    </tr>\n    <tr>\n      <th>4</th>\n      <td>01/08/2018</td>\n      <td>N 01-002</td>\n      <td>spd 306.01 duties &amp;</td>\n      <td>NOT SUSTAINED</td>\n      <td>Shreveport PD</td>\n      <td>2018</td>\n      <td>NaN</td>\n      <td>NaN</td>\n      <td>NaN</td>\n      <td>NaN</td>\n      <td>NaN</td>\n      <td>NaN</td>\n      <td>cab09a04b18040eb53f72f08cc247e55</td>\n    </tr>\n    <tr>\n      <th>...</th>\n      <td>...</td>\n      <td>...</td>\n      <td>...</td>\n      <td>...</td>\n      <td>...</td>\n      <td>...</td>\n      <td>...</td>\n      <td>...</td>\n      <td>...</td>\n      <td>...</td>\n      <td>...</td>\n      <td>...</td>\n      <td>...</td>\n    </tr>\n    <tr>\n      <th>350</th>\n      <td>12/20/2018</td>\n      <td>N 12-212</td>\n      <td>spd 404.01 completion o</td>\n      <td>NaN</td>\n      <td>Shreveport PD</td>\n      <td>2018</td>\n      <td>3407f73afee796ec143c57db964be646</td>\n      <td>henry</td>\n      <td>burak</td>\n      <td></td>\n      <td></td>\n      <td>Mims, Katie</td>\n      <td>f94df74283bdb6bfbb7ec71f7ba95aac</td>\n    </tr>\n    <tr>\n      <th>351</th>\n      <td>12/28/2018</td>\n      <td>N 12-213</td>\n      <td>spd 501,06 police vehicl</td>\n      <td>NaN</td>\n      <td>Shreveport PD</td>\n      <td>2018</td>\n      <td>a2fdb843916725ce82c0775cef7279a8</td>\n      <td>treveion</td>\n      <td>brooks</td>\n      <td></td>\n      <td></td>\n      <td>Grant, Keith</td>\n      <td>221cef2208eeac84307e05511dd3d444</td>\n    </tr>\n    <tr>\n      <th>352</th>\n      <td>12/28/2018</td>\n      <td>N 12-214</td>\n      <td>spd 404,01 completion o</td>\n      <td>NaN</td>\n      <td>Shreveport PD</td>\n      <td>2018</td>\n      <td>2fa8f986e10deb410d5ee8cc7961dcf2</td>\n      <td>michael</td>\n      <td>flentge</td>\n      <td></td>\n      <td></td>\n      <td>Miles, LaShunda</td>\n      <td>cd449098eb0f5aa310569ccae3b12afb</td>\n    </tr>\n    <tr>\n      <th>353</th>\n      <td>12/28/2018</td>\n      <td>N 12-214</td>\n      <td>spd 602.01 traffic crash inve</td>\n      <td>NaN</td>\n      <td>Shreveport PD</td>\n      <td>2018</td>\n      <td>2fa8f986e10deb410d5ee8cc7961dcf2</td>\n      <td>michael</td>\n      <td>flentge</td>\n      <td></td>\n      <td></td>\n      <td>Miles, LaShunda</td>\n      <td>243340d305a5dbf65e4539fbf04a51aa</td>\n    </tr>\n    <tr>\n      <th>354</th>\n      <td>12/28/2018</td>\n      <td>N 12-215</td>\n      <td>spd 404.01 completion o</td>\n      <td>NaN</td>\n      <td>Shreveport PD</td>\n      <td>2018</td>\n      <td>ad532aedb39a1def4924afd4d962781c</td>\n      <td>dylan</td>\n      <td>hudson</td>\n      <td></td>\n      <td></td>\n      <td>Brown, Keith</td>\n      <td>9cbd77714b1ca02cadd9443ceab60bae</td>\n    </tr>\n  </tbody>\n</table>\n<p>355 rows × 13 columns</p>\n</div>"
     },
     "metadata": {},
     "execution_count": 3
    }
   ],
   "source": [
    "df = clean_cprr('shreveport_pd/shreveport_pd_cprr_dispositions_2018.csv', 'shreveport_pd/shreveport_pd_cprr_names_2018.csv', '2018')\n",
    "# df = clean_cprr(\n",
    "#     'shreveport_pd/shreveport_pd_cprr_dispositions_2019.csv',\n",
    "#     'shreveport_pd/shreveport_pd_cprr_names_2019.csv',\n",
    "#     '2019',\n",
    "# )\n",
    "df"
   ]
  },
  {
   "cell_type": "code",
   "execution_count": 6,
   "metadata": {},
   "outputs": [
    {
     "output_type": "execute_result",
     "data": {
      "text/plain": [
       "array(['scj a-105 iii, (c) (4', 'spd 100c.7 unbecoming',\n",
       "       'spd 100c.9 disobedience', 'sfd rules & regulation',\n",
       "       'sfd rules & regula  lrs 33:2500 statue',\n",
       "       'chain of command courtesy', '', 'scja 104 jailer duti',\n",
       "       'scjs-100 jail security', 'scjs 114 door acces',\n",
       "       'spd 100 c.4 courte'], dtype=object)"
      ]
     },
     "metadata": {},
     "execution_count": 6
    }
   ],
   "source": [
    "df.loc[~df.allegation.str.match(r'.*\\d+(\\.|,)\\d+'), 'allegation'].unique()"
   ]
  },
  {
   "cell_type": "code",
   "execution_count": null,
   "metadata": {},
   "outputs": [],
   "source": []
  }
 ]
}
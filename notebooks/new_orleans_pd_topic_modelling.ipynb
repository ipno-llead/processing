{
 "cells": [
  {
   "cell_type": "code",
   "execution_count": 3,
   "metadata": {},
   "outputs": [
    {
     "name": "stderr",
     "output_type": "stream",
     "text": [
      "[nltk_data] Downloading package stopwords to\n",
      "[nltk_data]     C:\\Users\\PC\\AppData\\Roaming\\nltk_data...\n",
      "[nltk_data]   Package stopwords is already up-to-date!\n"
     ]
    },
    {
     "data": {
      "text/plain": [
       "True"
      ]
     },
     "execution_count": 3,
     "metadata": {},
     "output_type": "execute_result"
    }
   ],
   "source": [
    "import pandas as pd\n",
    "import sys\n",
    "from top2vec import Top2Vec\n",
    "from nltk.corpus import stopwords\n",
    "import nltk\n",
    "from nltk.tokenize import punkt\n",
    "from nltk.stem import WordNetLemmatizer\n",
    "from collections import Counter\n",
    "import umap.umap_ as umap\n",
    "import umap.plot\n",
    "\n",
    "nltk.download(\"stopwords\")"
   ]
  },
  {
   "cell_type": "code",
   "execution_count": 46,
   "metadata": {},
   "outputs": [],
   "source": [
    "def preprocess(df):\n",
    "    df = df.astype(str).fillna(\"\").dropna()\n",
    "\n",
    "    stop = stopwords.words(\"english\")\n",
    "    df.loc[:, \"allegation_desc\"] = df.allegation_desc.apply(\n",
    "        lambda x: \" \".join([word for word in x.split() if word not in (stop)])\n",
    "    )\n",
    "    return df[~((df.allegation_desc.fillna(\"\") == \"\"))].dropna()\n"
   ]
  },
  {
   "cell_type": "code",
   "execution_count": 47,
   "metadata": {},
   "outputs": [],
   "source": [
    "\n",
    "def explore_nopd_topics():\n",
    "    stop = stopwords.words(\"english\")\n",
    "    df = pd.read_csv(\"../data/clean/cprr_new_orleans_pd_pib_reports_2014_2020.csv\").astype(str)\n",
    "    df[\"allegation_desc\"] = df[\"allegation_desc\"].apply(\n",
    "        lambda x: \" \".join([word for word in x.split() if word not in (stop)])\n",
    "    )\n",
    "\n",
    "    df.loc[:, \"topics\"] = \" \".join(x for x in df[\"allegation_desc\"].astype(str))\n",
    "    df = df[\"topics\"][0]\n",
    "    df = df.split()\n",
    "\n",
    "    counts = Counter(df)\n",
    "    most_occur = counts.most_common(50)\n",
    "    print(most_occur)\n",
    "    return df\n"
   ]
  },
  {
   "cell_type": "code",
   "execution_count": 48,
   "metadata": {},
   "outputs": [
    {
     "name": "stdout",
     "output_type": "stream",
     "text": [
      "[('complainant', 3874), ('officer', 3259), ('stated', 1746), ('accused', 1691), ('officers', 809), ('failed', 641), ('police', 570), ('nan', 547), ('vehicle', 476), ('report', 434), ('alleged', 345), ('‘the', 324), ('involved', 288), ('told', 256), ('incident', 255), ('complaint', 253), ('unprofessional', 249), ('supervisor', 245), ('called', 238), ('also', 224), ('arrested', 221), ('failing', 216), ('allegation:', 216), ('take', 210), ('said', 202), ('call', 199), ('neglect', 197), ('duty', 189), ('unknown', 188), ('subject', 180), ('nopd', 176), ('rude', 173), ('action', 170), ('traffic', 159), ('officer.', 158), ('her.', 147), ('domestic', 147), ('report.', 144), ('investigation', 141), ('incident.', 140), ('would', 135), ('district', 134), ('accident', 132), (\"'*\", 132), ('issued', 130), ('arrest', 129), ('another', 126), ('alleges', 121), ('vehicle.', 119), ('one', 119)]\n"
     ]
    },
    {
     "data": {
      "text/plain": [
       "['complaint',\n",
       " 'via',\n",
       " 'webmail.',\n",
       " 'police',\n",
       " 'called',\n",
       " 'remove',\n",
       " 'complainant',\n",
       " 'home.',\n",
       " 'complainant',\n",
       " 'alleged',\n",
       " 'told',\n",
       " 'officers',\n",
       " 'items',\n",
       " 'vandalized',\n",
       " 'thrown',\n",
       " 'outside.',\n",
       " 'complainant',\n",
       " 'told',\n",
       " 'leave',\n",
       " 'home.',\n",
       " 'complainant',\n",
       " 'alleged',\n",
       " 'name',\n",
       " 'also',\n",
       " 'lease',\n",
       " 'responding',\n",
       " 'officers',\n",
       " 'request',\n",
       " 'identification',\n",
       " 'involved',\n",
       " 'parties.',\n",
       " 'two',\n",
       " 'attempts',\n",
       " 'made',\n",
       " 'contact',\n",
       " 'complainant',\n",
       " 'via',\n",
       " 'phone',\n",
       " 'conduct',\n",
       " 'audiotaped',\n",
       " 'interview;',\n",
       " 'determine',\n",
       " 'specific',\n",
       " 'allegations.',\n",
       " 'complainant',\n",
       " 'stated',\n",
       " 'involved',\n",
       " 'accident.',\n",
       " 'prior',\n",
       " 'officers',\n",
       " 'arriving',\n",
       " 'scene',\n",
       " 'unknown',\n",
       " 'officer',\n",
       " 'arrived',\n",
       " 'informed',\n",
       " 'move',\n",
       " 'vehicles',\n",
       " 'traffic.',\n",
       " 'complainant',\n",
       " 'feels',\n",
       " 'officer',\n",
       " 'let',\n",
       " 'explain',\n",
       " 'happened',\n",
       " 'investigate',\n",
       " 'accident',\n",
       " 'properly.',\n",
       " 'complainant',\n",
       " 'issued',\n",
       " 'citation',\n",
       " 'must',\n",
       " 'adjudicate',\n",
       " 'court.',\n",
       " 'officer',\n",
       " 'may',\n",
       " 'contacted',\n",
       " 'party',\n",
       " 'complaint',\n",
       " 'turn',\n",
       " 'called',\n",
       " 'threatened',\n",
       " 'her.',\n",
       " 'complainant',\n",
       " 'also',\n",
       " 'alleged',\n",
       " 'another',\n",
       " 'officer',\n",
       " '(unknown)',\n",
       " 'directed',\n",
       " 'file',\n",
       " 'peace',\n",
       " 'bond',\n",
       " 'complete',\n",
       " 'report',\n",
       " 'harassing',\n",
       " 'phone',\n",
       " 'calls.',\n",
       " 'complainant',\n",
       " 'stated',\n",
       " 'involved',\n",
       " 'auto',\n",
       " 'accident.',\n",
       " 'complaint',\n",
       " 'responding',\n",
       " 'officer',\n",
       " 'refused',\n",
       " 'investigate',\n",
       " 'subsequently',\n",
       " 'document',\n",
       " 'fact',\n",
       " 'male',\n",
       " 'driver',\n",
       " 'driving',\n",
       " 'vehicle',\n",
       " 'time',\n",
       " 'accident.',\n",
       " '‘the',\n",
       " 'woman',\n",
       " 'officer',\n",
       " 'interviewed',\n",
       " 'driving',\n",
       " 'vehicle',\n",
       " 'time',\n",
       " 'accident.',\n",
       " '‘the',\n",
       " 'officer',\n",
       " 'appeared',\n",
       " 'know',\n",
       " 'woman.',\n",
       " 'officer',\n",
       " 'documented',\n",
       " 'report',\n",
       " 'contained',\n",
       " 'information',\n",
       " 'alleged',\n",
       " 'male',\n",
       " 'driver.',\n",
       " 'complainant',\n",
       " 'drove',\n",
       " 'entrance',\n",
       " 'ramp',\n",
       " 'hospital’s',\n",
       " 'emergency',\n",
       " 'room',\n",
       " 'drop',\n",
       " 'mother.',\n",
       " '‘the',\n",
       " 'officer',\n",
       " 'working',\n",
       " 'paid',\n",
       " 'detail',\n",
       " 'location',\n",
       " 'exited',\n",
       " 'hospital',\n",
       " 'began',\n",
       " 'yelling',\n",
       " 'complainant',\n",
       " 'move',\n",
       " 'vehicle.',\n",
       " '‘the',\n",
       " 'complainant',\n",
       " 'attempted',\n",
       " 'explain',\n",
       " 'actions;',\n",
       " 'however,',\n",
       " 'officer',\n",
       " 'continued',\n",
       " 'yell',\n",
       " 'her.',\n",
       " 'complainant',\n",
       " 'felt',\n",
       " 'officer',\n",
       " 'unprofessional',\n",
       " 'way',\n",
       " 'spoke',\n",
       " 'her.',\n",
       " 'preliminary',\n",
       " 'investigation',\n",
       " 'revealed',\n",
       " 'officer',\n",
       " 'may',\n",
       " 'completed',\n",
       " 'required',\n",
       " 'documents',\n",
       " 'authorizing',\n",
       " 'work',\n",
       " 'paid',\n",
       " 'detail.',\n",
       " 'officer',\n",
       " 'exceeded',\n",
       " 'amount',\n",
       " 'overtime',\n",
       " 'allotted',\n",
       " 'three',\n",
       " 'times,',\n",
       " 'complainant',\n",
       " 'stated',\n",
       " 'information',\n",
       " 'via',\n",
       " 'phone',\n",
       " 'call',\n",
       " 'police',\n",
       " 'beating,',\n",
       " 'kicking,',\n",
       " 'choking',\n",
       " 'son,',\n",
       " 'officers',\n",
       " 'also',\n",
       " 'attempting',\n",
       " 'taze',\n",
       " 'son.',\n",
       " 'complainant',\n",
       " 'witness',\n",
       " 'son’s',\n",
       " 'arrest,',\n",
       " 'ewo',\n",
       " 'cell',\n",
       " 'phone',\n",
       " 'videos',\n",
       " 'allegedly',\n",
       " 'captured',\n",
       " 'part',\n",
       " 'incident.',\n",
       " 'witness',\n",
       " 'information',\n",
       " 'given,',\n",
       " 'complainant',\n",
       " 'stated',\n",
       " 'filed',\n",
       " 'complaints',\n",
       " 'pib',\n",
       " 'regarding',\n",
       " 'police',\n",
       " 'mistreatment',\n",
       " 'towards',\n",
       " 'son.',\n",
       " 'complainant',\n",
       " 'called',\n",
       " 'police',\n",
       " 'report',\n",
       " 'known',\n",
       " 'wanted',\n",
       " 'subject.',\n",
       " 'officer',\n",
       " 'responded',\n",
       " 'snatched',\n",
       " 'item',\n",
       " 'number',\n",
       " 'slip',\n",
       " 'hands',\n",
       " 'said,',\n",
       " '“p’',\n",
       " 'sick',\n",
       " 's~-',\n",
       " 'k—-.”',\n",
       " 'complainant',\n",
       " 'alleged',\n",
       " 'officer',\n",
       " 'stated',\n",
       " 'going',\n",
       " 'give',\n",
       " 'k-',\n",
       " 'complainant',\n",
       " 'stated',\n",
       " 'know',\n",
       " 'officer',\n",
       " 'issued',\n",
       " 'summons',\n",
       " 'complainant.',\n",
       " 'incident',\n",
       " 'occurred',\n",
       " 'officer',\n",
       " 'worked',\n",
       " 'authorized',\n",
       " 'paid',\n",
       " 'detail',\n",
       " 'fair',\n",
       " 'grounds.',\n",
       " 'summons',\n",
       " 'walked',\n",
       " 'off.',\n",
       " 'officer',\n",
       " 'presented',\n",
       " 'lack',\n",
       " 'professionalism,',\n",
       " 'respect,',\n",
       " 'remorse',\n",
       " 'family',\n",
       " 'attitude',\n",
       " 'demeanor',\n",
       " 'uncalled',\n",
       " 'for.',\n",
       " 'officer',\n",
       " 'check',\n",
       " 'deceased',\n",
       " 'signs',\n",
       " 'trauma',\n",
       " 'foul',\n",
       " 'play',\n",
       " 'walked',\n",
       " 'home',\n",
       " 'leaving',\n",
       " 'body',\n",
       " 'unattended.',\n",
       " 'officer',\n",
       " 'discovered',\n",
       " 'semi-automatic',\n",
       " 'handgun',\n",
       " 'beneath',\n",
       " 'lower',\n",
       " 'metal',\n",
       " 'seat',\n",
       " 'support',\n",
       " 'floorboard',\n",
       " 'rear',\n",
       " 'seat',\n",
       " 'vehicle.',\n",
       " 'complainant',\n",
       " 'letter',\n",
       " 'pib',\n",
       " 'october',\n",
       " '2013',\n",
       " 'indicated',\n",
       " 'previously',\n",
       " 'filed',\n",
       " 'complaint',\n",
       " 'determined',\n",
       " 'allegation',\n",
       " 'made',\n",
       " 'could',\n",
       " 'substantiated.',\n",
       " '‘the',\n",
       " 'complainant',\n",
       " 'upset',\n",
       " '‘was',\n",
       " 'notified',\n",
       " 'actions',\n",
       " 'taken',\n",
       " 'officer.',\n",
       " '‘the',\n",
       " 'complainant',\n",
       " 'felt',\n",
       " 'officer',\n",
       " 'ordered',\n",
       " 'apologize',\n",
       " 'person.',\n",
       " 'information',\n",
       " 'listed',\n",
       " 'duplicate',\n",
       " '2010-0857-',\n",
       " 'complainant',\n",
       " 'alleged',\n",
       " 'husband',\n",
       " 'robbed',\n",
       " 'visiting',\n",
       " 'city',\n",
       " 'could',\n",
       " 'get',\n",
       " 'one',\n",
       " 'come',\n",
       " 'take',\n",
       " 'report.',\n",
       " 'complainant',\n",
       " 'provided',\n",
       " 'date',\n",
       " 'time',\n",
       " 'incident,',\n",
       " 'say',\n",
       " 'city',\n",
       " 'robbery',\n",
       " 'took',\n",
       " 'place.',\n",
       " 'complainant',\n",
       " 'provided',\n",
       " 'phone',\n",
       " 'number',\n",
       " 'area',\n",
       " 'code,',\n",
       " \"investigator's\",\n",
       " 'call',\n",
       " 'complainant',\n",
       " 'went',\n",
       " 'voice',\n",
       " 'mail.',\n",
       " 'message',\n",
       " 'left.',\n",
       " 'complainant',\n",
       " 'returned',\n",
       " 'call.',\n",
       " 'enough',\n",
       " 'information',\n",
       " 'initiate',\n",
       " 'formal',\n",
       " 'investigation.',\n",
       " 'complaint',\n",
       " 'w:',\n",
       " 'complainant',\n",
       " 'alleged',\n",
       " 'owner',\n",
       " 'vehicle',\n",
       " 'identified',\n",
       " 'traffic',\n",
       " 'camera',\n",
       " 'violation',\n",
       " 'submitted',\n",
       " 'via',\n",
       " 'webmail.',\n",
       " 'complainant',\n",
       " 'traffic',\n",
       " 'camera',\n",
       " 'violation',\n",
       " 'via',\n",
       " 'mail.',\n",
       " 'complainant',\n",
       " 'accused',\n",
       " 'officer',\n",
       " 'mailed',\n",
       " 'document',\n",
       " 'committing',\n",
       " '“perjury.”',\n",
       " 'complainant',\n",
       " 'stated',\n",
       " 'reported',\n",
       " 'vehicle',\n",
       " 'stolen.',\n",
       " 'later',\n",
       " 'learned',\n",
       " 'officer',\n",
       " 'vehicle',\n",
       " 'used',\n",
       " 'another',\n",
       " 'crime',\n",
       " 'another',\n",
       " 'district',\n",
       " 'case',\n",
       " 'assigned',\n",
       " 'officer.',\n",
       " 'complainant',\n",
       " 'said',\n",
       " 'made',\n",
       " 'several',\n",
       " 'attempts',\n",
       " 'contact',\n",
       " 'officer',\n",
       " 'met',\n",
       " 'negative',\n",
       " 'results.',\n",
       " 'complainant',\n",
       " 'said',\n",
       " 'wanted',\n",
       " 'speak',\n",
       " 'detective',\n",
       " 'could',\n",
       " 'get',\n",
       " 'vehicle',\n",
       " 'back',\n",
       " 'could',\n",
       " 'could',\n",
       " 'get',\n",
       " 'work.',\n",
       " 'complainant',\n",
       " 'stated',\n",
       " 'involved',\n",
       " 'automobile',\n",
       " 'accident.',\n",
       " 'driver',\n",
       " 'called',\n",
       " 'police.',\n",
       " 'officer',\n",
       " 'artived',\n",
       " 'scene,',\n",
       " 'approached',\n",
       " 'driver',\n",
       " 'first',\n",
       " 'spoke',\n",
       " 'him,',\n",
       " 'officer',\n",
       " 'approached',\n",
       " 'complainant',\n",
       " 'told',\n",
       " 'writing',\n",
       " 'police',\n",
       " 'report,',\n",
       " 'giving',\n",
       " 'citation',\n",
       " 'wrong',\n",
       " 'fault',\n",
       " 'accident.',\n",
       " '‘the',\n",
       " 'officer',\n",
       " 'told',\n",
       " 'complainant',\n",
       " 'call',\n",
       " 'insurance',\n",
       " 'company',\n",
       " 'inform',\n",
       " 'accident.',\n",
       " '‘the',\n",
       " 'complainant',\n",
       " 'said',\n",
       " 'scene',\n",
       " 'called',\n",
       " 'insurance',\n",
       " 'company',\n",
       " 'explaining',\n",
       " 'happened',\n",
       " 'officer',\n",
       " 'interrupted',\n",
       " 'said',\n",
       " 'that’s',\n",
       " 'happened.',\n",
       " 'officer',\n",
       " 'proceeded',\n",
       " 'take',\n",
       " \"complainant's\",\n",
       " 'cell',\n",
       " 'phone',\n",
       " 'began',\n",
       " 'explaining',\n",
       " 'claims',\n",
       " 'adjuster',\n",
       " 'complainant',\n",
       " 'wrong',\n",
       " 'accident.',\n",
       " 'officer',\n",
       " 'returned',\n",
       " 'complainant’s',\n",
       " 'phone',\n",
       " 'told',\n",
       " 'could',\n",
       " 'go.',\n",
       " 'report',\n",
       " 'completed.',\n",
       " 'complainant',\n",
       " 'stated',\n",
       " 'arrested',\n",
       " 'domestic',\n",
       " 'battery.',\n",
       " 'complainant',\n",
       " 'alleged',\n",
       " 'aggressor',\n",
       " 'incident',\n",
       " 'ex-boyfriend',\n",
       " 'officers',\n",
       " 'properly',\n",
       " 'investigate',\n",
       " 'incident.',\n",
       " 'complainant',\n",
       " 'alleged',\n",
       " 'wanted',\n",
       " 'officers',\n",
       " 'interview',\n",
       " '4-year-old',\n",
       " 'son',\n",
       " 'holding',\n",
       " 'time',\n",
       " 'ex-boyfriend',\n",
       " 'pushed',\n",
       " 'side.',\n",
       " 'supervisor',\n",
       " 'scene',\n",
       " 'incident',\n",
       " 'report',\n",
       " 'domestic',\n",
       " 'battery',\n",
       " 'written',\n",
       " 'documenting',\n",
       " 'officers’',\n",
       " 'findings.',\n",
       " 'officers',\n",
       " 'conducted',\n",
       " 'scene',\n",
       " 'investigation',\n",
       " 'identified',\n",
       " 'complainant',\n",
       " 'aggressor.',\n",
       " 'nan',\n",
       " 'officers',\n",
       " 'may',\n",
       " 'unprofessional',\n",
       " 'told',\n",
       " 'complainant',\n",
       " '“sounded',\n",
       " 'like',\n",
       " 'got',\n",
       " 'deserved.”',\n",
       " 'complainant',\n",
       " 'physical',\n",
       " 'altercation',\n",
       " 'injured,',\n",
       " 'complainant',\n",
       " 'stated',\n",
       " 'officer',\n",
       " 'arrested',\n",
       " 'suspended',\n",
       " 'driver’s',\n",
       " 'license.',\n",
       " 'arrest',\n",
       " 'complainant',\n",
       " 'asked',\n",
       " 'officer',\n",
       " 'roll',\n",
       " 'window',\n",
       " 'up.',\n",
       " 'complainant',\n",
       " 'stated',\n",
       " 'officer',\n",
       " 'tried,',\n",
       " 'window',\n",
       " 'work',\n",
       " 'properly',\n",
       " 'allegedly',\n",
       " 'said,',\n",
       " '“i’m',\n",
       " 'going',\n",
       " 'roll',\n",
       " 'raggedy',\n",
       " 'a-',\n",
       " '-',\n",
       " 'window.”',\n",
       " 'complainant',\n",
       " 'alleged',\n",
       " 'officer',\n",
       " 'speeding',\n",
       " 'drove',\n",
       " 'get',\n",
       " 'tickets',\n",
       " 'signed',\n",
       " 'supervisor.',\n",
       " 'complainant',\n",
       " 'alleged',\n",
       " 'positioning',\n",
       " 'hands',\n",
       " 'behind',\n",
       " 'back',\n",
       " 'officer',\n",
       " 'said',\n",
       " 'cleaned',\n",
       " 'back',\n",
       " 'vehicle',\n",
       " 'anything',\n",
       " 'found',\n",
       " 'back',\n",
       " '‘was',\n",
       " 'hers.',\n",
       " 'complainant,',\n",
       " 'via',\n",
       " 'letter',\n",
       " 'superintendent,',\n",
       " 'wished',\n",
       " 'file',\n",
       " 'criminal',\n",
       " 'charges',\n",
       " 'ex-wife',\n",
       " 'domestic',\n",
       " 'battery',\n",
       " 'armed',\n",
       " 'robbery.',\n",
       " 'provided',\n",
       " 'three',\n",
       " 'separate',\n",
       " 'dates',\n",
       " 'incidents,',\n",
       " 'advised',\n",
       " 'reported',\n",
       " 'incidences',\n",
       " 'police',\n",
       " 'ex-wife',\n",
       " 'works',\n",
       " 'city,',\n",
       " 'felt',\n",
       " 'threatened',\n",
       " 'employment',\n",
       " 'there.',\n",
       " 'officer',\n",
       " 'contacted',\n",
       " 'complainant',\n",
       " 'explain',\n",
       " 'would',\n",
       " 'need',\n",
       " 'speak',\n",
       " 'district',\n",
       " 'patrol',\n",
       " 'officer',\n",
       " 'reports',\n",
       " 'documented.',\n",
       " 'information',\n",
       " 'presented',\n",
       " 'regarding',\n",
       " 'include',\n",
       " 'complaint',\n",
       " 'officer.',\n",
       " 'however,',\n",
       " 'upon',\n",
       " 'talking',\n",
       " 'complainant,',\n",
       " 'advised',\n",
       " 'another',\n",
       " 'incident',\n",
       " 'reported',\n",
       " 'several',\n",
       " 'days',\n",
       " 'earlier',\n",
       " 'contain',\n",
       " 'complaint.',\n",
       " '‘that',\n",
       " 'handled',\n",
       " '2014-0011c.',\n",
       " 'appears',\n",
       " 'complainane’s',\n",
       " 'ex-wife',\n",
       " 'went',\n",
       " 'district',\n",
       " 'station',\n",
       " 'officer',\n",
       " 'contact',\n",
       " 'complainant',\n",
       " 'regarding',\n",
       " 'civil',\n",
       " 'issue',\n",
       " 'two.',\n",
       " 'complainant',\n",
       " 'alleged',\n",
       " 'unknown',\n",
       " 'officers',\n",
       " 'served',\n",
       " 'search',\n",
       " 'warrant',\n",
       " 'apartment,',\n",
       " 'complainant',\n",
       " 'stated',\n",
       " 'tried',\n",
       " 'run',\n",
       " 'officers',\n",
       " 'caught',\n",
       " 'dragged',\n",
       " 'back',\n",
       " 'stairs',\n",
       " 'punched',\n",
       " 'face',\n",
       " 'reason,',\n",
       " 'complainant',\n",
       " 'alleged',\n",
       " 'handcuffs',\n",
       " 'officers',\n",
       " 'questioned',\n",
       " 'without',\n",
       " 'reading',\n",
       " 'miranda,',\n",
       " 'complainant',\n",
       " 'alleged',\n",
       " 'officers',\n",
       " 'tried',\n",
       " '“induce”',\n",
       " 'confessing',\n",
       " 'drugs',\n",
       " 'would',\n",
       " 'give',\n",
       " 'simple',\n",
       " 'possession',\n",
       " 'charge.',\n",
       " 'complainant',\n",
       " 'alleged',\n",
       " 'fell',\n",
       " 'injured',\n",
       " 'leg',\n",
       " 'receive',\n",
       " 'medical',\n",
       " 'treatment.',\n",
       " 'officers',\n",
       " 'may',\n",
       " 'profiled',\n",
       " 'complainant,',\n",
       " 'hit',\n",
       " 'breast',\n",
       " 'struck',\n",
       " 'head',\n",
       " 'flashlight.',\n",
       " 'officer',\n",
       " 'subsequently',\n",
       " 'released',\n",
       " 'her.',\n",
       " 'complainant',\n",
       " 'stated',\n",
       " 'police',\n",
       " 'called',\n",
       " 'boyfriend',\n",
       " 'domestic',\n",
       " 'disturbance.',\n",
       " 'boyfriend',\n",
       " 'wanted',\n",
       " 'leave',\n",
       " 'residence.',\n",
       " 'complainant',\n",
       " 'alleged',\n",
       " 'officers',\n",
       " 'arrived.',\n",
       " 'complainant',\n",
       " 'alleged',\n",
       " 'officer',\n",
       " 'yelled',\n",
       " 'several',\n",
       " 'times.',\n",
       " 'alleged',\n",
       " 'officer',\n",
       " 'rude,',\n",
       " 'disrespectful,',\n",
       " 'verbally',\n",
       " 'aggressive',\n",
       " 'her.',\n",
       " 'gathered',\n",
       " 'things',\n",
       " 'baby',\n",
       " 'formula',\n",
       " 'needed',\n",
       " 'infant',\n",
       " 'child,',\n",
       " 'allegedly',\n",
       " 'officer',\n",
       " 'yelled',\n",
       " 'hurry',\n",
       " 'would',\n",
       " 'say',\n",
       " 'need',\n",
       " 'take',\n",
       " 'one',\n",
       " 'formula,',\n",
       " 'complainant',\n",
       " 'alleged',\n",
       " 'conversation',\n",
       " 'officer',\n",
       " 'escalated',\n",
       " 'would',\n",
       " 'speak',\n",
       " 'sergeant',\n",
       " 'only.',\n",
       " 'officer',\n",
       " 'tardy',\n",
       " 'work',\n",
       " 'crumbled',\n",
       " 'correspondence',\n",
       " 'supervisor',\n",
       " 'asked',\n",
       " 'prepare',\n",
       " 'why.',\n",
       " 'complainant',\n",
       " 'stated',\n",
       " 'biking',\n",
       " 'saw',\n",
       " 'blue',\n",
       " 'lights',\n",
       " 'squad',\n",
       " 'car',\n",
       " 'come',\n",
       " 'behind',\n",
       " 'him.',\n",
       " 'complainant',\n",
       " 'alleged',\n",
       " 'struck',\n",
       " 'nopd',\n",
       " 'vehicle',\n",
       " 'driven',\n",
       " 'officer',\n",
       " 'causing',\n",
       " 'fly',\n",
       " 'bicycle',\n",
       " 'fence.',\n",
       " 'complainant',\n",
       " 'alleged',\n",
       " 'officer',\n",
       " 'held',\n",
       " '‘taser',\n",
       " '24',\n",
       " 'inches',\n",
       " 'body',\n",
       " 'threatened',\n",
       " 'tase',\n",
       " 'head,',\n",
       " 'heart',\n",
       " 'groin',\n",
       " 'comply.',\n",
       " 'complainant',\n",
       " 'alleged',\n",
       " 'arrested',\n",
       " 'flight',\n",
       " 'officer,',\n",
       " 'resisting',\n",
       " 'arrest',\n",
       " 'public',\n",
       " 'intoxication',\n",
       " 'failing',\n",
       " 'sign',\n",
       " '“tickets.”',\n",
       " 'complainant',\n",
       " 'alleged',\n",
       " 'intoxicated,',\n",
       " 'complainant',\n",
       " 'transported',\n",
       " 't0',\n",
       " 'hospital',\n",
       " 'booked.',\n",
       " 'complainant',\n",
       " 'stated',\n",
       " 'police',\n",
       " 'called',\n",
       " 'high',\n",
       " 'school',\n",
       " 'two',\n",
       " 'students',\n",
       " 'found',\n",
       " 'possession',\n",
       " 'marijuana.',\n",
       " 'officers',\n",
       " 'arrived,',\n",
       " 'officer',\n",
       " 'allegedly',\n",
       " 'said',\n",
       " 'acted',\n",
       " 'unprofessionally',\n",
       " 'said',\n",
       " '“wait',\n",
       " 'minute,',\n",
       " 'put',\n",
       " 'handcuffs',\n",
       " 'juvenile.',\n",
       " 'take',\n",
       " 'handcuffs',\n",
       " 'off.',\n",
       " 'supposed',\n",
       " 'handcuff',\n",
       " 'juvenile.”',\n",
       " 'officer',\n",
       " 'said',\n",
       " 'commented',\n",
       " '“this',\n",
       " 'funny”',\n",
       " 'told',\n",
       " 'happened.',\n",
       " 'complainant',\n",
       " 'alleged',\n",
       " 'officer',\n",
       " 'lax',\n",
       " 'mannerism',\n",
       " 'sarcastic.',\n",
       " 'officer',\n",
       " 'failed',\n",
       " 'appear',\n",
       " 'court',\n",
       " 'trial.',\n",
       " 'officer',\n",
       " 'failed',\n",
       " 'report',\n",
       " 'work',\n",
       " 'instructed',\n",
       " 'so.',\n",
       " 'nan',\n",
       " 'nan',\n",
       " 'complainant',\n",
       " 'alleged',\n",
       " 'officers',\n",
       " 'directing',\n",
       " 'traffic',\n",
       " 'allowed',\n",
       " 'superdome',\n",
       " 'stadium',\n",
       " 'continually',\n",
       " 'released',\n",
       " 'respect',\n",
       " 'concern',\n",
       " 'rest',\n",
       " 'traffic',\n",
       " 'wait.',\n",
       " 'additionally,',\n",
       " 'complainant',\n",
       " 'alleged',\n",
       " 'seen',\n",
       " 'officers',\n",
       " 'also',\n",
       " 'bourbon',\n",
       " 'st.',\n",
       " '“acting',\n",
       " 'suspicious',\n",
       " 'appeared',\n",
       " 'workings',\n",
       " 'deals',\n",
       " 'locals',\n",
       " 'street,',\n",
       " 'proof,',\n",
       " 'complainant',\n",
       " 'said,',\n",
       " '“you',\n",
       " 'learn',\n",
       " 'known',\n",
       " 'something',\n",
       " 'isn’t',\n",
       " 'right.”',\n",
       " 'officer',\n",
       " 'allegedly',\n",
       " 'failed',\n",
       " ...]"
      ]
     },
     "execution_count": 48,
     "metadata": {},
     "output_type": "execute_result"
    }
   ],
   "source": [
    "explore_nopd_topics()"
   ]
  },
  {
   "cell_type": "code",
   "execution_count": 49,
   "metadata": {},
   "outputs": [],
   "source": [
    "# bigrams = [word for word in model.vocab if len(word.split()) == 2]\n",
    "# print(bigrams[:20])"
   ]
  },
  {
   "cell_type": "code",
   "execution_count": 50,
   "metadata": {},
   "outputs": [],
   "source": [
    "def preprocess_nopd(df):\n",
    "    df.loc[:, \"allegation_desc\"] = df.allegation_desc.fillna(\"\")\\\n",
    "        .str.replace(r\"( ?officers? | ?complainants? | ?stated ?| ?accused ?| ?nan ?| ?police ?)\", \"\", regex=True)\n",
    "    return df"
   ]
  },
  {
   "cell_type": "code",
   "execution_count": 51,
   "metadata": {},
   "outputs": [],
   "source": [
    "\n",
    "def create_model(df):\n",
    "    docs = [x for x in df[\"allegation_desc\"]]\n",
    "    # unique = [x for x in df[\"allegation_topic_uid\"]]\n",
    "\n",
    "    model = Top2Vec(\n",
    "        docs,\n",
    "        ngram_vocab=True,\n",
    "        speed=\"deep-learn\",\n",
    "        use_embedding_model_tokenizer=True,\n",
    "        min_count=5,\n",
    "        # document_ids=unique\n",
    "    )\n",
    "    return model"
   ]
  },
  {
   "cell_type": "code",
   "execution_count": 52,
   "metadata": {},
   "outputs": [],
   "source": [
    "\n",
    "\n",
    "def model():\n",
    "    df = pd.read_csv(\"../data/clean/cprr_new_orleans_pd_pib_reports_2014_2020.csv\")\\\n",
    "    .pipe(preprocess)\\\n",
    "    .pipe(preprocess_nopd)\\\n",
    "    .pipe(create_model)\n",
    "    return df"
   ]
  },
  {
   "cell_type": "code",
   "execution_count": 53,
   "metadata": {},
   "outputs": [
    {
     "name": "stderr",
     "output_type": "stream",
     "text": [
      "2022-10-18 10:11:14,637 - top2vec - INFO - Pre-processing documents for training\n",
      "2022-10-18 10:11:14,747 - top2vec - INFO - Creating joint document/word embedding\n",
      "2022-10-18 10:12:13,916 - top2vec - INFO - Creating lower dimension embedding of documents\n",
      "2022-10-18 10:12:18,772 - top2vec - INFO - Finding dense areas of documents\n",
      "2022-10-18 10:12:18,996 - top2vec - INFO - Finding topics\n"
     ]
    }
   ],
   "source": [
    "model = model()"
   ]
  },
  {
   "cell_type": "code",
   "execution_count": 54,
   "metadata": {},
   "outputs": [
    {
     "name": "stdout",
     "output_type": "stream",
     "text": [
      "0\n",
      "Words: ['participated unauthorized' 'sexual assault' 'protective order'\n",
      " 'another employee' 'multiple fatalities' 'photograph' 'would like'\n",
      " 'correspondence' 'ics' 'mediation' 'take necessaryaction' 'deactivated'\n",
      " 'prematurely' 'act' 'redirection' 'take action' 'send' 'the ics' 'let go'\n",
      " 'failed take' 'fatalities' 'bwcs' 'participated' 'smelled' 'escape'\n",
      " 'year old' 'secure' 'hung' 'used vulgar' 'feel like' 'van' 'condition'\n",
      " 'concrete' 'necessaryaction' 'pushing' 'ran' 'resulted' 'moving'\n",
      " 'favoritism' 'trouble' 'suicide' 'assisted' 'body armor' 'withdrawn'\n",
      " 'unprofessional comments' 'operating' 'accusesneglect' 'equipment'\n",
      " 'preferential' 'parking lot']\n",
      "1\n",
      "Words: ['highway' 'almost' 'speed' 'light' 'suv' 'sirens' 'plate' 'red' 'license'\n",
      " 'mph' 'lights' 'dark' 'pulled' 'driving' 'siren' 'lane' 'thesaid'\n",
      " 'driver' 'speeding' 'rolled' 'tint' 'blue' 'badge' 'license plate'\n",
      " 'proceeded' 'cut' 'exited' 'drive' 'behind' 'window' 'tickets' 'pass'\n",
      " 'windows' 'crossed' 'high' 'numbers' 'fall' 'crossing' 'zone' 'stop'\n",
      " 'drove' 'citation' 'said' 'stopped' 'minutes' 'citations'\n",
      " 'driver license' 'car' 'driven' 'sign']\n",
      "2\n",
      "Words: ['bad attitude' 'and run' 'transported hospital' 'bad'\n",
      " 'take necessaryaction' 'unfounded action' 'life' 'takeaction'\n",
      " 'respond call' 'video footage' 'friend' 'attitude' 'car camera'\n",
      " 'days later' 'would like' 'beat' 'another employee' 'finger'\n",
      " 'conversation' 'either activated' 'thought' 'partner' 'males' 'female'\n",
      " 'harm' 'discourteous' 'arrive' 'employees' 'already' 'pointing'\n",
      " 'belligerent' 'st' 'to' 'involved fight' 'calls service' 'sobriety'\n",
      " 'hotel' 'worn camera' 'social media' 'command desk' 'would' 'lack'\n",
      " 'thearrived' 'arrived scene' 'drunk' 'robbery' 'picked' 'nephew'\n",
      " 'allegesfailed' 'contacted']\n",
      "3\n",
      "Words: ['follow instructions' 'file complaint' 'file report' 'station file'\n",
      " 'falsely arrested' 'let go' 'necessary action' 'ex girlfriend'\n",
      " 'necessary paperwork' 'trying get' 'left scene' 'tow truck'\n",
      " 'issue citation' 'issued citation' 'preliminary investigation'\n",
      " 'involved verbal' 'unknown black' 'conducted traffic' 'party involved'\n",
      " 'verbal altercation' 'allegesfailed' 'uustained' 'cell phone'\n",
      " 'obtain copy' 'phone calls' 'car camera' 'relationship' 'in car'\n",
      " 'working detail' 'gone' 'take action' 'unreasonable' 'black male'\n",
      " 'text messages' 'uustained action' 'sobriety' 'ex wife' 'armor' 'tow'\n",
      " 'even though' 'harassment' 'several times' 'condition' 'hitting'\n",
      " 'his her' 'messages' 'explained' 'private' 'application' 'alone']\n",
      "4\n",
      "Words: ['sobriety' 'supplemental report' 'jefferson parish'\n",
      " 'investigation cancelled' 'carrying' 'unfounded action' 'pm'\n",
      " 'even though' 'says' 'indicated' 'positive' 'test' 'fast' 'allegedfailed'\n",
      " 'confiscated' 'preliminary investigation' 'within' 'substance'\n",
      " 'strip search' 'field' 'obtain copy' 'parade route' 'period' 'six'\n",
      " 'obtain permission' 'suicide' 'failed submit' 'tested' 'documented'\n",
      " 'unfounded' 'additionally' 'onerated' 'units' 'ems' 'send' 'encounter'\n",
      " 'forwarded' 'allegedtook' 'months' 'engaged' 'unrelated' 'hold'\n",
      " 'allowing' 'nat' 'correspondence' 'advise' 'cocaine' 'initiated vehicle'\n",
      " 'preliminary' 'smelled']\n",
      "5\n",
      "Words: ['body armor' 'approve' 'uustained action' 'used vulgar' 'neglect duty'\n",
      " 'allegesneglect' 'generated complaint' 'accusesneglect' 'the ics'\n",
      " 'failed activate' 'side road' 'activate bwc' 'public generated'\n",
      " 'failing activate' 'channel' 'activate in' 'ex wife' 'activate body'\n",
      " 'armor' 'off duty' 'gender' 'radio' 'participated unauthorized'\n",
      " 'another employee' 'unprofessional comments' 'acknowledge' 'stay away'\n",
      " 'per' 'departmental policy' 'departmental' 'arrest warrant'\n",
      " 'search warrant' 'take action' 'engaged' 'necessary action' 'make arrest'\n",
      " 'protective order' 'failed take' 'correspondence' 'multiple fatalities'\n",
      " 'subordinate' 'facility' 'allegesfailed' 'timely' 'interaction'\n",
      " 'cellphone' 'touched' 'failing complete' 'overtime' 'district station']\n",
      "6\n",
      "Words: ['allegesneglect duty' 'complaint allegesneglect' 'towards him'\n",
      " 'aggressive manner' 'excessive force' 'him her' 'unprofessional towards'\n",
      " 'engaged unauthorized' 'allegations orders' 'nopd policy'\n",
      " 'profanity towards' 'towards complait' 'accuses' 'allegation rule'\n",
      " 'rule professional' 'allegation adherence' 'directives' 'ex boyfriend'\n",
      " 'response time' 'rule paragraph' 'professional conduct'\n",
      " 'collect evidence' 'remarks' 'departmental policy'\n",
      " 'complaint allegesfailed' 'allegesneglect' 'variousinvolved'\n",
      " 'supervisory approval' 'approve' 'also deactivated' 'escorting'\n",
      " 'pursuant' 'asked move' 'using profanity' 'neglect duty' 'captain'\n",
      " 'generated complaint' 'verbal altercation' 'multiple fatalities'\n",
      " 'wanted know' 'causing disturbance' 'his her' 'prematurely deactivated'\n",
      " 'interacting' 'conduct paragraph' 'used profanity' 'substance abuse'\n",
      " 'unprofessional manner' 'summons wrongfully' 'accusesneglect']\n",
      "7\n",
      "Words: ['unprofessional comments' 'finger' 'would like' 'another employee'\n",
      " 'parking lot' 'let go' 'year old' 'captain' 'trunk' 'pertinent'\n",
      " 'feel like' 'don' 'verbal' 'already' 'pointing' 'guns' 'bad attitude'\n",
      " 'do' 'line' 'paper' 'talking' 'ing' 'earlier' 'attitude' 'allowing'\n",
      " 'cover' 'view' 'attived' 'allegesneglect' 'voice' 'physically'\n",
      " 'interacting' 'direct' 'need' 'body armor' 'completing' 'decommissioned'\n",
      " 'sexual assault' 'patient' 'meeting' 'exit' 'smelled' 'unfounded action'\n",
      " 'cancel' 'disrespected' 'access' 'escorting' 'another' 'sobriety'\n",
      " 'photos']\n",
      "8\n",
      "Words: ['paragraph neglect' 'conduct paragraph' 'rule paragraph'\n",
      " 'summons wrongfully' 'sex crimes' 'used profanity' 'allegation rule'\n",
      " 'rule' 'paragraph' 'performing' 'allegation' 'issuing' 'illegal stop'\n",
      " 'rule professional' 'neglect' 'dutyfailing' 'conduct' 'using profanity'\n",
      " 'allegation neglect' 'stop sign' 'dutytechnician' 'allegations'\n",
      " 'wrongfully' 'traffic violation' 'allegations neglect'\n",
      " 'neglect dutyfailing' 'profanity towards' 'press charges' 'vulgar'\n",
      " 'vehicle burglarized' 'allegation adherence' 'professional conduct'\n",
      " 'professionalism' 'allegations professionalism' 'serving' 'auto accident'\n",
      " 'issuing citation' 'neglecting' 'allegation professionalism'\n",
      " 'professional' 'error' 'subordinate' 'assist' 'lab technician'\n",
      " 'involved auto' 'allegations orders' 'email' 'authorized' 'instructions'\n",
      " 'unprofessional']\n",
      "9\n",
      "Words: ['barricades' 'barricade' 'take jail' 'friends' 'parade' 'parade route'\n",
      " 'pass' 'crossing' 'screaming' 'down' 'expletive' 'toward'\n",
      " 'withdrawn action' 'jail' 'walk' 'using' 'constantly' 'cursed' 'obscene'\n",
      " 'shut' 'pain' 'fear' 'crowd' 'unknown male' 'beginning' 'route'\n",
      " 'blocking' 'rearvehicle' 'mardi gras' 'proceeded' 'siren' 'black male'\n",
      " 'white male' 'inside' 'over' 'gras' 'stood' 'clear' 'badge' 'pull'\n",
      " 'black' 'driven' 'arm' 'lane' 'thesaid' 'chase' 'approached' 'rolled'\n",
      " 'pushed' 'section']\n",
      "10\n",
      "Words: ['strip search' 'issued summonses' 'failed submit' 'parade route'\n",
      " 'interacting' 'paid detail' 'protocol' 'late' 'carrying'\n",
      " 'supplemental report' 'files' 'encounter' 'subordinate' 'entering'\n",
      " 'enforcement action' 'captain' 'acting' 'apartment complex' 'policies'\n",
      " 'proof' 'accuses' 'allowing' 'barricades' 'boots' 'fit' 'completing'\n",
      " 'make arrest' 'biased' 'grievance' 'belongings' 'law enforcement' 'ewo'\n",
      " 'crowd' 'racial' 'screaming' 'performing' 'decommissioned' 'escorting'\n",
      " 'concern' 'pain' 'citizens' 'better' 'dutytechnician' 'inappropriate'\n",
      " 'removed' 'operation' 'making' 'barricade' 'touched' 'proper']\n",
      "11\n",
      "Words: ['miscellaneous incident' 'french quarter' 'even though'\n",
      " 'initiated vehicle' 'allegesfailed' 'investigation cancelled'\n",
      " 'arrived scene' 'enforcement action' 'attived' 'quarter' 'life'\n",
      " 'uustained' 'takeaction' 'sleep' 'pointing' 'remove' 'based'\n",
      " 'text messages' 'press' 'punched' 'attempting' 'coming' 'individuals'\n",
      " 'law enforcement' 'supplemental report' 'policies' 'attack' 'obtain copy'\n",
      " 'alone' 'were' 'onerated' 'barricades' 'assigned area' 'failed submit'\n",
      " 'photos' 'paid detail' 'fear' 'strip search' 'supposed' 'physically'\n",
      " 'drawn' 'fit' 'threats' 'restaurant' 'admitted' 'seriously'\n",
      " 'apprehension' 'obtaining' 'barricade' 'screaming']\n",
      "12\n",
      "Words: ['rudely' 'caused' 'smoking' 'lock' 'different' 'without authorization'\n",
      " 'missing person' 'apartment complex' 'private' 'white male' 'eye'\n",
      " 'division' 'parking ticket' 'simple battery' 'credit' 'damage'\n",
      " 'do sergeant' 'placed handcuffs' 'employed' 'suv' 'riding' 'line'\n",
      " 'receive' 'orleans parish' 'worker' 'fraud' 'issue' 'french quarter'\n",
      " 'ex girlfriend' 'id' 'laughed' 'problems' 'treatment' 'employment'\n",
      " 'vehicle towed' 'medical' 'jefferson' 'scheduled' 'shift' 'security'\n",
      " 'girlfriend' 'wallet' 'issue citation' 'towed' 'change' 'warning' 'fight'\n",
      " 'company' 'trying get' 'supervisors']\n",
      "13\n",
      "Words: ['cousin' 'louisiana' 'issued summonses' 'break' 'mental' 'raped' 'rape'\n",
      " 'placing' 'paid detail' 'talk' 'parade route' 'staff' 'windows' 'tint'\n",
      " 'what' 'grandson' 'know' 'putting' 'injured' 'exit' 'laughing' 'explain'\n",
      " 'allegedsaid' 'broken' 'summonses' 'even though' 'that' 'couple' 'state'\n",
      " 'hospital' 'father' 'previous' 'yelled' 'paper' 'issue' 'tools' 'message'\n",
      " 'and' 'jefferson parish' 'blue' 'story' 'wanting' 'signed'\n",
      " 'granddaughter' 'listen' 'supplemental report' 'dispute' 'fight' 'let go'\n",
      " 'apartment complex']\n",
      "14\n",
      "Words: ['take necessaryaction' 'necessaryaction' 'either activated' 'suicide'\n",
      " 'unfounded action' 'bad attitude' 'car camera' 'sexual assault'\n",
      " 'harassment' 'take appropriate' 'worn camera' 'calls service' 'and run'\n",
      " 'learning' 'misconduct' 'failed take' 'summons disturbing'\n",
      " 'personal information' 'death' 'social media' 'respond call'\n",
      " 'administrative' 'protective order' 'transported hospital' 'sex' 'ics'\n",
      " 'shooting' 'touched' 'appropriate' 'years' 'in service' 'activate in'\n",
      " 'deactivated' 'changed signal' 'days later' 'investigating' 'form'\n",
      " 'adult' 'make arrest' 'sexual' 'involved fight' 'prematurely' 'bwcs'\n",
      " 'command desk' 'policies' 'video footage' 'allegesfailed'\n",
      " 'another employee' 'related' 'appropriate action']\n",
      "15\n",
      "Words: ['jefferson parish' 'supplemental report' 'operating' 'accuses'\n",
      " 'accusesneglect' 'strip search' 'task' 'interaction' 'summary'\n",
      " 'failed submit' 'paid detail' 'allowing' 'rear' 'rearvehicle' 'every'\n",
      " 'motor' 'escaped' 'unknownfailed' 'onerated' 'dwi' 'per' 'interstate'\n",
      " 'cellphone' 'compliance' 'windows' 'drive' 'suicide' 'parade route'\n",
      " 'prisoner' 'policies' 'blocked' 'sleeping' 'firearm' 'sirens' 'treatment'\n",
      " 'issued summonses' 'overtime' 'individual' 'conducted traffic' 'full'\n",
      " 'window' 'step' 'even though' 'louisiana' 'exonerated' 'committing' 'suv'\n",
      " 'fic' 'siren' 'favoritism']\n",
      "16\n",
      "Words: ['females' 'church' 'made feel' 'press' 'domestic disturbance'\n",
      " 'complaint allegesfailed' 'disturbing peace' 'press charges' 'assaulted'\n",
      " 'civil matter' 'noise' 'employment' 'causing disturbance'\n",
      " 'vehicle burglarized' 'attention' 'feel like' 'level use'\n",
      " 'probable cause' 'thorough investigation' 'use force' 'attempt' 'wished'\n",
      " 'worker' 'bwc use' 'notifying' 'level' 'pushed' 'obscene' 'caretaker'\n",
      " 'abused' 'responded call' 'three' 'gender' 'disturbing' 'allegesfailed'\n",
      " 'discourteous' 'authored' 'bad' 'expletive' 'prematurely deactivated'\n",
      " 'needed' 'charges' 'protection order' 'summons disturbing' 'liar' 'co'\n",
      " 'armed' 'evicted' 'authorized' 'eyes']\n",
      "17\n",
      "Words: ['respond call' 'in service' 'involved fight' 'calls service'\n",
      " 'social media' 'decommissioned' 'personal information' 'activate in'\n",
      " 'summons disturbing' 'vulgar' 'another employee' 'subordinates'\n",
      " 'failing activate' 'failing complete' 'in car' 'call service'\n",
      " 'disturbing peace' 'sheriff office' 'crime scene' 'profane language'\n",
      " 'failed activate' 'failed complete' 'take necessaryaction' 'used vulgar'\n",
      " 'activate bwc' 'unfounded action' 'accusesneglect'\n",
      " 'unprofessional comments' 'profane' 'in law' 'statesactivate' 'respond'\n",
      " 'allegesneglect' 'phone calls' 'domestic violence' 'generated complaint'\n",
      " 'pib office' 'activate body' 'violence incident' 'schedule'\n",
      " 'child father' 'failed take' 'supervisory' 'protocol'\n",
      " 'transported hospital' 'unprofessional manner' 'bad attitude'\n",
      " 'allegations neglect' 'press charges' 'document domestic']\n",
      "18\n",
      "Words: ['he she' 'unprofessional manner' 'supervisory approval' 'bwc activated'\n",
      " 'do sergeant' 'unprofessional speaking' 'investigate incident'\n",
      " 'interacting' 'rude unprofessional' 'unprofessional towards' 'him her'\n",
      " 'properly investigate' 'his her' 'captain' 'vehicle pursuit'\n",
      " 'license suspended' 'failing activate' 'orleans parish'\n",
      " 'thoroughly investigate' 'worn camera' 'unprofessional comments' 'she'\n",
      " 'body worn' 'accusesneglect' 'tint' 'unauthorized pursuit' 'towards him'\n",
      " 'decommissioned' 'touched' 'allegesneglect' 'towards complait' 'accuses'\n",
      " 'failed activate' 'escorting' 'parked front' 'force incident'\n",
      " 'car camera' 'failed take' 'continued stating' 'activate in'\n",
      " 'unauthorized force' 'significant' 'generated' 'activate bwc'\n",
      " 'public generated' 'worn cameras' 'unauthorized vehicle'\n",
      " 'involved unauthorized' 'failing complete' 'generated complaint']\n",
      "19\n",
      "Words: ['screening' 'tested positive' 'tested' 'substance' 'substance abuse'\n",
      " 'probable cause' 'positive' 'cocaine' 'without cause' 'test'\n",
      " 'according complait' 'probable' 'within' 'says' 'results' 'field'\n",
      " 'client' 'xonerated' 'negative' 'child abuse' 'lab' 'post' 'sex crimes'\n",
      " 'marijuana' 'abuse' 'six' 'illegal' 'cause' 'drugs' 'forwarded'\n",
      " 'crime lab' 'authored' 'involved automobile' 'narcotics' 'according'\n",
      " 'automobile accident' 'confiscated' 'procedure' 'illegal stop'\n",
      " 'retrieved' 'racially' 'searched' 'drug' 'vehicle towed' 'abused' 'view'\n",
      " 'death' 'department issued' 'used profane' 'collect evidence']\n",
      "20\n",
      "Words: ['worn camera' 'body worn' 'activate body' 'car camera' 'activate in'\n",
      " 'worn cameras' 'failed activate' 'worn' 'activate bwc' 'camera'\n",
      " 'failing activate' 'strip' 'cellphone' 'body' 'activate'\n",
      " 'unauthorized pursuit' 'body armor' 'strip search' 'unfounded action'\n",
      " 'deactivated' 'vehicle pursuit' 'statesactivate' 'in car' 'supervise'\n",
      " 'either activated' 'prematurely' 'search warrant' 'armor' 'supervisory'\n",
      " 'he she' 'bwcs' 'in service' 'touched' 'failing complete'\n",
      " 'participated unauthorized' 'unauthorized force' 'bwc activated'\n",
      " 'failed complete' 'assisting' 'capture' 'take necessaryaction' 'cameras'\n",
      " 'onerated action' 'arrest warrant' 'fatalities' 'unauthorized vehicle'\n",
      " 'ics' 'participated' 'officers bwcs' 'addition']\n",
      "21\n",
      "Words: ['domestic incident' 'violence incident' 'document domestic'\n",
      " 'domestic violence' 'domestic battery' 'document incident'\n",
      " 'failed document' 'failing complete' 'failing activate'\n",
      " 'domestic disturbance' 'call service' 'involved unauthorized'\n",
      " 'failed complete' 'properly investigate' 'failed take' 'timely manner'\n",
      " 'involved accident' 'write report' 'force incident' 'failed appear'\n",
      " 'investigate incident' 'allegedfailed' 'allegation neglect'\n",
      " 'unauthorized vehicle' 'allegation professionalism' 'unauthorized force'\n",
      " 'bwc use' 'in service' 'appear court' 'failed activate'\n",
      " 'unauthorized pursuit' 'subordinates' 'failed attend' 'use force'\n",
      " 'unprofessional manner' 'allegations professionalism' 'activate bwc'\n",
      " 'automobile accident' 'attend court' 'failed notify' 'armor'\n",
      " 'rude unprofessional' 'activate body' 'incident involving'\n",
      " 'thoroughly investigate' 'vehicle pursuit' 'arrested subject'\n",
      " 'involved automobile' 'court hearing' 'summons wrongfully']\n",
      "22\n",
      "Words: ['use force' 'bwc use' 'force incident' 'activate bwc' 'failed activate'\n",
      " 'failing activate' 'activate in' 'activate body' 'failed take'\n",
      " 'unauthorized force' 'allegesneglect' 'capture' 'violence incident'\n",
      " 'bwc activated' 'neglect duty' 'bwc footage' 'subordinates'\n",
      " 'failing complete' 'domestic disturbance' 'involved unauthorized'\n",
      " 'domestic incident' 'gender' 'evidence property' 'simple battery'\n",
      " 'activate' 'level use' 'worn camera' 'accusesneglect' 'excessive force'\n",
      " 'domestic violence' 'document incident' 'armor' 'sustained action'\n",
      " 'properly investigate' 'generated complaint' 'public generated'\n",
      " 'involved accident' 'call service' 'responded call' 'body worn'\n",
      " 'prematurely deactivated' 'take action' 'use' 'allegation neglect'\n",
      " 'failed document' 'worn cameras' 'take appropriate' 'may completed'\n",
      " 'body armor' 'log']\n",
      "23\n",
      "Words: ['complaint accusesneglect' 'accusesneglect duty' 'neglect dutyfailing'\n",
      " 'wallet' 'withdrawn action' 'filed complaints' 'incident occurred' 'id'\n",
      " 'hours later' 'central evidence' 'in law' 'xonerated' 'tour duty' 'valid'\n",
      " 'variousinvolved' 'generated' 'evidence property' 'contained' 'take jail'\n",
      " 'deputy' 'days later' 'resulted crash' 'white male' 'action taken' 'web'\n",
      " 'neglect duty' 'summary' 'unknown male' 'lock' 'accuses' 'last'\n",
      " 'onerated action' 'profane language' 'sustained action' 'released'\n",
      " 'tested positive' 'generated complaint' 'used profane' 'negative' 'co'\n",
      " 'tested' 'possession' 'card' 'pib office' 'touched' 'uustained action'\n",
      " 'protocol' 'vehicle pursuit' 'nopd officer' 'screening']\n",
      "24\n",
      "Words: ['amount time' 'tour duty' 'assignment' 'filed complaints' 'schedule'\n",
      " 'used profane' 'profane language' 'pertinent information'\n",
      " 'unauthorized pursuit' 'body worn' 'motorist' 'new orleans' 'lieutet'\n",
      " 'notify pib' 'llegation' 'onerated action' 'tour' 'vehicle pursuit'\n",
      " 'pib office' 'scheduled' 'armor' 'resulted crash' 'peace bond'\n",
      " 'accusesneglect duty' 'worn camera' 'subpoena' 'unreasonable'\n",
      " 'complaint accusesneglect' 'failed complete' 'he she' 'orleans'\n",
      " 'outstanding' 'enter' 'database' 'class' 'withdrawn action' 'touched'\n",
      " 'court hearing' 'recovered' 'issuing citation' 'unauthorized vehicle'\n",
      " 'escorted' 'body armor' 'variousinvolved' 'inform' 'unauthorized force'\n",
      " 'previously' 'pursuant' 'hours later' 'amount']\n",
      "25\n",
      "Words: ['failed submit' 'paid detail' 'strip search' 'issued summonses'\n",
      " 'supplemental report' 'allegedfailed' 'tools' 'crisis'\n",
      " 'miscellaneous incident' 'even though' 'parade route'\n",
      " 'investigation cancelled' 'enforcement action' 'submit' 'boots' 'web'\n",
      " 'supervise' 'accusesneglect' 'carrying' 'initiated vehicle' 'strip'\n",
      " 'timely' 'accurate' 'policies' 'apartment complex' 'administrative'\n",
      " 'interacting' 'jefferson parish' 'subordinates' 'law enforcement'\n",
      " 'obtain copy' 'make arrest' 'follow instructions' 'caught' 'fashion'\n",
      " 'arrest warrant' 'subordinate' 'fit' 'protocol' 'accuses' 'log'\n",
      " 'attendant' 'necessary action' 'timely manner' 'obtain permission'\n",
      " 'conducted traffic' 'health' 'statesactivate' 'uustained' 'file report']\n",
      "26\n",
      "Words: ['summons disturbing' 'disturbing peace' 'disturbing' 'peace' 'summonses'\n",
      " 'tet' 'issued summonses' 'kill' 'parties' 'involved fight' 'charged'\n",
      " 'constantly' 'threats' 'attacked' 'summons' 'ongoing' 'municipal'\n",
      " 'social media' 'neighbor' 'peace bond' 'angry' 'fight' 'civil matter'\n",
      " 'harassment' 'party' 'argument' 'life' 'trespassing' 'dismissed'\n",
      " 'family members' 'take necessaryaction' 'situation' 'arrived scene'\n",
      " 'disturbance' 'dispute' 'many' 'landlord' 'dropped' 'years' 'persons'\n",
      " 'threatening' 'noise' 'matter' 'student' 'charges' 'assaulted' 'issued'\n",
      " 'fear' 'shooting' 'respond call']\n",
      "27\n",
      "Words: ['appear court' 'failed appear' 'pursuant' 'stay away' 'marked nopd'\n",
      " 'gender' 'tested positive' 'involved physical' 'acknowledge'\n",
      " 'physical altercation' 'subpoena' 'screening' 'court hearing'\n",
      " 'without permission' 'failed notify' 'notice' 'attend court'\n",
      " 'notify supervisor' 'traffic stop' 'hearing' 'served'\n",
      " 'allegation neglect' 'department issued' 'unknownfailed' 'appear'\n",
      " 'report written' 'involved accident' 'without cause' 'incident involving'\n",
      " 'absence' 'notify pib' 'issued summons' 'ex husband'\n",
      " 'automobile accident' 'probable cause' 'may completed' 'scheduled' 'log'\n",
      " 'allegations orders' 'investigation revealed' 'substance abuse'\n",
      " 'amount time' 'arrested subject' 'tour duty' 'stay' 'neglect duty'\n",
      " 'failed take' 'stop sign' 'allegesneglect duty' 'subpoenaed']\n",
      "28\n",
      "Words: ['obtain copy' 'sending' 'bias' 'obtain permission' 'profane' 'pursuant'\n",
      " 'subpoena' 'hearing' 'attend' 'french quarter' 'even though'\n",
      " 'arrived scene' 'traffic accident' 'miscellaneous incident'\n",
      " 'initiated vehicle' 'policies' 'biased' 'investigation cancelled'\n",
      " 'quarter' 'email' 'enforcement action' 'court hearing' 'traffic stop'\n",
      " 'attend court' 'failed attend' 'log' 'failed submit' 'appear' 'absence'\n",
      " 'allegedfailed' 'make arrest' 'parade route' 'contacting' 'paid detail'\n",
      " 'arrest warrant' 'text messages' 'accurate' 'based' 'blocked'\n",
      " 'allegesfailed' 'french' 'language' 'thorough' 'conducted traffic'\n",
      " 'scheduled' 'contained' 'sick leave' 'strip search' 'interacting'\n",
      " 'served']\n",
      "29\n",
      "Words: ['allegesneglect' 'public generated' 'generated complaint'\n",
      " 'accusesneglect' 'generated' 'the ics' 'failed activate' 'activate bwc'\n",
      " 'neglect duty' 'officers bwcs' 'allegesneglect duty'\n",
      " 'complaint allegesneglect' 'failing activate' 'without authorization'\n",
      " 'activate in' 'failed take' 'approve' 'body armor' 'public' 'bwc footage'\n",
      " 'accuses' 'unprofessional comments' 'uustained action' 'activate body'\n",
      " 'allegesfailed' 'subordinates' 'multiple fatalities' 'participated' 'web'\n",
      " 'participated unauthorized' 'off duty' 'prematurely' 'deactivated'\n",
      " 'make arrest' 'ex wife' 'resulted crash' 'bwc activated' 'calls service'\n",
      " 'used vulgar' 'video footage' 'public integrity' 'fatalities'\n",
      " 'unauthorized force' 'another employee' 'force incident' 'gender'\n",
      " 'multiple' 'bwcs' 'protective order' 'ics']\n",
      "30\n",
      "Words: ['attend court' 'failed attend' 'item number' 'allegation professionalism'\n",
      " 'allegations professionalism' 'issue citation' 'domestic incident'\n",
      " 'pursuant' 'document domestic' 'domestic battery' 'court hearing'\n",
      " 'scheduled' 'working detail' 'appear court' 'nothing could'\n",
      " 'allegedfailed' 'cell phone' 'placed handcuffs' 'necessary paperwork'\n",
      " 'failed document' 'write report' 'failed appear' 'domestic violence'\n",
      " 'failing complete' 'missing person' 'timely manner' 'schedule'\n",
      " 'thoroughly investigate' 'document incident' 'accurate' 'subordinates'\n",
      " 'allegation neglect' 'off duty' 'criminal' 'uustained'\n",
      " 'violence incident' 'appear' 'subpoena' 'credit' 'served'\n",
      " 'failing activate' 'thefailed' 'failed complete' 'failed take'\n",
      " 'domestic disturbance' 'administrative' 'do sergeant'\n",
      " 'investigate incident' 'allegations neglect' 'action taken']\n",
      "31\n",
      "Words: ['do sergeant' 'failed take' 'investigate incident' 'bwc activated'\n",
      " 'fraud' 'without authorization' 'continued stating' 'assigned area'\n",
      " 'license suspended' 'men' 'bwc footage' 'unprofessional speaking'\n",
      " 'partner' 'video footage' 'force incident' 'allegesneglect' 'year old'\n",
      " 'simple battery' 'theft' 'exonerated' 'orleans parish' 'identity' 'st'\n",
      " 'records' 'adult' 'not' 'accusesneglect' 'aware' 'either activated'\n",
      " 'properly investigate' 'sleep' 'patient' 'green' 'supervisory approval'\n",
      " 'arms' 'tet' 'happen' 'taking' 'charged' 'argument' 'around' 'line'\n",
      " 'better' 'direct' 'parked front' 'place' 'works' 'allegesfailed' 'ran'\n",
      " 'apartment complex']\n",
      "32\n",
      "Words: ['allegesneglect' 'white male' 'public generated' 'sleeping' 'bwc footage'\n",
      " 'without authorization' 'accusesneglect' 'neglect duty' 'acknowledge'\n",
      " 'generated complaint' 'force incident' 'subordinates' 'video footage'\n",
      " 'apartment complex' 'ems' 'unauthorized force' 'allegesneglect duty'\n",
      " 'public integrity' 'log' 'complaint allegesneglect' 'subordinate'\n",
      " 'pointed' 'lost' 'scheduled' 'french quarter' 'records' 'use force'\n",
      " 'secure' 'radio' 'recording' 'approve' 'integrity' 'resulted crash'\n",
      " 'allegesfailed' 'dwi' 'ensure' 'officers bwcs' 'disciplinary'\n",
      " 'supervisory' 'prisoner' 'excessive force' 'suv' 'inappropriately'\n",
      " 'do sergeant' 'bwc activated' 'duty' 'failed document' 'improper'\n",
      " 'accurate' 'private']\n",
      "33\n",
      "Words: ['decommissioned' 'unprofessional comments' 'year old' 'redirection'\n",
      " 'parking lot' 'another employee' 'used vulgar' 'sexual assault'\n",
      " 'uustained action' 'allegesneglect' 'failed take' 'take action'\n",
      " 'subordinates' 'retaliation' 'offense' 'suicide' 'exonerated'\n",
      " 'body armor' 'trial' 'touched' 'would like' 'department issued' 'claims'\n",
      " 'correctly' 'failed activate' 'involved automobile' 'smelled'\n",
      " 'activate in' 'neglect duty' 'ina' 'proper' 'duties'\n",
      " 'generated complaint' 'automobile accident' 'sobriety' 'mvu'\n",
      " 'take necessaryaction' 'notify supervisor' 'drivers' 'may completed'\n",
      " 'allowing' 'failed notify' 'administrative' 'accident' 'unfounded action'\n",
      " 'related' 'discharged' 'favoritism' 'committing' 'individual']\n",
      "34\n",
      "Words: ['timely manner' 'unprofessional speaking' 'unprofessional manner'\n",
      " 'failing activate' 'failing complete' 'search warrant' 'went district'\n",
      " 'failed document' 'document incident' 'document domestic' 'ex husband'\n",
      " 'activate body' 'aggressive manner' 'ex boyfriend' 'rude unprofessional'\n",
      " 'unauthorized force' 'force incident' 'court hearing' 'write report'\n",
      " 'carrying' 'failed activate' 'use force' 'activate bwc' 'level use'\n",
      " 'unauthorized vehicle' 'parking ticket' 'allegations neglect'\n",
      " 'domestic incident' 'strip search' 'allegesneglect' 'off duty'\n",
      " 'ex girlfriend' 'failed complete' 'bwc footage' 'ex wife'\n",
      " 'arrest warrant' 'accuses' 'timely' 'bwc use' 'armor' 'approve'\n",
      " 'involved unauthorized' 'body worn' 'vulgar' 'unauthorized pursuit'\n",
      " 'strip' 'manner' 'activate in' 'thoroughly investigate' 'missing person']\n",
      "35\n",
      "Words: ['write report' 'thoroughly investigate' 'court hearing'\n",
      " 'rude unprofessional' 'failed document' 'failing complete'\n",
      " 'document incident' 'document domestic' 'failed complete' 'timely manner'\n",
      " 'involved unauthorized' 'unprofessional manner' 'new orleans' 'pursuant'\n",
      " 'involved accident' 'mardi gras' 'failing activate'\n",
      " 'unauthorized vehicle' 'parking ticket' 'sustained action'\n",
      " 'unauthorized force' 'allegations neglect' 'activate body'\n",
      " 'investigate incident' 'failed appear' 'armor' 'decommissioned'\n",
      " 'domestic incident' 'unauthorized pursuit' 'failed take' 'sheriff deputy'\n",
      " 'attend court' 'properly investigate' 'write' 'failed attend'\n",
      " 'sheriff office' 'appear court' 'traffic accident' 'action taken'\n",
      " 'unprofessional speaking' 'lane' 'schedule' 'interacting' 'body worn'\n",
      " 'went district' 'automobile accident' 'scheduled'\n",
      " 'allegations professionalism' 'call service' 'driver license']\n",
      "36\n",
      "Words: ['changed signal' 'domestic disturbance' 'signal' 'changed'\n",
      " 'necessary action' 'necessary' 'nat' 'section' 'necessary paperwork'\n",
      " 'ina' 'miscellaneous incident' 'domestic incident' 'uustained'\n",
      " 'miscellaneous' 'domestic' 'disturbance' 'causing disturbance'\n",
      " 'documenting' 'health' 'document domestic' 'unfounded action'\n",
      " 'uustained action' 'marked nopd' 'special' 'mental' 'report written'\n",
      " 'without permission' 'domestic battery' 'incident involving' 'dispatched'\n",
      " 'action taken' 'thefailed' 'take action' 'epr' 'responded call'\n",
      " 'may completed' 'investigation cancelled' 'car camera' 'schedule'\n",
      " 'damaged' 'attempt' 'ordered' 'marked' 'domestic violence' 'notifying'\n",
      " 'additionally' 'write' 'rape' 'church' 'document incident']\n",
      "37\n",
      "Words: ['domestic disturbance' 'thorough investigation' 'gender' 'subordinates'\n",
      " 'causing disturbance' 'bwc use' 'probable cause' 'uustained'\n",
      " 'interaction' 'use force' 'log' 'complaint allegesfailed' 'scheduled'\n",
      " 'responded call' 'show' 'domestic incident' 'necessary paperwork'\n",
      " 'failed submit' 'submit' 'made feel' 'immediate' 'bias'\n",
      " 'prematurely deactivated' 'failed take' 'also deactivated' 'ina' 'for'\n",
      " 'evidence property' 'epr' 'handcuff' 'off duty' 'tour duty'\n",
      " 'conduct paragraph' 'uustained action' 'necessary action' 'failed notify'\n",
      " 'nat' 'properly investigate' 'lab technician' 'unprofessional towards'\n",
      " 'neglect duty' 'allegesneglect duty' 'providing' 'residence without'\n",
      " 'violence incident' 'level use' 'notify supervisor' 'worn cameras'\n",
      " 'accurate' 'civil matter']\n",
      "38\n",
      "Words: ['initiated vehicle' 'supervisory approval' 'supervisory'\n",
      " 'without authorization' 'initiated' 'approval' 'authorization'\n",
      " 'vehicle pursuit' 'pursuit' 'sick leave' 'assigned area' 'french quarter'\n",
      " 'miscellaneous incident' 'allegesneglect' 'unauthorized pursuit'\n",
      " 'obtain permission' 'obtaining' 'bwc activated' 'officers bwcs' 'channel'\n",
      " 'investigation cancelled' 'accusesneglect' 'training'\n",
      " 'enforcement action' 'law enforcement' 'decommissioned' 'even though'\n",
      " 'without permission' 'traffic accident' 'either activated'\n",
      " 'engaged unauthorized' 'equipment' 'accurate' 'supervisors'\n",
      " 'annual leave' 'drove' 'unauthorized vehicle' 'he she' 'resulted crash'\n",
      " 'unauthorized force' 'investigate incident' 'radio' 'apartment complex'\n",
      " 'posted' 'residence without' 'perform' 'citizen' 'without' 'do sergeant'\n",
      " 'prior']\n",
      "39\n",
      "Words: ['unauthorized pursuit' 'involved unauthorized' 'unauthorized vehicle'\n",
      " 'vehicle pursuit' 'unauthorized force' 'body worn' 'failed complete'\n",
      " 'failing complete' 'resulted crash' 'activate body' 'worn camera'\n",
      " 'engaged unauthorized' 'participated unauthorized' 'failing activate'\n",
      " 'participated' 'prematurely' 'ics' 'rude unprofessional' 'fatalities'\n",
      " 'deactivated' 'involved accident' 'bwcs' 'issuing citation'\n",
      " 'bwc activated' 'armor' 'accusesneglect duty' 'pursuit' 'officers bwcs'\n",
      " 'worn cameras' 'onerated action' 'complaint accusesneglect'\n",
      " 'allegations neglect' 'activate in' 'activate bwc'\n",
      " 'prematurely deactivated' 'also deactivated' 'failed activate' 'approve'\n",
      " 'unauthorized' 'failed document' 'allegations professionalism' 'he she'\n",
      " 'used profane' 'resulted' 'the ics' 'multiple' 'engaged' 'write report'\n",
      " 'tour duty' 'allegesneglect']\n",
      "40\n",
      "Words: ['collect evidence' 'evidence property' 'allegation adherence'\n",
      " 'central evidence' 'collect' 'substance abuse' 'withdrawn action'\n",
      " 'nopd policy' 'engaged unauthorized' 'allegation rule' 'evidence'\n",
      " 'supervisory approval' 'response time' 'incident occurred'\n",
      " 'neglect dutyfailing' 'accusesneglect duty' 'photograph' 'surveillance'\n",
      " 'tested positive' 'rule professional' 'narcotics' 'pertinent information'\n",
      " 'vehicle pursuit' 'suicide' 'complaint accusesneglect' 'video'\n",
      " 'rule paragraph' 'tested' 'official' 'protocol' 'log' 'preferential'\n",
      " 'accurately' 'include' 'possibly' 'variousinvolved' 'captured' 'positive'\n",
      " 'footage' 'unknown male' 'allegations orders' 'screening'\n",
      " 'appropriate action' 'notify pib' 'significant' 'xonerated' 'neglected'\n",
      " 'authored' 'worn cameras' 'resulted crash']\n",
      "41\n",
      "Words: ['party involved' 'obtain copy' 'paid detail' 'working detail'\n",
      " 'neglect duty' 'involved verbal' 'allegation neglect'\n",
      " 'neglect dutyfailing' 'tools' 'accurate' 'issued citation'\n",
      " 'involved accident' 'supplemental report' 'may completed' 'armor'\n",
      " 'verbal altercation' 'obtain permission' 'copy' 'failed submit'\n",
      " 'scheduled' 'take action' 'several times' 'detail' 'immediate'\n",
      " 'lab technician' 'necessary action' 'record' 'uustained'\n",
      " 'traffic accident' 'failed notify' 'sustained action' 'failed appear'\n",
      " 'notify supervisor' 'completed' 'follow instructions'\n",
      " 'incident involving' 'parade route' 'email' 'action taken' 'worked'\n",
      " 'automobile accident' 'bias' 'burglary' 'investigation revealed'\n",
      " 'outstanding' 'allegations neglect' 'preliminary investigation'\n",
      " 'interstate' 'issue citation' 'departmental policy']\n",
      "42\n",
      "Words: ['rude unprofessional' 'allegations neglect' 'failed complete'\n",
      " 'failing complete' 'unauthorized vehicle' 'involved unauthorized'\n",
      " 'allegations professionalism' 'unauthorized force' 'unauthorized pursuit'\n",
      " 'court hearing' 'write report' 'timely manner' 'unprofessional manner'\n",
      " 'thoroughly investigate' 'activate body' 'failed document'\n",
      " 'failing activate' 'unprofessional speaking' 'document domestic'\n",
      " 'allegations orders' 'document incident' 'pursuant' 'body worn'\n",
      " 'new orleans' 'allegation professionalism' 'engaged unauthorized'\n",
      " 'wanted know' 'mardi gras' 'allegation neglect' 'parking ticket'\n",
      " 'sheriff office' 'armor' 'domestic incident' 'arrested subject'\n",
      " 'decommissioned' 'attend court' 'sheriff deputy' 'properly investigate'\n",
      " 'failed attend' 'remarks' 'nopd officer' 'investigate incident'\n",
      " 'cellphone' 'body armor' 'bwc activated' 'accuses' 'involved accident'\n",
      " 'search warrant' 'failed appear' 'complaint accusesneglect']\n"
     ]
    }
   ],
   "source": [
    "if len(model.get_topic_sizes()) > 1:\n",
    "    topic_words, word_scores, topic_nums = model.get_topics()\n",
    "    for words, scores, num in zip(topic_words, word_scores, topic_nums):\n",
    "        print(num)\n",
    "        print(f\"Words: {words}\")"
   ]
  },
  {
   "cell_type": "code",
   "execution_count": 55,
   "metadata": {},
   "outputs": [
    {
     "name": "stdout",
     "output_type": "stream",
     "text": [
      "[200 166 151 148 144 141 138 137 136 125 117 112 111 110 108 105 104 100\n",
      "  97  93  92  91  90  88  86  86  81  79  77  75  75  70  69  65  65  63\n",
      "  60  60  60  56  54  51  44]\n",
      "[ 0  1  2  3  4  5  6  7  8  9 10 11 12 13 14 15 16 17 18 19 20 21 22 23\n",
      " 24 25 26 27 28 29 30 31 32 33 34 35 36 37 38 39 40 41 42]\n"
     ]
    }
   ],
   "source": [
    "topic_sizes, top_nums = model.get_topic_sizes()\n",
    "print(topic_sizes)\n",
    "print(top_nums)"
   ]
  },
  {
   "cell_type": "code",
   "execution_count": 68,
   "metadata": {},
   "outputs": [
    {
     "name": "stdout",
     "output_type": "stream",
     "text": [
      "Document: 2653, Score: 0.8529097437858582\n",
      "--------------------\n",
      "rude bad attitude.\n",
      "--------------------\n",
      "Document: 2757, Score: 0.7442191243171692\n",
      "--------------------\n",
      "harasses friend.\n",
      "--------------------\n",
      "Document: 2239, Score: 0.6979073286056519\n",
      "--------------------\n",
      "discourteous subject arrest.\n",
      "--------------------\n",
      "Document: 3006, Score: 0.6970369815826416\n",
      "--------------------\n",
      "bad attitude speaking unprofessionally. ‘* 2018-0120-p: 02/17/2018; allegation: use forcemalepulling hair femaleunprofessional.\n",
      "--------------------\n",
      "Document: 2594, Score: 0.6820839047431946\n",
      "--------------------\n",
      "madefeel bad way spoke him.\n",
      "--------------------\n",
      "Document: 3813, Score: 0.6743942499160767\n",
      "--------------------\n",
      "address complait's concern urinated on.\n",
      "--------------------\n",
      "Document: 3711, Score: 0.6674847602844238\n",
      "--------------------\n",
      "complait's concern complait's life threatened. :address\n",
      "--------------------\n",
      "Document: 3712, Score: 0.6655276417732239\n",
      "--------------------\n",
      "complait's concern complait's life threatened. :address\n",
      "--------------------\n",
      "Document: 1100, Score: 0.6542341113090515\n",
      "--------------------\n",
      "stopped traffic violationrude discourteous.\n",
      "--------------------\n",
      "Document: 1389, Score: 0.6536402106285095\n",
      "--------------------\n",
      "states possibly threatening e-mail allegedlyofficer.\n",
      "--------------------\n"
     ]
    }
   ],
   "source": [
    "documents, document_scores, document_ids = model.search_documents_by_topic(topic_num=2, num_docs=10)\n",
    "\n",
    "for doc, score, doc_id in list(zip(documents, document_scores, document_ids)):\n",
    "    print(f\"Document: {doc_id}, Score: {score}\")\n",
    "    print(\"--------------------\")\n",
    "    print(doc)\n",
    "    print(\"--------------------\")"
   ]
  },
  {
   "cell_type": "code",
   "execution_count": 57,
   "metadata": {},
   "outputs": [
    {
     "name": "stdout",
     "output_type": "stream",
     "text": [
      "                                           doc     score\n",
      "0  failed wear departmental issued body armor.  0.714013\n",
      "1                  permi duty. : neglect duty;  0.750299\n",
      "2                          failed report duty.  0.692937\n",
      "3                altering payroll information.  0.766367\n",
      "4  failed wear departmental issued body armor.  0.706135\n",
      "5                      equipment stolennothing  0.779809\n",
      "6  failed wear departmental issued body armor.  0.698544\n",
      "7                                  tardy duty.  0.809272\n",
      "8               failed report duty instructed.  0.785208\n",
      "9                                 neglect duty  0.764560\n"
     ]
    }
   ],
   "source": [
    "documents, document_scores, document_ids = model.search_documents_by_topic(topic_num=5, num_docs=10)\n",
    "\n",
    "ents = {(doc, score) for doc, score in list(zip(documents, document_scores))}\n",
    "df = pd.DataFrame(ents, columns=[\"doc\", \"score\"])\n",
    "print(df)\n",
    "# df.loc[:, \"topic\"] = \"30\"\n",
    "# df.to_csv(\"../data/raw/new_orleans_pd/topics/topic_30.csv\", index=False)"
   ]
  },
  {
   "cell_type": "code",
   "execution_count": 65,
   "metadata": {},
   "outputs": [],
   "source": [
    "# model.save(\"../data/topic_modelling/model/new_orleans_pd_pib_2014_2019\")"
   ]
  },
  {
   "cell_type": "code",
   "execution_count": null,
   "metadata": {},
   "outputs": [],
   "source": [
    "# model.generate_topic_wordcloud(0)"
   ]
  },
  {
   "cell_type": "code",
   "execution_count": 60,
   "metadata": {},
   "outputs": [
    {
     "data": {
      "text/plain": [
       "array([['participated unauthorized', 'sexual assault',\n",
       "        'protective order', ..., 'equipment', 'preferential',\n",
       "        'parking lot'],\n",
       "       ['highway', 'almost', 'speed', ..., 'car', 'driven', 'sign'],\n",
       "       ['bad attitude', 'and run', 'transported hospital', ..., 'nephew',\n",
       "        'allegesfailed', 'contacted'],\n",
       "       ...,\n",
       "       ['collect evidence', 'evidence property', 'allegation adherence',\n",
       "        ..., 'authored', 'worn cameras', 'resulted crash'],\n",
       "       ['party involved', 'obtain copy', 'paid detail', ...,\n",
       "        'interstate', 'issue citation', 'departmental policy'],\n",
       "       ['rude unprofessional', 'allegations neglect', 'failed complete',\n",
       "        ..., 'search warrant', 'failed appear',\n",
       "        'complaint accusesneglect']], dtype='<U27')"
      ]
     },
     "execution_count": 60,
     "metadata": {},
     "output_type": "execute_result"
    }
   ],
   "source": [
    "model.topic_words"
   ]
  },
  {
   "cell_type": "code",
   "execution_count": 61,
   "metadata": {},
   "outputs": [
    {
     "data": {
      "text/plain": [
       "array(['participated unauthorized', 'sexual assault', 'protective order',\n",
       "       'another employee', 'multiple fatalities', 'photograph',\n",
       "       'would like', 'correspondence', 'ics', 'mediation',\n",
       "       'take necessaryaction', 'deactivated', 'prematurely', 'act',\n",
       "       'redirection', 'take action', 'send', 'the ics', 'let go',\n",
       "       'failed take', 'fatalities', 'bwcs', 'participated', 'smelled',\n",
       "       'escape', 'year old', 'secure', 'hung', 'used vulgar', 'feel like',\n",
       "       'van', 'condition', 'concrete', 'necessaryaction', 'pushing',\n",
       "       'ran', 'resulted', 'moving', 'favoritism', 'trouble', 'suicide',\n",
       "       'assisted', 'body armor', 'withdrawn', 'unprofessional comments',\n",
       "       'operating', 'accusesneglect', 'equipment', 'preferential',\n",
       "       'parking lot'], dtype='<U27')"
      ]
     },
     "execution_count": 61,
     "metadata": {},
     "output_type": "execute_result"
    }
   ],
   "source": [
    "model.topic_words[0]"
   ]
  },
  {
   "cell_type": "code",
   "execution_count": 62,
   "metadata": {},
   "outputs": [
    {
     "name": "stdout",
     "output_type": "stream",
     "text": [
      "Topic Number:  0\n",
      "Words: ['participated unauthorized' 'sexual assault' 'protective order'\n",
      " 'another employee' 'multiple fatalities' 'photograph' 'would like'\n",
      " 'correspondence' 'ics' 'mediation' 'take necessaryaction' 'deactivated'\n",
      " 'prematurely' 'act' 'redirection' 'take action' 'send' 'the ics' 'let go'\n",
      " 'failed take' 'fatalities' 'bwcs' 'participated' 'smelled' 'escape'\n",
      " 'year old' 'secure' 'hung' 'used vulgar' 'feel like' 'van' 'condition'\n",
      " 'concrete' 'necessaryaction' 'pushing' 'ran' 'resulted' 'moving'\n",
      " 'favoritism' 'trouble' 'suicide' 'assisted' 'body armor' 'withdrawn'\n",
      " 'unprofessional comments' 'operating' 'accusesneglect' 'equipment'\n",
      " 'preferential' 'parking lot']\n",
      "\n",
      "\n",
      "Topic Number:  1\n",
      "Words: ['highway' 'almost' 'speed' 'light' 'suv' 'sirens' 'plate' 'red' 'license'\n",
      " 'mph' 'lights' 'dark' 'pulled' 'driving' 'siren' 'lane' 'thesaid'\n",
      " 'driver' 'speeding' 'rolled' 'tint' 'blue' 'badge' 'license plate'\n",
      " 'proceeded' 'cut' 'exited' 'drive' 'behind' 'window' 'tickets' 'pass'\n",
      " 'windows' 'crossed' 'high' 'numbers' 'fall' 'crossing' 'zone' 'stop'\n",
      " 'drove' 'citation' 'said' 'stopped' 'minutes' 'citations'\n",
      " 'driver license' 'car' 'driven' 'sign']\n",
      "\n",
      "\n"
     ]
    }
   ],
   "source": [
    "topic_words, word_scores, topic_nums = model.get_topics(2)\n",
    "for words, scores, nums in zip(topic_words, word_scores, topic_nums):\n",
    "  print(\"Topic Number: \",nums)\n",
    "  print(f\"Words: {words}\")\n",
    "  print(\"\\n\")"
   ]
  },
  {
   "cell_type": "code",
   "execution_count": 63,
   "metadata": {},
   "outputs": [
    {
     "name": "stdout",
     "output_type": "stream",
     "text": [
      "Word: \n",
      "['sobriety' 'supplemental report' 'jefferson parish'\n",
      " 'investigation cancelled' 'carrying' 'unfounded action' 'pm'\n",
      " 'even though' 'says' 'indicated' 'positive' 'test' 'fast' 'allegedfailed'\n",
      " 'confiscated' 'preliminary investigation' 'within' 'substance'\n",
      " 'strip search' 'field' 'obtain copy' 'parade route' 'period' 'six'\n",
      " 'obtain permission' 'suicide' 'failed submit' 'tested' 'documented'\n",
      " 'unfounded' 'additionally' 'onerated' 'units' 'ems' 'send' 'encounter'\n",
      " 'forwarded' 'allegedtook' 'months' 'engaged' 'unrelated' 'hold'\n",
      " 'allowing' 'nat' 'correspondence' 'advise' 'cocaine' 'initiated vehicle'\n",
      " 'preliminary' 'smelled']\n",
      "--------------------\n",
      "Word Score \n",
      "[0.45317554 0.42242622 0.41589126 0.41281715 0.41048944 0.3918479\n",
      " 0.38723737 0.36638924 0.3524646  0.34724623 0.3384915  0.33764958\n",
      " 0.3351385  0.32740805 0.31566578 0.31265628 0.3113144  0.30956197\n",
      " 0.3063449  0.30630034 0.3062438  0.29507065 0.29173648 0.29065275\n",
      " 0.2846122  0.28356913 0.2819377  0.28132802 0.2791176  0.27586856\n",
      " 0.27215052 0.27151477 0.2675155  0.26383492 0.26286405 0.26120025\n",
      " 0.2579537  0.2578766  0.25774944 0.25583953 0.25573707 0.25553805\n",
      " 0.25436983 0.25290173 0.2517461  0.25133166 0.25106874 0.25090814\n",
      " 0.24951419 0.2491598 ]\n",
      "--------------------\n",
      "Topic Score: \n",
      "0.14927934466592033\n",
      "--------------------\n",
      "Topic # \n",
      "4\n",
      "--------END---------\n",
      "Word: \n",
      "['rudely' 'caused' 'smoking' 'lock' 'different' 'without authorization'\n",
      " 'missing person' 'apartment complex' 'private' 'white male' 'eye'\n",
      " 'division' 'parking ticket' 'simple battery' 'credit' 'damage'\n",
      " 'do sergeant' 'placed handcuffs' 'employed' 'suv' 'riding' 'line'\n",
      " 'receive' 'orleans parish' 'worker' 'fraud' 'issue' 'french quarter'\n",
      " 'ex girlfriend' 'id' 'laughed' 'problems' 'treatment' 'employment'\n",
      " 'vehicle towed' 'medical' 'jefferson' 'scheduled' 'shift' 'security'\n",
      " 'girlfriend' 'wallet' 'issue citation' 'towed' 'change' 'warning' 'fight'\n",
      " 'company' 'trying get' 'supervisors']\n",
      "--------------------\n",
      "Word Score \n",
      "[0.4291269  0.3215456  0.31799194 0.3028459  0.28400466 0.2820261\n",
      " 0.2812757  0.2791498  0.27385384 0.27077016 0.2671629  0.2659764\n",
      " 0.25659594 0.25418577 0.25278342 0.2518888  0.24760087 0.24596855\n",
      " 0.24065101 0.23281167 0.23015648 0.22967272 0.22411866 0.22401595\n",
      " 0.22185218 0.22166811 0.22075126 0.21871692 0.21797553 0.2160997\n",
      " 0.21593873 0.2116155  0.21114749 0.2105816  0.20973016 0.20931281\n",
      " 0.20918436 0.20581241 0.20486844 0.20167166 0.20057362 0.20008558\n",
      " 0.19944228 0.19939163 0.19839019 0.196326   0.19552298 0.19302052\n",
      " 0.19205591 0.18918186]\n",
      "--------------------\n",
      "Topic Score: \n",
      "0.09860996196256812\n",
      "--------------------\n",
      "Topic # \n",
      "12\n",
      "--------END---------\n",
      "Word: \n",
      "['jefferson parish' 'supplemental report' 'operating' 'accuses'\n",
      " 'accusesneglect' 'strip search' 'task' 'interaction' 'summary'\n",
      " 'failed submit' 'paid detail' 'allowing' 'rear' 'rearvehicle' 'every'\n",
      " 'motor' 'escaped' 'unknownfailed' 'onerated' 'dwi' 'per' 'interstate'\n",
      " 'cellphone' 'compliance' 'windows' 'drive' 'suicide' 'parade route'\n",
      " 'prisoner' 'policies' 'blocked' 'sleeping' 'firearm' 'sirens' 'treatment'\n",
      " 'issued summonses' 'overtime' 'individual' 'conducted traffic' 'full'\n",
      " 'window' 'step' 'even though' 'louisiana' 'exonerated' 'committing' 'suv'\n",
      " 'fic' 'siren' 'favoritism']\n",
      "--------------------\n",
      "Word Score \n",
      "[0.4595599  0.43098918 0.4232275  0.40958813 0.40065843 0.3814507\n",
      " 0.36558315 0.36209935 0.3503058  0.34332755 0.33434626 0.30786332\n",
      " 0.27829814 0.27699167 0.27556387 0.27408412 0.27233765 0.2714322\n",
      " 0.2680777  0.26550052 0.25913173 0.2581423  0.25544676 0.24670778\n",
      " 0.24505326 0.244456   0.24336891 0.24238105 0.24103145 0.23976453\n",
      " 0.23891492 0.23880878 0.23869148 0.23556177 0.23465791 0.23358719\n",
      " 0.23274611 0.23187608 0.23172459 0.23125392 0.23007382 0.22604164\n",
      " 0.2252476  0.21863706 0.21675985 0.21644858 0.21554476 0.21536918\n",
      " 0.21443549 0.21375926]\n",
      "--------------------\n",
      "Topic Score: \n",
      "0.08482701399886608\n",
      "--------------------\n",
      "Topic # \n",
      "15\n",
      "--------END---------\n",
      "Word: \n",
      "['collect evidence' 'evidence property' 'allegation adherence'\n",
      " 'central evidence' 'collect' 'substance abuse' 'withdrawn action'\n",
      " 'nopd policy' 'engaged unauthorized' 'allegation rule' 'evidence'\n",
      " 'supervisory approval' 'response time' 'incident occurred'\n",
      " 'neglect dutyfailing' 'accusesneglect duty' 'photograph' 'surveillance'\n",
      " 'tested positive' 'rule professional' 'narcotics' 'pertinent information'\n",
      " 'vehicle pursuit' 'suicide' 'complaint accusesneglect' 'video'\n",
      " 'rule paragraph' 'tested' 'official' 'protocol' 'log' 'preferential'\n",
      " 'accurately' 'include' 'possibly' 'variousinvolved' 'captured' 'positive'\n",
      " 'footage' 'unknown male' 'allegations orders' 'screening'\n",
      " 'appropriate action' 'notify pib' 'significant' 'xonerated' 'neglected'\n",
      " 'authored' 'worn cameras' 'resulted crash']\n",
      "--------------------\n",
      "Word Score \n",
      "[0.87433004 0.5394362  0.5130723  0.455529   0.43972158 0.37289807\n",
      " 0.36976674 0.3443865  0.3289642  0.32869926 0.3271671  0.32498446\n",
      " 0.31152055 0.29172757 0.2811098  0.27714154 0.25745904 0.25582904\n",
      " 0.25576398 0.25377685 0.25364342 0.24800205 0.24517298 0.2437189\n",
      " 0.24305128 0.23573528 0.23464315 0.23256367 0.23196922 0.22630784\n",
      " 0.22267428 0.22134681 0.22108942 0.22061053 0.22010967 0.2195149\n",
      " 0.21893875 0.2175207  0.21568671 0.21550466 0.21192579 0.21161336\n",
      " 0.20898141 0.20750484 0.20496137 0.20438255 0.20421614 0.20328395\n",
      " 0.20037414 0.19747645]\n",
      "--------------------\n",
      "Topic Score: \n",
      "0.07644907511551384\n",
      "--------------------\n",
      "Topic # \n",
      "40\n",
      "--------END---------\n",
      "Word: \n",
      "['barricades' 'barricade' 'take jail' 'friends' 'parade' 'parade route'\n",
      " 'pass' 'crossing' 'screaming' 'down' 'expletive' 'toward'\n",
      " 'withdrawn action' 'jail' 'walk' 'using' 'constantly' 'cursed' 'obscene'\n",
      " 'shut' 'pain' 'fear' 'crowd' 'unknown male' 'beginning' 'route'\n",
      " 'blocking' 'rearvehicle' 'mardi gras' 'proceeded' 'siren' 'black male'\n",
      " 'white male' 'inside' 'over' 'gras' 'stood' 'clear' 'badge' 'pull'\n",
      " 'black' 'driven' 'arm' 'lane' 'thesaid' 'chase' 'approached' 'rolled'\n",
      " 'pushed' 'section']\n",
      "--------------------\n",
      "Word Score \n",
      "[0.5606544  0.54389226 0.511014   0.4854664  0.44232544 0.42827693\n",
      " 0.41863105 0.40805554 0.40402198 0.39850402 0.37154377 0.37043962\n",
      " 0.36916202 0.35710102 0.35451984 0.35194921 0.35017434 0.34743518\n",
      " 0.34117815 0.33999938 0.3393871  0.33045635 0.32970822 0.32668993\n",
      " 0.31715214 0.31672567 0.31226978 0.31165895 0.30900615 0.30814493\n",
      " 0.30154964 0.2993768  0.29046407 0.289136   0.2889961  0.28833804\n",
      " 0.2842672  0.28417853 0.28379035 0.2804924  0.2798759  0.27846774\n",
      " 0.27778798 0.27670705 0.27663139 0.27520457 0.27345613 0.27328435\n",
      " 0.27078786 0.27036855]\n",
      "--------------------\n",
      "Topic Score: \n",
      "0.0763763778940263\n",
      "--------------------\n",
      "Topic # \n",
      "9\n",
      "--------END---------\n"
     ]
    }
   ],
   "source": [
    "topic_words, word_scores, topic_scores, topic_nums = model.search_topics(keywords=[\"stolen\"], num_topics=5)\n",
    "for word, w_score, topic, t_score in list(zip(topic_words, word_scores, topic_scores, topic_nums)):\n",
    "    print(f\"Word: \\n{word}\")\n",
    "    print(\"--------------------\")\n",
    "    print(f\"Word Score \\n{w_score}\")\n",
    "    print(\"--------------------\")\n",
    "    print(f\"Topic Score: \\n{topic}\")\n",
    "    print(\"--------------------\")\n",
    "    print (f\"Topic # \\n{t_score}\")\n",
    "    print(\"--------END---------\")"
   ]
  },
  {
   "cell_type": "code",
   "execution_count": null,
   "metadata": {},
   "outputs": [],
   "source": [
    "# model = Top2Vec.load(\"../data/topic_modelling/model/new_orleans_pd_pib_2014_2019\")\n",
    "\n",
    "# umap_args = {\n",
    "#     \"n_neighbors\": 15,\n",
    "#     \"n_components\": 2, # 5 -> 2 for plotting \n",
    "#     \"metric\": \"cosine\",\n",
    "# }\n",
    "# umap_model = umap.UMAP(**umap_args).fit(model.topic_vectors)\n",
    "# umap.plot.points(umap_model, labels=model.doc_top_reduced)"
   ]
  },
  {
   "cell_type": "code",
   "execution_count": null,
   "metadata": {},
   "outputs": [],
   "source": []
  },
  {
   "cell_type": "code",
   "execution_count": 44,
   "metadata": {},
   "outputs": [],
   "source": [
    "from bertopic import BERTopic\n",
    "import json"
   ]
  },
  {
   "cell_type": "code",
   "execution_count": 84,
   "metadata": {},
   "outputs": [],
   "source": [
    "cprr = pd.read_csv(\"../data/clean/cprr_new_orleans_pd_pib_reports_2014_2020.csv\")\n",
    "cprr = cprr[~((cprr.allegation_desc.fillna(\"\") == \"\"))]\n"
   ]
  },
  {
   "cell_type": "code",
   "execution_count": 85,
   "metadata": {},
   "outputs": [
    {
     "data": {
      "text/plain": [
       "(3633, 9)"
      ]
     },
     "execution_count": 85,
     "metadata": {},
     "output_type": "execute_result"
    }
   ],
   "source": [
    "cprr.shape"
   ]
  },
  {
   "cell_type": "code",
   "execution_count": 86,
   "metadata": {},
   "outputs": [],
   "source": [
    "docs = cprr.allegation_desc"
   ]
  },
  {
   "cell_type": "code",
   "execution_count": 87,
   "metadata": {},
   "outputs": [],
   "source": [
    "docs = json.loads(docs.to_json(orient='records'))"
   ]
  },
  {
   "cell_type": "code",
   "execution_count": 88,
   "metadata": {},
   "outputs": [
    {
     "data": {
      "text/plain": [
       "'complaint was via webmail. police were called to remove complainant from his home. complainant alleged he told officers his items were vandalized and thrown outside. complainant was told to leave the home. complainant alleged his name was also on the lease and the responding officers did not request any identification from any of the involved parties. two attempts were made to contact the complainant via phone to conduct an audiotaped interview; to determine the specific allegations.'"
      ]
     },
     "execution_count": 88,
     "metadata": {},
     "output_type": "execute_result"
    }
   ],
   "source": [
    "docs[0]"
   ]
  },
  {
   "cell_type": "code",
   "execution_count": 89,
   "metadata": {},
   "outputs": [],
   "source": [
    "topic_model = BERTopic(embedding_model=\"all-MiniLM-L6-v2\")"
   ]
  },
  {
   "cell_type": "code",
   "execution_count": 90,
   "metadata": {},
   "outputs": [],
   "source": [
    "topic, probs = topic_model.fit_transform(docs)"
   ]
  },
  {
   "cell_type": "code",
   "execution_count": 91,
   "metadata": {},
   "outputs": [
    {
     "data": {
      "text/html": [
       "<div>\n",
       "<style scoped>\n",
       "    .dataframe tbody tr th:only-of-type {\n",
       "        vertical-align: middle;\n",
       "    }\n",
       "\n",
       "    .dataframe tbody tr th {\n",
       "        vertical-align: top;\n",
       "    }\n",
       "\n",
       "    .dataframe thead th {\n",
       "        text-align: right;\n",
       "    }\n",
       "</style>\n",
       "<table border=\"1\" class=\"dataframe\">\n",
       "  <thead>\n",
       "    <tr style=\"text-align: right;\">\n",
       "      <th></th>\n",
       "      <th>Topic</th>\n",
       "      <th>Count</th>\n",
       "      <th>Name</th>\n",
       "    </tr>\n",
       "  </thead>\n",
       "  <tbody>\n",
       "    <tr>\n",
       "      <th>0</th>\n",
       "      <td>-1</td>\n",
       "      <td>1218</td>\n",
       "      <td>-1_the_her_to_complainant</td>\n",
       "    </tr>\n",
       "    <tr>\n",
       "      <th>1</th>\n",
       "      <td>0</td>\n",
       "      <td>135</td>\n",
       "      <td>0_nopd_the_he_and</td>\n",
       "    </tr>\n",
       "    <tr>\n",
       "      <th>2</th>\n",
       "      <td>1</td>\n",
       "      <td>111</td>\n",
       "      <td>1_bwc_activate_force_use</td>\n",
       "    </tr>\n",
       "    <tr>\n",
       "      <th>3</th>\n",
       "      <td>2</td>\n",
       "      <td>109</td>\n",
       "      <td>2_son_her_child_daughter</td>\n",
       "    </tr>\n",
       "    <tr>\n",
       "      <th>4</th>\n",
       "      <td>3</td>\n",
       "      <td>99</td>\n",
       "      <td>3_2018_allegation_neglect_of</td>\n",
       "    </tr>\n",
       "    <tr>\n",
       "      <th>...</th>\n",
       "      <td>...</td>\n",
       "      <td>...</td>\n",
       "      <td>...</td>\n",
       "    </tr>\n",
       "    <tr>\n",
       "      <th>69</th>\n",
       "      <td>68</td>\n",
       "      <td>12</td>\n",
       "      <td>68_social_media_posted_comments</td>\n",
       "    </tr>\n",
       "    <tr>\n",
       "      <th>70</th>\n",
       "      <td>69</td>\n",
       "      <td>12</td>\n",
       "      <td>69_did_reflect_not_accurately</td>\n",
       "    </tr>\n",
       "    <tr>\n",
       "      <th>71</th>\n",
       "      <td>70</td>\n",
       "      <td>12</td>\n",
       "      <td>70_harassing_him_sidewalk_performing</td>\n",
       "    </tr>\n",
       "    <tr>\n",
       "      <th>72</th>\n",
       "      <td>71</td>\n",
       "      <td>12</td>\n",
       "      <td>71_pursuit_unauthorized_failing_0142</td>\n",
       "    </tr>\n",
       "    <tr>\n",
       "      <th>73</th>\n",
       "      <td>72</td>\n",
       "      <td>10</td>\n",
       "      <td>72_previously_conduet_professionally_store</td>\n",
       "    </tr>\n",
       "  </tbody>\n",
       "</table>\n",
       "<p>74 rows × 3 columns</p>\n",
       "</div>"
      ],
      "text/plain": [
       "    Topic  Count                                        Name\n",
       "0      -1   1218                   -1_the_her_to_complainant\n",
       "1       0    135                           0_nopd_the_he_and\n",
       "2       1    111                    1_bwc_activate_force_use\n",
       "3       2    109                    2_son_her_child_daughter\n",
       "4       3     99                3_2018_allegation_neglect_of\n",
       "..    ...    ...                                         ...\n",
       "69     68     12             68_social_media_posted_comments\n",
       "70     69     12               69_did_reflect_not_accurately\n",
       "71     70     12        70_harassing_him_sidewalk_performing\n",
       "72     71     12        71_pursuit_unauthorized_failing_0142\n",
       "73     72     10  72_previously_conduet_professionally_store\n",
       "\n",
       "[74 rows x 3 columns]"
      ]
     },
     "execution_count": 91,
     "metadata": {},
     "output_type": "execute_result"
    }
   ],
   "source": [
    "topic_model.get_topic_info()"
   ]
  },
  {
   "cell_type": "code",
   "execution_count": null,
   "metadata": {},
   "outputs": [],
   "source": [
    "topic_model.get_topic(1)"
   ]
  },
  {
   "cell_type": "code",
   "execution_count": null,
   "metadata": {},
   "outputs": [],
   "source": [
    "topic_model.get_representative_docs(1)"
   ]
  },
  {
   "cell_type": "code",
   "execution_count": 98,
   "metadata": {},
   "outputs": [
    {
     "data": {
      "application/vnd.plotly.v1+json": {
       "config": {
        "plotlyServerURL": "https://plot.ly"
       },
       "data": [
        {
         "customdata": [
          [
           0,
           "nopd | the | he | and | stated",
           135
          ],
          [
           1,
           "bwc | activate | force | use | service",
           111
          ],
          [
           2,
           "son | her | child | daughter | she",
           109
          ],
          [
           3,
           "2018 | allegation | neglect | of | professionalism",
           99
          ],
          [
           4,
           "unprofessional | accused | allegedly | language | used",
           83
          ],
          [
           5,
           "camera | worn | body | activate | video",
           71
          ],
          [
           6,
           "neighbor | called | police | the | that",
           66
          ],
          [
           7,
           "citation | driver | accident | issued | other",
           66
          ],
          [
           8,
           "neglect | duty | accuses | generated | public",
           59
          ],
          [
           9,
           "unprofessional | stated | when | that | was",
           59
          ],
          [
           10,
           "arrested | arresting | warrant | arrest | falsely",
           58
          ],
          [
           11,
           "summons | issued | should | not | neighbor",
           56
          ],
          [
           12,
           "not | did | completed | use | force",
           53
          ],
          [
           13,
           "failed | report | timely | complete | instructed",
           52
          ],
          [
           14,
           "waited | hours | long | arrive | wait",
           47
          ],
          [
           15,
           "pib | and | he | the | she",
           44
          ],
          [
           16,
           "appear | court | failed | hearing | attend",
           40
          ],
          [
           17,
           "did | not | accused | sufficiently | refused",
           38
          ],
          [
           18,
           "unprofessional | being | unprofessionally | accused | of",
           35
          ],
          [
           19,
           "rude | unprofessional | her | interaction | stated",
           35
          ],
          [
           20,
           "write | failed | report | document | incident",
           34
          ],
          [
           21,
           "ex | boyfriend | relationship | her | she",
           32
          ],
          [
           22,
           "accused | involved | influence | driving | employees",
           31
          ],
          [
           23,
           "unprofessional | being | accused | recruit | was",
           31
          ],
          [
           24,
           "pursuit | unauthorized | engaged | vehicle | initiated",
           31
          ],
          [
           25,
           "domestic | cancelled | violence | investigation | document",
           31
          ],
          [
           26,
           "force | handcuffed | unauthorized | handcuffing | excessive",
           29
          ],
          [
           27,
           "money | wallet | stole | purse | from",
           29
          ],
          [
           28,
           "rude | officers | attitude | felt | service",
           29
          ],
          [
           29,
           "failing | take | document | action | accused",
           28
          ],
          [
           30,
           "employee | supervisor | supervisors | another | environment",
           27
          ],
          [
           31,
           "generated | public | alleges | complaint | unprofessional",
           27
          ],
          [
           32,
           "subpoena | appear | court | acknowledge | pursuant",
           26
          ],
          [
           33,
           "towed | tow | vehicle | towing | company",
           26
          ],
          [
           34,
           "parade | gras | mardi | barricades | during",
           25
          ],
          [
           35,
           "battery | committed | file | simple | arrested",
           25
          ],
          [
           36,
           "accused | accuses | complaint | prior | of",
           24
          ],
          [
           37,
           "search | searched | warrant | residence | strip",
           24
          ],
          [
           38,
           "test | positive | tested | substance | screening",
           23
          ],
          [
           39,
           "prisoner | weapon | escaped | secure | vehicle",
           23
          ],
          [
           40,
           "pursuit | vehicle | travelled | involved | partner",
           23
          ],
          [
           41,
           "rude | being | accused | unprofessional | biased",
           22
          ],
          [
           42,
           "gun | property | weapon | confiscated | evidence",
           21
          ],
          [
           43,
           "pursuit | deactivated | unauthorized | were | participated",
           21
          ],
          [
           44,
           "him | van | chest | officers | expletive",
           21
          ],
          [
           45,
           "raped | rape | sexually | trooper | assaulting",
           21
          ],
          [
           46,
           "language | used | females | profanity | profane",
           20
          ],
          [
           47,
           "against | action | no | did | took",
           20
          ],
          [
           48,
           "windows | driving | said | he | vehicle",
           20
          ],
          [
           49,
           "marijuana | smelled | drugs | drug | cigarette",
           20
          ],
          [
           50,
           "subordinates | supervisor | failed | supervise | complete",
           20
          ],
          [
           51,
           "black | truck | he | discrimination | white",
           19
          ],
          [
           52,
           "alleges | failed | follow | instructions | action",
           19
          ],
          [
           53,
           "accident | copy | report | insurance | involved",
           18
          ],
          [
           54,
           "believes | accident | coerce | vehicular | supervisor",
           17
          ],
          [
           55,
           "cew | deployed | taser | mode | stun",
           16
          ],
          [
           56,
           "stop | stopped | traffic | her | she",
           16
          ],
          [
           57,
           "scheduled | failed | submit | accused | duty",
           15
          ],
          [
           58,
           "stolen | detective | video | robbery | could",
           15
          ],
          [
           59,
           "harassing | harassed | sexually | her | meds",
           15
          ],
          [
           60,
           "without | assignment | assigned | left | building",
           14
          ],
          [
           61,
           "neglected | narcotic | observing | itis | illegal",
           14
          ],
          [
           62,
           "worked | sheets | trip | devote | er",
           14
          ],
          [
           63,
           "following | instructions | respon | category | accused",
           13
          ],
          [
           64,
           "orleans | new | parish | she | department",
           13
          ],
          [
           65,
           "brother | sister | missing | death | she",
           13
          ],
          [
           66,
           "sleeping | duty | observed | on | 0517",
           13
          ],
          [
           67,
           "subject | she | male | police | woman",
           13
          ],
          [
           68,
           "social | media | posted | comments | facebook",
           12
          ],
          [
           69,
           "did | reflect | not | accurately | units",
           12
          ],
          [
           70,
           "harassing | him | sidewalk | performing | stopping",
           12
          ],
          [
           71,
           "pursuit | unauthorized | failing | 0142 | weren",
           12
          ],
          [
           72,
           "previously | conduet | professionally | store | entering",
           10
          ]
         ],
         "hovertemplate": "<b>Topic %{customdata[0]}</b><br>Words: %{customdata[1]}<br>Size: %{customdata[2]}",
         "legendgroup": "",
         "marker": {
          "color": "#B0BEC5",
          "line": {
           "color": "DarkSlateGrey",
           "width": 2
          },
          "size": [
           135,
           111,
           109,
           99,
           83,
           71,
           66,
           66,
           59,
           59,
           58,
           56,
           53,
           52,
           47,
           44,
           40,
           38,
           35,
           35,
           34,
           32,
           31,
           31,
           31,
           31,
           29,
           29,
           29,
           28,
           27,
           27,
           26,
           26,
           25,
           25,
           24,
           24,
           23,
           23,
           23,
           22,
           21,
           21,
           21,
           21,
           20,
           20,
           20,
           20,
           20,
           19,
           19,
           18,
           17,
           16,
           16,
           15,
           15,
           15,
           14,
           14,
           14,
           13,
           13,
           13,
           13,
           13,
           12,
           12,
           12,
           12,
           10
          ],
          "sizemode": "area",
          "sizeref": 0.084375,
          "symbol": "circle"
         },
         "mode": "markers",
         "name": "",
         "orientation": "v",
         "showlegend": false,
         "type": "scatter",
         "x": [
          7.459254264831543,
          -3.6830761432647705,
          17.570180892944336,
          2.0515007972717285,
          7.07857608795166,
          -3.6831493377685547,
          17.68571662902832,
          7.596383571624756,
          -6.229498386383057,
          6.854727745056152,
          17.52199935913086,
          17.687917709350586,
          0.9840187430381775,
          0.43989795446395874,
          18.645959854125977,
          17.365760803222656,
          -8.287633895874023,
          1.353076696395874,
          6.85637903213501,
          6.905307769775391,
          2.1580915451049805,
          17.442380905151367,
          7.798284530639648,
          5.602768898010254,
          0.5975247025489807,
          5.586007595062256,
          1.531783103942871,
          17.677413940429688,
          6.759410858154297,
          0.44277727603912354,
          18.614805221557617,
          -6.229492664337158,
          -8.287637710571289,
          18.024009704589844,
          19.698101043701172,
          17.717538833618164,
          18.525503158569336,
          17.612707138061523,
          8.001858711242676,
          1.3896782398223877,
          0.4599746763706207,
          7.890720844268799,
          18.112638473510742,
          0.6087064146995544,
          19.782644271850586,
          10.875186920166016,
          19.919130325317383,
          5.375657081604004,
          7.557952404022217,
          7.785440921783447,
          0.28577545285224915,
          19.636533737182617,
          5.297313690185547,
          2.1872928142547607,
          7.709531784057617,
          1.461594581604004,
          7.318951606750488,
          0.14460083842277527,
          17.867650985717773,
          10.961645126342773,
          18.85430908203125,
          5.630881309509277,
          0.03257053345441818,
          1.015647530555725,
          17.891237258911133,
          17.476186752319336,
          10.74960994720459,
          19.446462631225586,
          11.013632774353027,
          1.449440836906433,
          11.144469261169434,
          0.5060884952545166,
          18.993745803833008
         ],
         "xaxis": "x",
         "y": [
          -1.8742115497589111,
          -3.8632025718688965,
          4.8732733726501465,
          -9.441462516784668,
          15.782929420471191,
          -3.8631129264831543,
          3.641543388366699,
          -2.3850934505462646,
          17.1950626373291,
          15.559709548950195,
          3.553121328353882,
          3.6859240531921387,
          6.908437728881836,
          7.010825157165527,
          15.403149604797363,
          4.637084007263184,
          -10.220170974731445,
          6.9245405197143555,
          15.56232738494873,
          15.610799789428711,
          -9.333952903747559,
          4.638729572296143,
          -2.8104121685028076,
          7.080940246582031,
          -0.07978138327598572,
          7.098310470581055,
          -13.0386962890625,
          14.401936531066895,
          15.465230941772461,
          7.182425022125244,
          15.315799713134766,
          17.19505500793457,
          -10.220186233520508,
          14.258977890014648,
          15.992827415466309,
          4.063754558563232,
          15.22490119934082,
          14.421624183654785,
          -1.858907699584961,
          -12.897334098815918,
          -0.21727104485034943,
          -2.8655881881713867,
          14.770552635192871,
          -0.06936236470937729,
          15.974723815917969,
          0.5934324860572815,
          16.254512786865234,
          7.328633785247803,
          -1.9708117246627808,
          -1.7656055688858032,
          7.171921730041504,
          15.507437705993652,
          7.39318323135376,
          -9.30602741241455,
          -2.6841959953308105,
          -12.968241691589355,
          -1.978912591934204,
          6.896567344665527,
          14.534032821655273,
          0.6771582961082458,
          15.215068817138672,
          7.049347400665283,
          6.943645000457764,
          7.07377815246582,
          14.508637428283691,
          4.481056213378906,
          0.4665191173553467,
          15.68778133392334,
          0.7321164608001709,
          6.959197998046875,
          0.8633142113685608,
          -0.17137013375759125,
          15.136672973632812
         ],
         "yaxis": "y"
        }
       ],
       "layout": {
        "annotations": [
         {
          "showarrow": false,
          "text": "D1",
          "x": -9.530783367156982,
          "y": 2.389910650253296,
          "yshift": 10
         },
         {
          "showarrow": false,
          "text": "D2",
          "x": 6.688108253479005,
          "xshift": 10,
          "y": 19.774322032928467
         }
        ],
        "height": 650,
        "hoverlabel": {
         "bgcolor": "white",
         "font": {
          "family": "Rockwell",
          "size": 16
         }
        },
        "legend": {
         "itemsizing": "constant",
         "tracegroupgap": 0
        },
        "margin": {
         "t": 60
        },
        "shapes": [
         {
          "line": {
           "color": "#CFD8DC",
           "width": 2
          },
          "type": "line",
          "x0": 6.688108253479005,
          "x1": 6.688108253479005,
          "y0": -14.994500732421875,
          "y1": 19.774322032928467
         },
         {
          "line": {
           "color": "#9E9E9E",
           "width": 2
          },
          "type": "line",
          "x0": -9.530783367156982,
          "x1": 22.90699987411499,
          "y0": 2.389910650253296,
          "y1": 2.389910650253296
         }
        ],
        "sliders": [
         {
          "active": 0,
          "pad": {
           "t": 50
          },
          "steps": [
           {
            "args": [
             {
              "marker.color": [
               [
                "red",
                "#B0BEC5",
                "#B0BEC5",
                "#B0BEC5",
                "#B0BEC5",
                "#B0BEC5",
                "#B0BEC5",
                "#B0BEC5",
                "#B0BEC5",
                "#B0BEC5",
                "#B0BEC5",
                "#B0BEC5",
                "#B0BEC5",
                "#B0BEC5",
                "#B0BEC5",
                "#B0BEC5",
                "#B0BEC5",
                "#B0BEC5",
                "#B0BEC5",
                "#B0BEC5",
                "#B0BEC5",
                "#B0BEC5",
                "#B0BEC5",
                "#B0BEC5",
                "#B0BEC5",
                "#B0BEC5",
                "#B0BEC5",
                "#B0BEC5",
                "#B0BEC5",
                "#B0BEC5",
                "#B0BEC5",
                "#B0BEC5",
                "#B0BEC5",
                "#B0BEC5",
                "#B0BEC5",
                "#B0BEC5",
                "#B0BEC5",
                "#B0BEC5",
                "#B0BEC5",
                "#B0BEC5",
                "#B0BEC5",
                "#B0BEC5",
                "#B0BEC5",
                "#B0BEC5",
                "#B0BEC5",
                "#B0BEC5",
                "#B0BEC5",
                "#B0BEC5",
                "#B0BEC5",
                "#B0BEC5",
                "#B0BEC5",
                "#B0BEC5",
                "#B0BEC5",
                "#B0BEC5",
                "#B0BEC5",
                "#B0BEC5",
                "#B0BEC5",
                "#B0BEC5",
                "#B0BEC5",
                "#B0BEC5",
                "#B0BEC5",
                "#B0BEC5",
                "#B0BEC5",
                "#B0BEC5",
                "#B0BEC5",
                "#B0BEC5",
                "#B0BEC5",
                "#B0BEC5",
                "#B0BEC5",
                "#B0BEC5",
                "#B0BEC5",
                "#B0BEC5",
                "#B0BEC5"
               ]
              ]
             }
            ],
            "label": "Topic 0",
            "method": "update"
           },
           {
            "args": [
             {
              "marker.color": [
               [
                "#B0BEC5",
                "red",
                "#B0BEC5",
                "#B0BEC5",
                "#B0BEC5",
                "#B0BEC5",
                "#B0BEC5",
                "#B0BEC5",
                "#B0BEC5",
                "#B0BEC5",
                "#B0BEC5",
                "#B0BEC5",
                "#B0BEC5",
                "#B0BEC5",
                "#B0BEC5",
                "#B0BEC5",
                "#B0BEC5",
                "#B0BEC5",
                "#B0BEC5",
                "#B0BEC5",
                "#B0BEC5",
                "#B0BEC5",
                "#B0BEC5",
                "#B0BEC5",
                "#B0BEC5",
                "#B0BEC5",
                "#B0BEC5",
                "#B0BEC5",
                "#B0BEC5",
                "#B0BEC5",
                "#B0BEC5",
                "#B0BEC5",
                "#B0BEC5",
                "#B0BEC5",
                "#B0BEC5",
                "#B0BEC5",
                "#B0BEC5",
                "#B0BEC5",
                "#B0BEC5",
                "#B0BEC5",
                "#B0BEC5",
                "#B0BEC5",
                "#B0BEC5",
                "#B0BEC5",
                "#B0BEC5",
                "#B0BEC5",
                "#B0BEC5",
                "#B0BEC5",
                "#B0BEC5",
                "#B0BEC5",
                "#B0BEC5",
                "#B0BEC5",
                "#B0BEC5",
                "#B0BEC5",
                "#B0BEC5",
                "#B0BEC5",
                "#B0BEC5",
                "#B0BEC5",
                "#B0BEC5",
                "#B0BEC5",
                "#B0BEC5",
                "#B0BEC5",
                "#B0BEC5",
                "#B0BEC5",
                "#B0BEC5",
                "#B0BEC5",
                "#B0BEC5",
                "#B0BEC5",
                "#B0BEC5",
                "#B0BEC5",
                "#B0BEC5",
                "#B0BEC5",
                "#B0BEC5"
               ]
              ]
             }
            ],
            "label": "Topic 1",
            "method": "update"
           },
           {
            "args": [
             {
              "marker.color": [
               [
                "#B0BEC5",
                "#B0BEC5",
                "red",
                "#B0BEC5",
                "#B0BEC5",
                "#B0BEC5",
                "#B0BEC5",
                "#B0BEC5",
                "#B0BEC5",
                "#B0BEC5",
                "#B0BEC5",
                "#B0BEC5",
                "#B0BEC5",
                "#B0BEC5",
                "#B0BEC5",
                "#B0BEC5",
                "#B0BEC5",
                "#B0BEC5",
                "#B0BEC5",
                "#B0BEC5",
                "#B0BEC5",
                "#B0BEC5",
                "#B0BEC5",
                "#B0BEC5",
                "#B0BEC5",
                "#B0BEC5",
                "#B0BEC5",
                "#B0BEC5",
                "#B0BEC5",
                "#B0BEC5",
                "#B0BEC5",
                "#B0BEC5",
                "#B0BEC5",
                "#B0BEC5",
                "#B0BEC5",
                "#B0BEC5",
                "#B0BEC5",
                "#B0BEC5",
                "#B0BEC5",
                "#B0BEC5",
                "#B0BEC5",
                "#B0BEC5",
                "#B0BEC5",
                "#B0BEC5",
                "#B0BEC5",
                "#B0BEC5",
                "#B0BEC5",
                "#B0BEC5",
                "#B0BEC5",
                "#B0BEC5",
                "#B0BEC5",
                "#B0BEC5",
                "#B0BEC5",
                "#B0BEC5",
                "#B0BEC5",
                "#B0BEC5",
                "#B0BEC5",
                "#B0BEC5",
                "#B0BEC5",
                "#B0BEC5",
                "#B0BEC5",
                "#B0BEC5",
                "#B0BEC5",
                "#B0BEC5",
                "#B0BEC5",
                "#B0BEC5",
                "#B0BEC5",
                "#B0BEC5",
                "#B0BEC5",
                "#B0BEC5",
                "#B0BEC5",
                "#B0BEC5",
                "#B0BEC5"
               ]
              ]
             }
            ],
            "label": "Topic 2",
            "method": "update"
           },
           {
            "args": [
             {
              "marker.color": [
               [
                "#B0BEC5",
                "#B0BEC5",
                "#B0BEC5",
                "red",
                "#B0BEC5",
                "#B0BEC5",
                "#B0BEC5",
                "#B0BEC5",
                "#B0BEC5",
                "#B0BEC5",
                "#B0BEC5",
                "#B0BEC5",
                "#B0BEC5",
                "#B0BEC5",
                "#B0BEC5",
                "#B0BEC5",
                "#B0BEC5",
                "#B0BEC5",
                "#B0BEC5",
                "#B0BEC5",
                "#B0BEC5",
                "#B0BEC5",
                "#B0BEC5",
                "#B0BEC5",
                "#B0BEC5",
                "#B0BEC5",
                "#B0BEC5",
                "#B0BEC5",
                "#B0BEC5",
                "#B0BEC5",
                "#B0BEC5",
                "#B0BEC5",
                "#B0BEC5",
                "#B0BEC5",
                "#B0BEC5",
                "#B0BEC5",
                "#B0BEC5",
                "#B0BEC5",
                "#B0BEC5",
                "#B0BEC5",
                "#B0BEC5",
                "#B0BEC5",
                "#B0BEC5",
                "#B0BEC5",
                "#B0BEC5",
                "#B0BEC5",
                "#B0BEC5",
                "#B0BEC5",
                "#B0BEC5",
                "#B0BEC5",
                "#B0BEC5",
                "#B0BEC5",
                "#B0BEC5",
                "#B0BEC5",
                "#B0BEC5",
                "#B0BEC5",
                "#B0BEC5",
                "#B0BEC5",
                "#B0BEC5",
                "#B0BEC5",
                "#B0BEC5",
                "#B0BEC5",
                "#B0BEC5",
                "#B0BEC5",
                "#B0BEC5",
                "#B0BEC5",
                "#B0BEC5",
                "#B0BEC5",
                "#B0BEC5",
                "#B0BEC5",
                "#B0BEC5",
                "#B0BEC5",
                "#B0BEC5"
               ]
              ]
             }
            ],
            "label": "Topic 3",
            "method": "update"
           },
           {
            "args": [
             {
              "marker.color": [
               [
                "#B0BEC5",
                "#B0BEC5",
                "#B0BEC5",
                "#B0BEC5",
                "red",
                "#B0BEC5",
                "#B0BEC5",
                "#B0BEC5",
                "#B0BEC5",
                "#B0BEC5",
                "#B0BEC5",
                "#B0BEC5",
                "#B0BEC5",
                "#B0BEC5",
                "#B0BEC5",
                "#B0BEC5",
                "#B0BEC5",
                "#B0BEC5",
                "#B0BEC5",
                "#B0BEC5",
                "#B0BEC5",
                "#B0BEC5",
                "#B0BEC5",
                "#B0BEC5",
                "#B0BEC5",
                "#B0BEC5",
                "#B0BEC5",
                "#B0BEC5",
                "#B0BEC5",
                "#B0BEC5",
                "#B0BEC5",
                "#B0BEC5",
                "#B0BEC5",
                "#B0BEC5",
                "#B0BEC5",
                "#B0BEC5",
                "#B0BEC5",
                "#B0BEC5",
                "#B0BEC5",
                "#B0BEC5",
                "#B0BEC5",
                "#B0BEC5",
                "#B0BEC5",
                "#B0BEC5",
                "#B0BEC5",
                "#B0BEC5",
                "#B0BEC5",
                "#B0BEC5",
                "#B0BEC5",
                "#B0BEC5",
                "#B0BEC5",
                "#B0BEC5",
                "#B0BEC5",
                "#B0BEC5",
                "#B0BEC5",
                "#B0BEC5",
                "#B0BEC5",
                "#B0BEC5",
                "#B0BEC5",
                "#B0BEC5",
                "#B0BEC5",
                "#B0BEC5",
                "#B0BEC5",
                "#B0BEC5",
                "#B0BEC5",
                "#B0BEC5",
                "#B0BEC5",
                "#B0BEC5",
                "#B0BEC5",
                "#B0BEC5",
                "#B0BEC5",
                "#B0BEC5",
                "#B0BEC5"
               ]
              ]
             }
            ],
            "label": "Topic 4",
            "method": "update"
           },
           {
            "args": [
             {
              "marker.color": [
               [
                "#B0BEC5",
                "#B0BEC5",
                "#B0BEC5",
                "#B0BEC5",
                "#B0BEC5",
                "red",
                "#B0BEC5",
                "#B0BEC5",
                "#B0BEC5",
                "#B0BEC5",
                "#B0BEC5",
                "#B0BEC5",
                "#B0BEC5",
                "#B0BEC5",
                "#B0BEC5",
                "#B0BEC5",
                "#B0BEC5",
                "#B0BEC5",
                "#B0BEC5",
                "#B0BEC5",
                "#B0BEC5",
                "#B0BEC5",
                "#B0BEC5",
                "#B0BEC5",
                "#B0BEC5",
                "#B0BEC5",
                "#B0BEC5",
                "#B0BEC5",
                "#B0BEC5",
                "#B0BEC5",
                "#B0BEC5",
                "#B0BEC5",
                "#B0BEC5",
                "#B0BEC5",
                "#B0BEC5",
                "#B0BEC5",
                "#B0BEC5",
                "#B0BEC5",
                "#B0BEC5",
                "#B0BEC5",
                "#B0BEC5",
                "#B0BEC5",
                "#B0BEC5",
                "#B0BEC5",
                "#B0BEC5",
                "#B0BEC5",
                "#B0BEC5",
                "#B0BEC5",
                "#B0BEC5",
                "#B0BEC5",
                "#B0BEC5",
                "#B0BEC5",
                "#B0BEC5",
                "#B0BEC5",
                "#B0BEC5",
                "#B0BEC5",
                "#B0BEC5",
                "#B0BEC5",
                "#B0BEC5",
                "#B0BEC5",
                "#B0BEC5",
                "#B0BEC5",
                "#B0BEC5",
                "#B0BEC5",
                "#B0BEC5",
                "#B0BEC5",
                "#B0BEC5",
                "#B0BEC5",
                "#B0BEC5",
                "#B0BEC5",
                "#B0BEC5",
                "#B0BEC5",
                "#B0BEC5"
               ]
              ]
             }
            ],
            "label": "Topic 5",
            "method": "update"
           },
           {
            "args": [
             {
              "marker.color": [
               [
                "#B0BEC5",
                "#B0BEC5",
                "#B0BEC5",
                "#B0BEC5",
                "#B0BEC5",
                "#B0BEC5",
                "red",
                "#B0BEC5",
                "#B0BEC5",
                "#B0BEC5",
                "#B0BEC5",
                "#B0BEC5",
                "#B0BEC5",
                "#B0BEC5",
                "#B0BEC5",
                "#B0BEC5",
                "#B0BEC5",
                "#B0BEC5",
                "#B0BEC5",
                "#B0BEC5",
                "#B0BEC5",
                "#B0BEC5",
                "#B0BEC5",
                "#B0BEC5",
                "#B0BEC5",
                "#B0BEC5",
                "#B0BEC5",
                "#B0BEC5",
                "#B0BEC5",
                "#B0BEC5",
                "#B0BEC5",
                "#B0BEC5",
                "#B0BEC5",
                "#B0BEC5",
                "#B0BEC5",
                "#B0BEC5",
                "#B0BEC5",
                "#B0BEC5",
                "#B0BEC5",
                "#B0BEC5",
                "#B0BEC5",
                "#B0BEC5",
                "#B0BEC5",
                "#B0BEC5",
                "#B0BEC5",
                "#B0BEC5",
                "#B0BEC5",
                "#B0BEC5",
                "#B0BEC5",
                "#B0BEC5",
                "#B0BEC5",
                "#B0BEC5",
                "#B0BEC5",
                "#B0BEC5",
                "#B0BEC5",
                "#B0BEC5",
                "#B0BEC5",
                "#B0BEC5",
                "#B0BEC5",
                "#B0BEC5",
                "#B0BEC5",
                "#B0BEC5",
                "#B0BEC5",
                "#B0BEC5",
                "#B0BEC5",
                "#B0BEC5",
                "#B0BEC5",
                "#B0BEC5",
                "#B0BEC5",
                "#B0BEC5",
                "#B0BEC5",
                "#B0BEC5",
                "#B0BEC5"
               ]
              ]
             }
            ],
            "label": "Topic 6",
            "method": "update"
           },
           {
            "args": [
             {
              "marker.color": [
               [
                "#B0BEC5",
                "#B0BEC5",
                "#B0BEC5",
                "#B0BEC5",
                "#B0BEC5",
                "#B0BEC5",
                "#B0BEC5",
                "red",
                "#B0BEC5",
                "#B0BEC5",
                "#B0BEC5",
                "#B0BEC5",
                "#B0BEC5",
                "#B0BEC5",
                "#B0BEC5",
                "#B0BEC5",
                "#B0BEC5",
                "#B0BEC5",
                "#B0BEC5",
                "#B0BEC5",
                "#B0BEC5",
                "#B0BEC5",
                "#B0BEC5",
                "#B0BEC5",
                "#B0BEC5",
                "#B0BEC5",
                "#B0BEC5",
                "#B0BEC5",
                "#B0BEC5",
                "#B0BEC5",
                "#B0BEC5",
                "#B0BEC5",
                "#B0BEC5",
                "#B0BEC5",
                "#B0BEC5",
                "#B0BEC5",
                "#B0BEC5",
                "#B0BEC5",
                "#B0BEC5",
                "#B0BEC5",
                "#B0BEC5",
                "#B0BEC5",
                "#B0BEC5",
                "#B0BEC5",
                "#B0BEC5",
                "#B0BEC5",
                "#B0BEC5",
                "#B0BEC5",
                "#B0BEC5",
                "#B0BEC5",
                "#B0BEC5",
                "#B0BEC5",
                "#B0BEC5",
                "#B0BEC5",
                "#B0BEC5",
                "#B0BEC5",
                "#B0BEC5",
                "#B0BEC5",
                "#B0BEC5",
                "#B0BEC5",
                "#B0BEC5",
                "#B0BEC5",
                "#B0BEC5",
                "#B0BEC5",
                "#B0BEC5",
                "#B0BEC5",
                "#B0BEC5",
                "#B0BEC5",
                "#B0BEC5",
                "#B0BEC5",
                "#B0BEC5",
                "#B0BEC5",
                "#B0BEC5"
               ]
              ]
             }
            ],
            "label": "Topic 7",
            "method": "update"
           },
           {
            "args": [
             {
              "marker.color": [
               [
                "#B0BEC5",
                "#B0BEC5",
                "#B0BEC5",
                "#B0BEC5",
                "#B0BEC5",
                "#B0BEC5",
                "#B0BEC5",
                "#B0BEC5",
                "red",
                "#B0BEC5",
                "#B0BEC5",
                "#B0BEC5",
                "#B0BEC5",
                "#B0BEC5",
                "#B0BEC5",
                "#B0BEC5",
                "#B0BEC5",
                "#B0BEC5",
                "#B0BEC5",
                "#B0BEC5",
                "#B0BEC5",
                "#B0BEC5",
                "#B0BEC5",
                "#B0BEC5",
                "#B0BEC5",
                "#B0BEC5",
                "#B0BEC5",
                "#B0BEC5",
                "#B0BEC5",
                "#B0BEC5",
                "#B0BEC5",
                "#B0BEC5",
                "#B0BEC5",
                "#B0BEC5",
                "#B0BEC5",
                "#B0BEC5",
                "#B0BEC5",
                "#B0BEC5",
                "#B0BEC5",
                "#B0BEC5",
                "#B0BEC5",
                "#B0BEC5",
                "#B0BEC5",
                "#B0BEC5",
                "#B0BEC5",
                "#B0BEC5",
                "#B0BEC5",
                "#B0BEC5",
                "#B0BEC5",
                "#B0BEC5",
                "#B0BEC5",
                "#B0BEC5",
                "#B0BEC5",
                "#B0BEC5",
                "#B0BEC5",
                "#B0BEC5",
                "#B0BEC5",
                "#B0BEC5",
                "#B0BEC5",
                "#B0BEC5",
                "#B0BEC5",
                "#B0BEC5",
                "#B0BEC5",
                "#B0BEC5",
                "#B0BEC5",
                "#B0BEC5",
                "#B0BEC5",
                "#B0BEC5",
                "#B0BEC5",
                "#B0BEC5",
                "#B0BEC5",
                "#B0BEC5",
                "#B0BEC5"
               ]
              ]
             }
            ],
            "label": "Topic 8",
            "method": "update"
           },
           {
            "args": [
             {
              "marker.color": [
               [
                "#B0BEC5",
                "#B0BEC5",
                "#B0BEC5",
                "#B0BEC5",
                "#B0BEC5",
                "#B0BEC5",
                "#B0BEC5",
                "#B0BEC5",
                "#B0BEC5",
                "red",
                "#B0BEC5",
                "#B0BEC5",
                "#B0BEC5",
                "#B0BEC5",
                "#B0BEC5",
                "#B0BEC5",
                "#B0BEC5",
                "#B0BEC5",
                "#B0BEC5",
                "#B0BEC5",
                "#B0BEC5",
                "#B0BEC5",
                "#B0BEC5",
                "#B0BEC5",
                "#B0BEC5",
                "#B0BEC5",
                "#B0BEC5",
                "#B0BEC5",
                "#B0BEC5",
                "#B0BEC5",
                "#B0BEC5",
                "#B0BEC5",
                "#B0BEC5",
                "#B0BEC5",
                "#B0BEC5",
                "#B0BEC5",
                "#B0BEC5",
                "#B0BEC5",
                "#B0BEC5",
                "#B0BEC5",
                "#B0BEC5",
                "#B0BEC5",
                "#B0BEC5",
                "#B0BEC5",
                "#B0BEC5",
                "#B0BEC5",
                "#B0BEC5",
                "#B0BEC5",
                "#B0BEC5",
                "#B0BEC5",
                "#B0BEC5",
                "#B0BEC5",
                "#B0BEC5",
                "#B0BEC5",
                "#B0BEC5",
                "#B0BEC5",
                "#B0BEC5",
                "#B0BEC5",
                "#B0BEC5",
                "#B0BEC5",
                "#B0BEC5",
                "#B0BEC5",
                "#B0BEC5",
                "#B0BEC5",
                "#B0BEC5",
                "#B0BEC5",
                "#B0BEC5",
                "#B0BEC5",
                "#B0BEC5",
                "#B0BEC5",
                "#B0BEC5",
                "#B0BEC5",
                "#B0BEC5"
               ]
              ]
             }
            ],
            "label": "Topic 9",
            "method": "update"
           },
           {
            "args": [
             {
              "marker.color": [
               [
                "#B0BEC5",
                "#B0BEC5",
                "#B0BEC5",
                "#B0BEC5",
                "#B0BEC5",
                "#B0BEC5",
                "#B0BEC5",
                "#B0BEC5",
                "#B0BEC5",
                "#B0BEC5",
                "red",
                "#B0BEC5",
                "#B0BEC5",
                "#B0BEC5",
                "#B0BEC5",
                "#B0BEC5",
                "#B0BEC5",
                "#B0BEC5",
                "#B0BEC5",
                "#B0BEC5",
                "#B0BEC5",
                "#B0BEC5",
                "#B0BEC5",
                "#B0BEC5",
                "#B0BEC5",
                "#B0BEC5",
                "#B0BEC5",
                "#B0BEC5",
                "#B0BEC5",
                "#B0BEC5",
                "#B0BEC5",
                "#B0BEC5",
                "#B0BEC5",
                "#B0BEC5",
                "#B0BEC5",
                "#B0BEC5",
                "#B0BEC5",
                "#B0BEC5",
                "#B0BEC5",
                "#B0BEC5",
                "#B0BEC5",
                "#B0BEC5",
                "#B0BEC5",
                "#B0BEC5",
                "#B0BEC5",
                "#B0BEC5",
                "#B0BEC5",
                "#B0BEC5",
                "#B0BEC5",
                "#B0BEC5",
                "#B0BEC5",
                "#B0BEC5",
                "#B0BEC5",
                "#B0BEC5",
                "#B0BEC5",
                "#B0BEC5",
                "#B0BEC5",
                "#B0BEC5",
                "#B0BEC5",
                "#B0BEC5",
                "#B0BEC5",
                "#B0BEC5",
                "#B0BEC5",
                "#B0BEC5",
                "#B0BEC5",
                "#B0BEC5",
                "#B0BEC5",
                "#B0BEC5",
                "#B0BEC5",
                "#B0BEC5",
                "#B0BEC5",
                "#B0BEC5",
                "#B0BEC5"
               ]
              ]
             }
            ],
            "label": "Topic 10",
            "method": "update"
           },
           {
            "args": [
             {
              "marker.color": [
               [
                "#B0BEC5",
                "#B0BEC5",
                "#B0BEC5",
                "#B0BEC5",
                "#B0BEC5",
                "#B0BEC5",
                "#B0BEC5",
                "#B0BEC5",
                "#B0BEC5",
                "#B0BEC5",
                "#B0BEC5",
                "red",
                "#B0BEC5",
                "#B0BEC5",
                "#B0BEC5",
                "#B0BEC5",
                "#B0BEC5",
                "#B0BEC5",
                "#B0BEC5",
                "#B0BEC5",
                "#B0BEC5",
                "#B0BEC5",
                "#B0BEC5",
                "#B0BEC5",
                "#B0BEC5",
                "#B0BEC5",
                "#B0BEC5",
                "#B0BEC5",
                "#B0BEC5",
                "#B0BEC5",
                "#B0BEC5",
                "#B0BEC5",
                "#B0BEC5",
                "#B0BEC5",
                "#B0BEC5",
                "#B0BEC5",
                "#B0BEC5",
                "#B0BEC5",
                "#B0BEC5",
                "#B0BEC5",
                "#B0BEC5",
                "#B0BEC5",
                "#B0BEC5",
                "#B0BEC5",
                "#B0BEC5",
                "#B0BEC5",
                "#B0BEC5",
                "#B0BEC5",
                "#B0BEC5",
                "#B0BEC5",
                "#B0BEC5",
                "#B0BEC5",
                "#B0BEC5",
                "#B0BEC5",
                "#B0BEC5",
                "#B0BEC5",
                "#B0BEC5",
                "#B0BEC5",
                "#B0BEC5",
                "#B0BEC5",
                "#B0BEC5",
                "#B0BEC5",
                "#B0BEC5",
                "#B0BEC5",
                "#B0BEC5",
                "#B0BEC5",
                "#B0BEC5",
                "#B0BEC5",
                "#B0BEC5",
                "#B0BEC5",
                "#B0BEC5",
                "#B0BEC5",
                "#B0BEC5"
               ]
              ]
             }
            ],
            "label": "Topic 11",
            "method": "update"
           },
           {
            "args": [
             {
              "marker.color": [
               [
                "#B0BEC5",
                "#B0BEC5",
                "#B0BEC5",
                "#B0BEC5",
                "#B0BEC5",
                "#B0BEC5",
                "#B0BEC5",
                "#B0BEC5",
                "#B0BEC5",
                "#B0BEC5",
                "#B0BEC5",
                "#B0BEC5",
                "red",
                "#B0BEC5",
                "#B0BEC5",
                "#B0BEC5",
                "#B0BEC5",
                "#B0BEC5",
                "#B0BEC5",
                "#B0BEC5",
                "#B0BEC5",
                "#B0BEC5",
                "#B0BEC5",
                "#B0BEC5",
                "#B0BEC5",
                "#B0BEC5",
                "#B0BEC5",
                "#B0BEC5",
                "#B0BEC5",
                "#B0BEC5",
                "#B0BEC5",
                "#B0BEC5",
                "#B0BEC5",
                "#B0BEC5",
                "#B0BEC5",
                "#B0BEC5",
                "#B0BEC5",
                "#B0BEC5",
                "#B0BEC5",
                "#B0BEC5",
                "#B0BEC5",
                "#B0BEC5",
                "#B0BEC5",
                "#B0BEC5",
                "#B0BEC5",
                "#B0BEC5",
                "#B0BEC5",
                "#B0BEC5",
                "#B0BEC5",
                "#B0BEC5",
                "#B0BEC5",
                "#B0BEC5",
                "#B0BEC5",
                "#B0BEC5",
                "#B0BEC5",
                "#B0BEC5",
                "#B0BEC5",
                "#B0BEC5",
                "#B0BEC5",
                "#B0BEC5",
                "#B0BEC5",
                "#B0BEC5",
                "#B0BEC5",
                "#B0BEC5",
                "#B0BEC5",
                "#B0BEC5",
                "#B0BEC5",
                "#B0BEC5",
                "#B0BEC5",
                "#B0BEC5",
                "#B0BEC5",
                "#B0BEC5",
                "#B0BEC5"
               ]
              ]
             }
            ],
            "label": "Topic 12",
            "method": "update"
           },
           {
            "args": [
             {
              "marker.color": [
               [
                "#B0BEC5",
                "#B0BEC5",
                "#B0BEC5",
                "#B0BEC5",
                "#B0BEC5",
                "#B0BEC5",
                "#B0BEC5",
                "#B0BEC5",
                "#B0BEC5",
                "#B0BEC5",
                "#B0BEC5",
                "#B0BEC5",
                "#B0BEC5",
                "red",
                "#B0BEC5",
                "#B0BEC5",
                "#B0BEC5",
                "#B0BEC5",
                "#B0BEC5",
                "#B0BEC5",
                "#B0BEC5",
                "#B0BEC5",
                "#B0BEC5",
                "#B0BEC5",
                "#B0BEC5",
                "#B0BEC5",
                "#B0BEC5",
                "#B0BEC5",
                "#B0BEC5",
                "#B0BEC5",
                "#B0BEC5",
                "#B0BEC5",
                "#B0BEC5",
                "#B0BEC5",
                "#B0BEC5",
                "#B0BEC5",
                "#B0BEC5",
                "#B0BEC5",
                "#B0BEC5",
                "#B0BEC5",
                "#B0BEC5",
                "#B0BEC5",
                "#B0BEC5",
                "#B0BEC5",
                "#B0BEC5",
                "#B0BEC5",
                "#B0BEC5",
                "#B0BEC5",
                "#B0BEC5",
                "#B0BEC5",
                "#B0BEC5",
                "#B0BEC5",
                "#B0BEC5",
                "#B0BEC5",
                "#B0BEC5",
                "#B0BEC5",
                "#B0BEC5",
                "#B0BEC5",
                "#B0BEC5",
                "#B0BEC5",
                "#B0BEC5",
                "#B0BEC5",
                "#B0BEC5",
                "#B0BEC5",
                "#B0BEC5",
                "#B0BEC5",
                "#B0BEC5",
                "#B0BEC5",
                "#B0BEC5",
                "#B0BEC5",
                "#B0BEC5",
                "#B0BEC5",
                "#B0BEC5"
               ]
              ]
             }
            ],
            "label": "Topic 13",
            "method": "update"
           },
           {
            "args": [
             {
              "marker.color": [
               [
                "#B0BEC5",
                "#B0BEC5",
                "#B0BEC5",
                "#B0BEC5",
                "#B0BEC5",
                "#B0BEC5",
                "#B0BEC5",
                "#B0BEC5",
                "#B0BEC5",
                "#B0BEC5",
                "#B0BEC5",
                "#B0BEC5",
                "#B0BEC5",
                "#B0BEC5",
                "red",
                "#B0BEC5",
                "#B0BEC5",
                "#B0BEC5",
                "#B0BEC5",
                "#B0BEC5",
                "#B0BEC5",
                "#B0BEC5",
                "#B0BEC5",
                "#B0BEC5",
                "#B0BEC5",
                "#B0BEC5",
                "#B0BEC5",
                "#B0BEC5",
                "#B0BEC5",
                "#B0BEC5",
                "#B0BEC5",
                "#B0BEC5",
                "#B0BEC5",
                "#B0BEC5",
                "#B0BEC5",
                "#B0BEC5",
                "#B0BEC5",
                "#B0BEC5",
                "#B0BEC5",
                "#B0BEC5",
                "#B0BEC5",
                "#B0BEC5",
                "#B0BEC5",
                "#B0BEC5",
                "#B0BEC5",
                "#B0BEC5",
                "#B0BEC5",
                "#B0BEC5",
                "#B0BEC5",
                "#B0BEC5",
                "#B0BEC5",
                "#B0BEC5",
                "#B0BEC5",
                "#B0BEC5",
                "#B0BEC5",
                "#B0BEC5",
                "#B0BEC5",
                "#B0BEC5",
                "#B0BEC5",
                "#B0BEC5",
                "#B0BEC5",
                "#B0BEC5",
                "#B0BEC5",
                "#B0BEC5",
                "#B0BEC5",
                "#B0BEC5",
                "#B0BEC5",
                "#B0BEC5",
                "#B0BEC5",
                "#B0BEC5",
                "#B0BEC5",
                "#B0BEC5",
                "#B0BEC5"
               ]
              ]
             }
            ],
            "label": "Topic 14",
            "method": "update"
           },
           {
            "args": [
             {
              "marker.color": [
               [
                "#B0BEC5",
                "#B0BEC5",
                "#B0BEC5",
                "#B0BEC5",
                "#B0BEC5",
                "#B0BEC5",
                "#B0BEC5",
                "#B0BEC5",
                "#B0BEC5",
                "#B0BEC5",
                "#B0BEC5",
                "#B0BEC5",
                "#B0BEC5",
                "#B0BEC5",
                "#B0BEC5",
                "red",
                "#B0BEC5",
                "#B0BEC5",
                "#B0BEC5",
                "#B0BEC5",
                "#B0BEC5",
                "#B0BEC5",
                "#B0BEC5",
                "#B0BEC5",
                "#B0BEC5",
                "#B0BEC5",
                "#B0BEC5",
                "#B0BEC5",
                "#B0BEC5",
                "#B0BEC5",
                "#B0BEC5",
                "#B0BEC5",
                "#B0BEC5",
                "#B0BEC5",
                "#B0BEC5",
                "#B0BEC5",
                "#B0BEC5",
                "#B0BEC5",
                "#B0BEC5",
                "#B0BEC5",
                "#B0BEC5",
                "#B0BEC5",
                "#B0BEC5",
                "#B0BEC5",
                "#B0BEC5",
                "#B0BEC5",
                "#B0BEC5",
                "#B0BEC5",
                "#B0BEC5",
                "#B0BEC5",
                "#B0BEC5",
                "#B0BEC5",
                "#B0BEC5",
                "#B0BEC5",
                "#B0BEC5",
                "#B0BEC5",
                "#B0BEC5",
                "#B0BEC5",
                "#B0BEC5",
                "#B0BEC5",
                "#B0BEC5",
                "#B0BEC5",
                "#B0BEC5",
                "#B0BEC5",
                "#B0BEC5",
                "#B0BEC5",
                "#B0BEC5",
                "#B0BEC5",
                "#B0BEC5",
                "#B0BEC5",
                "#B0BEC5",
                "#B0BEC5",
                "#B0BEC5"
               ]
              ]
             }
            ],
            "label": "Topic 15",
            "method": "update"
           },
           {
            "args": [
             {
              "marker.color": [
               [
                "#B0BEC5",
                "#B0BEC5",
                "#B0BEC5",
                "#B0BEC5",
                "#B0BEC5",
                "#B0BEC5",
                "#B0BEC5",
                "#B0BEC5",
                "#B0BEC5",
                "#B0BEC5",
                "#B0BEC5",
                "#B0BEC5",
                "#B0BEC5",
                "#B0BEC5",
                "#B0BEC5",
                "#B0BEC5",
                "red",
                "#B0BEC5",
                "#B0BEC5",
                "#B0BEC5",
                "#B0BEC5",
                "#B0BEC5",
                "#B0BEC5",
                "#B0BEC5",
                "#B0BEC5",
                "#B0BEC5",
                "#B0BEC5",
                "#B0BEC5",
                "#B0BEC5",
                "#B0BEC5",
                "#B0BEC5",
                "#B0BEC5",
                "#B0BEC5",
                "#B0BEC5",
                "#B0BEC5",
                "#B0BEC5",
                "#B0BEC5",
                "#B0BEC5",
                "#B0BEC5",
                "#B0BEC5",
                "#B0BEC5",
                "#B0BEC5",
                "#B0BEC5",
                "#B0BEC5",
                "#B0BEC5",
                "#B0BEC5",
                "#B0BEC5",
                "#B0BEC5",
                "#B0BEC5",
                "#B0BEC5",
                "#B0BEC5",
                "#B0BEC5",
                "#B0BEC5",
                "#B0BEC5",
                "#B0BEC5",
                "#B0BEC5",
                "#B0BEC5",
                "#B0BEC5",
                "#B0BEC5",
                "#B0BEC5",
                "#B0BEC5",
                "#B0BEC5",
                "#B0BEC5",
                "#B0BEC5",
                "#B0BEC5",
                "#B0BEC5",
                "#B0BEC5",
                "#B0BEC5",
                "#B0BEC5",
                "#B0BEC5",
                "#B0BEC5",
                "#B0BEC5",
                "#B0BEC5"
               ]
              ]
             }
            ],
            "label": "Topic 16",
            "method": "update"
           },
           {
            "args": [
             {
              "marker.color": [
               [
                "#B0BEC5",
                "#B0BEC5",
                "#B0BEC5",
                "#B0BEC5",
                "#B0BEC5",
                "#B0BEC5",
                "#B0BEC5",
                "#B0BEC5",
                "#B0BEC5",
                "#B0BEC5",
                "#B0BEC5",
                "#B0BEC5",
                "#B0BEC5",
                "#B0BEC5",
                "#B0BEC5",
                "#B0BEC5",
                "#B0BEC5",
                "red",
                "#B0BEC5",
                "#B0BEC5",
                "#B0BEC5",
                "#B0BEC5",
                "#B0BEC5",
                "#B0BEC5",
                "#B0BEC5",
                "#B0BEC5",
                "#B0BEC5",
                "#B0BEC5",
                "#B0BEC5",
                "#B0BEC5",
                "#B0BEC5",
                "#B0BEC5",
                "#B0BEC5",
                "#B0BEC5",
                "#B0BEC5",
                "#B0BEC5",
                "#B0BEC5",
                "#B0BEC5",
                "#B0BEC5",
                "#B0BEC5",
                "#B0BEC5",
                "#B0BEC5",
                "#B0BEC5",
                "#B0BEC5",
                "#B0BEC5",
                "#B0BEC5",
                "#B0BEC5",
                "#B0BEC5",
                "#B0BEC5",
                "#B0BEC5",
                "#B0BEC5",
                "#B0BEC5",
                "#B0BEC5",
                "#B0BEC5",
                "#B0BEC5",
                "#B0BEC5",
                "#B0BEC5",
                "#B0BEC5",
                "#B0BEC5",
                "#B0BEC5",
                "#B0BEC5",
                "#B0BEC5",
                "#B0BEC5",
                "#B0BEC5",
                "#B0BEC5",
                "#B0BEC5",
                "#B0BEC5",
                "#B0BEC5",
                "#B0BEC5",
                "#B0BEC5",
                "#B0BEC5",
                "#B0BEC5",
                "#B0BEC5"
               ]
              ]
             }
            ],
            "label": "Topic 17",
            "method": "update"
           },
           {
            "args": [
             {
              "marker.color": [
               [
                "#B0BEC5",
                "#B0BEC5",
                "#B0BEC5",
                "#B0BEC5",
                "#B0BEC5",
                "#B0BEC5",
                "#B0BEC5",
                "#B0BEC5",
                "#B0BEC5",
                "#B0BEC5",
                "#B0BEC5",
                "#B0BEC5",
                "#B0BEC5",
                "#B0BEC5",
                "#B0BEC5",
                "#B0BEC5",
                "#B0BEC5",
                "#B0BEC5",
                "red",
                "#B0BEC5",
                "#B0BEC5",
                "#B0BEC5",
                "#B0BEC5",
                "#B0BEC5",
                "#B0BEC5",
                "#B0BEC5",
                "#B0BEC5",
                "#B0BEC5",
                "#B0BEC5",
                "#B0BEC5",
                "#B0BEC5",
                "#B0BEC5",
                "#B0BEC5",
                "#B0BEC5",
                "#B0BEC5",
                "#B0BEC5",
                "#B0BEC5",
                "#B0BEC5",
                "#B0BEC5",
                "#B0BEC5",
                "#B0BEC5",
                "#B0BEC5",
                "#B0BEC5",
                "#B0BEC5",
                "#B0BEC5",
                "#B0BEC5",
                "#B0BEC5",
                "#B0BEC5",
                "#B0BEC5",
                "#B0BEC5",
                "#B0BEC5",
                "#B0BEC5",
                "#B0BEC5",
                "#B0BEC5",
                "#B0BEC5",
                "#B0BEC5",
                "#B0BEC5",
                "#B0BEC5",
                "#B0BEC5",
                "#B0BEC5",
                "#B0BEC5",
                "#B0BEC5",
                "#B0BEC5",
                "#B0BEC5",
                "#B0BEC5",
                "#B0BEC5",
                "#B0BEC5",
                "#B0BEC5",
                "#B0BEC5",
                "#B0BEC5",
                "#B0BEC5",
                "#B0BEC5",
                "#B0BEC5"
               ]
              ]
             }
            ],
            "label": "Topic 18",
            "method": "update"
           },
           {
            "args": [
             {
              "marker.color": [
               [
                "#B0BEC5",
                "#B0BEC5",
                "#B0BEC5",
                "#B0BEC5",
                "#B0BEC5",
                "#B0BEC5",
                "#B0BEC5",
                "#B0BEC5",
                "#B0BEC5",
                "#B0BEC5",
                "#B0BEC5",
                "#B0BEC5",
                "#B0BEC5",
                "#B0BEC5",
                "#B0BEC5",
                "#B0BEC5",
                "#B0BEC5",
                "#B0BEC5",
                "#B0BEC5",
                "red",
                "#B0BEC5",
                "#B0BEC5",
                "#B0BEC5",
                "#B0BEC5",
                "#B0BEC5",
                "#B0BEC5",
                "#B0BEC5",
                "#B0BEC5",
                "#B0BEC5",
                "#B0BEC5",
                "#B0BEC5",
                "#B0BEC5",
                "#B0BEC5",
                "#B0BEC5",
                "#B0BEC5",
                "#B0BEC5",
                "#B0BEC5",
                "#B0BEC5",
                "#B0BEC5",
                "#B0BEC5",
                "#B0BEC5",
                "#B0BEC5",
                "#B0BEC5",
                "#B0BEC5",
                "#B0BEC5",
                "#B0BEC5",
                "#B0BEC5",
                "#B0BEC5",
                "#B0BEC5",
                "#B0BEC5",
                "#B0BEC5",
                "#B0BEC5",
                "#B0BEC5",
                "#B0BEC5",
                "#B0BEC5",
                "#B0BEC5",
                "#B0BEC5",
                "#B0BEC5",
                "#B0BEC5",
                "#B0BEC5",
                "#B0BEC5",
                "#B0BEC5",
                "#B0BEC5",
                "#B0BEC5",
                "#B0BEC5",
                "#B0BEC5",
                "#B0BEC5",
                "#B0BEC5",
                "#B0BEC5",
                "#B0BEC5",
                "#B0BEC5",
                "#B0BEC5",
                "#B0BEC5"
               ]
              ]
             }
            ],
            "label": "Topic 19",
            "method": "update"
           },
           {
            "args": [
             {
              "marker.color": [
               [
                "#B0BEC5",
                "#B0BEC5",
                "#B0BEC5",
                "#B0BEC5",
                "#B0BEC5",
                "#B0BEC5",
                "#B0BEC5",
                "#B0BEC5",
                "#B0BEC5",
                "#B0BEC5",
                "#B0BEC5",
                "#B0BEC5",
                "#B0BEC5",
                "#B0BEC5",
                "#B0BEC5",
                "#B0BEC5",
                "#B0BEC5",
                "#B0BEC5",
                "#B0BEC5",
                "#B0BEC5",
                "red",
                "#B0BEC5",
                "#B0BEC5",
                "#B0BEC5",
                "#B0BEC5",
                "#B0BEC5",
                "#B0BEC5",
                "#B0BEC5",
                "#B0BEC5",
                "#B0BEC5",
                "#B0BEC5",
                "#B0BEC5",
                "#B0BEC5",
                "#B0BEC5",
                "#B0BEC5",
                "#B0BEC5",
                "#B0BEC5",
                "#B0BEC5",
                "#B0BEC5",
                "#B0BEC5",
                "#B0BEC5",
                "#B0BEC5",
                "#B0BEC5",
                "#B0BEC5",
                "#B0BEC5",
                "#B0BEC5",
                "#B0BEC5",
                "#B0BEC5",
                "#B0BEC5",
                "#B0BEC5",
                "#B0BEC5",
                "#B0BEC5",
                "#B0BEC5",
                "#B0BEC5",
                "#B0BEC5",
                "#B0BEC5",
                "#B0BEC5",
                "#B0BEC5",
                "#B0BEC5",
                "#B0BEC5",
                "#B0BEC5",
                "#B0BEC5",
                "#B0BEC5",
                "#B0BEC5",
                "#B0BEC5",
                "#B0BEC5",
                "#B0BEC5",
                "#B0BEC5",
                "#B0BEC5",
                "#B0BEC5",
                "#B0BEC5",
                "#B0BEC5",
                "#B0BEC5"
               ]
              ]
             }
            ],
            "label": "Topic 20",
            "method": "update"
           },
           {
            "args": [
             {
              "marker.color": [
               [
                "#B0BEC5",
                "#B0BEC5",
                "#B0BEC5",
                "#B0BEC5",
                "#B0BEC5",
                "#B0BEC5",
                "#B0BEC5",
                "#B0BEC5",
                "#B0BEC5",
                "#B0BEC5",
                "#B0BEC5",
                "#B0BEC5",
                "#B0BEC5",
                "#B0BEC5",
                "#B0BEC5",
                "#B0BEC5",
                "#B0BEC5",
                "#B0BEC5",
                "#B0BEC5",
                "#B0BEC5",
                "#B0BEC5",
                "red",
                "#B0BEC5",
                "#B0BEC5",
                "#B0BEC5",
                "#B0BEC5",
                "#B0BEC5",
                "#B0BEC5",
                "#B0BEC5",
                "#B0BEC5",
                "#B0BEC5",
                "#B0BEC5",
                "#B0BEC5",
                "#B0BEC5",
                "#B0BEC5",
                "#B0BEC5",
                "#B0BEC5",
                "#B0BEC5",
                "#B0BEC5",
                "#B0BEC5",
                "#B0BEC5",
                "#B0BEC5",
                "#B0BEC5",
                "#B0BEC5",
                "#B0BEC5",
                "#B0BEC5",
                "#B0BEC5",
                "#B0BEC5",
                "#B0BEC5",
                "#B0BEC5",
                "#B0BEC5",
                "#B0BEC5",
                "#B0BEC5",
                "#B0BEC5",
                "#B0BEC5",
                "#B0BEC5",
                "#B0BEC5",
                "#B0BEC5",
                "#B0BEC5",
                "#B0BEC5",
                "#B0BEC5",
                "#B0BEC5",
                "#B0BEC5",
                "#B0BEC5",
                "#B0BEC5",
                "#B0BEC5",
                "#B0BEC5",
                "#B0BEC5",
                "#B0BEC5",
                "#B0BEC5",
                "#B0BEC5",
                "#B0BEC5",
                "#B0BEC5"
               ]
              ]
             }
            ],
            "label": "Topic 21",
            "method": "update"
           },
           {
            "args": [
             {
              "marker.color": [
               [
                "#B0BEC5",
                "#B0BEC5",
                "#B0BEC5",
                "#B0BEC5",
                "#B0BEC5",
                "#B0BEC5",
                "#B0BEC5",
                "#B0BEC5",
                "#B0BEC5",
                "#B0BEC5",
                "#B0BEC5",
                "#B0BEC5",
                "#B0BEC5",
                "#B0BEC5",
                "#B0BEC5",
                "#B0BEC5",
                "#B0BEC5",
                "#B0BEC5",
                "#B0BEC5",
                "#B0BEC5",
                "#B0BEC5",
                "#B0BEC5",
                "red",
                "#B0BEC5",
                "#B0BEC5",
                "#B0BEC5",
                "#B0BEC5",
                "#B0BEC5",
                "#B0BEC5",
                "#B0BEC5",
                "#B0BEC5",
                "#B0BEC5",
                "#B0BEC5",
                "#B0BEC5",
                "#B0BEC5",
                "#B0BEC5",
                "#B0BEC5",
                "#B0BEC5",
                "#B0BEC5",
                "#B0BEC5",
                "#B0BEC5",
                "#B0BEC5",
                "#B0BEC5",
                "#B0BEC5",
                "#B0BEC5",
                "#B0BEC5",
                "#B0BEC5",
                "#B0BEC5",
                "#B0BEC5",
                "#B0BEC5",
                "#B0BEC5",
                "#B0BEC5",
                "#B0BEC5",
                "#B0BEC5",
                "#B0BEC5",
                "#B0BEC5",
                "#B0BEC5",
                "#B0BEC5",
                "#B0BEC5",
                "#B0BEC5",
                "#B0BEC5",
                "#B0BEC5",
                "#B0BEC5",
                "#B0BEC5",
                "#B0BEC5",
                "#B0BEC5",
                "#B0BEC5",
                "#B0BEC5",
                "#B0BEC5",
                "#B0BEC5",
                "#B0BEC5",
                "#B0BEC5",
                "#B0BEC5"
               ]
              ]
             }
            ],
            "label": "Topic 22",
            "method": "update"
           },
           {
            "args": [
             {
              "marker.color": [
               [
                "#B0BEC5",
                "#B0BEC5",
                "#B0BEC5",
                "#B0BEC5",
                "#B0BEC5",
                "#B0BEC5",
                "#B0BEC5",
                "#B0BEC5",
                "#B0BEC5",
                "#B0BEC5",
                "#B0BEC5",
                "#B0BEC5",
                "#B0BEC5",
                "#B0BEC5",
                "#B0BEC5",
                "#B0BEC5",
                "#B0BEC5",
                "#B0BEC5",
                "#B0BEC5",
                "#B0BEC5",
                "#B0BEC5",
                "#B0BEC5",
                "#B0BEC5",
                "red",
                "#B0BEC5",
                "#B0BEC5",
                "#B0BEC5",
                "#B0BEC5",
                "#B0BEC5",
                "#B0BEC5",
                "#B0BEC5",
                "#B0BEC5",
                "#B0BEC5",
                "#B0BEC5",
                "#B0BEC5",
                "#B0BEC5",
                "#B0BEC5",
                "#B0BEC5",
                "#B0BEC5",
                "#B0BEC5",
                "#B0BEC5",
                "#B0BEC5",
                "#B0BEC5",
                "#B0BEC5",
                "#B0BEC5",
                "#B0BEC5",
                "#B0BEC5",
                "#B0BEC5",
                "#B0BEC5",
                "#B0BEC5",
                "#B0BEC5",
                "#B0BEC5",
                "#B0BEC5",
                "#B0BEC5",
                "#B0BEC5",
                "#B0BEC5",
                "#B0BEC5",
                "#B0BEC5",
                "#B0BEC5",
                "#B0BEC5",
                "#B0BEC5",
                "#B0BEC5",
                "#B0BEC5",
                "#B0BEC5",
                "#B0BEC5",
                "#B0BEC5",
                "#B0BEC5",
                "#B0BEC5",
                "#B0BEC5",
                "#B0BEC5",
                "#B0BEC5",
                "#B0BEC5",
                "#B0BEC5"
               ]
              ]
             }
            ],
            "label": "Topic 23",
            "method": "update"
           },
           {
            "args": [
             {
              "marker.color": [
               [
                "#B0BEC5",
                "#B0BEC5",
                "#B0BEC5",
                "#B0BEC5",
                "#B0BEC5",
                "#B0BEC5",
                "#B0BEC5",
                "#B0BEC5",
                "#B0BEC5",
                "#B0BEC5",
                "#B0BEC5",
                "#B0BEC5",
                "#B0BEC5",
                "#B0BEC5",
                "#B0BEC5",
                "#B0BEC5",
                "#B0BEC5",
                "#B0BEC5",
                "#B0BEC5",
                "#B0BEC5",
                "#B0BEC5",
                "#B0BEC5",
                "#B0BEC5",
                "#B0BEC5",
                "red",
                "#B0BEC5",
                "#B0BEC5",
                "#B0BEC5",
                "#B0BEC5",
                "#B0BEC5",
                "#B0BEC5",
                "#B0BEC5",
                "#B0BEC5",
                "#B0BEC5",
                "#B0BEC5",
                "#B0BEC5",
                "#B0BEC5",
                "#B0BEC5",
                "#B0BEC5",
                "#B0BEC5",
                "#B0BEC5",
                "#B0BEC5",
                "#B0BEC5",
                "#B0BEC5",
                "#B0BEC5",
                "#B0BEC5",
                "#B0BEC5",
                "#B0BEC5",
                "#B0BEC5",
                "#B0BEC5",
                "#B0BEC5",
                "#B0BEC5",
                "#B0BEC5",
                "#B0BEC5",
                "#B0BEC5",
                "#B0BEC5",
                "#B0BEC5",
                "#B0BEC5",
                "#B0BEC5",
                "#B0BEC5",
                "#B0BEC5",
                "#B0BEC5",
                "#B0BEC5",
                "#B0BEC5",
                "#B0BEC5",
                "#B0BEC5",
                "#B0BEC5",
                "#B0BEC5",
                "#B0BEC5",
                "#B0BEC5",
                "#B0BEC5",
                "#B0BEC5",
                "#B0BEC5"
               ]
              ]
             }
            ],
            "label": "Topic 24",
            "method": "update"
           },
           {
            "args": [
             {
              "marker.color": [
               [
                "#B0BEC5",
                "#B0BEC5",
                "#B0BEC5",
                "#B0BEC5",
                "#B0BEC5",
                "#B0BEC5",
                "#B0BEC5",
                "#B0BEC5",
                "#B0BEC5",
                "#B0BEC5",
                "#B0BEC5",
                "#B0BEC5",
                "#B0BEC5",
                "#B0BEC5",
                "#B0BEC5",
                "#B0BEC5",
                "#B0BEC5",
                "#B0BEC5",
                "#B0BEC5",
                "#B0BEC5",
                "#B0BEC5",
                "#B0BEC5",
                "#B0BEC5",
                "#B0BEC5",
                "#B0BEC5",
                "red",
                "#B0BEC5",
                "#B0BEC5",
                "#B0BEC5",
                "#B0BEC5",
                "#B0BEC5",
                "#B0BEC5",
                "#B0BEC5",
                "#B0BEC5",
                "#B0BEC5",
                "#B0BEC5",
                "#B0BEC5",
                "#B0BEC5",
                "#B0BEC5",
                "#B0BEC5",
                "#B0BEC5",
                "#B0BEC5",
                "#B0BEC5",
                "#B0BEC5",
                "#B0BEC5",
                "#B0BEC5",
                "#B0BEC5",
                "#B0BEC5",
                "#B0BEC5",
                "#B0BEC5",
                "#B0BEC5",
                "#B0BEC5",
                "#B0BEC5",
                "#B0BEC5",
                "#B0BEC5",
                "#B0BEC5",
                "#B0BEC5",
                "#B0BEC5",
                "#B0BEC5",
                "#B0BEC5",
                "#B0BEC5",
                "#B0BEC5",
                "#B0BEC5",
                "#B0BEC5",
                "#B0BEC5",
                "#B0BEC5",
                "#B0BEC5",
                "#B0BEC5",
                "#B0BEC5",
                "#B0BEC5",
                "#B0BEC5",
                "#B0BEC5",
                "#B0BEC5"
               ]
              ]
             }
            ],
            "label": "Topic 25",
            "method": "update"
           },
           {
            "args": [
             {
              "marker.color": [
               [
                "#B0BEC5",
                "#B0BEC5",
                "#B0BEC5",
                "#B0BEC5",
                "#B0BEC5",
                "#B0BEC5",
                "#B0BEC5",
                "#B0BEC5",
                "#B0BEC5",
                "#B0BEC5",
                "#B0BEC5",
                "#B0BEC5",
                "#B0BEC5",
                "#B0BEC5",
                "#B0BEC5",
                "#B0BEC5",
                "#B0BEC5",
                "#B0BEC5",
                "#B0BEC5",
                "#B0BEC5",
                "#B0BEC5",
                "#B0BEC5",
                "#B0BEC5",
                "#B0BEC5",
                "#B0BEC5",
                "#B0BEC5",
                "red",
                "#B0BEC5",
                "#B0BEC5",
                "#B0BEC5",
                "#B0BEC5",
                "#B0BEC5",
                "#B0BEC5",
                "#B0BEC5",
                "#B0BEC5",
                "#B0BEC5",
                "#B0BEC5",
                "#B0BEC5",
                "#B0BEC5",
                "#B0BEC5",
                "#B0BEC5",
                "#B0BEC5",
                "#B0BEC5",
                "#B0BEC5",
                "#B0BEC5",
                "#B0BEC5",
                "#B0BEC5",
                "#B0BEC5",
                "#B0BEC5",
                "#B0BEC5",
                "#B0BEC5",
                "#B0BEC5",
                "#B0BEC5",
                "#B0BEC5",
                "#B0BEC5",
                "#B0BEC5",
                "#B0BEC5",
                "#B0BEC5",
                "#B0BEC5",
                "#B0BEC5",
                "#B0BEC5",
                "#B0BEC5",
                "#B0BEC5",
                "#B0BEC5",
                "#B0BEC5",
                "#B0BEC5",
                "#B0BEC5",
                "#B0BEC5",
                "#B0BEC5",
                "#B0BEC5",
                "#B0BEC5",
                "#B0BEC5",
                "#B0BEC5"
               ]
              ]
             }
            ],
            "label": "Topic 26",
            "method": "update"
           },
           {
            "args": [
             {
              "marker.color": [
               [
                "#B0BEC5",
                "#B0BEC5",
                "#B0BEC5",
                "#B0BEC5",
                "#B0BEC5",
                "#B0BEC5",
                "#B0BEC5",
                "#B0BEC5",
                "#B0BEC5",
                "#B0BEC5",
                "#B0BEC5",
                "#B0BEC5",
                "#B0BEC5",
                "#B0BEC5",
                "#B0BEC5",
                "#B0BEC5",
                "#B0BEC5",
                "#B0BEC5",
                "#B0BEC5",
                "#B0BEC5",
                "#B0BEC5",
                "#B0BEC5",
                "#B0BEC5",
                "#B0BEC5",
                "#B0BEC5",
                "#B0BEC5",
                "#B0BEC5",
                "red",
                "#B0BEC5",
                "#B0BEC5",
                "#B0BEC5",
                "#B0BEC5",
                "#B0BEC5",
                "#B0BEC5",
                "#B0BEC5",
                "#B0BEC5",
                "#B0BEC5",
                "#B0BEC5",
                "#B0BEC5",
                "#B0BEC5",
                "#B0BEC5",
                "#B0BEC5",
                "#B0BEC5",
                "#B0BEC5",
                "#B0BEC5",
                "#B0BEC5",
                "#B0BEC5",
                "#B0BEC5",
                "#B0BEC5",
                "#B0BEC5",
                "#B0BEC5",
                "#B0BEC5",
                "#B0BEC5",
                "#B0BEC5",
                "#B0BEC5",
                "#B0BEC5",
                "#B0BEC5",
                "#B0BEC5",
                "#B0BEC5",
                "#B0BEC5",
                "#B0BEC5",
                "#B0BEC5",
                "#B0BEC5",
                "#B0BEC5",
                "#B0BEC5",
                "#B0BEC5",
                "#B0BEC5",
                "#B0BEC5",
                "#B0BEC5",
                "#B0BEC5",
                "#B0BEC5",
                "#B0BEC5",
                "#B0BEC5"
               ]
              ]
             }
            ],
            "label": "Topic 27",
            "method": "update"
           },
           {
            "args": [
             {
              "marker.color": [
               [
                "#B0BEC5",
                "#B0BEC5",
                "#B0BEC5",
                "#B0BEC5",
                "#B0BEC5",
                "#B0BEC5",
                "#B0BEC5",
                "#B0BEC5",
                "#B0BEC5",
                "#B0BEC5",
                "#B0BEC5",
                "#B0BEC5",
                "#B0BEC5",
                "#B0BEC5",
                "#B0BEC5",
                "#B0BEC5",
                "#B0BEC5",
                "#B0BEC5",
                "#B0BEC5",
                "#B0BEC5",
                "#B0BEC5",
                "#B0BEC5",
                "#B0BEC5",
                "#B0BEC5",
                "#B0BEC5",
                "#B0BEC5",
                "#B0BEC5",
                "#B0BEC5",
                "red",
                "#B0BEC5",
                "#B0BEC5",
                "#B0BEC5",
                "#B0BEC5",
                "#B0BEC5",
                "#B0BEC5",
                "#B0BEC5",
                "#B0BEC5",
                "#B0BEC5",
                "#B0BEC5",
                "#B0BEC5",
                "#B0BEC5",
                "#B0BEC5",
                "#B0BEC5",
                "#B0BEC5",
                "#B0BEC5",
                "#B0BEC5",
                "#B0BEC5",
                "#B0BEC5",
                "#B0BEC5",
                "#B0BEC5",
                "#B0BEC5",
                "#B0BEC5",
                "#B0BEC5",
                "#B0BEC5",
                "#B0BEC5",
                "#B0BEC5",
                "#B0BEC5",
                "#B0BEC5",
                "#B0BEC5",
                "#B0BEC5",
                "#B0BEC5",
                "#B0BEC5",
                "#B0BEC5",
                "#B0BEC5",
                "#B0BEC5",
                "#B0BEC5",
                "#B0BEC5",
                "#B0BEC5",
                "#B0BEC5",
                "#B0BEC5",
                "#B0BEC5",
                "#B0BEC5",
                "#B0BEC5"
               ]
              ]
             }
            ],
            "label": "Topic 28",
            "method": "update"
           },
           {
            "args": [
             {
              "marker.color": [
               [
                "#B0BEC5",
                "#B0BEC5",
                "#B0BEC5",
                "#B0BEC5",
                "#B0BEC5",
                "#B0BEC5",
                "#B0BEC5",
                "#B0BEC5",
                "#B0BEC5",
                "#B0BEC5",
                "#B0BEC5",
                "#B0BEC5",
                "#B0BEC5",
                "#B0BEC5",
                "#B0BEC5",
                "#B0BEC5",
                "#B0BEC5",
                "#B0BEC5",
                "#B0BEC5",
                "#B0BEC5",
                "#B0BEC5",
                "#B0BEC5",
                "#B0BEC5",
                "#B0BEC5",
                "#B0BEC5",
                "#B0BEC5",
                "#B0BEC5",
                "#B0BEC5",
                "#B0BEC5",
                "red",
                "#B0BEC5",
                "#B0BEC5",
                "#B0BEC5",
                "#B0BEC5",
                "#B0BEC5",
                "#B0BEC5",
                "#B0BEC5",
                "#B0BEC5",
                "#B0BEC5",
                "#B0BEC5",
                "#B0BEC5",
                "#B0BEC5",
                "#B0BEC5",
                "#B0BEC5",
                "#B0BEC5",
                "#B0BEC5",
                "#B0BEC5",
                "#B0BEC5",
                "#B0BEC5",
                "#B0BEC5",
                "#B0BEC5",
                "#B0BEC5",
                "#B0BEC5",
                "#B0BEC5",
                "#B0BEC5",
                "#B0BEC5",
                "#B0BEC5",
                "#B0BEC5",
                "#B0BEC5",
                "#B0BEC5",
                "#B0BEC5",
                "#B0BEC5",
                "#B0BEC5",
                "#B0BEC5",
                "#B0BEC5",
                "#B0BEC5",
                "#B0BEC5",
                "#B0BEC5",
                "#B0BEC5",
                "#B0BEC5",
                "#B0BEC5",
                "#B0BEC5",
                "#B0BEC5"
               ]
              ]
             }
            ],
            "label": "Topic 29",
            "method": "update"
           },
           {
            "args": [
             {
              "marker.color": [
               [
                "#B0BEC5",
                "#B0BEC5",
                "#B0BEC5",
                "#B0BEC5",
                "#B0BEC5",
                "#B0BEC5",
                "#B0BEC5",
                "#B0BEC5",
                "#B0BEC5",
                "#B0BEC5",
                "#B0BEC5",
                "#B0BEC5",
                "#B0BEC5",
                "#B0BEC5",
                "#B0BEC5",
                "#B0BEC5",
                "#B0BEC5",
                "#B0BEC5",
                "#B0BEC5",
                "#B0BEC5",
                "#B0BEC5",
                "#B0BEC5",
                "#B0BEC5",
                "#B0BEC5",
                "#B0BEC5",
                "#B0BEC5",
                "#B0BEC5",
                "#B0BEC5",
                "#B0BEC5",
                "#B0BEC5",
                "red",
                "#B0BEC5",
                "#B0BEC5",
                "#B0BEC5",
                "#B0BEC5",
                "#B0BEC5",
                "#B0BEC5",
                "#B0BEC5",
                "#B0BEC5",
                "#B0BEC5",
                "#B0BEC5",
                "#B0BEC5",
                "#B0BEC5",
                "#B0BEC5",
                "#B0BEC5",
                "#B0BEC5",
                "#B0BEC5",
                "#B0BEC5",
                "#B0BEC5",
                "#B0BEC5",
                "#B0BEC5",
                "#B0BEC5",
                "#B0BEC5",
                "#B0BEC5",
                "#B0BEC5",
                "#B0BEC5",
                "#B0BEC5",
                "#B0BEC5",
                "#B0BEC5",
                "#B0BEC5",
                "#B0BEC5",
                "#B0BEC5",
                "#B0BEC5",
                "#B0BEC5",
                "#B0BEC5",
                "#B0BEC5",
                "#B0BEC5",
                "#B0BEC5",
                "#B0BEC5",
                "#B0BEC5",
                "#B0BEC5",
                "#B0BEC5",
                "#B0BEC5"
               ]
              ]
             }
            ],
            "label": "Topic 30",
            "method": "update"
           },
           {
            "args": [
             {
              "marker.color": [
               [
                "#B0BEC5",
                "#B0BEC5",
                "#B0BEC5",
                "#B0BEC5",
                "#B0BEC5",
                "#B0BEC5",
                "#B0BEC5",
                "#B0BEC5",
                "#B0BEC5",
                "#B0BEC5",
                "#B0BEC5",
                "#B0BEC5",
                "#B0BEC5",
                "#B0BEC5",
                "#B0BEC5",
                "#B0BEC5",
                "#B0BEC5",
                "#B0BEC5",
                "#B0BEC5",
                "#B0BEC5",
                "#B0BEC5",
                "#B0BEC5",
                "#B0BEC5",
                "#B0BEC5",
                "#B0BEC5",
                "#B0BEC5",
                "#B0BEC5",
                "#B0BEC5",
                "#B0BEC5",
                "#B0BEC5",
                "#B0BEC5",
                "red",
                "#B0BEC5",
                "#B0BEC5",
                "#B0BEC5",
                "#B0BEC5",
                "#B0BEC5",
                "#B0BEC5",
                "#B0BEC5",
                "#B0BEC5",
                "#B0BEC5",
                "#B0BEC5",
                "#B0BEC5",
                "#B0BEC5",
                "#B0BEC5",
                "#B0BEC5",
                "#B0BEC5",
                "#B0BEC5",
                "#B0BEC5",
                "#B0BEC5",
                "#B0BEC5",
                "#B0BEC5",
                "#B0BEC5",
                "#B0BEC5",
                "#B0BEC5",
                "#B0BEC5",
                "#B0BEC5",
                "#B0BEC5",
                "#B0BEC5",
                "#B0BEC5",
                "#B0BEC5",
                "#B0BEC5",
                "#B0BEC5",
                "#B0BEC5",
                "#B0BEC5",
                "#B0BEC5",
                "#B0BEC5",
                "#B0BEC5",
                "#B0BEC5",
                "#B0BEC5",
                "#B0BEC5",
                "#B0BEC5",
                "#B0BEC5"
               ]
              ]
             }
            ],
            "label": "Topic 31",
            "method": "update"
           },
           {
            "args": [
             {
              "marker.color": [
               [
                "#B0BEC5",
                "#B0BEC5",
                "#B0BEC5",
                "#B0BEC5",
                "#B0BEC5",
                "#B0BEC5",
                "#B0BEC5",
                "#B0BEC5",
                "#B0BEC5",
                "#B0BEC5",
                "#B0BEC5",
                "#B0BEC5",
                "#B0BEC5",
                "#B0BEC5",
                "#B0BEC5",
                "#B0BEC5",
                "#B0BEC5",
                "#B0BEC5",
                "#B0BEC5",
                "#B0BEC5",
                "#B0BEC5",
                "#B0BEC5",
                "#B0BEC5",
                "#B0BEC5",
                "#B0BEC5",
                "#B0BEC5",
                "#B0BEC5",
                "#B0BEC5",
                "#B0BEC5",
                "#B0BEC5",
                "#B0BEC5",
                "#B0BEC5",
                "red",
                "#B0BEC5",
                "#B0BEC5",
                "#B0BEC5",
                "#B0BEC5",
                "#B0BEC5",
                "#B0BEC5",
                "#B0BEC5",
                "#B0BEC5",
                "#B0BEC5",
                "#B0BEC5",
                "#B0BEC5",
                "#B0BEC5",
                "#B0BEC5",
                "#B0BEC5",
                "#B0BEC5",
                "#B0BEC5",
                "#B0BEC5",
                "#B0BEC5",
                "#B0BEC5",
                "#B0BEC5",
                "#B0BEC5",
                "#B0BEC5",
                "#B0BEC5",
                "#B0BEC5",
                "#B0BEC5",
                "#B0BEC5",
                "#B0BEC5",
                "#B0BEC5",
                "#B0BEC5",
                "#B0BEC5",
                "#B0BEC5",
                "#B0BEC5",
                "#B0BEC5",
                "#B0BEC5",
                "#B0BEC5",
                "#B0BEC5",
                "#B0BEC5",
                "#B0BEC5",
                "#B0BEC5",
                "#B0BEC5"
               ]
              ]
             }
            ],
            "label": "Topic 32",
            "method": "update"
           },
           {
            "args": [
             {
              "marker.color": [
               [
                "#B0BEC5",
                "#B0BEC5",
                "#B0BEC5",
                "#B0BEC5",
                "#B0BEC5",
                "#B0BEC5",
                "#B0BEC5",
                "#B0BEC5",
                "#B0BEC5",
                "#B0BEC5",
                "#B0BEC5",
                "#B0BEC5",
                "#B0BEC5",
                "#B0BEC5",
                "#B0BEC5",
                "#B0BEC5",
                "#B0BEC5",
                "#B0BEC5",
                "#B0BEC5",
                "#B0BEC5",
                "#B0BEC5",
                "#B0BEC5",
                "#B0BEC5",
                "#B0BEC5",
                "#B0BEC5",
                "#B0BEC5",
                "#B0BEC5",
                "#B0BEC5",
                "#B0BEC5",
                "#B0BEC5",
                "#B0BEC5",
                "#B0BEC5",
                "#B0BEC5",
                "red",
                "#B0BEC5",
                "#B0BEC5",
                "#B0BEC5",
                "#B0BEC5",
                "#B0BEC5",
                "#B0BEC5",
                "#B0BEC5",
                "#B0BEC5",
                "#B0BEC5",
                "#B0BEC5",
                "#B0BEC5",
                "#B0BEC5",
                "#B0BEC5",
                "#B0BEC5",
                "#B0BEC5",
                "#B0BEC5",
                "#B0BEC5",
                "#B0BEC5",
                "#B0BEC5",
                "#B0BEC5",
                "#B0BEC5",
                "#B0BEC5",
                "#B0BEC5",
                "#B0BEC5",
                "#B0BEC5",
                "#B0BEC5",
                "#B0BEC5",
                "#B0BEC5",
                "#B0BEC5",
                "#B0BEC5",
                "#B0BEC5",
                "#B0BEC5",
                "#B0BEC5",
                "#B0BEC5",
                "#B0BEC5",
                "#B0BEC5",
                "#B0BEC5",
                "#B0BEC5",
                "#B0BEC5"
               ]
              ]
             }
            ],
            "label": "Topic 33",
            "method": "update"
           },
           {
            "args": [
             {
              "marker.color": [
               [
                "#B0BEC5",
                "#B0BEC5",
                "#B0BEC5",
                "#B0BEC5",
                "#B0BEC5",
                "#B0BEC5",
                "#B0BEC5",
                "#B0BEC5",
                "#B0BEC5",
                "#B0BEC5",
                "#B0BEC5",
                "#B0BEC5",
                "#B0BEC5",
                "#B0BEC5",
                "#B0BEC5",
                "#B0BEC5",
                "#B0BEC5",
                "#B0BEC5",
                "#B0BEC5",
                "#B0BEC5",
                "#B0BEC5",
                "#B0BEC5",
                "#B0BEC5",
                "#B0BEC5",
                "#B0BEC5",
                "#B0BEC5",
                "#B0BEC5",
                "#B0BEC5",
                "#B0BEC5",
                "#B0BEC5",
                "#B0BEC5",
                "#B0BEC5",
                "#B0BEC5",
                "#B0BEC5",
                "red",
                "#B0BEC5",
                "#B0BEC5",
                "#B0BEC5",
                "#B0BEC5",
                "#B0BEC5",
                "#B0BEC5",
                "#B0BEC5",
                "#B0BEC5",
                "#B0BEC5",
                "#B0BEC5",
                "#B0BEC5",
                "#B0BEC5",
                "#B0BEC5",
                "#B0BEC5",
                "#B0BEC5",
                "#B0BEC5",
                "#B0BEC5",
                "#B0BEC5",
                "#B0BEC5",
                "#B0BEC5",
                "#B0BEC5",
                "#B0BEC5",
                "#B0BEC5",
                "#B0BEC5",
                "#B0BEC5",
                "#B0BEC5",
                "#B0BEC5",
                "#B0BEC5",
                "#B0BEC5",
                "#B0BEC5",
                "#B0BEC5",
                "#B0BEC5",
                "#B0BEC5",
                "#B0BEC5",
                "#B0BEC5",
                "#B0BEC5",
                "#B0BEC5",
                "#B0BEC5"
               ]
              ]
             }
            ],
            "label": "Topic 34",
            "method": "update"
           },
           {
            "args": [
             {
              "marker.color": [
               [
                "#B0BEC5",
                "#B0BEC5",
                "#B0BEC5",
                "#B0BEC5",
                "#B0BEC5",
                "#B0BEC5",
                "#B0BEC5",
                "#B0BEC5",
                "#B0BEC5",
                "#B0BEC5",
                "#B0BEC5",
                "#B0BEC5",
                "#B0BEC5",
                "#B0BEC5",
                "#B0BEC5",
                "#B0BEC5",
                "#B0BEC5",
                "#B0BEC5",
                "#B0BEC5",
                "#B0BEC5",
                "#B0BEC5",
                "#B0BEC5",
                "#B0BEC5",
                "#B0BEC5",
                "#B0BEC5",
                "#B0BEC5",
                "#B0BEC5",
                "#B0BEC5",
                "#B0BEC5",
                "#B0BEC5",
                "#B0BEC5",
                "#B0BEC5",
                "#B0BEC5",
                "#B0BEC5",
                "#B0BEC5",
                "red",
                "#B0BEC5",
                "#B0BEC5",
                "#B0BEC5",
                "#B0BEC5",
                "#B0BEC5",
                "#B0BEC5",
                "#B0BEC5",
                "#B0BEC5",
                "#B0BEC5",
                "#B0BEC5",
                "#B0BEC5",
                "#B0BEC5",
                "#B0BEC5",
                "#B0BEC5",
                "#B0BEC5",
                "#B0BEC5",
                "#B0BEC5",
                "#B0BEC5",
                "#B0BEC5",
                "#B0BEC5",
                "#B0BEC5",
                "#B0BEC5",
                "#B0BEC5",
                "#B0BEC5",
                "#B0BEC5",
                "#B0BEC5",
                "#B0BEC5",
                "#B0BEC5",
                "#B0BEC5",
                "#B0BEC5",
                "#B0BEC5",
                "#B0BEC5",
                "#B0BEC5",
                "#B0BEC5",
                "#B0BEC5",
                "#B0BEC5",
                "#B0BEC5"
               ]
              ]
             }
            ],
            "label": "Topic 35",
            "method": "update"
           },
           {
            "args": [
             {
              "marker.color": [
               [
                "#B0BEC5",
                "#B0BEC5",
                "#B0BEC5",
                "#B0BEC5",
                "#B0BEC5",
                "#B0BEC5",
                "#B0BEC5",
                "#B0BEC5",
                "#B0BEC5",
                "#B0BEC5",
                "#B0BEC5",
                "#B0BEC5",
                "#B0BEC5",
                "#B0BEC5",
                "#B0BEC5",
                "#B0BEC5",
                "#B0BEC5",
                "#B0BEC5",
                "#B0BEC5",
                "#B0BEC5",
                "#B0BEC5",
                "#B0BEC5",
                "#B0BEC5",
                "#B0BEC5",
                "#B0BEC5",
                "#B0BEC5",
                "#B0BEC5",
                "#B0BEC5",
                "#B0BEC5",
                "#B0BEC5",
                "#B0BEC5",
                "#B0BEC5",
                "#B0BEC5",
                "#B0BEC5",
                "#B0BEC5",
                "#B0BEC5",
                "red",
                "#B0BEC5",
                "#B0BEC5",
                "#B0BEC5",
                "#B0BEC5",
                "#B0BEC5",
                "#B0BEC5",
                "#B0BEC5",
                "#B0BEC5",
                "#B0BEC5",
                "#B0BEC5",
                "#B0BEC5",
                "#B0BEC5",
                "#B0BEC5",
                "#B0BEC5",
                "#B0BEC5",
                "#B0BEC5",
                "#B0BEC5",
                "#B0BEC5",
                "#B0BEC5",
                "#B0BEC5",
                "#B0BEC5",
                "#B0BEC5",
                "#B0BEC5",
                "#B0BEC5",
                "#B0BEC5",
                "#B0BEC5",
                "#B0BEC5",
                "#B0BEC5",
                "#B0BEC5",
                "#B0BEC5",
                "#B0BEC5",
                "#B0BEC5",
                "#B0BEC5",
                "#B0BEC5",
                "#B0BEC5",
                "#B0BEC5"
               ]
              ]
             }
            ],
            "label": "Topic 36",
            "method": "update"
           },
           {
            "args": [
             {
              "marker.color": [
               [
                "#B0BEC5",
                "#B0BEC5",
                "#B0BEC5",
                "#B0BEC5",
                "#B0BEC5",
                "#B0BEC5",
                "#B0BEC5",
                "#B0BEC5",
                "#B0BEC5",
                "#B0BEC5",
                "#B0BEC5",
                "#B0BEC5",
                "#B0BEC5",
                "#B0BEC5",
                "#B0BEC5",
                "#B0BEC5",
                "#B0BEC5",
                "#B0BEC5",
                "#B0BEC5",
                "#B0BEC5",
                "#B0BEC5",
                "#B0BEC5",
                "#B0BEC5",
                "#B0BEC5",
                "#B0BEC5",
                "#B0BEC5",
                "#B0BEC5",
                "#B0BEC5",
                "#B0BEC5",
                "#B0BEC5",
                "#B0BEC5",
                "#B0BEC5",
                "#B0BEC5",
                "#B0BEC5",
                "#B0BEC5",
                "#B0BEC5",
                "#B0BEC5",
                "red",
                "#B0BEC5",
                "#B0BEC5",
                "#B0BEC5",
                "#B0BEC5",
                "#B0BEC5",
                "#B0BEC5",
                "#B0BEC5",
                "#B0BEC5",
                "#B0BEC5",
                "#B0BEC5",
                "#B0BEC5",
                "#B0BEC5",
                "#B0BEC5",
                "#B0BEC5",
                "#B0BEC5",
                "#B0BEC5",
                "#B0BEC5",
                "#B0BEC5",
                "#B0BEC5",
                "#B0BEC5",
                "#B0BEC5",
                "#B0BEC5",
                "#B0BEC5",
                "#B0BEC5",
                "#B0BEC5",
                "#B0BEC5",
                "#B0BEC5",
                "#B0BEC5",
                "#B0BEC5",
                "#B0BEC5",
                "#B0BEC5",
                "#B0BEC5",
                "#B0BEC5",
                "#B0BEC5",
                "#B0BEC5"
               ]
              ]
             }
            ],
            "label": "Topic 37",
            "method": "update"
           },
           {
            "args": [
             {
              "marker.color": [
               [
                "#B0BEC5",
                "#B0BEC5",
                "#B0BEC5",
                "#B0BEC5",
                "#B0BEC5",
                "#B0BEC5",
                "#B0BEC5",
                "#B0BEC5",
                "#B0BEC5",
                "#B0BEC5",
                "#B0BEC5",
                "#B0BEC5",
                "#B0BEC5",
                "#B0BEC5",
                "#B0BEC5",
                "#B0BEC5",
                "#B0BEC5",
                "#B0BEC5",
                "#B0BEC5",
                "#B0BEC5",
                "#B0BEC5",
                "#B0BEC5",
                "#B0BEC5",
                "#B0BEC5",
                "#B0BEC5",
                "#B0BEC5",
                "#B0BEC5",
                "#B0BEC5",
                "#B0BEC5",
                "#B0BEC5",
                "#B0BEC5",
                "#B0BEC5",
                "#B0BEC5",
                "#B0BEC5",
                "#B0BEC5",
                "#B0BEC5",
                "#B0BEC5",
                "#B0BEC5",
                "red",
                "#B0BEC5",
                "#B0BEC5",
                "#B0BEC5",
                "#B0BEC5",
                "#B0BEC5",
                "#B0BEC5",
                "#B0BEC5",
                "#B0BEC5",
                "#B0BEC5",
                "#B0BEC5",
                "#B0BEC5",
                "#B0BEC5",
                "#B0BEC5",
                "#B0BEC5",
                "#B0BEC5",
                "#B0BEC5",
                "#B0BEC5",
                "#B0BEC5",
                "#B0BEC5",
                "#B0BEC5",
                "#B0BEC5",
                "#B0BEC5",
                "#B0BEC5",
                "#B0BEC5",
                "#B0BEC5",
                "#B0BEC5",
                "#B0BEC5",
                "#B0BEC5",
                "#B0BEC5",
                "#B0BEC5",
                "#B0BEC5",
                "#B0BEC5",
                "#B0BEC5",
                "#B0BEC5"
               ]
              ]
             }
            ],
            "label": "Topic 38",
            "method": "update"
           },
           {
            "args": [
             {
              "marker.color": [
               [
                "#B0BEC5",
                "#B0BEC5",
                "#B0BEC5",
                "#B0BEC5",
                "#B0BEC5",
                "#B0BEC5",
                "#B0BEC5",
                "#B0BEC5",
                "#B0BEC5",
                "#B0BEC5",
                "#B0BEC5",
                "#B0BEC5",
                "#B0BEC5",
                "#B0BEC5",
                "#B0BEC5",
                "#B0BEC5",
                "#B0BEC5",
                "#B0BEC5",
                "#B0BEC5",
                "#B0BEC5",
                "#B0BEC5",
                "#B0BEC5",
                "#B0BEC5",
                "#B0BEC5",
                "#B0BEC5",
                "#B0BEC5",
                "#B0BEC5",
                "#B0BEC5",
                "#B0BEC5",
                "#B0BEC5",
                "#B0BEC5",
                "#B0BEC5",
                "#B0BEC5",
                "#B0BEC5",
                "#B0BEC5",
                "#B0BEC5",
                "#B0BEC5",
                "#B0BEC5",
                "#B0BEC5",
                "red",
                "#B0BEC5",
                "#B0BEC5",
                "#B0BEC5",
                "#B0BEC5",
                "#B0BEC5",
                "#B0BEC5",
                "#B0BEC5",
                "#B0BEC5",
                "#B0BEC5",
                "#B0BEC5",
                "#B0BEC5",
                "#B0BEC5",
                "#B0BEC5",
                "#B0BEC5",
                "#B0BEC5",
                "#B0BEC5",
                "#B0BEC5",
                "#B0BEC5",
                "#B0BEC5",
                "#B0BEC5",
                "#B0BEC5",
                "#B0BEC5",
                "#B0BEC5",
                "#B0BEC5",
                "#B0BEC5",
                "#B0BEC5",
                "#B0BEC5",
                "#B0BEC5",
                "#B0BEC5",
                "#B0BEC5",
                "#B0BEC5",
                "#B0BEC5",
                "#B0BEC5"
               ]
              ]
             }
            ],
            "label": "Topic 39",
            "method": "update"
           },
           {
            "args": [
             {
              "marker.color": [
               [
                "#B0BEC5",
                "#B0BEC5",
                "#B0BEC5",
                "#B0BEC5",
                "#B0BEC5",
                "#B0BEC5",
                "#B0BEC5",
                "#B0BEC5",
                "#B0BEC5",
                "#B0BEC5",
                "#B0BEC5",
                "#B0BEC5",
                "#B0BEC5",
                "#B0BEC5",
                "#B0BEC5",
                "#B0BEC5",
                "#B0BEC5",
                "#B0BEC5",
                "#B0BEC5",
                "#B0BEC5",
                "#B0BEC5",
                "#B0BEC5",
                "#B0BEC5",
                "#B0BEC5",
                "#B0BEC5",
                "#B0BEC5",
                "#B0BEC5",
                "#B0BEC5",
                "#B0BEC5",
                "#B0BEC5",
                "#B0BEC5",
                "#B0BEC5",
                "#B0BEC5",
                "#B0BEC5",
                "#B0BEC5",
                "#B0BEC5",
                "#B0BEC5",
                "#B0BEC5",
                "#B0BEC5",
                "#B0BEC5",
                "red",
                "#B0BEC5",
                "#B0BEC5",
                "#B0BEC5",
                "#B0BEC5",
                "#B0BEC5",
                "#B0BEC5",
                "#B0BEC5",
                "#B0BEC5",
                "#B0BEC5",
                "#B0BEC5",
                "#B0BEC5",
                "#B0BEC5",
                "#B0BEC5",
                "#B0BEC5",
                "#B0BEC5",
                "#B0BEC5",
                "#B0BEC5",
                "#B0BEC5",
                "#B0BEC5",
                "#B0BEC5",
                "#B0BEC5",
                "#B0BEC5",
                "#B0BEC5",
                "#B0BEC5",
                "#B0BEC5",
                "#B0BEC5",
                "#B0BEC5",
                "#B0BEC5",
                "#B0BEC5",
                "#B0BEC5",
                "#B0BEC5",
                "#B0BEC5"
               ]
              ]
             }
            ],
            "label": "Topic 40",
            "method": "update"
           },
           {
            "args": [
             {
              "marker.color": [
               [
                "#B0BEC5",
                "#B0BEC5",
                "#B0BEC5",
                "#B0BEC5",
                "#B0BEC5",
                "#B0BEC5",
                "#B0BEC5",
                "#B0BEC5",
                "#B0BEC5",
                "#B0BEC5",
                "#B0BEC5",
                "#B0BEC5",
                "#B0BEC5",
                "#B0BEC5",
                "#B0BEC5",
                "#B0BEC5",
                "#B0BEC5",
                "#B0BEC5",
                "#B0BEC5",
                "#B0BEC5",
                "#B0BEC5",
                "#B0BEC5",
                "#B0BEC5",
                "#B0BEC5",
                "#B0BEC5",
                "#B0BEC5",
                "#B0BEC5",
                "#B0BEC5",
                "#B0BEC5",
                "#B0BEC5",
                "#B0BEC5",
                "#B0BEC5",
                "#B0BEC5",
                "#B0BEC5",
                "#B0BEC5",
                "#B0BEC5",
                "#B0BEC5",
                "#B0BEC5",
                "#B0BEC5",
                "#B0BEC5",
                "#B0BEC5",
                "red",
                "#B0BEC5",
                "#B0BEC5",
                "#B0BEC5",
                "#B0BEC5",
                "#B0BEC5",
                "#B0BEC5",
                "#B0BEC5",
                "#B0BEC5",
                "#B0BEC5",
                "#B0BEC5",
                "#B0BEC5",
                "#B0BEC5",
                "#B0BEC5",
                "#B0BEC5",
                "#B0BEC5",
                "#B0BEC5",
                "#B0BEC5",
                "#B0BEC5",
                "#B0BEC5",
                "#B0BEC5",
                "#B0BEC5",
                "#B0BEC5",
                "#B0BEC5",
                "#B0BEC5",
                "#B0BEC5",
                "#B0BEC5",
                "#B0BEC5",
                "#B0BEC5",
                "#B0BEC5",
                "#B0BEC5",
                "#B0BEC5"
               ]
              ]
             }
            ],
            "label": "Topic 41",
            "method": "update"
           },
           {
            "args": [
             {
              "marker.color": [
               [
                "#B0BEC5",
                "#B0BEC5",
                "#B0BEC5",
                "#B0BEC5",
                "#B0BEC5",
                "#B0BEC5",
                "#B0BEC5",
                "#B0BEC5",
                "#B0BEC5",
                "#B0BEC5",
                "#B0BEC5",
                "#B0BEC5",
                "#B0BEC5",
                "#B0BEC5",
                "#B0BEC5",
                "#B0BEC5",
                "#B0BEC5",
                "#B0BEC5",
                "#B0BEC5",
                "#B0BEC5",
                "#B0BEC5",
                "#B0BEC5",
                "#B0BEC5",
                "#B0BEC5",
                "#B0BEC5",
                "#B0BEC5",
                "#B0BEC5",
                "#B0BEC5",
                "#B0BEC5",
                "#B0BEC5",
                "#B0BEC5",
                "#B0BEC5",
                "#B0BEC5",
                "#B0BEC5",
                "#B0BEC5",
                "#B0BEC5",
                "#B0BEC5",
                "#B0BEC5",
                "#B0BEC5",
                "#B0BEC5",
                "#B0BEC5",
                "#B0BEC5",
                "red",
                "#B0BEC5",
                "#B0BEC5",
                "#B0BEC5",
                "#B0BEC5",
                "#B0BEC5",
                "#B0BEC5",
                "#B0BEC5",
                "#B0BEC5",
                "#B0BEC5",
                "#B0BEC5",
                "#B0BEC5",
                "#B0BEC5",
                "#B0BEC5",
                "#B0BEC5",
                "#B0BEC5",
                "#B0BEC5",
                "#B0BEC5",
                "#B0BEC5",
                "#B0BEC5",
                "#B0BEC5",
                "#B0BEC5",
                "#B0BEC5",
                "#B0BEC5",
                "#B0BEC5",
                "#B0BEC5",
                "#B0BEC5",
                "#B0BEC5",
                "#B0BEC5",
                "#B0BEC5",
                "#B0BEC5"
               ]
              ]
             }
            ],
            "label": "Topic 42",
            "method": "update"
           },
           {
            "args": [
             {
              "marker.color": [
               [
                "#B0BEC5",
                "#B0BEC5",
                "#B0BEC5",
                "#B0BEC5",
                "#B0BEC5",
                "#B0BEC5",
                "#B0BEC5",
                "#B0BEC5",
                "#B0BEC5",
                "#B0BEC5",
                "#B0BEC5",
                "#B0BEC5",
                "#B0BEC5",
                "#B0BEC5",
                "#B0BEC5",
                "#B0BEC5",
                "#B0BEC5",
                "#B0BEC5",
                "#B0BEC5",
                "#B0BEC5",
                "#B0BEC5",
                "#B0BEC5",
                "#B0BEC5",
                "#B0BEC5",
                "#B0BEC5",
                "#B0BEC5",
                "#B0BEC5",
                "#B0BEC5",
                "#B0BEC5",
                "#B0BEC5",
                "#B0BEC5",
                "#B0BEC5",
                "#B0BEC5",
                "#B0BEC5",
                "#B0BEC5",
                "#B0BEC5",
                "#B0BEC5",
                "#B0BEC5",
                "#B0BEC5",
                "#B0BEC5",
                "#B0BEC5",
                "#B0BEC5",
                "#B0BEC5",
                "red",
                "#B0BEC5",
                "#B0BEC5",
                "#B0BEC5",
                "#B0BEC5",
                "#B0BEC5",
                "#B0BEC5",
                "#B0BEC5",
                "#B0BEC5",
                "#B0BEC5",
                "#B0BEC5",
                "#B0BEC5",
                "#B0BEC5",
                "#B0BEC5",
                "#B0BEC5",
                "#B0BEC5",
                "#B0BEC5",
                "#B0BEC5",
                "#B0BEC5",
                "#B0BEC5",
                "#B0BEC5",
                "#B0BEC5",
                "#B0BEC5",
                "#B0BEC5",
                "#B0BEC5",
                "#B0BEC5",
                "#B0BEC5",
                "#B0BEC5",
                "#B0BEC5",
                "#B0BEC5"
               ]
              ]
             }
            ],
            "label": "Topic 43",
            "method": "update"
           },
           {
            "args": [
             {
              "marker.color": [
               [
                "#B0BEC5",
                "#B0BEC5",
                "#B0BEC5",
                "#B0BEC5",
                "#B0BEC5",
                "#B0BEC5",
                "#B0BEC5",
                "#B0BEC5",
                "#B0BEC5",
                "#B0BEC5",
                "#B0BEC5",
                "#B0BEC5",
                "#B0BEC5",
                "#B0BEC5",
                "#B0BEC5",
                "#B0BEC5",
                "#B0BEC5",
                "#B0BEC5",
                "#B0BEC5",
                "#B0BEC5",
                "#B0BEC5",
                "#B0BEC5",
                "#B0BEC5",
                "#B0BEC5",
                "#B0BEC5",
                "#B0BEC5",
                "#B0BEC5",
                "#B0BEC5",
                "#B0BEC5",
                "#B0BEC5",
                "#B0BEC5",
                "#B0BEC5",
                "#B0BEC5",
                "#B0BEC5",
                "#B0BEC5",
                "#B0BEC5",
                "#B0BEC5",
                "#B0BEC5",
                "#B0BEC5",
                "#B0BEC5",
                "#B0BEC5",
                "#B0BEC5",
                "#B0BEC5",
                "#B0BEC5",
                "red",
                "#B0BEC5",
                "#B0BEC5",
                "#B0BEC5",
                "#B0BEC5",
                "#B0BEC5",
                "#B0BEC5",
                "#B0BEC5",
                "#B0BEC5",
                "#B0BEC5",
                "#B0BEC5",
                "#B0BEC5",
                "#B0BEC5",
                "#B0BEC5",
                "#B0BEC5",
                "#B0BEC5",
                "#B0BEC5",
                "#B0BEC5",
                "#B0BEC5",
                "#B0BEC5",
                "#B0BEC5",
                "#B0BEC5",
                "#B0BEC5",
                "#B0BEC5",
                "#B0BEC5",
                "#B0BEC5",
                "#B0BEC5",
                "#B0BEC5",
                "#B0BEC5"
               ]
              ]
             }
            ],
            "label": "Topic 44",
            "method": "update"
           },
           {
            "args": [
             {
              "marker.color": [
               [
                "#B0BEC5",
                "#B0BEC5",
                "#B0BEC5",
                "#B0BEC5",
                "#B0BEC5",
                "#B0BEC5",
                "#B0BEC5",
                "#B0BEC5",
                "#B0BEC5",
                "#B0BEC5",
                "#B0BEC5",
                "#B0BEC5",
                "#B0BEC5",
                "#B0BEC5",
                "#B0BEC5",
                "#B0BEC5",
                "#B0BEC5",
                "#B0BEC5",
                "#B0BEC5",
                "#B0BEC5",
                "#B0BEC5",
                "#B0BEC5",
                "#B0BEC5",
                "#B0BEC5",
                "#B0BEC5",
                "#B0BEC5",
                "#B0BEC5",
                "#B0BEC5",
                "#B0BEC5",
                "#B0BEC5",
                "#B0BEC5",
                "#B0BEC5",
                "#B0BEC5",
                "#B0BEC5",
                "#B0BEC5",
                "#B0BEC5",
                "#B0BEC5",
                "#B0BEC5",
                "#B0BEC5",
                "#B0BEC5",
                "#B0BEC5",
                "#B0BEC5",
                "#B0BEC5",
                "#B0BEC5",
                "#B0BEC5",
                "red",
                "#B0BEC5",
                "#B0BEC5",
                "#B0BEC5",
                "#B0BEC5",
                "#B0BEC5",
                "#B0BEC5",
                "#B0BEC5",
                "#B0BEC5",
                "#B0BEC5",
                "#B0BEC5",
                "#B0BEC5",
                "#B0BEC5",
                "#B0BEC5",
                "#B0BEC5",
                "#B0BEC5",
                "#B0BEC5",
                "#B0BEC5",
                "#B0BEC5",
                "#B0BEC5",
                "#B0BEC5",
                "#B0BEC5",
                "#B0BEC5",
                "#B0BEC5",
                "#B0BEC5",
                "#B0BEC5",
                "#B0BEC5",
                "#B0BEC5"
               ]
              ]
             }
            ],
            "label": "Topic 45",
            "method": "update"
           },
           {
            "args": [
             {
              "marker.color": [
               [
                "#B0BEC5",
                "#B0BEC5",
                "#B0BEC5",
                "#B0BEC5",
                "#B0BEC5",
                "#B0BEC5",
                "#B0BEC5",
                "#B0BEC5",
                "#B0BEC5",
                "#B0BEC5",
                "#B0BEC5",
                "#B0BEC5",
                "#B0BEC5",
                "#B0BEC5",
                "#B0BEC5",
                "#B0BEC5",
                "#B0BEC5",
                "#B0BEC5",
                "#B0BEC5",
                "#B0BEC5",
                "#B0BEC5",
                "#B0BEC5",
                "#B0BEC5",
                "#B0BEC5",
                "#B0BEC5",
                "#B0BEC5",
                "#B0BEC5",
                "#B0BEC5",
                "#B0BEC5",
                "#B0BEC5",
                "#B0BEC5",
                "#B0BEC5",
                "#B0BEC5",
                "#B0BEC5",
                "#B0BEC5",
                "#B0BEC5",
                "#B0BEC5",
                "#B0BEC5",
                "#B0BEC5",
                "#B0BEC5",
                "#B0BEC5",
                "#B0BEC5",
                "#B0BEC5",
                "#B0BEC5",
                "#B0BEC5",
                "#B0BEC5",
                "red",
                "#B0BEC5",
                "#B0BEC5",
                "#B0BEC5",
                "#B0BEC5",
                "#B0BEC5",
                "#B0BEC5",
                "#B0BEC5",
                "#B0BEC5",
                "#B0BEC5",
                "#B0BEC5",
                "#B0BEC5",
                "#B0BEC5",
                "#B0BEC5",
                "#B0BEC5",
                "#B0BEC5",
                "#B0BEC5",
                "#B0BEC5",
                "#B0BEC5",
                "#B0BEC5",
                "#B0BEC5",
                "#B0BEC5",
                "#B0BEC5",
                "#B0BEC5",
                "#B0BEC5",
                "#B0BEC5",
                "#B0BEC5"
               ]
              ]
             }
            ],
            "label": "Topic 46",
            "method": "update"
           },
           {
            "args": [
             {
              "marker.color": [
               [
                "#B0BEC5",
                "#B0BEC5",
                "#B0BEC5",
                "#B0BEC5",
                "#B0BEC5",
                "#B0BEC5",
                "#B0BEC5",
                "#B0BEC5",
                "#B0BEC5",
                "#B0BEC5",
                "#B0BEC5",
                "#B0BEC5",
                "#B0BEC5",
                "#B0BEC5",
                "#B0BEC5",
                "#B0BEC5",
                "#B0BEC5",
                "#B0BEC5",
                "#B0BEC5",
                "#B0BEC5",
                "#B0BEC5",
                "#B0BEC5",
                "#B0BEC5",
                "#B0BEC5",
                "#B0BEC5",
                "#B0BEC5",
                "#B0BEC5",
                "#B0BEC5",
                "#B0BEC5",
                "#B0BEC5",
                "#B0BEC5",
                "#B0BEC5",
                "#B0BEC5",
                "#B0BEC5",
                "#B0BEC5",
                "#B0BEC5",
                "#B0BEC5",
                "#B0BEC5",
                "#B0BEC5",
                "#B0BEC5",
                "#B0BEC5",
                "#B0BEC5",
                "#B0BEC5",
                "#B0BEC5",
                "#B0BEC5",
                "#B0BEC5",
                "#B0BEC5",
                "red",
                "#B0BEC5",
                "#B0BEC5",
                "#B0BEC5",
                "#B0BEC5",
                "#B0BEC5",
                "#B0BEC5",
                "#B0BEC5",
                "#B0BEC5",
                "#B0BEC5",
                "#B0BEC5",
                "#B0BEC5",
                "#B0BEC5",
                "#B0BEC5",
                "#B0BEC5",
                "#B0BEC5",
                "#B0BEC5",
                "#B0BEC5",
                "#B0BEC5",
                "#B0BEC5",
                "#B0BEC5",
                "#B0BEC5",
                "#B0BEC5",
                "#B0BEC5",
                "#B0BEC5",
                "#B0BEC5"
               ]
              ]
             }
            ],
            "label": "Topic 47",
            "method": "update"
           },
           {
            "args": [
             {
              "marker.color": [
               [
                "#B0BEC5",
                "#B0BEC5",
                "#B0BEC5",
                "#B0BEC5",
                "#B0BEC5",
                "#B0BEC5",
                "#B0BEC5",
                "#B0BEC5",
                "#B0BEC5",
                "#B0BEC5",
                "#B0BEC5",
                "#B0BEC5",
                "#B0BEC5",
                "#B0BEC5",
                "#B0BEC5",
                "#B0BEC5",
                "#B0BEC5",
                "#B0BEC5",
                "#B0BEC5",
                "#B0BEC5",
                "#B0BEC5",
                "#B0BEC5",
                "#B0BEC5",
                "#B0BEC5",
                "#B0BEC5",
                "#B0BEC5",
                "#B0BEC5",
                "#B0BEC5",
                "#B0BEC5",
                "#B0BEC5",
                "#B0BEC5",
                "#B0BEC5",
                "#B0BEC5",
                "#B0BEC5",
                "#B0BEC5",
                "#B0BEC5",
                "#B0BEC5",
                "#B0BEC5",
                "#B0BEC5",
                "#B0BEC5",
                "#B0BEC5",
                "#B0BEC5",
                "#B0BEC5",
                "#B0BEC5",
                "#B0BEC5",
                "#B0BEC5",
                "#B0BEC5",
                "#B0BEC5",
                "red",
                "#B0BEC5",
                "#B0BEC5",
                "#B0BEC5",
                "#B0BEC5",
                "#B0BEC5",
                "#B0BEC5",
                "#B0BEC5",
                "#B0BEC5",
                "#B0BEC5",
                "#B0BEC5",
                "#B0BEC5",
                "#B0BEC5",
                "#B0BEC5",
                "#B0BEC5",
                "#B0BEC5",
                "#B0BEC5",
                "#B0BEC5",
                "#B0BEC5",
                "#B0BEC5",
                "#B0BEC5",
                "#B0BEC5",
                "#B0BEC5",
                "#B0BEC5",
                "#B0BEC5"
               ]
              ]
             }
            ],
            "label": "Topic 48",
            "method": "update"
           },
           {
            "args": [
             {
              "marker.color": [
               [
                "#B0BEC5",
                "#B0BEC5",
                "#B0BEC5",
                "#B0BEC5",
                "#B0BEC5",
                "#B0BEC5",
                "#B0BEC5",
                "#B0BEC5",
                "#B0BEC5",
                "#B0BEC5",
                "#B0BEC5",
                "#B0BEC5",
                "#B0BEC5",
                "#B0BEC5",
                "#B0BEC5",
                "#B0BEC5",
                "#B0BEC5",
                "#B0BEC5",
                "#B0BEC5",
                "#B0BEC5",
                "#B0BEC5",
                "#B0BEC5",
                "#B0BEC5",
                "#B0BEC5",
                "#B0BEC5",
                "#B0BEC5",
                "#B0BEC5",
                "#B0BEC5",
                "#B0BEC5",
                "#B0BEC5",
                "#B0BEC5",
                "#B0BEC5",
                "#B0BEC5",
                "#B0BEC5",
                "#B0BEC5",
                "#B0BEC5",
                "#B0BEC5",
                "#B0BEC5",
                "#B0BEC5",
                "#B0BEC5",
                "#B0BEC5",
                "#B0BEC5",
                "#B0BEC5",
                "#B0BEC5",
                "#B0BEC5",
                "#B0BEC5",
                "#B0BEC5",
                "#B0BEC5",
                "#B0BEC5",
                "red",
                "#B0BEC5",
                "#B0BEC5",
                "#B0BEC5",
                "#B0BEC5",
                "#B0BEC5",
                "#B0BEC5",
                "#B0BEC5",
                "#B0BEC5",
                "#B0BEC5",
                "#B0BEC5",
                "#B0BEC5",
                "#B0BEC5",
                "#B0BEC5",
                "#B0BEC5",
                "#B0BEC5",
                "#B0BEC5",
                "#B0BEC5",
                "#B0BEC5",
                "#B0BEC5",
                "#B0BEC5",
                "#B0BEC5",
                "#B0BEC5",
                "#B0BEC5"
               ]
              ]
             }
            ],
            "label": "Topic 49",
            "method": "update"
           },
           {
            "args": [
             {
              "marker.color": [
               [
                "#B0BEC5",
                "#B0BEC5",
                "#B0BEC5",
                "#B0BEC5",
                "#B0BEC5",
                "#B0BEC5",
                "#B0BEC5",
                "#B0BEC5",
                "#B0BEC5",
                "#B0BEC5",
                "#B0BEC5",
                "#B0BEC5",
                "#B0BEC5",
                "#B0BEC5",
                "#B0BEC5",
                "#B0BEC5",
                "#B0BEC5",
                "#B0BEC5",
                "#B0BEC5",
                "#B0BEC5",
                "#B0BEC5",
                "#B0BEC5",
                "#B0BEC5",
                "#B0BEC5",
                "#B0BEC5",
                "#B0BEC5",
                "#B0BEC5",
                "#B0BEC5",
                "#B0BEC5",
                "#B0BEC5",
                "#B0BEC5",
                "#B0BEC5",
                "#B0BEC5",
                "#B0BEC5",
                "#B0BEC5",
                "#B0BEC5",
                "#B0BEC5",
                "#B0BEC5",
                "#B0BEC5",
                "#B0BEC5",
                "#B0BEC5",
                "#B0BEC5",
                "#B0BEC5",
                "#B0BEC5",
                "#B0BEC5",
                "#B0BEC5",
                "#B0BEC5",
                "#B0BEC5",
                "#B0BEC5",
                "#B0BEC5",
                "red",
                "#B0BEC5",
                "#B0BEC5",
                "#B0BEC5",
                "#B0BEC5",
                "#B0BEC5",
                "#B0BEC5",
                "#B0BEC5",
                "#B0BEC5",
                "#B0BEC5",
                "#B0BEC5",
                "#B0BEC5",
                "#B0BEC5",
                "#B0BEC5",
                "#B0BEC5",
                "#B0BEC5",
                "#B0BEC5",
                "#B0BEC5",
                "#B0BEC5",
                "#B0BEC5",
                "#B0BEC5",
                "#B0BEC5",
                "#B0BEC5"
               ]
              ]
             }
            ],
            "label": "Topic 50",
            "method": "update"
           },
           {
            "args": [
             {
              "marker.color": [
               [
                "#B0BEC5",
                "#B0BEC5",
                "#B0BEC5",
                "#B0BEC5",
                "#B0BEC5",
                "#B0BEC5",
                "#B0BEC5",
                "#B0BEC5",
                "#B0BEC5",
                "#B0BEC5",
                "#B0BEC5",
                "#B0BEC5",
                "#B0BEC5",
                "#B0BEC5",
                "#B0BEC5",
                "#B0BEC5",
                "#B0BEC5",
                "#B0BEC5",
                "#B0BEC5",
                "#B0BEC5",
                "#B0BEC5",
                "#B0BEC5",
                "#B0BEC5",
                "#B0BEC5",
                "#B0BEC5",
                "#B0BEC5",
                "#B0BEC5",
                "#B0BEC5",
                "#B0BEC5",
                "#B0BEC5",
                "#B0BEC5",
                "#B0BEC5",
                "#B0BEC5",
                "#B0BEC5",
                "#B0BEC5",
                "#B0BEC5",
                "#B0BEC5",
                "#B0BEC5",
                "#B0BEC5",
                "#B0BEC5",
                "#B0BEC5",
                "#B0BEC5",
                "#B0BEC5",
                "#B0BEC5",
                "#B0BEC5",
                "#B0BEC5",
                "#B0BEC5",
                "#B0BEC5",
                "#B0BEC5",
                "#B0BEC5",
                "#B0BEC5",
                "red",
                "#B0BEC5",
                "#B0BEC5",
                "#B0BEC5",
                "#B0BEC5",
                "#B0BEC5",
                "#B0BEC5",
                "#B0BEC5",
                "#B0BEC5",
                "#B0BEC5",
                "#B0BEC5",
                "#B0BEC5",
                "#B0BEC5",
                "#B0BEC5",
                "#B0BEC5",
                "#B0BEC5",
                "#B0BEC5",
                "#B0BEC5",
                "#B0BEC5",
                "#B0BEC5",
                "#B0BEC5",
                "#B0BEC5"
               ]
              ]
             }
            ],
            "label": "Topic 51",
            "method": "update"
           },
           {
            "args": [
             {
              "marker.color": [
               [
                "#B0BEC5",
                "#B0BEC5",
                "#B0BEC5",
                "#B0BEC5",
                "#B0BEC5",
                "#B0BEC5",
                "#B0BEC5",
                "#B0BEC5",
                "#B0BEC5",
                "#B0BEC5",
                "#B0BEC5",
                "#B0BEC5",
                "#B0BEC5",
                "#B0BEC5",
                "#B0BEC5",
                "#B0BEC5",
                "#B0BEC5",
                "#B0BEC5",
                "#B0BEC5",
                "#B0BEC5",
                "#B0BEC5",
                "#B0BEC5",
                "#B0BEC5",
                "#B0BEC5",
                "#B0BEC5",
                "#B0BEC5",
                "#B0BEC5",
                "#B0BEC5",
                "#B0BEC5",
                "#B0BEC5",
                "#B0BEC5",
                "#B0BEC5",
                "#B0BEC5",
                "#B0BEC5",
                "#B0BEC5",
                "#B0BEC5",
                "#B0BEC5",
                "#B0BEC5",
                "#B0BEC5",
                "#B0BEC5",
                "#B0BEC5",
                "#B0BEC5",
                "#B0BEC5",
                "#B0BEC5",
                "#B0BEC5",
                "#B0BEC5",
                "#B0BEC5",
                "#B0BEC5",
                "#B0BEC5",
                "#B0BEC5",
                "#B0BEC5",
                "#B0BEC5",
                "red",
                "#B0BEC5",
                "#B0BEC5",
                "#B0BEC5",
                "#B0BEC5",
                "#B0BEC5",
                "#B0BEC5",
                "#B0BEC5",
                "#B0BEC5",
                "#B0BEC5",
                "#B0BEC5",
                "#B0BEC5",
                "#B0BEC5",
                "#B0BEC5",
                "#B0BEC5",
                "#B0BEC5",
                "#B0BEC5",
                "#B0BEC5",
                "#B0BEC5",
                "#B0BEC5",
                "#B0BEC5"
               ]
              ]
             }
            ],
            "label": "Topic 52",
            "method": "update"
           },
           {
            "args": [
             {
              "marker.color": [
               [
                "#B0BEC5",
                "#B0BEC5",
                "#B0BEC5",
                "#B0BEC5",
                "#B0BEC5",
                "#B0BEC5",
                "#B0BEC5",
                "#B0BEC5",
                "#B0BEC5",
                "#B0BEC5",
                "#B0BEC5",
                "#B0BEC5",
                "#B0BEC5",
                "#B0BEC5",
                "#B0BEC5",
                "#B0BEC5",
                "#B0BEC5",
                "#B0BEC5",
                "#B0BEC5",
                "#B0BEC5",
                "#B0BEC5",
                "#B0BEC5",
                "#B0BEC5",
                "#B0BEC5",
                "#B0BEC5",
                "#B0BEC5",
                "#B0BEC5",
                "#B0BEC5",
                "#B0BEC5",
                "#B0BEC5",
                "#B0BEC5",
                "#B0BEC5",
                "#B0BEC5",
                "#B0BEC5",
                "#B0BEC5",
                "#B0BEC5",
                "#B0BEC5",
                "#B0BEC5",
                "#B0BEC5",
                "#B0BEC5",
                "#B0BEC5",
                "#B0BEC5",
                "#B0BEC5",
                "#B0BEC5",
                "#B0BEC5",
                "#B0BEC5",
                "#B0BEC5",
                "#B0BEC5",
                "#B0BEC5",
                "#B0BEC5",
                "#B0BEC5",
                "#B0BEC5",
                "#B0BEC5",
                "red",
                "#B0BEC5",
                "#B0BEC5",
                "#B0BEC5",
                "#B0BEC5",
                "#B0BEC5",
                "#B0BEC5",
                "#B0BEC5",
                "#B0BEC5",
                "#B0BEC5",
                "#B0BEC5",
                "#B0BEC5",
                "#B0BEC5",
                "#B0BEC5",
                "#B0BEC5",
                "#B0BEC5",
                "#B0BEC5",
                "#B0BEC5",
                "#B0BEC5",
                "#B0BEC5"
               ]
              ]
             }
            ],
            "label": "Topic 53",
            "method": "update"
           },
           {
            "args": [
             {
              "marker.color": [
               [
                "#B0BEC5",
                "#B0BEC5",
                "#B0BEC5",
                "#B0BEC5",
                "#B0BEC5",
                "#B0BEC5",
                "#B0BEC5",
                "#B0BEC5",
                "#B0BEC5",
                "#B0BEC5",
                "#B0BEC5",
                "#B0BEC5",
                "#B0BEC5",
                "#B0BEC5",
                "#B0BEC5",
                "#B0BEC5",
                "#B0BEC5",
                "#B0BEC5",
                "#B0BEC5",
                "#B0BEC5",
                "#B0BEC5",
                "#B0BEC5",
                "#B0BEC5",
                "#B0BEC5",
                "#B0BEC5",
                "#B0BEC5",
                "#B0BEC5",
                "#B0BEC5",
                "#B0BEC5",
                "#B0BEC5",
                "#B0BEC5",
                "#B0BEC5",
                "#B0BEC5",
                "#B0BEC5",
                "#B0BEC5",
                "#B0BEC5",
                "#B0BEC5",
                "#B0BEC5",
                "#B0BEC5",
                "#B0BEC5",
                "#B0BEC5",
                "#B0BEC5",
                "#B0BEC5",
                "#B0BEC5",
                "#B0BEC5",
                "#B0BEC5",
                "#B0BEC5",
                "#B0BEC5",
                "#B0BEC5",
                "#B0BEC5",
                "#B0BEC5",
                "#B0BEC5",
                "#B0BEC5",
                "#B0BEC5",
                "red",
                "#B0BEC5",
                "#B0BEC5",
                "#B0BEC5",
                "#B0BEC5",
                "#B0BEC5",
                "#B0BEC5",
                "#B0BEC5",
                "#B0BEC5",
                "#B0BEC5",
                "#B0BEC5",
                "#B0BEC5",
                "#B0BEC5",
                "#B0BEC5",
                "#B0BEC5",
                "#B0BEC5",
                "#B0BEC5",
                "#B0BEC5",
                "#B0BEC5"
               ]
              ]
             }
            ],
            "label": "Topic 54",
            "method": "update"
           },
           {
            "args": [
             {
              "marker.color": [
               [
                "#B0BEC5",
                "#B0BEC5",
                "#B0BEC5",
                "#B0BEC5",
                "#B0BEC5",
                "#B0BEC5",
                "#B0BEC5",
                "#B0BEC5",
                "#B0BEC5",
                "#B0BEC5",
                "#B0BEC5",
                "#B0BEC5",
                "#B0BEC5",
                "#B0BEC5",
                "#B0BEC5",
                "#B0BEC5",
                "#B0BEC5",
                "#B0BEC5",
                "#B0BEC5",
                "#B0BEC5",
                "#B0BEC5",
                "#B0BEC5",
                "#B0BEC5",
                "#B0BEC5",
                "#B0BEC5",
                "#B0BEC5",
                "#B0BEC5",
                "#B0BEC5",
                "#B0BEC5",
                "#B0BEC5",
                "#B0BEC5",
                "#B0BEC5",
                "#B0BEC5",
                "#B0BEC5",
                "#B0BEC5",
                "#B0BEC5",
                "#B0BEC5",
                "#B0BEC5",
                "#B0BEC5",
                "#B0BEC5",
                "#B0BEC5",
                "#B0BEC5",
                "#B0BEC5",
                "#B0BEC5",
                "#B0BEC5",
                "#B0BEC5",
                "#B0BEC5",
                "#B0BEC5",
                "#B0BEC5",
                "#B0BEC5",
                "#B0BEC5",
                "#B0BEC5",
                "#B0BEC5",
                "#B0BEC5",
                "#B0BEC5",
                "red",
                "#B0BEC5",
                "#B0BEC5",
                "#B0BEC5",
                "#B0BEC5",
                "#B0BEC5",
                "#B0BEC5",
                "#B0BEC5",
                "#B0BEC5",
                "#B0BEC5",
                "#B0BEC5",
                "#B0BEC5",
                "#B0BEC5",
                "#B0BEC5",
                "#B0BEC5",
                "#B0BEC5",
                "#B0BEC5",
                "#B0BEC5"
               ]
              ]
             }
            ],
            "label": "Topic 55",
            "method": "update"
           },
           {
            "args": [
             {
              "marker.color": [
               [
                "#B0BEC5",
                "#B0BEC5",
                "#B0BEC5",
                "#B0BEC5",
                "#B0BEC5",
                "#B0BEC5",
                "#B0BEC5",
                "#B0BEC5",
                "#B0BEC5",
                "#B0BEC5",
                "#B0BEC5",
                "#B0BEC5",
                "#B0BEC5",
                "#B0BEC5",
                "#B0BEC5",
                "#B0BEC5",
                "#B0BEC5",
                "#B0BEC5",
                "#B0BEC5",
                "#B0BEC5",
                "#B0BEC5",
                "#B0BEC5",
                "#B0BEC5",
                "#B0BEC5",
                "#B0BEC5",
                "#B0BEC5",
                "#B0BEC5",
                "#B0BEC5",
                "#B0BEC5",
                "#B0BEC5",
                "#B0BEC5",
                "#B0BEC5",
                "#B0BEC5",
                "#B0BEC5",
                "#B0BEC5",
                "#B0BEC5",
                "#B0BEC5",
                "#B0BEC5",
                "#B0BEC5",
                "#B0BEC5",
                "#B0BEC5",
                "#B0BEC5",
                "#B0BEC5",
                "#B0BEC5",
                "#B0BEC5",
                "#B0BEC5",
                "#B0BEC5",
                "#B0BEC5",
                "#B0BEC5",
                "#B0BEC5",
                "#B0BEC5",
                "#B0BEC5",
                "#B0BEC5",
                "#B0BEC5",
                "#B0BEC5",
                "#B0BEC5",
                "red",
                "#B0BEC5",
                "#B0BEC5",
                "#B0BEC5",
                "#B0BEC5",
                "#B0BEC5",
                "#B0BEC5",
                "#B0BEC5",
                "#B0BEC5",
                "#B0BEC5",
                "#B0BEC5",
                "#B0BEC5",
                "#B0BEC5",
                "#B0BEC5",
                "#B0BEC5",
                "#B0BEC5",
                "#B0BEC5"
               ]
              ]
             }
            ],
            "label": "Topic 56",
            "method": "update"
           },
           {
            "args": [
             {
              "marker.color": [
               [
                "#B0BEC5",
                "#B0BEC5",
                "#B0BEC5",
                "#B0BEC5",
                "#B0BEC5",
                "#B0BEC5",
                "#B0BEC5",
                "#B0BEC5",
                "#B0BEC5",
                "#B0BEC5",
                "#B0BEC5",
                "#B0BEC5",
                "#B0BEC5",
                "#B0BEC5",
                "#B0BEC5",
                "#B0BEC5",
                "#B0BEC5",
                "#B0BEC5",
                "#B0BEC5",
                "#B0BEC5",
                "#B0BEC5",
                "#B0BEC5",
                "#B0BEC5",
                "#B0BEC5",
                "#B0BEC5",
                "#B0BEC5",
                "#B0BEC5",
                "#B0BEC5",
                "#B0BEC5",
                "#B0BEC5",
                "#B0BEC5",
                "#B0BEC5",
                "#B0BEC5",
                "#B0BEC5",
                "#B0BEC5",
                "#B0BEC5",
                "#B0BEC5",
                "#B0BEC5",
                "#B0BEC5",
                "#B0BEC5",
                "#B0BEC5",
                "#B0BEC5",
                "#B0BEC5",
                "#B0BEC5",
                "#B0BEC5",
                "#B0BEC5",
                "#B0BEC5",
                "#B0BEC5",
                "#B0BEC5",
                "#B0BEC5",
                "#B0BEC5",
                "#B0BEC5",
                "#B0BEC5",
                "#B0BEC5",
                "#B0BEC5",
                "#B0BEC5",
                "#B0BEC5",
                "red",
                "#B0BEC5",
                "#B0BEC5",
                "#B0BEC5",
                "#B0BEC5",
                "#B0BEC5",
                "#B0BEC5",
                "#B0BEC5",
                "#B0BEC5",
                "#B0BEC5",
                "#B0BEC5",
                "#B0BEC5",
                "#B0BEC5",
                "#B0BEC5",
                "#B0BEC5",
                "#B0BEC5"
               ]
              ]
             }
            ],
            "label": "Topic 57",
            "method": "update"
           },
           {
            "args": [
             {
              "marker.color": [
               [
                "#B0BEC5",
                "#B0BEC5",
                "#B0BEC5",
                "#B0BEC5",
                "#B0BEC5",
                "#B0BEC5",
                "#B0BEC5",
                "#B0BEC5",
                "#B0BEC5",
                "#B0BEC5",
                "#B0BEC5",
                "#B0BEC5",
                "#B0BEC5",
                "#B0BEC5",
                "#B0BEC5",
                "#B0BEC5",
                "#B0BEC5",
                "#B0BEC5",
                "#B0BEC5",
                "#B0BEC5",
                "#B0BEC5",
                "#B0BEC5",
                "#B0BEC5",
                "#B0BEC5",
                "#B0BEC5",
                "#B0BEC5",
                "#B0BEC5",
                "#B0BEC5",
                "#B0BEC5",
                "#B0BEC5",
                "#B0BEC5",
                "#B0BEC5",
                "#B0BEC5",
                "#B0BEC5",
                "#B0BEC5",
                "#B0BEC5",
                "#B0BEC5",
                "#B0BEC5",
                "#B0BEC5",
                "#B0BEC5",
                "#B0BEC5",
                "#B0BEC5",
                "#B0BEC5",
                "#B0BEC5",
                "#B0BEC5",
                "#B0BEC5",
                "#B0BEC5",
                "#B0BEC5",
                "#B0BEC5",
                "#B0BEC5",
                "#B0BEC5",
                "#B0BEC5",
                "#B0BEC5",
                "#B0BEC5",
                "#B0BEC5",
                "#B0BEC5",
                "#B0BEC5",
                "#B0BEC5",
                "red",
                "#B0BEC5",
                "#B0BEC5",
                "#B0BEC5",
                "#B0BEC5",
                "#B0BEC5",
                "#B0BEC5",
                "#B0BEC5",
                "#B0BEC5",
                "#B0BEC5",
                "#B0BEC5",
                "#B0BEC5",
                "#B0BEC5",
                "#B0BEC5",
                "#B0BEC5"
               ]
              ]
             }
            ],
            "label": "Topic 58",
            "method": "update"
           },
           {
            "args": [
             {
              "marker.color": [
               [
                "#B0BEC5",
                "#B0BEC5",
                "#B0BEC5",
                "#B0BEC5",
                "#B0BEC5",
                "#B0BEC5",
                "#B0BEC5",
                "#B0BEC5",
                "#B0BEC5",
                "#B0BEC5",
                "#B0BEC5",
                "#B0BEC5",
                "#B0BEC5",
                "#B0BEC5",
                "#B0BEC5",
                "#B0BEC5",
                "#B0BEC5",
                "#B0BEC5",
                "#B0BEC5",
                "#B0BEC5",
                "#B0BEC5",
                "#B0BEC5",
                "#B0BEC5",
                "#B0BEC5",
                "#B0BEC5",
                "#B0BEC5",
                "#B0BEC5",
                "#B0BEC5",
                "#B0BEC5",
                "#B0BEC5",
                "#B0BEC5",
                "#B0BEC5",
                "#B0BEC5",
                "#B0BEC5",
                "#B0BEC5",
                "#B0BEC5",
                "#B0BEC5",
                "#B0BEC5",
                "#B0BEC5",
                "#B0BEC5",
                "#B0BEC5",
                "#B0BEC5",
                "#B0BEC5",
                "#B0BEC5",
                "#B0BEC5",
                "#B0BEC5",
                "#B0BEC5",
                "#B0BEC5",
                "#B0BEC5",
                "#B0BEC5",
                "#B0BEC5",
                "#B0BEC5",
                "#B0BEC5",
                "#B0BEC5",
                "#B0BEC5",
                "#B0BEC5",
                "#B0BEC5",
                "#B0BEC5",
                "#B0BEC5",
                "red",
                "#B0BEC5",
                "#B0BEC5",
                "#B0BEC5",
                "#B0BEC5",
                "#B0BEC5",
                "#B0BEC5",
                "#B0BEC5",
                "#B0BEC5",
                "#B0BEC5",
                "#B0BEC5",
                "#B0BEC5",
                "#B0BEC5",
                "#B0BEC5"
               ]
              ]
             }
            ],
            "label": "Topic 59",
            "method": "update"
           },
           {
            "args": [
             {
              "marker.color": [
               [
                "#B0BEC5",
                "#B0BEC5",
                "#B0BEC5",
                "#B0BEC5",
                "#B0BEC5",
                "#B0BEC5",
                "#B0BEC5",
                "#B0BEC5",
                "#B0BEC5",
                "#B0BEC5",
                "#B0BEC5",
                "#B0BEC5",
                "#B0BEC5",
                "#B0BEC5",
                "#B0BEC5",
                "#B0BEC5",
                "#B0BEC5",
                "#B0BEC5",
                "#B0BEC5",
                "#B0BEC5",
                "#B0BEC5",
                "#B0BEC5",
                "#B0BEC5",
                "#B0BEC5",
                "#B0BEC5",
                "#B0BEC5",
                "#B0BEC5",
                "#B0BEC5",
                "#B0BEC5",
                "#B0BEC5",
                "#B0BEC5",
                "#B0BEC5",
                "#B0BEC5",
                "#B0BEC5",
                "#B0BEC5",
                "#B0BEC5",
                "#B0BEC5",
                "#B0BEC5",
                "#B0BEC5",
                "#B0BEC5",
                "#B0BEC5",
                "#B0BEC5",
                "#B0BEC5",
                "#B0BEC5",
                "#B0BEC5",
                "#B0BEC5",
                "#B0BEC5",
                "#B0BEC5",
                "#B0BEC5",
                "#B0BEC5",
                "#B0BEC5",
                "#B0BEC5",
                "#B0BEC5",
                "#B0BEC5",
                "#B0BEC5",
                "#B0BEC5",
                "#B0BEC5",
                "#B0BEC5",
                "#B0BEC5",
                "#B0BEC5",
                "red",
                "#B0BEC5",
                "#B0BEC5",
                "#B0BEC5",
                "#B0BEC5",
                "#B0BEC5",
                "#B0BEC5",
                "#B0BEC5",
                "#B0BEC5",
                "#B0BEC5",
                "#B0BEC5",
                "#B0BEC5",
                "#B0BEC5"
               ]
              ]
             }
            ],
            "label": "Topic 60",
            "method": "update"
           },
           {
            "args": [
             {
              "marker.color": [
               [
                "#B0BEC5",
                "#B0BEC5",
                "#B0BEC5",
                "#B0BEC5",
                "#B0BEC5",
                "#B0BEC5",
                "#B0BEC5",
                "#B0BEC5",
                "#B0BEC5",
                "#B0BEC5",
                "#B0BEC5",
                "#B0BEC5",
                "#B0BEC5",
                "#B0BEC5",
                "#B0BEC5",
                "#B0BEC5",
                "#B0BEC5",
                "#B0BEC5",
                "#B0BEC5",
                "#B0BEC5",
                "#B0BEC5",
                "#B0BEC5",
                "#B0BEC5",
                "#B0BEC5",
                "#B0BEC5",
                "#B0BEC5",
                "#B0BEC5",
                "#B0BEC5",
                "#B0BEC5",
                "#B0BEC5",
                "#B0BEC5",
                "#B0BEC5",
                "#B0BEC5",
                "#B0BEC5",
                "#B0BEC5",
                "#B0BEC5",
                "#B0BEC5",
                "#B0BEC5",
                "#B0BEC5",
                "#B0BEC5",
                "#B0BEC5",
                "#B0BEC5",
                "#B0BEC5",
                "#B0BEC5",
                "#B0BEC5",
                "#B0BEC5",
                "#B0BEC5",
                "#B0BEC5",
                "#B0BEC5",
                "#B0BEC5",
                "#B0BEC5",
                "#B0BEC5",
                "#B0BEC5",
                "#B0BEC5",
                "#B0BEC5",
                "#B0BEC5",
                "#B0BEC5",
                "#B0BEC5",
                "#B0BEC5",
                "#B0BEC5",
                "#B0BEC5",
                "red",
                "#B0BEC5",
                "#B0BEC5",
                "#B0BEC5",
                "#B0BEC5",
                "#B0BEC5",
                "#B0BEC5",
                "#B0BEC5",
                "#B0BEC5",
                "#B0BEC5",
                "#B0BEC5",
                "#B0BEC5"
               ]
              ]
             }
            ],
            "label": "Topic 61",
            "method": "update"
           },
           {
            "args": [
             {
              "marker.color": [
               [
                "#B0BEC5",
                "#B0BEC5",
                "#B0BEC5",
                "#B0BEC5",
                "#B0BEC5",
                "#B0BEC5",
                "#B0BEC5",
                "#B0BEC5",
                "#B0BEC5",
                "#B0BEC5",
                "#B0BEC5",
                "#B0BEC5",
                "#B0BEC5",
                "#B0BEC5",
                "#B0BEC5",
                "#B0BEC5",
                "#B0BEC5",
                "#B0BEC5",
                "#B0BEC5",
                "#B0BEC5",
                "#B0BEC5",
                "#B0BEC5",
                "#B0BEC5",
                "#B0BEC5",
                "#B0BEC5",
                "#B0BEC5",
                "#B0BEC5",
                "#B0BEC5",
                "#B0BEC5",
                "#B0BEC5",
                "#B0BEC5",
                "#B0BEC5",
                "#B0BEC5",
                "#B0BEC5",
                "#B0BEC5",
                "#B0BEC5",
                "#B0BEC5",
                "#B0BEC5",
                "#B0BEC5",
                "#B0BEC5",
                "#B0BEC5",
                "#B0BEC5",
                "#B0BEC5",
                "#B0BEC5",
                "#B0BEC5",
                "#B0BEC5",
                "#B0BEC5",
                "#B0BEC5",
                "#B0BEC5",
                "#B0BEC5",
                "#B0BEC5",
                "#B0BEC5",
                "#B0BEC5",
                "#B0BEC5",
                "#B0BEC5",
                "#B0BEC5",
                "#B0BEC5",
                "#B0BEC5",
                "#B0BEC5",
                "#B0BEC5",
                "#B0BEC5",
                "#B0BEC5",
                "red",
                "#B0BEC5",
                "#B0BEC5",
                "#B0BEC5",
                "#B0BEC5",
                "#B0BEC5",
                "#B0BEC5",
                "#B0BEC5",
                "#B0BEC5",
                "#B0BEC5",
                "#B0BEC5"
               ]
              ]
             }
            ],
            "label": "Topic 62",
            "method": "update"
           },
           {
            "args": [
             {
              "marker.color": [
               [
                "#B0BEC5",
                "#B0BEC5",
                "#B0BEC5",
                "#B0BEC5",
                "#B0BEC5",
                "#B0BEC5",
                "#B0BEC5",
                "#B0BEC5",
                "#B0BEC5",
                "#B0BEC5",
                "#B0BEC5",
                "#B0BEC5",
                "#B0BEC5",
                "#B0BEC5",
                "#B0BEC5",
                "#B0BEC5",
                "#B0BEC5",
                "#B0BEC5",
                "#B0BEC5",
                "#B0BEC5",
                "#B0BEC5",
                "#B0BEC5",
                "#B0BEC5",
                "#B0BEC5",
                "#B0BEC5",
                "#B0BEC5",
                "#B0BEC5",
                "#B0BEC5",
                "#B0BEC5",
                "#B0BEC5",
                "#B0BEC5",
                "#B0BEC5",
                "#B0BEC5",
                "#B0BEC5",
                "#B0BEC5",
                "#B0BEC5",
                "#B0BEC5",
                "#B0BEC5",
                "#B0BEC5",
                "#B0BEC5",
                "#B0BEC5",
                "#B0BEC5",
                "#B0BEC5",
                "#B0BEC5",
                "#B0BEC5",
                "#B0BEC5",
                "#B0BEC5",
                "#B0BEC5",
                "#B0BEC5",
                "#B0BEC5",
                "#B0BEC5",
                "#B0BEC5",
                "#B0BEC5",
                "#B0BEC5",
                "#B0BEC5",
                "#B0BEC5",
                "#B0BEC5",
                "#B0BEC5",
                "#B0BEC5",
                "#B0BEC5",
                "#B0BEC5",
                "#B0BEC5",
                "#B0BEC5",
                "red",
                "#B0BEC5",
                "#B0BEC5",
                "#B0BEC5",
                "#B0BEC5",
                "#B0BEC5",
                "#B0BEC5",
                "#B0BEC5",
                "#B0BEC5",
                "#B0BEC5"
               ]
              ]
             }
            ],
            "label": "Topic 63",
            "method": "update"
           },
           {
            "args": [
             {
              "marker.color": [
               [
                "#B0BEC5",
                "#B0BEC5",
                "#B0BEC5",
                "#B0BEC5",
                "#B0BEC5",
                "#B0BEC5",
                "#B0BEC5",
                "#B0BEC5",
                "#B0BEC5",
                "#B0BEC5",
                "#B0BEC5",
                "#B0BEC5",
                "#B0BEC5",
                "#B0BEC5",
                "#B0BEC5",
                "#B0BEC5",
                "#B0BEC5",
                "#B0BEC5",
                "#B0BEC5",
                "#B0BEC5",
                "#B0BEC5",
                "#B0BEC5",
                "#B0BEC5",
                "#B0BEC5",
                "#B0BEC5",
                "#B0BEC5",
                "#B0BEC5",
                "#B0BEC5",
                "#B0BEC5",
                "#B0BEC5",
                "#B0BEC5",
                "#B0BEC5",
                "#B0BEC5",
                "#B0BEC5",
                "#B0BEC5",
                "#B0BEC5",
                "#B0BEC5",
                "#B0BEC5",
                "#B0BEC5",
                "#B0BEC5",
                "#B0BEC5",
                "#B0BEC5",
                "#B0BEC5",
                "#B0BEC5",
                "#B0BEC5",
                "#B0BEC5",
                "#B0BEC5",
                "#B0BEC5",
                "#B0BEC5",
                "#B0BEC5",
                "#B0BEC5",
                "#B0BEC5",
                "#B0BEC5",
                "#B0BEC5",
                "#B0BEC5",
                "#B0BEC5",
                "#B0BEC5",
                "#B0BEC5",
                "#B0BEC5",
                "#B0BEC5",
                "#B0BEC5",
                "#B0BEC5",
                "#B0BEC5",
                "#B0BEC5",
                "red",
                "#B0BEC5",
                "#B0BEC5",
                "#B0BEC5",
                "#B0BEC5",
                "#B0BEC5",
                "#B0BEC5",
                "#B0BEC5",
                "#B0BEC5"
               ]
              ]
             }
            ],
            "label": "Topic 64",
            "method": "update"
           },
           {
            "args": [
             {
              "marker.color": [
               [
                "#B0BEC5",
                "#B0BEC5",
                "#B0BEC5",
                "#B0BEC5",
                "#B0BEC5",
                "#B0BEC5",
                "#B0BEC5",
                "#B0BEC5",
                "#B0BEC5",
                "#B0BEC5",
                "#B0BEC5",
                "#B0BEC5",
                "#B0BEC5",
                "#B0BEC5",
                "#B0BEC5",
                "#B0BEC5",
                "#B0BEC5",
                "#B0BEC5",
                "#B0BEC5",
                "#B0BEC5",
                "#B0BEC5",
                "#B0BEC5",
                "#B0BEC5",
                "#B0BEC5",
                "#B0BEC5",
                "#B0BEC5",
                "#B0BEC5",
                "#B0BEC5",
                "#B0BEC5",
                "#B0BEC5",
                "#B0BEC5",
                "#B0BEC5",
                "#B0BEC5",
                "#B0BEC5",
                "#B0BEC5",
                "#B0BEC5",
                "#B0BEC5",
                "#B0BEC5",
                "#B0BEC5",
                "#B0BEC5",
                "#B0BEC5",
                "#B0BEC5",
                "#B0BEC5",
                "#B0BEC5",
                "#B0BEC5",
                "#B0BEC5",
                "#B0BEC5",
                "#B0BEC5",
                "#B0BEC5",
                "#B0BEC5",
                "#B0BEC5",
                "#B0BEC5",
                "#B0BEC5",
                "#B0BEC5",
                "#B0BEC5",
                "#B0BEC5",
                "#B0BEC5",
                "#B0BEC5",
                "#B0BEC5",
                "#B0BEC5",
                "#B0BEC5",
                "#B0BEC5",
                "#B0BEC5",
                "#B0BEC5",
                "#B0BEC5",
                "red",
                "#B0BEC5",
                "#B0BEC5",
                "#B0BEC5",
                "#B0BEC5",
                "#B0BEC5",
                "#B0BEC5",
                "#B0BEC5"
               ]
              ]
             }
            ],
            "label": "Topic 65",
            "method": "update"
           },
           {
            "args": [
             {
              "marker.color": [
               [
                "#B0BEC5",
                "#B0BEC5",
                "#B0BEC5",
                "#B0BEC5",
                "#B0BEC5",
                "#B0BEC5",
                "#B0BEC5",
                "#B0BEC5",
                "#B0BEC5",
                "#B0BEC5",
                "#B0BEC5",
                "#B0BEC5",
                "#B0BEC5",
                "#B0BEC5",
                "#B0BEC5",
                "#B0BEC5",
                "#B0BEC5",
                "#B0BEC5",
                "#B0BEC5",
                "#B0BEC5",
                "#B0BEC5",
                "#B0BEC5",
                "#B0BEC5",
                "#B0BEC5",
                "#B0BEC5",
                "#B0BEC5",
                "#B0BEC5",
                "#B0BEC5",
                "#B0BEC5",
                "#B0BEC5",
                "#B0BEC5",
                "#B0BEC5",
                "#B0BEC5",
                "#B0BEC5",
                "#B0BEC5",
                "#B0BEC5",
                "#B0BEC5",
                "#B0BEC5",
                "#B0BEC5",
                "#B0BEC5",
                "#B0BEC5",
                "#B0BEC5",
                "#B0BEC5",
                "#B0BEC5",
                "#B0BEC5",
                "#B0BEC5",
                "#B0BEC5",
                "#B0BEC5",
                "#B0BEC5",
                "#B0BEC5",
                "#B0BEC5",
                "#B0BEC5",
                "#B0BEC5",
                "#B0BEC5",
                "#B0BEC5",
                "#B0BEC5",
                "#B0BEC5",
                "#B0BEC5",
                "#B0BEC5",
                "#B0BEC5",
                "#B0BEC5",
                "#B0BEC5",
                "#B0BEC5",
                "#B0BEC5",
                "#B0BEC5",
                "#B0BEC5",
                "red",
                "#B0BEC5",
                "#B0BEC5",
                "#B0BEC5",
                "#B0BEC5",
                "#B0BEC5",
                "#B0BEC5"
               ]
              ]
             }
            ],
            "label": "Topic 66",
            "method": "update"
           },
           {
            "args": [
             {
              "marker.color": [
               [
                "#B0BEC5",
                "#B0BEC5",
                "#B0BEC5",
                "#B0BEC5",
                "#B0BEC5",
                "#B0BEC5",
                "#B0BEC5",
                "#B0BEC5",
                "#B0BEC5",
                "#B0BEC5",
                "#B0BEC5",
                "#B0BEC5",
                "#B0BEC5",
                "#B0BEC5",
                "#B0BEC5",
                "#B0BEC5",
                "#B0BEC5",
                "#B0BEC5",
                "#B0BEC5",
                "#B0BEC5",
                "#B0BEC5",
                "#B0BEC5",
                "#B0BEC5",
                "#B0BEC5",
                "#B0BEC5",
                "#B0BEC5",
                "#B0BEC5",
                "#B0BEC5",
                "#B0BEC5",
                "#B0BEC5",
                "#B0BEC5",
                "#B0BEC5",
                "#B0BEC5",
                "#B0BEC5",
                "#B0BEC5",
                "#B0BEC5",
                "#B0BEC5",
                "#B0BEC5",
                "#B0BEC5",
                "#B0BEC5",
                "#B0BEC5",
                "#B0BEC5",
                "#B0BEC5",
                "#B0BEC5",
                "#B0BEC5",
                "#B0BEC5",
                "#B0BEC5",
                "#B0BEC5",
                "#B0BEC5",
                "#B0BEC5",
                "#B0BEC5",
                "#B0BEC5",
                "#B0BEC5",
                "#B0BEC5",
                "#B0BEC5",
                "#B0BEC5",
                "#B0BEC5",
                "#B0BEC5",
                "#B0BEC5",
                "#B0BEC5",
                "#B0BEC5",
                "#B0BEC5",
                "#B0BEC5",
                "#B0BEC5",
                "#B0BEC5",
                "#B0BEC5",
                "#B0BEC5",
                "red",
                "#B0BEC5",
                "#B0BEC5",
                "#B0BEC5",
                "#B0BEC5",
                "#B0BEC5"
               ]
              ]
             }
            ],
            "label": "Topic 67",
            "method": "update"
           },
           {
            "args": [
             {
              "marker.color": [
               [
                "#B0BEC5",
                "#B0BEC5",
                "#B0BEC5",
                "#B0BEC5",
                "#B0BEC5",
                "#B0BEC5",
                "#B0BEC5",
                "#B0BEC5",
                "#B0BEC5",
                "#B0BEC5",
                "#B0BEC5",
                "#B0BEC5",
                "#B0BEC5",
                "#B0BEC5",
                "#B0BEC5",
                "#B0BEC5",
                "#B0BEC5",
                "#B0BEC5",
                "#B0BEC5",
                "#B0BEC5",
                "#B0BEC5",
                "#B0BEC5",
                "#B0BEC5",
                "#B0BEC5",
                "#B0BEC5",
                "#B0BEC5",
                "#B0BEC5",
                "#B0BEC5",
                "#B0BEC5",
                "#B0BEC5",
                "#B0BEC5",
                "#B0BEC5",
                "#B0BEC5",
                "#B0BEC5",
                "#B0BEC5",
                "#B0BEC5",
                "#B0BEC5",
                "#B0BEC5",
                "#B0BEC5",
                "#B0BEC5",
                "#B0BEC5",
                "#B0BEC5",
                "#B0BEC5",
                "#B0BEC5",
                "#B0BEC5",
                "#B0BEC5",
                "#B0BEC5",
                "#B0BEC5",
                "#B0BEC5",
                "#B0BEC5",
                "#B0BEC5",
                "#B0BEC5",
                "#B0BEC5",
                "#B0BEC5",
                "#B0BEC5",
                "#B0BEC5",
                "#B0BEC5",
                "#B0BEC5",
                "#B0BEC5",
                "#B0BEC5",
                "#B0BEC5",
                "#B0BEC5",
                "#B0BEC5",
                "#B0BEC5",
                "#B0BEC5",
                "#B0BEC5",
                "#B0BEC5",
                "#B0BEC5",
                "red",
                "#B0BEC5",
                "#B0BEC5",
                "#B0BEC5",
                "#B0BEC5"
               ]
              ]
             }
            ],
            "label": "Topic 68",
            "method": "update"
           },
           {
            "args": [
             {
              "marker.color": [
               [
                "#B0BEC5",
                "#B0BEC5",
                "#B0BEC5",
                "#B0BEC5",
                "#B0BEC5",
                "#B0BEC5",
                "#B0BEC5",
                "#B0BEC5",
                "#B0BEC5",
                "#B0BEC5",
                "#B0BEC5",
                "#B0BEC5",
                "#B0BEC5",
                "#B0BEC5",
                "#B0BEC5",
                "#B0BEC5",
                "#B0BEC5",
                "#B0BEC5",
                "#B0BEC5",
                "#B0BEC5",
                "#B0BEC5",
                "#B0BEC5",
                "#B0BEC5",
                "#B0BEC5",
                "#B0BEC5",
                "#B0BEC5",
                "#B0BEC5",
                "#B0BEC5",
                "#B0BEC5",
                "#B0BEC5",
                "#B0BEC5",
                "#B0BEC5",
                "#B0BEC5",
                "#B0BEC5",
                "#B0BEC5",
                "#B0BEC5",
                "#B0BEC5",
                "#B0BEC5",
                "#B0BEC5",
                "#B0BEC5",
                "#B0BEC5",
                "#B0BEC5",
                "#B0BEC5",
                "#B0BEC5",
                "#B0BEC5",
                "#B0BEC5",
                "#B0BEC5",
                "#B0BEC5",
                "#B0BEC5",
                "#B0BEC5",
                "#B0BEC5",
                "#B0BEC5",
                "#B0BEC5",
                "#B0BEC5",
                "#B0BEC5",
                "#B0BEC5",
                "#B0BEC5",
                "#B0BEC5",
                "#B0BEC5",
                "#B0BEC5",
                "#B0BEC5",
                "#B0BEC5",
                "#B0BEC5",
                "#B0BEC5",
                "#B0BEC5",
                "#B0BEC5",
                "#B0BEC5",
                "#B0BEC5",
                "#B0BEC5",
                "red",
                "#B0BEC5",
                "#B0BEC5",
                "#B0BEC5"
               ]
              ]
             }
            ],
            "label": "Topic 69",
            "method": "update"
           },
           {
            "args": [
             {
              "marker.color": [
               [
                "#B0BEC5",
                "#B0BEC5",
                "#B0BEC5",
                "#B0BEC5",
                "#B0BEC5",
                "#B0BEC5",
                "#B0BEC5",
                "#B0BEC5",
                "#B0BEC5",
                "#B0BEC5",
                "#B0BEC5",
                "#B0BEC5",
                "#B0BEC5",
                "#B0BEC5",
                "#B0BEC5",
                "#B0BEC5",
                "#B0BEC5",
                "#B0BEC5",
                "#B0BEC5",
                "#B0BEC5",
                "#B0BEC5",
                "#B0BEC5",
                "#B0BEC5",
                "#B0BEC5",
                "#B0BEC5",
                "#B0BEC5",
                "#B0BEC5",
                "#B0BEC5",
                "#B0BEC5",
                "#B0BEC5",
                "#B0BEC5",
                "#B0BEC5",
                "#B0BEC5",
                "#B0BEC5",
                "#B0BEC5",
                "#B0BEC5",
                "#B0BEC5",
                "#B0BEC5",
                "#B0BEC5",
                "#B0BEC5",
                "#B0BEC5",
                "#B0BEC5",
                "#B0BEC5",
                "#B0BEC5",
                "#B0BEC5",
                "#B0BEC5",
                "#B0BEC5",
                "#B0BEC5",
                "#B0BEC5",
                "#B0BEC5",
                "#B0BEC5",
                "#B0BEC5",
                "#B0BEC5",
                "#B0BEC5",
                "#B0BEC5",
                "#B0BEC5",
                "#B0BEC5",
                "#B0BEC5",
                "#B0BEC5",
                "#B0BEC5",
                "#B0BEC5",
                "#B0BEC5",
                "#B0BEC5",
                "#B0BEC5",
                "#B0BEC5",
                "#B0BEC5",
                "#B0BEC5",
                "#B0BEC5",
                "#B0BEC5",
                "#B0BEC5",
                "red",
                "#B0BEC5",
                "#B0BEC5"
               ]
              ]
             }
            ],
            "label": "Topic 70",
            "method": "update"
           },
           {
            "args": [
             {
              "marker.color": [
               [
                "#B0BEC5",
                "#B0BEC5",
                "#B0BEC5",
                "#B0BEC5",
                "#B0BEC5",
                "#B0BEC5",
                "#B0BEC5",
                "#B0BEC5",
                "#B0BEC5",
                "#B0BEC5",
                "#B0BEC5",
                "#B0BEC5",
                "#B0BEC5",
                "#B0BEC5",
                "#B0BEC5",
                "#B0BEC5",
                "#B0BEC5",
                "#B0BEC5",
                "#B0BEC5",
                "#B0BEC5",
                "#B0BEC5",
                "#B0BEC5",
                "#B0BEC5",
                "#B0BEC5",
                "#B0BEC5",
                "#B0BEC5",
                "#B0BEC5",
                "#B0BEC5",
                "#B0BEC5",
                "#B0BEC5",
                "#B0BEC5",
                "#B0BEC5",
                "#B0BEC5",
                "#B0BEC5",
                "#B0BEC5",
                "#B0BEC5",
                "#B0BEC5",
                "#B0BEC5",
                "#B0BEC5",
                "#B0BEC5",
                "#B0BEC5",
                "#B0BEC5",
                "#B0BEC5",
                "#B0BEC5",
                "#B0BEC5",
                "#B0BEC5",
                "#B0BEC5",
                "#B0BEC5",
                "#B0BEC5",
                "#B0BEC5",
                "#B0BEC5",
                "#B0BEC5",
                "#B0BEC5",
                "#B0BEC5",
                "#B0BEC5",
                "#B0BEC5",
                "#B0BEC5",
                "#B0BEC5",
                "#B0BEC5",
                "#B0BEC5",
                "#B0BEC5",
                "#B0BEC5",
                "#B0BEC5",
                "#B0BEC5",
                "#B0BEC5",
                "#B0BEC5",
                "#B0BEC5",
                "#B0BEC5",
                "#B0BEC5",
                "#B0BEC5",
                "#B0BEC5",
                "red",
                "#B0BEC5"
               ]
              ]
             }
            ],
            "label": "Topic 71",
            "method": "update"
           },
           {
            "args": [
             {
              "marker.color": [
               [
                "#B0BEC5",
                "#B0BEC5",
                "#B0BEC5",
                "#B0BEC5",
                "#B0BEC5",
                "#B0BEC5",
                "#B0BEC5",
                "#B0BEC5",
                "#B0BEC5",
                "#B0BEC5",
                "#B0BEC5",
                "#B0BEC5",
                "#B0BEC5",
                "#B0BEC5",
                "#B0BEC5",
                "#B0BEC5",
                "#B0BEC5",
                "#B0BEC5",
                "#B0BEC5",
                "#B0BEC5",
                "#B0BEC5",
                "#B0BEC5",
                "#B0BEC5",
                "#B0BEC5",
                "#B0BEC5",
                "#B0BEC5",
                "#B0BEC5",
                "#B0BEC5",
                "#B0BEC5",
                "#B0BEC5",
                "#B0BEC5",
                "#B0BEC5",
                "#B0BEC5",
                "#B0BEC5",
                "#B0BEC5",
                "#B0BEC5",
                "#B0BEC5",
                "#B0BEC5",
                "#B0BEC5",
                "#B0BEC5",
                "#B0BEC5",
                "#B0BEC5",
                "#B0BEC5",
                "#B0BEC5",
                "#B0BEC5",
                "#B0BEC5",
                "#B0BEC5",
                "#B0BEC5",
                "#B0BEC5",
                "#B0BEC5",
                "#B0BEC5",
                "#B0BEC5",
                "#B0BEC5",
                "#B0BEC5",
                "#B0BEC5",
                "#B0BEC5",
                "#B0BEC5",
                "#B0BEC5",
                "#B0BEC5",
                "#B0BEC5",
                "#B0BEC5",
                "#B0BEC5",
                "#B0BEC5",
                "#B0BEC5",
                "#B0BEC5",
                "#B0BEC5",
                "#B0BEC5",
                "#B0BEC5",
                "#B0BEC5",
                "#B0BEC5",
                "#B0BEC5",
                "#B0BEC5",
                "red"
               ]
              ]
             }
            ],
            "label": "Topic 72",
            "method": "update"
           }
          ]
         }
        ],
        "template": {
         "data": {
          "bar": [
           {
            "error_x": {
             "color": "rgb(36,36,36)"
            },
            "error_y": {
             "color": "rgb(36,36,36)"
            },
            "marker": {
             "line": {
              "color": "white",
              "width": 0.5
             },
             "pattern": {
              "fillmode": "overlay",
              "size": 10,
              "solidity": 0.2
             }
            },
            "type": "bar"
           }
          ],
          "barpolar": [
           {
            "marker": {
             "line": {
              "color": "white",
              "width": 0.5
             },
             "pattern": {
              "fillmode": "overlay",
              "size": 10,
              "solidity": 0.2
             }
            },
            "type": "barpolar"
           }
          ],
          "carpet": [
           {
            "aaxis": {
             "endlinecolor": "rgb(36,36,36)",
             "gridcolor": "white",
             "linecolor": "white",
             "minorgridcolor": "white",
             "startlinecolor": "rgb(36,36,36)"
            },
            "baxis": {
             "endlinecolor": "rgb(36,36,36)",
             "gridcolor": "white",
             "linecolor": "white",
             "minorgridcolor": "white",
             "startlinecolor": "rgb(36,36,36)"
            },
            "type": "carpet"
           }
          ],
          "choropleth": [
           {
            "colorbar": {
             "outlinewidth": 1,
             "tickcolor": "rgb(36,36,36)",
             "ticks": "outside"
            },
            "type": "choropleth"
           }
          ],
          "contour": [
           {
            "colorbar": {
             "outlinewidth": 1,
             "tickcolor": "rgb(36,36,36)",
             "ticks": "outside"
            },
            "colorscale": [
             [
              0,
              "#440154"
             ],
             [
              0.1111111111111111,
              "#482878"
             ],
             [
              0.2222222222222222,
              "#3e4989"
             ],
             [
              0.3333333333333333,
              "#31688e"
             ],
             [
              0.4444444444444444,
              "#26828e"
             ],
             [
              0.5555555555555556,
              "#1f9e89"
             ],
             [
              0.6666666666666666,
              "#35b779"
             ],
             [
              0.7777777777777778,
              "#6ece58"
             ],
             [
              0.8888888888888888,
              "#b5de2b"
             ],
             [
              1,
              "#fde725"
             ]
            ],
            "type": "contour"
           }
          ],
          "contourcarpet": [
           {
            "colorbar": {
             "outlinewidth": 1,
             "tickcolor": "rgb(36,36,36)",
             "ticks": "outside"
            },
            "type": "contourcarpet"
           }
          ],
          "heatmap": [
           {
            "colorbar": {
             "outlinewidth": 1,
             "tickcolor": "rgb(36,36,36)",
             "ticks": "outside"
            },
            "colorscale": [
             [
              0,
              "#440154"
             ],
             [
              0.1111111111111111,
              "#482878"
             ],
             [
              0.2222222222222222,
              "#3e4989"
             ],
             [
              0.3333333333333333,
              "#31688e"
             ],
             [
              0.4444444444444444,
              "#26828e"
             ],
             [
              0.5555555555555556,
              "#1f9e89"
             ],
             [
              0.6666666666666666,
              "#35b779"
             ],
             [
              0.7777777777777778,
              "#6ece58"
             ],
             [
              0.8888888888888888,
              "#b5de2b"
             ],
             [
              1,
              "#fde725"
             ]
            ],
            "type": "heatmap"
           }
          ],
          "heatmapgl": [
           {
            "colorbar": {
             "outlinewidth": 1,
             "tickcolor": "rgb(36,36,36)",
             "ticks": "outside"
            },
            "colorscale": [
             [
              0,
              "#440154"
             ],
             [
              0.1111111111111111,
              "#482878"
             ],
             [
              0.2222222222222222,
              "#3e4989"
             ],
             [
              0.3333333333333333,
              "#31688e"
             ],
             [
              0.4444444444444444,
              "#26828e"
             ],
             [
              0.5555555555555556,
              "#1f9e89"
             ],
             [
              0.6666666666666666,
              "#35b779"
             ],
             [
              0.7777777777777778,
              "#6ece58"
             ],
             [
              0.8888888888888888,
              "#b5de2b"
             ],
             [
              1,
              "#fde725"
             ]
            ],
            "type": "heatmapgl"
           }
          ],
          "histogram": [
           {
            "marker": {
             "line": {
              "color": "white",
              "width": 0.6
             }
            },
            "type": "histogram"
           }
          ],
          "histogram2d": [
           {
            "colorbar": {
             "outlinewidth": 1,
             "tickcolor": "rgb(36,36,36)",
             "ticks": "outside"
            },
            "colorscale": [
             [
              0,
              "#440154"
             ],
             [
              0.1111111111111111,
              "#482878"
             ],
             [
              0.2222222222222222,
              "#3e4989"
             ],
             [
              0.3333333333333333,
              "#31688e"
             ],
             [
              0.4444444444444444,
              "#26828e"
             ],
             [
              0.5555555555555556,
              "#1f9e89"
             ],
             [
              0.6666666666666666,
              "#35b779"
             ],
             [
              0.7777777777777778,
              "#6ece58"
             ],
             [
              0.8888888888888888,
              "#b5de2b"
             ],
             [
              1,
              "#fde725"
             ]
            ],
            "type": "histogram2d"
           }
          ],
          "histogram2dcontour": [
           {
            "colorbar": {
             "outlinewidth": 1,
             "tickcolor": "rgb(36,36,36)",
             "ticks": "outside"
            },
            "colorscale": [
             [
              0,
              "#440154"
             ],
             [
              0.1111111111111111,
              "#482878"
             ],
             [
              0.2222222222222222,
              "#3e4989"
             ],
             [
              0.3333333333333333,
              "#31688e"
             ],
             [
              0.4444444444444444,
              "#26828e"
             ],
             [
              0.5555555555555556,
              "#1f9e89"
             ],
             [
              0.6666666666666666,
              "#35b779"
             ],
             [
              0.7777777777777778,
              "#6ece58"
             ],
             [
              0.8888888888888888,
              "#b5de2b"
             ],
             [
              1,
              "#fde725"
             ]
            ],
            "type": "histogram2dcontour"
           }
          ],
          "mesh3d": [
           {
            "colorbar": {
             "outlinewidth": 1,
             "tickcolor": "rgb(36,36,36)",
             "ticks": "outside"
            },
            "type": "mesh3d"
           }
          ],
          "parcoords": [
           {
            "line": {
             "colorbar": {
              "outlinewidth": 1,
              "tickcolor": "rgb(36,36,36)",
              "ticks": "outside"
             }
            },
            "type": "parcoords"
           }
          ],
          "pie": [
           {
            "automargin": true,
            "type": "pie"
           }
          ],
          "scatter": [
           {
            "fillpattern": {
             "fillmode": "overlay",
             "size": 10,
             "solidity": 0.2
            },
            "type": "scatter"
           }
          ],
          "scatter3d": [
           {
            "line": {
             "colorbar": {
              "outlinewidth": 1,
              "tickcolor": "rgb(36,36,36)",
              "ticks": "outside"
             }
            },
            "marker": {
             "colorbar": {
              "outlinewidth": 1,
              "tickcolor": "rgb(36,36,36)",
              "ticks": "outside"
             }
            },
            "type": "scatter3d"
           }
          ],
          "scattercarpet": [
           {
            "marker": {
             "colorbar": {
              "outlinewidth": 1,
              "tickcolor": "rgb(36,36,36)",
              "ticks": "outside"
             }
            },
            "type": "scattercarpet"
           }
          ],
          "scattergeo": [
           {
            "marker": {
             "colorbar": {
              "outlinewidth": 1,
              "tickcolor": "rgb(36,36,36)",
              "ticks": "outside"
             }
            },
            "type": "scattergeo"
           }
          ],
          "scattergl": [
           {
            "marker": {
             "colorbar": {
              "outlinewidth": 1,
              "tickcolor": "rgb(36,36,36)",
              "ticks": "outside"
             }
            },
            "type": "scattergl"
           }
          ],
          "scattermapbox": [
           {
            "marker": {
             "colorbar": {
              "outlinewidth": 1,
              "tickcolor": "rgb(36,36,36)",
              "ticks": "outside"
             }
            },
            "type": "scattermapbox"
           }
          ],
          "scatterpolar": [
           {
            "marker": {
             "colorbar": {
              "outlinewidth": 1,
              "tickcolor": "rgb(36,36,36)",
              "ticks": "outside"
             }
            },
            "type": "scatterpolar"
           }
          ],
          "scatterpolargl": [
           {
            "marker": {
             "colorbar": {
              "outlinewidth": 1,
              "tickcolor": "rgb(36,36,36)",
              "ticks": "outside"
             }
            },
            "type": "scatterpolargl"
           }
          ],
          "scatterternary": [
           {
            "marker": {
             "colorbar": {
              "outlinewidth": 1,
              "tickcolor": "rgb(36,36,36)",
              "ticks": "outside"
             }
            },
            "type": "scatterternary"
           }
          ],
          "surface": [
           {
            "colorbar": {
             "outlinewidth": 1,
             "tickcolor": "rgb(36,36,36)",
             "ticks": "outside"
            },
            "colorscale": [
             [
              0,
              "#440154"
             ],
             [
              0.1111111111111111,
              "#482878"
             ],
             [
              0.2222222222222222,
              "#3e4989"
             ],
             [
              0.3333333333333333,
              "#31688e"
             ],
             [
              0.4444444444444444,
              "#26828e"
             ],
             [
              0.5555555555555556,
              "#1f9e89"
             ],
             [
              0.6666666666666666,
              "#35b779"
             ],
             [
              0.7777777777777778,
              "#6ece58"
             ],
             [
              0.8888888888888888,
              "#b5de2b"
             ],
             [
              1,
              "#fde725"
             ]
            ],
            "type": "surface"
           }
          ],
          "table": [
           {
            "cells": {
             "fill": {
              "color": "rgb(237,237,237)"
             },
             "line": {
              "color": "white"
             }
            },
            "header": {
             "fill": {
              "color": "rgb(217,217,217)"
             },
             "line": {
              "color": "white"
             }
            },
            "type": "table"
           }
          ]
         },
         "layout": {
          "annotationdefaults": {
           "arrowhead": 0,
           "arrowwidth": 1
          },
          "autotypenumbers": "strict",
          "coloraxis": {
           "colorbar": {
            "outlinewidth": 1,
            "tickcolor": "rgb(36,36,36)",
            "ticks": "outside"
           }
          },
          "colorscale": {
           "diverging": [
            [
             0,
             "rgb(103,0,31)"
            ],
            [
             0.1,
             "rgb(178,24,43)"
            ],
            [
             0.2,
             "rgb(214,96,77)"
            ],
            [
             0.3,
             "rgb(244,165,130)"
            ],
            [
             0.4,
             "rgb(253,219,199)"
            ],
            [
             0.5,
             "rgb(247,247,247)"
            ],
            [
             0.6,
             "rgb(209,229,240)"
            ],
            [
             0.7,
             "rgb(146,197,222)"
            ],
            [
             0.8,
             "rgb(67,147,195)"
            ],
            [
             0.9,
             "rgb(33,102,172)"
            ],
            [
             1,
             "rgb(5,48,97)"
            ]
           ],
           "sequential": [
            [
             0,
             "#440154"
            ],
            [
             0.1111111111111111,
             "#482878"
            ],
            [
             0.2222222222222222,
             "#3e4989"
            ],
            [
             0.3333333333333333,
             "#31688e"
            ],
            [
             0.4444444444444444,
             "#26828e"
            ],
            [
             0.5555555555555556,
             "#1f9e89"
            ],
            [
             0.6666666666666666,
             "#35b779"
            ],
            [
             0.7777777777777778,
             "#6ece58"
            ],
            [
             0.8888888888888888,
             "#b5de2b"
            ],
            [
             1,
             "#fde725"
            ]
           ],
           "sequentialminus": [
            [
             0,
             "#440154"
            ],
            [
             0.1111111111111111,
             "#482878"
            ],
            [
             0.2222222222222222,
             "#3e4989"
            ],
            [
             0.3333333333333333,
             "#31688e"
            ],
            [
             0.4444444444444444,
             "#26828e"
            ],
            [
             0.5555555555555556,
             "#1f9e89"
            ],
            [
             0.6666666666666666,
             "#35b779"
            ],
            [
             0.7777777777777778,
             "#6ece58"
            ],
            [
             0.8888888888888888,
             "#b5de2b"
            ],
            [
             1,
             "#fde725"
            ]
           ]
          },
          "colorway": [
           "#1F77B4",
           "#FF7F0E",
           "#2CA02C",
           "#D62728",
           "#9467BD",
           "#8C564B",
           "#E377C2",
           "#7F7F7F",
           "#BCBD22",
           "#17BECF"
          ],
          "font": {
           "color": "rgb(36,36,36)"
          },
          "geo": {
           "bgcolor": "white",
           "lakecolor": "white",
           "landcolor": "white",
           "showlakes": true,
           "showland": true,
           "subunitcolor": "white"
          },
          "hoverlabel": {
           "align": "left"
          },
          "hovermode": "closest",
          "mapbox": {
           "style": "light"
          },
          "paper_bgcolor": "white",
          "plot_bgcolor": "white",
          "polar": {
           "angularaxis": {
            "gridcolor": "rgb(232,232,232)",
            "linecolor": "rgb(36,36,36)",
            "showgrid": false,
            "showline": true,
            "ticks": "outside"
           },
           "bgcolor": "white",
           "radialaxis": {
            "gridcolor": "rgb(232,232,232)",
            "linecolor": "rgb(36,36,36)",
            "showgrid": false,
            "showline": true,
            "ticks": "outside"
           }
          },
          "scene": {
           "xaxis": {
            "backgroundcolor": "white",
            "gridcolor": "rgb(232,232,232)",
            "gridwidth": 2,
            "linecolor": "rgb(36,36,36)",
            "showbackground": true,
            "showgrid": false,
            "showline": true,
            "ticks": "outside",
            "zeroline": false,
            "zerolinecolor": "rgb(36,36,36)"
           },
           "yaxis": {
            "backgroundcolor": "white",
            "gridcolor": "rgb(232,232,232)",
            "gridwidth": 2,
            "linecolor": "rgb(36,36,36)",
            "showbackground": true,
            "showgrid": false,
            "showline": true,
            "ticks": "outside",
            "zeroline": false,
            "zerolinecolor": "rgb(36,36,36)"
           },
           "zaxis": {
            "backgroundcolor": "white",
            "gridcolor": "rgb(232,232,232)",
            "gridwidth": 2,
            "linecolor": "rgb(36,36,36)",
            "showbackground": true,
            "showgrid": false,
            "showline": true,
            "ticks": "outside",
            "zeroline": false,
            "zerolinecolor": "rgb(36,36,36)"
           }
          },
          "shapedefaults": {
           "fillcolor": "black",
           "line": {
            "width": 0
           },
           "opacity": 0.3
          },
          "ternary": {
           "aaxis": {
            "gridcolor": "rgb(232,232,232)",
            "linecolor": "rgb(36,36,36)",
            "showgrid": false,
            "showline": true,
            "ticks": "outside"
           },
           "baxis": {
            "gridcolor": "rgb(232,232,232)",
            "linecolor": "rgb(36,36,36)",
            "showgrid": false,
            "showline": true,
            "ticks": "outside"
           },
           "bgcolor": "white",
           "caxis": {
            "gridcolor": "rgb(232,232,232)",
            "linecolor": "rgb(36,36,36)",
            "showgrid": false,
            "showline": true,
            "ticks": "outside"
           }
          },
          "title": {
           "x": 0.05
          },
          "xaxis": {
           "automargin": true,
           "gridcolor": "rgb(232,232,232)",
           "linecolor": "rgb(36,36,36)",
           "showgrid": false,
           "showline": true,
           "ticks": "outside",
           "title": {
            "standoff": 15
           },
           "zeroline": false,
           "zerolinecolor": "rgb(36,36,36)"
          },
          "yaxis": {
           "automargin": true,
           "gridcolor": "rgb(232,232,232)",
           "linecolor": "rgb(36,36,36)",
           "showgrid": false,
           "showline": true,
           "ticks": "outside",
           "title": {
            "standoff": 15
           },
           "zeroline": false,
           "zerolinecolor": "rgb(36,36,36)"
          }
         }
        },
        "title": {
         "font": {
          "color": "Black",
          "size": 22
         },
         "text": "<b>Intertopic Distance Map",
         "x": 0.5,
         "xanchor": "center",
         "y": 0.95,
         "yanchor": "top"
        },
        "width": 650,
        "xaxis": {
         "anchor": "y",
         "domain": [
          0,
          1
         ],
         "range": [
          -9.530783367156982,
          22.90699987411499
         ],
         "title": {
          "text": ""
         },
         "visible": false
        },
        "yaxis": {
         "anchor": "x",
         "domain": [
          0,
          1
         ],
         "range": [
          -14.994500732421875,
          19.774322032928467
         ],
         "title": {
          "text": ""
         },
         "visible": false
        }
       }
      }
     },
     "metadata": {},
     "output_type": "display_data"
    }
   ],
   "source": [
    "topic_model.visualize_topics()"
   ]
  },
  {
   "cell_type": "code",
   "execution_count": 99,
   "metadata": {},
   "outputs": [
    {
     "data": {
      "application/vnd.plotly.v1+json": {
       "config": {
        "plotlyServerURL": "https://plot.ly"
       },
       "data": [
        {
         "marker": {
          "color": "#D55E00"
         },
         "orientation": "h",
         "type": "bar",
         "x": [
          0.011484296104552559,
          0.011747375268028742,
          0.011920495466938621,
          0.013432766849681472,
          0.05299421728441812
         ],
         "xaxis": "x",
         "y": [
          "stated  ",
          "and  ",
          "he  ",
          "the  ",
          "nopd  "
         ],
         "yaxis": "y"
        },
        {
         "marker": {
          "color": "#0072B2"
         },
         "orientation": "h",
         "type": "bar",
         "x": [
          0.029386641201465488,
          0.03517232216857493,
          0.03518088437348871,
          0.06563792821490855,
          0.12335877149914468
         ],
         "xaxis": "x2",
         "y": [
          "service  ",
          "use  ",
          "force  ",
          "activate  ",
          "bwc  "
         ],
         "yaxis": "y2"
        },
        {
         "marker": {
          "color": "#CC79A7"
         },
         "orientation": "h",
         "type": "bar",
         "x": [
          0.014894126302409093,
          0.02002362756205801,
          0.020073446419807957,
          0.021196769371207604,
          0.04164367096835154
         ],
         "xaxis": "x3",
         "y": [
          "she  ",
          "daughter  ",
          "child  ",
          "her  ",
          "son  "
         ],
         "yaxis": "y3"
        },
        {
         "marker": {
          "color": "#E69F00"
         },
         "orientation": "h",
         "type": "bar",
         "x": [
          0.03362509335105712,
          0.033835423600255175,
          0.03896189019333346,
          0.05683871906367857,
          0.09391079032064432
         ],
         "xaxis": "x4",
         "y": [
          "professionalism  ",
          "of  ",
          "neglect  ",
          "allegation  ",
          "2018  "
         ],
         "yaxis": "y4"
        },
        {
         "marker": {
          "color": "#56B4E9"
         },
         "orientation": "h",
         "type": "bar",
         "x": [
          0.02926348599664784,
          0.029588071329474105,
          0.030908528510353733,
          0.04827833945238441,
          0.056873325855618
         ],
         "xaxis": "x5",
         "y": [
          "used  ",
          "language  ",
          "allegedly  ",
          "accused  ",
          "unprofessional  "
         ],
         "yaxis": "y5"
        },
        {
         "marker": {
          "color": "#009E73"
         },
         "orientation": "h",
         "type": "bar",
         "x": [
          0.033774426817995695,
          0.05607145192696163,
          0.1074882225466903,
          0.11588646683699089,
          0.12775166442651317
         ],
         "xaxis": "x6",
         "y": [
          "video  ",
          "activate  ",
          "body  ",
          "worn  ",
          "camera  "
         ],
         "yaxis": "y6"
        },
        {
         "marker": {
          "color": "#F0E442"
         },
         "orientation": "h",
         "type": "bar",
         "x": [
          0.015794574127449917,
          0.016094652779116522,
          0.01972507773019749,
          0.02636434918958164,
          0.040418986430122615
         ],
         "xaxis": "x7",
         "y": [
          "that  ",
          "the  ",
          "police  ",
          "called  ",
          "neighbor  "
         ],
         "yaxis": "y7"
        },
        {
         "marker": {
          "color": "#D55E00"
         },
         "orientation": "h",
         "type": "bar",
         "x": [
          0.024458604505002278,
          0.029229962513592486,
          0.03178011786839972,
          0.04032067452872027,
          0.05436396035242998
         ],
         "xaxis": "x8",
         "y": [
          "other  ",
          "issued  ",
          "accident  ",
          "driver  ",
          "citation  "
         ],
         "yaxis": "y8"
        }
       ],
       "layout": {
        "annotations": [
         {
          "font": {
           "size": 16
          },
          "showarrow": false,
          "text": "Topic 0",
          "x": 0.0875,
          "xanchor": "center",
          "xref": "paper",
          "y": 1,
          "yanchor": "bottom",
          "yref": "paper"
         },
         {
          "font": {
           "size": 16
          },
          "showarrow": false,
          "text": "Topic 1",
          "x": 0.36250000000000004,
          "xanchor": "center",
          "xref": "paper",
          "y": 1,
          "yanchor": "bottom",
          "yref": "paper"
         },
         {
          "font": {
           "size": 16
          },
          "showarrow": false,
          "text": "Topic 2",
          "x": 0.6375000000000001,
          "xanchor": "center",
          "xref": "paper",
          "y": 1,
          "yanchor": "bottom",
          "yref": "paper"
         },
         {
          "font": {
           "size": 16
          },
          "showarrow": false,
          "text": "Topic 3",
          "x": 0.9125,
          "xanchor": "center",
          "xref": "paper",
          "y": 1,
          "yanchor": "bottom",
          "yref": "paper"
         },
         {
          "font": {
           "size": 16
          },
          "showarrow": false,
          "text": "Topic 4",
          "x": 0.0875,
          "xanchor": "center",
          "xref": "paper",
          "y": 0.4,
          "yanchor": "bottom",
          "yref": "paper"
         },
         {
          "font": {
           "size": 16
          },
          "showarrow": false,
          "text": "Topic 5",
          "x": 0.36250000000000004,
          "xanchor": "center",
          "xref": "paper",
          "y": 0.4,
          "yanchor": "bottom",
          "yref": "paper"
         },
         {
          "font": {
           "size": 16
          },
          "showarrow": false,
          "text": "Topic 6",
          "x": 0.6375000000000001,
          "xanchor": "center",
          "xref": "paper",
          "y": 0.4,
          "yanchor": "bottom",
          "yref": "paper"
         },
         {
          "font": {
           "size": 16
          },
          "showarrow": false,
          "text": "Topic 7",
          "x": 0.9125,
          "xanchor": "center",
          "xref": "paper",
          "y": 0.4,
          "yanchor": "bottom",
          "yref": "paper"
         }
        ],
        "height": 500,
        "hoverlabel": {
         "bgcolor": "white",
         "font": {
          "family": "Rockwell",
          "size": 16
         }
        },
        "showlegend": false,
        "template": {
         "data": {
          "bar": [
           {
            "error_x": {
             "color": "#2a3f5f"
            },
            "error_y": {
             "color": "#2a3f5f"
            },
            "marker": {
             "line": {
              "color": "white",
              "width": 0.5
             },
             "pattern": {
              "fillmode": "overlay",
              "size": 10,
              "solidity": 0.2
             }
            },
            "type": "bar"
           }
          ],
          "barpolar": [
           {
            "marker": {
             "line": {
              "color": "white",
              "width": 0.5
             },
             "pattern": {
              "fillmode": "overlay",
              "size": 10,
              "solidity": 0.2
             }
            },
            "type": "barpolar"
           }
          ],
          "carpet": [
           {
            "aaxis": {
             "endlinecolor": "#2a3f5f",
             "gridcolor": "#C8D4E3",
             "linecolor": "#C8D4E3",
             "minorgridcolor": "#C8D4E3",
             "startlinecolor": "#2a3f5f"
            },
            "baxis": {
             "endlinecolor": "#2a3f5f",
             "gridcolor": "#C8D4E3",
             "linecolor": "#C8D4E3",
             "minorgridcolor": "#C8D4E3",
             "startlinecolor": "#2a3f5f"
            },
            "type": "carpet"
           }
          ],
          "choropleth": [
           {
            "colorbar": {
             "outlinewidth": 0,
             "ticks": ""
            },
            "type": "choropleth"
           }
          ],
          "contour": [
           {
            "colorbar": {
             "outlinewidth": 0,
             "ticks": ""
            },
            "colorscale": [
             [
              0,
              "#0d0887"
             ],
             [
              0.1111111111111111,
              "#46039f"
             ],
             [
              0.2222222222222222,
              "#7201a8"
             ],
             [
              0.3333333333333333,
              "#9c179e"
             ],
             [
              0.4444444444444444,
              "#bd3786"
             ],
             [
              0.5555555555555556,
              "#d8576b"
             ],
             [
              0.6666666666666666,
              "#ed7953"
             ],
             [
              0.7777777777777778,
              "#fb9f3a"
             ],
             [
              0.8888888888888888,
              "#fdca26"
             ],
             [
              1,
              "#f0f921"
             ]
            ],
            "type": "contour"
           }
          ],
          "contourcarpet": [
           {
            "colorbar": {
             "outlinewidth": 0,
             "ticks": ""
            },
            "type": "contourcarpet"
           }
          ],
          "heatmap": [
           {
            "colorbar": {
             "outlinewidth": 0,
             "ticks": ""
            },
            "colorscale": [
             [
              0,
              "#0d0887"
             ],
             [
              0.1111111111111111,
              "#46039f"
             ],
             [
              0.2222222222222222,
              "#7201a8"
             ],
             [
              0.3333333333333333,
              "#9c179e"
             ],
             [
              0.4444444444444444,
              "#bd3786"
             ],
             [
              0.5555555555555556,
              "#d8576b"
             ],
             [
              0.6666666666666666,
              "#ed7953"
             ],
             [
              0.7777777777777778,
              "#fb9f3a"
             ],
             [
              0.8888888888888888,
              "#fdca26"
             ],
             [
              1,
              "#f0f921"
             ]
            ],
            "type": "heatmap"
           }
          ],
          "heatmapgl": [
           {
            "colorbar": {
             "outlinewidth": 0,
             "ticks": ""
            },
            "colorscale": [
             [
              0,
              "#0d0887"
             ],
             [
              0.1111111111111111,
              "#46039f"
             ],
             [
              0.2222222222222222,
              "#7201a8"
             ],
             [
              0.3333333333333333,
              "#9c179e"
             ],
             [
              0.4444444444444444,
              "#bd3786"
             ],
             [
              0.5555555555555556,
              "#d8576b"
             ],
             [
              0.6666666666666666,
              "#ed7953"
             ],
             [
              0.7777777777777778,
              "#fb9f3a"
             ],
             [
              0.8888888888888888,
              "#fdca26"
             ],
             [
              1,
              "#f0f921"
             ]
            ],
            "type": "heatmapgl"
           }
          ],
          "histogram": [
           {
            "marker": {
             "pattern": {
              "fillmode": "overlay",
              "size": 10,
              "solidity": 0.2
             }
            },
            "type": "histogram"
           }
          ],
          "histogram2d": [
           {
            "colorbar": {
             "outlinewidth": 0,
             "ticks": ""
            },
            "colorscale": [
             [
              0,
              "#0d0887"
             ],
             [
              0.1111111111111111,
              "#46039f"
             ],
             [
              0.2222222222222222,
              "#7201a8"
             ],
             [
              0.3333333333333333,
              "#9c179e"
             ],
             [
              0.4444444444444444,
              "#bd3786"
             ],
             [
              0.5555555555555556,
              "#d8576b"
             ],
             [
              0.6666666666666666,
              "#ed7953"
             ],
             [
              0.7777777777777778,
              "#fb9f3a"
             ],
             [
              0.8888888888888888,
              "#fdca26"
             ],
             [
              1,
              "#f0f921"
             ]
            ],
            "type": "histogram2d"
           }
          ],
          "histogram2dcontour": [
           {
            "colorbar": {
             "outlinewidth": 0,
             "ticks": ""
            },
            "colorscale": [
             [
              0,
              "#0d0887"
             ],
             [
              0.1111111111111111,
              "#46039f"
             ],
             [
              0.2222222222222222,
              "#7201a8"
             ],
             [
              0.3333333333333333,
              "#9c179e"
             ],
             [
              0.4444444444444444,
              "#bd3786"
             ],
             [
              0.5555555555555556,
              "#d8576b"
             ],
             [
              0.6666666666666666,
              "#ed7953"
             ],
             [
              0.7777777777777778,
              "#fb9f3a"
             ],
             [
              0.8888888888888888,
              "#fdca26"
             ],
             [
              1,
              "#f0f921"
             ]
            ],
            "type": "histogram2dcontour"
           }
          ],
          "mesh3d": [
           {
            "colorbar": {
             "outlinewidth": 0,
             "ticks": ""
            },
            "type": "mesh3d"
           }
          ],
          "parcoords": [
           {
            "line": {
             "colorbar": {
              "outlinewidth": 0,
              "ticks": ""
             }
            },
            "type": "parcoords"
           }
          ],
          "pie": [
           {
            "automargin": true,
            "type": "pie"
           }
          ],
          "scatter": [
           {
            "fillpattern": {
             "fillmode": "overlay",
             "size": 10,
             "solidity": 0.2
            },
            "type": "scatter"
           }
          ],
          "scatter3d": [
           {
            "line": {
             "colorbar": {
              "outlinewidth": 0,
              "ticks": ""
             }
            },
            "marker": {
             "colorbar": {
              "outlinewidth": 0,
              "ticks": ""
             }
            },
            "type": "scatter3d"
           }
          ],
          "scattercarpet": [
           {
            "marker": {
             "colorbar": {
              "outlinewidth": 0,
              "ticks": ""
             }
            },
            "type": "scattercarpet"
           }
          ],
          "scattergeo": [
           {
            "marker": {
             "colorbar": {
              "outlinewidth": 0,
              "ticks": ""
             }
            },
            "type": "scattergeo"
           }
          ],
          "scattergl": [
           {
            "marker": {
             "colorbar": {
              "outlinewidth": 0,
              "ticks": ""
             }
            },
            "type": "scattergl"
           }
          ],
          "scattermapbox": [
           {
            "marker": {
             "colorbar": {
              "outlinewidth": 0,
              "ticks": ""
             }
            },
            "type": "scattermapbox"
           }
          ],
          "scatterpolar": [
           {
            "marker": {
             "colorbar": {
              "outlinewidth": 0,
              "ticks": ""
             }
            },
            "type": "scatterpolar"
           }
          ],
          "scatterpolargl": [
           {
            "marker": {
             "colorbar": {
              "outlinewidth": 0,
              "ticks": ""
             }
            },
            "type": "scatterpolargl"
           }
          ],
          "scatterternary": [
           {
            "marker": {
             "colorbar": {
              "outlinewidth": 0,
              "ticks": ""
             }
            },
            "type": "scatterternary"
           }
          ],
          "surface": [
           {
            "colorbar": {
             "outlinewidth": 0,
             "ticks": ""
            },
            "colorscale": [
             [
              0,
              "#0d0887"
             ],
             [
              0.1111111111111111,
              "#46039f"
             ],
             [
              0.2222222222222222,
              "#7201a8"
             ],
             [
              0.3333333333333333,
              "#9c179e"
             ],
             [
              0.4444444444444444,
              "#bd3786"
             ],
             [
              0.5555555555555556,
              "#d8576b"
             ],
             [
              0.6666666666666666,
              "#ed7953"
             ],
             [
              0.7777777777777778,
              "#fb9f3a"
             ],
             [
              0.8888888888888888,
              "#fdca26"
             ],
             [
              1,
              "#f0f921"
             ]
            ],
            "type": "surface"
           }
          ],
          "table": [
           {
            "cells": {
             "fill": {
              "color": "#EBF0F8"
             },
             "line": {
              "color": "white"
             }
            },
            "header": {
             "fill": {
              "color": "#C8D4E3"
             },
             "line": {
              "color": "white"
             }
            },
            "type": "table"
           }
          ]
         },
         "layout": {
          "annotationdefaults": {
           "arrowcolor": "#2a3f5f",
           "arrowhead": 0,
           "arrowwidth": 1
          },
          "autotypenumbers": "strict",
          "coloraxis": {
           "colorbar": {
            "outlinewidth": 0,
            "ticks": ""
           }
          },
          "colorscale": {
           "diverging": [
            [
             0,
             "#8e0152"
            ],
            [
             0.1,
             "#c51b7d"
            ],
            [
             0.2,
             "#de77ae"
            ],
            [
             0.3,
             "#f1b6da"
            ],
            [
             0.4,
             "#fde0ef"
            ],
            [
             0.5,
             "#f7f7f7"
            ],
            [
             0.6,
             "#e6f5d0"
            ],
            [
             0.7,
             "#b8e186"
            ],
            [
             0.8,
             "#7fbc41"
            ],
            [
             0.9,
             "#4d9221"
            ],
            [
             1,
             "#276419"
            ]
           ],
           "sequential": [
            [
             0,
             "#0d0887"
            ],
            [
             0.1111111111111111,
             "#46039f"
            ],
            [
             0.2222222222222222,
             "#7201a8"
            ],
            [
             0.3333333333333333,
             "#9c179e"
            ],
            [
             0.4444444444444444,
             "#bd3786"
            ],
            [
             0.5555555555555556,
             "#d8576b"
            ],
            [
             0.6666666666666666,
             "#ed7953"
            ],
            [
             0.7777777777777778,
             "#fb9f3a"
            ],
            [
             0.8888888888888888,
             "#fdca26"
            ],
            [
             1,
             "#f0f921"
            ]
           ],
           "sequentialminus": [
            [
             0,
             "#0d0887"
            ],
            [
             0.1111111111111111,
             "#46039f"
            ],
            [
             0.2222222222222222,
             "#7201a8"
            ],
            [
             0.3333333333333333,
             "#9c179e"
            ],
            [
             0.4444444444444444,
             "#bd3786"
            ],
            [
             0.5555555555555556,
             "#d8576b"
            ],
            [
             0.6666666666666666,
             "#ed7953"
            ],
            [
             0.7777777777777778,
             "#fb9f3a"
            ],
            [
             0.8888888888888888,
             "#fdca26"
            ],
            [
             1,
             "#f0f921"
            ]
           ]
          },
          "colorway": [
           "#636efa",
           "#EF553B",
           "#00cc96",
           "#ab63fa",
           "#FFA15A",
           "#19d3f3",
           "#FF6692",
           "#B6E880",
           "#FF97FF",
           "#FECB52"
          ],
          "font": {
           "color": "#2a3f5f"
          },
          "geo": {
           "bgcolor": "white",
           "lakecolor": "white",
           "landcolor": "white",
           "showlakes": true,
           "showland": true,
           "subunitcolor": "#C8D4E3"
          },
          "hoverlabel": {
           "align": "left"
          },
          "hovermode": "closest",
          "mapbox": {
           "style": "light"
          },
          "paper_bgcolor": "white",
          "plot_bgcolor": "white",
          "polar": {
           "angularaxis": {
            "gridcolor": "#EBF0F8",
            "linecolor": "#EBF0F8",
            "ticks": ""
           },
           "bgcolor": "white",
           "radialaxis": {
            "gridcolor": "#EBF0F8",
            "linecolor": "#EBF0F8",
            "ticks": ""
           }
          },
          "scene": {
           "xaxis": {
            "backgroundcolor": "white",
            "gridcolor": "#DFE8F3",
            "gridwidth": 2,
            "linecolor": "#EBF0F8",
            "showbackground": true,
            "ticks": "",
            "zerolinecolor": "#EBF0F8"
           },
           "yaxis": {
            "backgroundcolor": "white",
            "gridcolor": "#DFE8F3",
            "gridwidth": 2,
            "linecolor": "#EBF0F8",
            "showbackground": true,
            "ticks": "",
            "zerolinecolor": "#EBF0F8"
           },
           "zaxis": {
            "backgroundcolor": "white",
            "gridcolor": "#DFE8F3",
            "gridwidth": 2,
            "linecolor": "#EBF0F8",
            "showbackground": true,
            "ticks": "",
            "zerolinecolor": "#EBF0F8"
           }
          },
          "shapedefaults": {
           "line": {
            "color": "#2a3f5f"
           }
          },
          "ternary": {
           "aaxis": {
            "gridcolor": "#DFE8F3",
            "linecolor": "#A2B1C6",
            "ticks": ""
           },
           "baxis": {
            "gridcolor": "#DFE8F3",
            "linecolor": "#A2B1C6",
            "ticks": ""
           },
           "bgcolor": "white",
           "caxis": {
            "gridcolor": "#DFE8F3",
            "linecolor": "#A2B1C6",
            "ticks": ""
           }
          },
          "title": {
           "x": 0.05
          },
          "xaxis": {
           "automargin": true,
           "gridcolor": "#EBF0F8",
           "linecolor": "#EBF0F8",
           "ticks": "",
           "title": {
            "standoff": 15
           },
           "zerolinecolor": "#EBF0F8",
           "zerolinewidth": 2
          },
          "yaxis": {
           "automargin": true,
           "gridcolor": "#EBF0F8",
           "linecolor": "#EBF0F8",
           "ticks": "",
           "title": {
            "standoff": 15
           },
           "zerolinecolor": "#EBF0F8",
           "zerolinewidth": 2
          }
         }
        },
        "title": {
         "font": {
          "color": "Black",
          "size": 22
         },
         "text": "<b>Topic Word Scores",
         "x": 0.5,
         "xanchor": "center",
         "yanchor": "top"
        },
        "width": 1000,
        "xaxis": {
         "anchor": "y",
         "domain": [
          0,
          0.175
         ],
         "showgrid": true
        },
        "xaxis2": {
         "anchor": "y2",
         "domain": [
          0.275,
          0.45
         ],
         "showgrid": true
        },
        "xaxis3": {
         "anchor": "y3",
         "domain": [
          0.55,
          0.7250000000000001
         ],
         "showgrid": true
        },
        "xaxis4": {
         "anchor": "y4",
         "domain": [
          0.825,
          1
         ],
         "showgrid": true
        },
        "xaxis5": {
         "anchor": "y5",
         "domain": [
          0,
          0.175
         ],
         "showgrid": true
        },
        "xaxis6": {
         "anchor": "y6",
         "domain": [
          0.275,
          0.45
         ],
         "showgrid": true
        },
        "xaxis7": {
         "anchor": "y7",
         "domain": [
          0.55,
          0.7250000000000001
         ],
         "showgrid": true
        },
        "xaxis8": {
         "anchor": "y8",
         "domain": [
          0.825,
          1
         ],
         "showgrid": true
        },
        "yaxis": {
         "anchor": "x",
         "domain": [
          0.6000000000000001,
          1
         ],
         "showgrid": true
        },
        "yaxis2": {
         "anchor": "x2",
         "domain": [
          0.6000000000000001,
          1
         ],
         "showgrid": true
        },
        "yaxis3": {
         "anchor": "x3",
         "domain": [
          0.6000000000000001,
          1
         ],
         "showgrid": true
        },
        "yaxis4": {
         "anchor": "x4",
         "domain": [
          0.6000000000000001,
          1
         ],
         "showgrid": true
        },
        "yaxis5": {
         "anchor": "x5",
         "domain": [
          0,
          0.4
         ],
         "showgrid": true
        },
        "yaxis6": {
         "anchor": "x6",
         "domain": [
          0,
          0.4
         ],
         "showgrid": true
        },
        "yaxis7": {
         "anchor": "x7",
         "domain": [
          0,
          0.4
         ],
         "showgrid": true
        },
        "yaxis8": {
         "anchor": "x8",
         "domain": [
          0,
          0.4
         ],
         "showgrid": true
        }
       }
      }
     },
     "metadata": {},
     "output_type": "display_data"
    }
   ],
   "source": [
    "topic_model.visualize_barchart()"
   ]
  },
  {
   "cell_type": "code",
   "execution_count": 96,
   "metadata": {},
   "outputs": [],
   "source": [
    "df_bert = pd.DataFrame({\"topic\": topic, \"documents\": docs})"
   ]
  },
  {
   "cell_type": "code",
   "execution_count": null,
   "metadata": {},
   "outputs": [],
   "source": [
    "df_bert"
   ]
  }
 ],
 "metadata": {
  "kernelspec": {
   "display_name": "Python 3.9.11 64-bit",
   "language": "python",
   "name": "python3"
  },
  "language_info": {
   "codemirror_mode": {
    "name": "ipython",
    "version": 3
   },
   "file_extension": ".py",
   "mimetype": "text/x-python",
   "name": "python",
   "nbconvert_exporter": "python",
   "pygments_lexer": "ipython3",
   "version": "3.9.11"
  },
  "orig_nbformat": 4,
  "vscode": {
   "interpreter": {
    "hash": "f6c8f846148a3e4d140e6ddf63c190cff559dcf260a4a21539f0978f2b58638c"
   }
  }
 },
 "nbformat": 4,
 "nbformat_minor": 2
}

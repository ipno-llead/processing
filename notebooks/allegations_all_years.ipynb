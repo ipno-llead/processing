{
 "cells": [
  {
   "cell_type": "code",
   "execution_count": 1,
   "metadata": {},
   "outputs": [],
   "source": [
    "# import os\n",
    "# os.chdir(\"../\")"
   ]
  },
  {
   "cell_type": "code",
   "execution_count": 2,
   "metadata": {},
   "outputs": [],
   "source": [
    "import pandas as pd\n",
    "from lib.clean import standardize_desc_cols"
   ]
  },
  {
   "cell_type": "code",
   "execution_count": 3,
   "metadata": {},
   "outputs": [
    {
     "name": "stderr",
     "output_type": "stream",
     "text": [
      "c:\\Users\\PC\\AppData\\Local\\Programs\\Python\\Python39\\lib\\site-packages\\IPython\\core\\interactiveshell.py:3135: DtypeWarning: Columns (3,6,8,12,15,16,18,20,21,22,23,24,25,26,27,28,29,30,31,32,33,35,36,37) have mixed types.Specify dtype option on import or set low_memory=False.\n",
      "  has_raised = await self.run_ast_nodes(code_ast.body, cell_name,\n"
     ]
    }
   ],
   "source": [
    "df = pd.read_csv(\"data/fuse/allegation.csv\")"
   ]
  },
  {
   "cell_type": "code",
   "execution_count": 4,
   "metadata": {},
   "outputs": [
    {
     "data": {
      "text/plain": [
       "51"
      ]
     },
     "execution_count": 4,
     "metadata": {},
     "output_type": "execute_result"
    }
   ],
   "source": [
    "\"\"\"\n",
    "Number of agencies in LLEAD with allegation data\n",
    "\"\"\"\n",
    "df.agency.nunique()"
   ]
  },
  {
   "cell_type": "code",
   "execution_count": 5,
   "metadata": {},
   "outputs": [],
   "source": [
    "\"\"\"\n",
    "Standardize text formatting for disposition column\n",
    "\"\"\"\n",
    "df = df.pipe(standardize_desc_cols, [\"disposition\"])"
   ]
  },
  {
   "cell_type": "code",
   "execution_count": 6,
   "metadata": {},
   "outputs": [],
   "source": [
    "\"\"\"\n",
    "Drop rows missing a disposition value\n",
    "\"\"\"\n",
    "df = df[~((df.disposition.fillna(\"\") == \"\"))]"
   ]
  },
  {
   "cell_type": "code",
   "execution_count": 7,
   "metadata": {},
   "outputs": [
    {
     "data": {
      "text/plain": [
       "43"
      ]
     },
     "execution_count": 7,
     "metadata": {},
     "output_type": "execute_result"
    }
   ],
   "source": [
    "\"\"\"\n",
    "Number of agencies for which we have disposition data (data spans 2003 - 2021)\n",
    "\"\"\"\n",
    "df.agency.nunique()"
   ]
  },
  {
   "cell_type": "code",
   "execution_count": 8,
   "metadata": {},
   "outputs": [
    {
     "data": {
      "text/plain": [
       "12343"
      ]
     },
     "execution_count": 8,
     "metadata": {},
     "output_type": "execute_result"
    }
   ],
   "source": [
    "\"\"\"\n",
    "Number of dispositions in total\n",
    "\"\"\"\n",
    "df.disposition.count()"
   ]
  },
  {
   "cell_type": "code",
   "execution_count": 9,
   "metadata": {},
   "outputs": [
    {
     "data": {
      "text/plain": [
       "sustained                                        0.318723\n",
       "unfounded                                        0.213805\n",
       "not sustained                                    0.162764\n",
       "exonerated                                       0.115855\n",
       "pending investigation                            0.039050\n",
       "founded                                          0.020984\n",
       "withdrawn; mediation                             0.019768\n",
       "negotiated settlement                            0.013206\n",
       "di-2                                             0.013125\n",
       "no further investigation merited                 0.009074\n",
       "non-sustained                                    0.008993\n",
       "cancelled                                        0.005104\n",
       "unsustained                                      0.005023\n",
       "resigned                                         0.004618\n",
       "sustained; resigned while under investigation    0.004132\n",
       "withdrawn                                        0.003403\n",
       "inconclusive                                     0.002998\n",
       "duplicate allegation                             0.002917\n",
       "exceptional                                      0.002836\n",
       "unknown                                          0.002593\n",
       "Name: disposition, dtype: float64"
      ]
     },
     "execution_count": 9,
     "metadata": {},
     "output_type": "execute_result"
    }
   ],
   "source": [
    "\"\"\"\n",
    "Normalized disposition counts, i.e., 31% of dispositions were sustained after an internal investigation\n",
    "\"\"\"\n",
    "df.disposition.value_counts(normalize=True).head(20)"
   ]
  },
  {
   "cell_type": "code",
   "execution_count": 10,
   "metadata": {},
   "outputs": [],
   "source": [
    "\"\"\"\n",
    "Analyze disciplinary actions for sustained allegations\n",
    "\"\"\"\n",
    "df = df[df.disposition.isin([\"sustained\"])]"
   ]
  },
  {
   "cell_type": "code",
   "execution_count": 11,
   "metadata": {},
   "outputs": [
    {
     "data": {
      "text/plain": [
       "array(['sustained'], dtype=object)"
      ]
     },
     "execution_count": 11,
     "metadata": {},
     "output_type": "execute_result"
    }
   ],
   "source": [
    "\"\"\"\n",
    "df is filtered for sustained dispositions\n",
    "\"\"\"\n",
    "df.disposition.unique()"
   ]
  },
  {
   "cell_type": "code",
   "execution_count": 12,
   "metadata": {},
   "outputs": [],
   "source": [
    "\"\"\"\n",
    "Fill na values\n",
    "\"\"\"\n",
    "def fill_nas(df):\n",
    "    df.loc[:, 'action'] = df.action.str.lower().str.strip().fillna(\"n/a\")\n",
    "    return df"
   ]
  },
  {
   "cell_type": "code",
   "execution_count": 13,
   "metadata": {},
   "outputs": [],
   "source": [
    "df = df.pipe(fill_nas)"
   ]
  },
  {
   "cell_type": "code",
   "execution_count": 14,
   "metadata": {},
   "outputs": [],
   "source": [
    "\"\"\"\n",
    "Standardize text formatting for disciplinary action column\n",
    "\"\"\"\n",
    "df = df.pipe(standardize_desc_cols, [\"action\"])"
   ]
  },
  {
   "cell_type": "code",
   "execution_count": 15,
   "metadata": {},
   "outputs": [
    {
     "data": {
      "text/plain": [
       "n/a                                                           0.537112\n",
       "letter of caution                                             0.095323\n",
       "letter of reprimand                                           0.040417\n",
       "warning                                                       0.032283\n",
       "termination                                                   0.021098\n",
       "                                                                ...   \n",
       "seperation                                                    0.000254\n",
       "demoted to deputy                                             0.000254\n",
       "letter of caution/8-hour driving school/5-day loss of unit    0.000254\n",
       "letter of reprimand/8-hour driving school                     0.000254\n",
       "72-hour suspension                                            0.000254\n",
       "Name: action, Length: 193, dtype: float64"
      ]
     },
     "execution_count": 15,
     "metadata": {},
     "output_type": "execute_result"
    }
   ],
   "source": [
    "\"\"\"\n",
    "45% of sustained allegations have a corresponding disciplinary action\n",
    "\"\"\"\n",
    "df.action.value_counts(normalize=True)"
   ]
  },
  {
   "cell_type": "code",
   "execution_count": 16,
   "metadata": {},
   "outputs": [],
   "source": [
    "def drop_na_action_values(df):\n",
    "    df.loc[:, \"action\"] = df.action.str.replace(r\"^n/a$\", \"\", regex=True)\n",
    "    return df[~((df.action.fillna(\"\") == \"\"))]"
   ]
  },
  {
   "cell_type": "code",
   "execution_count": 17,
   "metadata": {},
   "outputs": [],
   "source": [
    "df = df.pipe(drop_na_action_values)"
   ]
  },
  {
   "cell_type": "code",
   "execution_count": 18,
   "metadata": {},
   "outputs": [
    {
     "data": {
      "text/plain": [
       "letter of caution                            0.206044\n",
       "letter of reprimand                          0.087363\n",
       "warning                                      0.069780\n",
       "termination                                  0.045604\n",
       "1-day suspension                             0.032967\n",
       "                                               ...   \n",
       "6-day suspension                             0.000549\n",
       "demotion to lieutenant                       0.000549\n",
       "8-hour driving school/45-day loss of unit    0.000549\n",
       "seperation                                   0.000549\n",
       "72-hour suspension                           0.000549\n",
       "Name: action, Length: 191, dtype: float64"
      ]
     },
     "execution_count": 18,
     "metadata": {},
     "output_type": "execute_result"
    }
   ],
   "source": [
    "\"\"\"\n",
    "Disciplinary action data \n",
    "\"\"\"\n",
    "df.action.value_counts(normalize=True)"
   ]
  },
  {
   "cell_type": "code",
   "execution_count": 19,
   "metadata": {},
   "outputs": [],
   "source": [
    "\"\"\"\n",
    "Group similar disicplinary actions\n",
    "\"\"\"\n",
    "def group_actions(df):\n",
    "    df.loc[:, 'action'] = df.action.str.lower().str.strip().fillna(\"n/a\")\\\n",
    "        .str.replace(r'(.+)?suspend?e?d?s?i?o?n?(.+)?', 'suspended', regex=True)\\\n",
    "        .str.replace(r\"(.+)?(reprimand|written|letter)(.+)?\", \"written or verbal reprimand\", regex=True)\\\n",
    "        .str.replace(r\"^termination$\", \"terminated\", regex=True)\\\n",
    "        .str.replace(r\"(.+)?train(.+)?\", \"training\", regex=True)\\\n",
    "        .str.replace(r\"(.+)?demotion(.+)?\", \"demoted\", regex=True)\\\n",
    "        .str.replace(r\"(.+)?loss of unit(.+)?\", \"lost unit privileges\", regex=True)\\\n",
    "        .str.replace(r\"(.+)?counsel(ing)?(.+)?\", \"counseled\", regex=True)\\\n",
    "        .str.replace(r\"(.+)?warning(.+)?\", \"warned\", regex=True)\\\n",
    "        .str.replace(r\"(.+)?(resignation|resigned)(.+)\", \"resigned\", regex=True)\n",
    "    return df"
   ]
  },
  {
   "cell_type": "code",
   "execution_count": 20,
   "metadata": {},
   "outputs": [],
   "source": [
    "df = df.pipe(group_actions)"
   ]
  },
  {
   "cell_type": "code",
   "execution_count": 21,
   "metadata": {},
   "outputs": [
    {
     "data": {
      "text/plain": [
       "written or verbal reprimand             0.443956\n",
       "suspended                               0.280220\n",
       "warned                                  0.076374\n",
       "terminated                              0.061538\n",
       "counseled                               0.053297\n",
       "resigned                                0.028571\n",
       "training                                0.009341\n",
       "discharged                              0.005495\n",
       "demoted                                 0.004396\n",
       "lod                                     0.002747\n",
       "arrested; terminated                    0.002198\n",
       "conference worksheet                    0.002198\n",
       "hold in abeyance                        0.002198\n",
       "arrested; resigned                      0.002198\n",
       "lost unit privileges                    0.001648\n",
       "performance log                         0.001648\n",
       "green sheet                             0.001648\n",
       "disciplined                             0.001648\n",
       "unknown                                 0.001648\n",
       "deferred/handled upon rehire            0.001099\n",
       "1-day driving school                    0.001099\n",
       "separated from employment               0.001099\n",
       "dmvr                                    0.001099\n",
       "retired                                 0.001099\n",
       "remedial                                0.001099\n",
       "loss of vehicle privileges (2 weeks)    0.000549\n",
       "deficiency                              0.000549\n",
       "pending                                 0.000549\n",
       "ference                                 0.000549\n",
       "seperation                              0.000549\n",
       "none                                    0.000549\n",
       "vehicle use                             0.000549\n",
       "transfer                                0.000549\n",
       "eap                                     0.000549\n",
       "officer resigned                        0.000549\n",
       "1-year probation                        0.000549\n",
       "8-hour transfer                         0.000549\n",
       "unit privileges                         0.000549\n",
       "quit                                    0.000549\n",
       "demoted to deputy                       0.000549\n",
       "no discipline                           0.000549\n",
       "downgraded to dm-1                      0.000549\n",
       "life lesson learned from experience     0.000549\n",
       "other                                   0.000549\n",
       "Name: action, dtype: float64"
      ]
     },
     "execution_count": 21,
     "metadata": {},
     "output_type": "execute_result"
    }
   ],
   "source": [
    "\"\"\"\n",
    "Disciplinary action data after grouping similar actions\n",
    "\"\"\"\n",
    "df.action.value_counts(normalize=True)"
   ]
  }
 ],
 "metadata": {
  "kernelspec": {
   "display_name": "Python 3.9.11 64-bit",
   "language": "python",
   "name": "python3"
  },
  "language_info": {
   "codemirror_mode": {
    "name": "ipython",
    "version": 3
   },
   "file_extension": ".py",
   "mimetype": "text/x-python",
   "name": "python",
   "nbconvert_exporter": "python",
   "pygments_lexer": "ipython3",
   "version": "3.9.11"
  },
  "orig_nbformat": 4,
  "vscode": {
   "interpreter": {
    "hash": "f6c8f846148a3e4d140e6ddf63c190cff559dcf260a4a21539f0978f2b58638c"
   }
  }
 },
 "nbformat": 4,
 "nbformat_minor": 2
}

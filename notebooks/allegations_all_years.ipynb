{
 "cells": [
  {
   "cell_type": "code",
   "execution_count": 24,
   "metadata": {},
   "outputs": [],
   "source": [
    "# import os\n",
    "# os.chdir(\"../\")"
   ]
  },
  {
   "cell_type": "code",
   "execution_count": 25,
   "metadata": {},
   "outputs": [],
   "source": [
    "import pandas as pd\n",
    "\n",
    "from fuse.all import fuse_allegation\n",
    "from lib.clean import standardize_desc_cols"
   ]
  },
  {
   "cell_type": "code",
   "execution_count": 26,
   "metadata": {},
   "outputs": [],
   "source": [
    "df = fuse_allegation()"
   ]
  },
  {
   "cell_type": "code",
   "execution_count": 27,
   "metadata": {},
   "outputs": [],
   "source": [
    "\"\"\"\n",
    "Standardize text formatting for disposition column\n",
    "\"\"\"\n",
    "df = df.pipe(standardize_desc_cols, [\"disposition\"])"
   ]
  },
  {
   "cell_type": "code",
   "execution_count": 28,
   "metadata": {},
   "outputs": [],
   "source": [
    "\"\"\"\n",
    "Drop rows missing a disposition value\n",
    "\"\"\"\n",
    "df = df[~((df.disposition.fillna(\"\") == \"\"))]"
   ]
  },
  {
   "cell_type": "code",
   "execution_count": 29,
   "metadata": {},
   "outputs": [
    {
     "data": {
      "text/plain": [
       "40"
      ]
     },
     "execution_count": 29,
     "metadata": {},
     "output_type": "execute_result"
    }
   ],
   "source": [
    "\"\"\"\n",
    "Number of agencies for which we have disposition data (data spans 2003 - 2021)\n",
    "\"\"\"\n",
    "df.agency.nunique()"
   ]
  },
  {
   "cell_type": "code",
   "execution_count": 30,
   "metadata": {},
   "outputs": [
    {
     "data": {
      "text/plain": [
       "12255"
      ]
     },
     "execution_count": 30,
     "metadata": {},
     "output_type": "execute_result"
    }
   ],
   "source": [
    "\"\"\"\n",
    "Number of dispositions in total\n",
    "\"\"\"\n",
    "df.disposition.count()"
   ]
  },
  {
   "cell_type": "code",
   "execution_count": 31,
   "metadata": {},
   "outputs": [
    {
     "data": {
      "text/plain": [
       "sustained                                        0.313178\n",
       "unfounded                                        0.214525\n",
       "not sustained                                    0.164259\n",
       "exonerated                                       0.116687\n",
       "pending investigation                            0.039331\n",
       "founded                                          0.021134\n",
       "withdrawn; mediation                             0.019910\n",
       "negotiated settlement                            0.013301\n",
       "di-2                                             0.013219\n",
       "no further investigation merited                 0.009139\n",
       "non-sustained                                    0.009058\n",
       "cancelled                                        0.005141\n",
       "unsustained                                      0.005059\n",
       "resigned                                         0.004978\n",
       "sustained; resigned while under investigation    0.004162\n",
       "withdrawn                                        0.003427\n",
       "inconclusive                                     0.003101\n",
       "duplicate allegation                             0.002938\n",
       "exceptional                                      0.002856\n",
       "unknown                                          0.002611\n",
       "Name: disposition, dtype: float64"
      ]
     },
     "execution_count": 31,
     "metadata": {},
     "output_type": "execute_result"
    }
   ],
   "source": [
    "\"\"\"\n",
    "Normalized disposition counts, i.e., 31% of dispositions were sustained after an internal investigation\n",
    "\"\"\"\n",
    "df.disposition.value_counts(normalize=True).head(20)"
   ]
  },
  {
   "cell_type": "code",
   "execution_count": 32,
   "metadata": {},
   "outputs": [],
   "source": [
    "\"\"\"\n",
    "Analyze disciplinary actions for sustained allegations\n",
    "\"\"\"\n",
    "df = df[df.disposition.isin([\"sustained\"])]"
   ]
  },
  {
   "cell_type": "code",
   "execution_count": 33,
   "metadata": {},
   "outputs": [
    {
     "data": {
      "text/plain": [
       "array(['sustained'], dtype=object)"
      ]
     },
     "execution_count": 33,
     "metadata": {},
     "output_type": "execute_result"
    }
   ],
   "source": [
    "\"\"\"\n",
    "df is filtered for sustained dispositions\n",
    "\"\"\"\n",
    "df.disposition.unique()"
   ]
  },
  {
   "cell_type": "code",
   "execution_count": 34,
   "metadata": {},
   "outputs": [],
   "source": [
    "\"\"\"\n",
    "Fill na values\n",
    "\"\"\"\n",
    "def fill_nas(df):\n",
    "    df.loc[:, 'action'] = df.action.str.lower().str.strip().fillna(\"n/a\")\n",
    "    return df"
   ]
  },
  {
   "cell_type": "code",
   "execution_count": 35,
   "metadata": {},
   "outputs": [],
   "source": [
    "df = df.pipe(fill_nas)"
   ]
  },
  {
   "cell_type": "code",
   "execution_count": 36,
   "metadata": {},
   "outputs": [],
   "source": [
    "\"\"\"\n",
    "Standardize text formatting for disciplinary action column\n",
    "\"\"\"\n",
    "df = df.pipe(standardize_desc_cols, [\"action\"])"
   ]
  },
  {
   "cell_type": "code",
   "execution_count": 37,
   "metadata": {},
   "outputs": [
    {
     "data": {
      "text/plain": [
       "n/a                                                                                    0.548202\n",
       "letter of caution                                                                      0.097707\n",
       "letter of reprimand                                                                    0.041167\n",
       "warning                                                                                0.033090\n",
       "termination                                                                            0.020844\n",
       "                                                                                         ...   \n",
       "resigned before disposition                                                            0.000261\n",
       "2-day suspension;30-day loss of unit                                                   0.000261\n",
       "letter of reprimand/8-hour driving school/10-day loss of unit                          0.000261\n",
       "2-day suspension; verbal judo training; attaining respect class; early intervention    0.000261\n",
       "6-day suspension; 26-hours loss of pay; 6-day loss of seniority                        0.000261\n",
       "Name: action, Length: 189, dtype: float64"
      ]
     },
     "execution_count": 37,
     "metadata": {},
     "output_type": "execute_result"
    }
   ],
   "source": [
    "\"\"\"\n",
    "45% of sustained allegations have a corresponding disciplinary action\n",
    "\"\"\"\n",
    "df.action.value_counts(normalize=True)"
   ]
  },
  {
   "cell_type": "code",
   "execution_count": 38,
   "metadata": {},
   "outputs": [],
   "source": [
    "def drop_na_action_values(df):\n",
    "    df.loc[:, \"action\"] = df.action.str.replace(r\"^n/a$\", \"\", regex=True)\n",
    "    return df[~((df.action.fillna(\"\") == \"\"))]"
   ]
  },
  {
   "cell_type": "code",
   "execution_count": 39,
   "metadata": {},
   "outputs": [],
   "source": [
    "df = df.pipe(drop_na_action_values)"
   ]
  },
  {
   "cell_type": "code",
   "execution_count": 40,
   "metadata": {},
   "outputs": [
    {
     "data": {
      "text/plain": [
       "letter of caution                                                                                                                        0.216388\n",
       "letter of reprimand                                                                                                                      0.091171\n",
       "warning                                                                                                                                  0.073283\n",
       "termination                                                                                                                              0.046163\n",
       "reprimand                                                                                                                                0.031737\n",
       "                                                                                                                                           ...   \n",
       "verbal counseling/30-day loss of unit                                                                                                    0.000577\n",
       "downgraded to dm-1                                                                                                                       0.000577\n",
       "1-day suspension;15-day loss of unit;driving school                                                                                      0.000577\n",
       "life lesson learned from experience                                                                                                      0.000577\n",
       "15 day suspension without pay; appeal: yes; hearing date: 8/9/2017; appeal disposition: 15 day suspension reduced to 6 day suspension    0.000577\n",
       "Name: action, Length: 187, dtype: float64"
      ]
     },
     "execution_count": 40,
     "metadata": {},
     "output_type": "execute_result"
    }
   ],
   "source": [
    "\"\"\"\n",
    "Disciplinary action data \n",
    "\"\"\"\n",
    "df.action.value_counts(normalize=True)"
   ]
  },
  {
   "cell_type": "code",
   "execution_count": 41,
   "metadata": {},
   "outputs": [],
   "source": [
    "\"\"\"\n",
    "Group similar disicplinary actions\n",
    "\"\"\"\n",
    "def group_actions(df):\n",
    "    df.loc[:, 'action'] = df.action.str.lower().str.strip().fillna(\"n/a\")\\\n",
    "        .str.replace(r'(.+)?suspend?e?d?s?i?o?n?(.+)?', 'suspended', regex=True)\\\n",
    "        .str.replace(r\"(.+)?(reprimand|written|letter)(.+)?\", \"written or verbal reprimand\", regex=True)\\\n",
    "        .str.replace(r\"^termination$\", \"terminated\", regex=True)\\\n",
    "        .str.replace(r\"(.+)?train(.+)?\", \"training\", regex=True)\\\n",
    "        .str.replace(r\"(.+)?demotion(.+)?\", \"demoted\", regex=True)\\\n",
    "        .str.replace(r\"(.+)?loss of unit(.+)?\", \"lost unit privileges\", regex=True)\\\n",
    "        .str.replace(r\"(.+)?counsel(ing)?(.+)?\", \"counseled\", regex=True)\\\n",
    "        .str.replace(r\"(.+)?warning(.+)?\", \"warned\", regex=True)\\\n",
    "        .str.replace(r\"(.+)?(resignation|resigned)(.+)\", \"resigned\", regex=True)\n",
    "    return df"
   ]
  },
  {
   "cell_type": "code",
   "execution_count": 42,
   "metadata": {},
   "outputs": [],
   "source": [
    "df = df.pipe(group_actions)"
   ]
  },
  {
   "cell_type": "code",
   "execution_count": 43,
   "metadata": {},
   "outputs": [
    {
     "data": {
      "text/plain": [
       "written or verbal reprimand            0.455857\n",
       "suspended                              0.278130\n",
       "warned                                 0.080208\n",
       "terminated                             0.054241\n",
       "counseled                              0.050202\n",
       "resigned                               0.027121\n",
       "training                               0.009810\n",
       "discharged                             0.005770\n",
       "demoted                                0.004039\n",
       "lod                                    0.002885\n",
       "conference worksheet                   0.002308\n",
       "hold in abeyance                       0.002308\n",
       "unknown                                0.001731\n",
       "performance log                        0.001731\n",
       "disciplined                            0.001731\n",
       "green sheet                            0.001731\n",
       "lost unit privileges                   0.001731\n",
       "dmvr                                   0.001154\n",
       "deferred/handled upon rehire           0.001154\n",
       "1-day driving school                   0.001154\n",
       "retired                                0.001154\n",
       "separated from employment              0.001154\n",
       "remedial                               0.001154\n",
       "other                                  0.000577\n",
       "deficiency                             0.000577\n",
       "quit                                   0.000577\n",
       "off duty security                      0.000577\n",
       "no discipline                          0.000577\n",
       "demoted to deputy                      0.000577\n",
       "none                                   0.000577\n",
       "vehicle use                            0.000577\n",
       "arrested; terminated                   0.000577\n",
       "8-hour transfer                        0.000577\n",
       "1-year probation                       0.000577\n",
       "seperation                             0.000577\n",
       "eap                                    0.000577\n",
       "downgraded to dm-1                     0.000577\n",
       "transfer                               0.000577\n",
       "unit privileges                        0.000577\n",
       "officer resigned                       0.000577\n",
       "life lesson learned from experience    0.000577\n",
       "pending                                0.000577\n",
       "ference                                0.000577\n",
       "Name: action, dtype: float64"
      ]
     },
     "execution_count": 43,
     "metadata": {},
     "output_type": "execute_result"
    }
   ],
   "source": [
    "\"\"\"\n",
    "Disciplinary action data after grouping similar actions\n",
    "\"\"\"\n",
    "df.action.value_counts(normalize=True)"
   ]
  }
 ],
 "metadata": {
  "kernelspec": {
   "display_name": "Python 3.9.11 64-bit",
   "language": "python",
   "name": "python3"
  },
  "language_info": {
   "codemirror_mode": {
    "name": "ipython",
    "version": 3
   },
   "file_extension": ".py",
   "mimetype": "text/x-python",
   "name": "python",
   "nbconvert_exporter": "python",
   "pygments_lexer": "ipython3",
   "version": "3.9.11"
  },
  "orig_nbformat": 4,
  "vscode": {
   "interpreter": {
    "hash": "f6c8f846148a3e4d140e6ddf63c190cff559dcf260a4a21539f0978f2b58638c"
   }
  }
 },
 "nbformat": 4,
 "nbformat_minor": 2
}

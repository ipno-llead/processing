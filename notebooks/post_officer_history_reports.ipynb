{
 "cells": [
  {
   "cell_type": "code",
   "execution_count": 346,
   "metadata": {},
   "outputs": [],
   "source": [
    "# import os\n",
    "# os.chdir(\"../\")"
   ]
  },
  {
   "cell_type": "code",
   "execution_count": 347,
   "metadata": {},
   "outputs": [],
   "source": [
    "import pandas as pd\n",
    "\n",
    "from clean.post_officer_history import clean"
   ]
  },
  {
   "cell_type": "code",
   "execution_count": 348,
   "metadata": {},
   "outputs": [
    {
     "name": "stdout",
     "output_type": "stream",
     "text": [
      "standardize_from_lookup_table: unmatched sequences:\n",
      "  {\"orleans parish sheriff's academy\\nnopd municipal training academy\\n\\nfirearm qualifications\\nrange / academy\\nnopd municipal training academy\\norleans parish sheriff's academy\\nplaquemines parish so range\", 'reserve 4/1/2001 5/1/2002', 'retired 2/7/1988 7/1/2016', 'bossier parish so retired — 6/162010s72172022', 'nopd municipal training academy\\nla state police academy', 'reserve tat/', '9/28/1976 8/6/1987'}\n"
     ]
    },
    {
     "name": "stderr",
     "output_type": "stream",
     "text": [
      "c:\\Users\\PC\\Desktop\\launch\\processing\\clean\\post_officer_history.py:313: FutureWarning: The default value of regex will change from True to False in a future version.\n",
      "  df.agency.str.strip()\n"
     ]
    }
   ],
   "source": [
    "df = clean()"
   ]
  },
  {
   "cell_type": "code",
   "execution_count": 349,
   "metadata": {},
   "outputs": [
    {
     "data": {
      "text/html": [
       "<div>\n",
       "<style scoped>\n",
       "    .dataframe tbody tr th:only-of-type {\n",
       "        vertical-align: middle;\n",
       "    }\n",
       "\n",
       "    .dataframe tbody tr th {\n",
       "        vertical-align: top;\n",
       "    }\n",
       "\n",
       "    .dataframe thead th {\n",
       "        text-align: right;\n",
       "    }\n",
       "</style>\n",
       "<table border=\"1\" class=\"dataframe\">\n",
       "  <thead>\n",
       "    <tr style=\"text-align: right;\">\n",
       "      <th></th>\n",
       "      <th>history_id</th>\n",
       "      <th>agency</th>\n",
       "      <th>last_name</th>\n",
       "      <th>first_name</th>\n",
       "      <th>middle_name</th>\n",
       "      <th>left_reason</th>\n",
       "      <th>hire_date</th>\n",
       "      <th>left_date</th>\n",
       "      <th>employment_status</th>\n",
       "      <th>uid</th>\n",
       "      <th>switched_job</th>\n",
       "      <th>source_agency</th>\n",
       "    </tr>\n",
       "  </thead>\n",
       "  <tbody>\n",
       "    <tr>\n",
       "      <th>0</th>\n",
       "      <td>0</td>\n",
       "      <td>jefferson-so</td>\n",
       "      <td>Alvarado</td>\n",
       "      <td>Julio</td>\n",
       "      <td>C</td>\n",
       "      <td>NaN</td>\n",
       "      <td>2/28/2005</td>\n",
       "      <td></td>\n",
       "      <td>full-time</td>\n",
       "      <td>cd9f1f562357f0f3307603cafda8d032</td>\n",
       "      <td>True</td>\n",
       "      <td>post</td>\n",
       "    </tr>\n",
       "    <tr>\n",
       "      <th>1</th>\n",
       "      <td>0</td>\n",
       "      <td>new-orleans-so</td>\n",
       "      <td>Alvarado</td>\n",
       "      <td>Julio</td>\n",
       "      <td>C</td>\n",
       "      <td>NaN</td>\n",
       "      <td>5/17/2002</td>\n",
       "      <td></td>\n",
       "      <td>full-time</td>\n",
       "      <td>1554036f19bab5d19a59a508d773984e</td>\n",
       "      <td>True</td>\n",
       "      <td>post</td>\n",
       "    </tr>\n",
       "    <tr>\n",
       "      <th>3</th>\n",
       "      <td>1</td>\n",
       "      <td>new-orleans-pd</td>\n",
       "      <td>Vaught</td>\n",
       "      <td>Ryan</td>\n",
       "      <td>Clinton</td>\n",
       "      <td>NaN</td>\n",
       "      <td>10/7/2004</td>\n",
       "      <td>9/17/2016</td>\n",
       "      <td>full-time</td>\n",
       "      <td>3df20fb350cbf9b1e748c0f671dcf008</td>\n",
       "      <td>True</td>\n",
       "      <td>post</td>\n",
       "    </tr>\n",
       "    <tr>\n",
       "      <th>4</th>\n",
       "      <td>1</td>\n",
       "      <td>jefferson-so</td>\n",
       "      <td>Vaught</td>\n",
       "      <td>Ryan</td>\n",
       "      <td>Clinton</td>\n",
       "      <td>NaN</td>\n",
       "      <td>9/19/2016</td>\n",
       "      <td></td>\n",
       "      <td>reserve</td>\n",
       "      <td>5242a69e525917a838f93af4196ec656</td>\n",
       "      <td>True</td>\n",
       "      <td>post</td>\n",
       "    </tr>\n",
       "    <tr>\n",
       "      <th>5</th>\n",
       "      <td>2</td>\n",
       "      <td>harahan-pd</td>\n",
       "      <td>Mehrtens</td>\n",
       "      <td>Steven</td>\n",
       "      <td>Allen</td>\n",
       "      <td>NaN</td>\n",
       "      <td>9/1/2011</td>\n",
       "      <td></td>\n",
       "      <td>full-time</td>\n",
       "      <td>8c342854dcfcd41aad83ddcefe72f104</td>\n",
       "      <td>True</td>\n",
       "      <td>post</td>\n",
       "    </tr>\n",
       "    <tr>\n",
       "      <th>6</th>\n",
       "      <td>2</td>\n",
       "      <td>jefferson-so</td>\n",
       "      <td>Mehrtens</td>\n",
       "      <td>Steven</td>\n",
       "      <td>Allen</td>\n",
       "      <td>NaN</td>\n",
       "      <td>10/3/2016</td>\n",
       "      <td></td>\n",
       "      <td>full-time</td>\n",
       "      <td>74f6f774e80a9c7f3d7c3a6555cf8217</td>\n",
       "      <td>True</td>\n",
       "      <td>post</td>\n",
       "    </tr>\n",
       "    <tr>\n",
       "      <th>8</th>\n",
       "      <td>4</td>\n",
       "      <td>jefferson-so</td>\n",
       "      <td>Gaudet</td>\n",
       "      <td>Myron</td>\n",
       "      <td>A</td>\n",
       "      <td>NaN</td>\n",
       "      <td>8/14/1992</td>\n",
       "      <td></td>\n",
       "      <td>full-time</td>\n",
       "      <td>50e1899068d40e08d23b920a9321ea60</td>\n",
       "      <td>False</td>\n",
       "      <td>post</td>\n",
       "    </tr>\n",
       "    <tr>\n",
       "      <th>9</th>\n",
       "      <td>5</td>\n",
       "      <td>new-orleans-so</td>\n",
       "      <td>Dowling</td>\n",
       "      <td>Keith</td>\n",
       "      <td>Edward</td>\n",
       "      <td>NaN</td>\n",
       "      <td>7/1/1993</td>\n",
       "      <td>4/1/1994</td>\n",
       "      <td>full-time</td>\n",
       "      <td>95e86285a377f1f40a0efad49209e74e</td>\n",
       "      <td>True</td>\n",
       "      <td>post</td>\n",
       "    </tr>\n",
       "    <tr>\n",
       "      <th>10</th>\n",
       "      <td>5</td>\n",
       "      <td>st-bernard-so</td>\n",
       "      <td>Dowling</td>\n",
       "      <td>Keith</td>\n",
       "      <td>Edward</td>\n",
       "      <td>NaN</td>\n",
       "      <td>1/12/1998</td>\n",
       "      <td>2/1/2001</td>\n",
       "      <td>full-time</td>\n",
       "      <td>22b2cfbe116d149542e913d226a1192f</td>\n",
       "      <td>True</td>\n",
       "      <td>post</td>\n",
       "    </tr>\n",
       "    <tr>\n",
       "      <th>11</th>\n",
       "      <td>5</td>\n",
       "      <td>st-tammany-so</td>\n",
       "      <td>Dowling</td>\n",
       "      <td>Keith</td>\n",
       "      <td>Edward</td>\n",
       "      <td>NaN</td>\n",
       "      <td>11/15/2002</td>\n",
       "      <td></td>\n",
       "      <td>full-time</td>\n",
       "      <td>029bfb6d971f9054825a5c2ca848e716</td>\n",
       "      <td>True</td>\n",
       "      <td>post</td>\n",
       "    </tr>\n",
       "  </tbody>\n",
       "</table>\n",
       "</div>"
      ],
      "text/plain": [
       "    history_id          agency last_name first_name middle_name left_reason  \\\n",
       "0            0    jefferson-so  Alvarado      Julio           C         NaN   \n",
       "1            0  new-orleans-so  Alvarado      Julio           C         NaN   \n",
       "3            1  new-orleans-pd    Vaught       Ryan     Clinton         NaN   \n",
       "4            1    jefferson-so    Vaught       Ryan     Clinton         NaN   \n",
       "5            2      harahan-pd  Mehrtens     Steven       Allen         NaN   \n",
       "6            2    jefferson-so  Mehrtens     Steven       Allen         NaN   \n",
       "8            4    jefferson-so    Gaudet      Myron           A         NaN   \n",
       "9            5  new-orleans-so   Dowling      Keith      Edward         NaN   \n",
       "10           5   st-bernard-so   Dowling      Keith      Edward         NaN   \n",
       "11           5   st-tammany-so   Dowling      Keith      Edward         NaN   \n",
       "\n",
       "     hire_date  left_date employment_status                               uid  \\\n",
       "0    2/28/2005                    full-time  cd9f1f562357f0f3307603cafda8d032   \n",
       "1    5/17/2002                    full-time  1554036f19bab5d19a59a508d773984e   \n",
       "3    10/7/2004  9/17/2016         full-time  3df20fb350cbf9b1e748c0f671dcf008   \n",
       "4    9/19/2016                      reserve  5242a69e525917a838f93af4196ec656   \n",
       "5     9/1/2011                    full-time  8c342854dcfcd41aad83ddcefe72f104   \n",
       "6    10/3/2016                    full-time  74f6f774e80a9c7f3d7c3a6555cf8217   \n",
       "8    8/14/1992                    full-time  50e1899068d40e08d23b920a9321ea60   \n",
       "9     7/1/1993   4/1/1994         full-time  95e86285a377f1f40a0efad49209e74e   \n",
       "10   1/12/1998   2/1/2001         full-time  22b2cfbe116d149542e913d226a1192f   \n",
       "11  11/15/2002                    full-time  029bfb6d971f9054825a5c2ca848e716   \n",
       "\n",
       "    switched_job source_agency  \n",
       "0           True          post  \n",
       "1           True          post  \n",
       "3           True          post  \n",
       "4           True          post  \n",
       "5           True          post  \n",
       "6           True          post  \n",
       "8          False          post  \n",
       "9           True          post  \n",
       "10          True          post  \n",
       "11          True          post  "
      ]
     },
     "execution_count": 349,
     "metadata": {},
     "output_type": "execute_result"
    }
   ],
   "source": [
    "\"\"\"\n",
    "Preview\n",
    "\"\"\"\n",
    "df.head(10)"
   ]
  },
  {
   "cell_type": "code",
   "execution_count": 350,
   "metadata": {},
   "outputs": [],
   "source": [
    "\"\"\"\n",
    "Filter out officers who haven't switched employers\n",
    "\"\"\"\n",
    "df = df[df.switched_job == True]"
   ]
  },
  {
   "cell_type": "code",
   "execution_count": 351,
   "metadata": {},
   "outputs": [],
   "source": [
    "\"\"\"\n",
    "Act 272 of 2017 requires all law enforcement agencies to report changes to an officer's employment status\n",
    "---------------------------------------------------------------------------------------------------------\n",
    "Filter out data prior to 2018\n",
    "Filter out officers who retired or are deceased \n",
    "Fill empty rows with n/a values\n",
    "\"\"\"\n",
    "def filter_years(df):\n",
    "    year = df.left_date.str.extract(r\"(\\w{4})\")\n",
    "    df.loc[:, \"left_year\"] = year[0]\n",
    "\n",
    "    df = df[df.left_year.isin([\"2018\", \"2019\", \"2020\", \"2021\", \"2022\"])]\n",
    "    return df\n",
    "\n",
    "def filter_employment_status(df):\n",
    "    df = df[~((df.employment_status == \"retired\"))]\n",
    "    df = df[~((df.employment_status == \"deceased\"))]\n",
    "    return df\n",
    "\n",
    "def fill_na_values(df):\n",
    "    df.loc[:, \"left_reason\"] = df.left_reason.fillna(\"n/a\")\n",
    "    return df\n",
    "\n",
    "df = df.pipe(filter_years).pipe(filter_employment_status).pipe(fill_na_values)"
   ]
  },
  {
   "cell_type": "code",
   "execution_count": 352,
   "metadata": {},
   "outputs": [
    {
     "data": {
      "text/plain": [
       "140"
      ]
     },
     "execution_count": 352,
     "metadata": {},
     "output_type": "execute_result"
    }
   ],
   "source": [
    "\"\"\"\n",
    "Between 2018 - 2022 the following number of officers had a change in employment status\n",
    "\"\"\"\n",
    "df.history_id.nunique()"
   ]
  },
  {
   "cell_type": "code",
   "execution_count": 353,
   "metadata": {},
   "outputs": [
    {
     "data": {
      "text/plain": [
       "81"
      ]
     },
     "execution_count": 353,
     "metadata": {},
     "output_type": "execute_result"
    }
   ],
   "source": [
    "\"\"\"\n",
    "Officers who switched employers in these years moved between the following number of agencies\n",
    "\"\"\"\n",
    "df.agency.nunique()"
   ]
  },
  {
   "cell_type": "code",
   "execution_count": 354,
   "metadata": {},
   "outputs": [
    {
     "data": {
      "text/plain": [
       "voluntary resignation      0.465116\n",
       "n/a                        0.430233\n",
       "termination                0.058140\n",
       "resignation                0.040698\n",
       "involuntary resignation    0.005814\n",
       "Name: left_reason, dtype: float64"
      ]
     },
     "execution_count": 354,
     "metadata": {},
     "output_type": "execute_result"
    }
   ],
   "source": [
    "\"\"\"\n",
    "43% of the officers who switched employers between 2018 - 2022 have no reported reason for a change in employment status, despite the legal requirement on agenccies to provide one.\n",
    "\"\"\"\n",
    "df.left_reason.value_counts(normalize=True)"
   ]
  },
  {
   "cell_type": "code",
   "execution_count": 355,
   "metadata": {},
   "outputs": [],
   "source": [
    "\"\"\"\n",
    "Drop rows missing data to compare left reasons\n",
    "\"\"\"\n",
    "def drop_na_rows(df):\n",
    "    df.loc[:, \"left_reason\"] = df.left_reason.str.replace(r\"^n\\/a$\", \"\", regex=True)\n",
    "    return df[~((df.left_reason == \"\"))]\n",
    "\n",
    "df = df.pipe(drop_na_rows)"
   ]
  },
  {
   "cell_type": "code",
   "execution_count": 356,
   "metadata": {},
   "outputs": [
    {
     "data": {
      "text/plain": [
       "voluntary resignation      0.816327\n",
       "termination                0.102041\n",
       "resignation                0.071429\n",
       "involuntary resignation    0.010204\n",
       "Name: left_reason, dtype: float64"
      ]
     },
     "execution_count": 356,
     "metadata": {},
     "output_type": "execute_result"
    }
   ],
   "source": [
    "\"\"\"\n",
    "Of the 43%, the most commonly reported left_reason is voluntary resignation, followed by termination, resignation and involuntary resignation.\n",
    "\"\"\"\n",
    "df.left_reason.value_counts(normalize=True)"
   ]
  }
 ],
 "metadata": {
  "kernelspec": {
   "display_name": "Python 3.9.11 64-bit",
   "language": "python",
   "name": "python3"
  },
  "language_info": {
   "codemirror_mode": {
    "name": "ipython",
    "version": 3
   },
   "file_extension": ".py",
   "mimetype": "text/x-python",
   "name": "python",
   "nbconvert_exporter": "python",
   "pygments_lexer": "ipython3",
   "version": "3.9.11"
  },
  "orig_nbformat": 4,
  "vscode": {
   "interpreter": {
    "hash": "f6c8f846148a3e4d140e6ddf63c190cff559dcf260a4a21539f0978f2b58638c"
   }
  }
 },
 "nbformat": 4,
 "nbformat_minor": 2
}

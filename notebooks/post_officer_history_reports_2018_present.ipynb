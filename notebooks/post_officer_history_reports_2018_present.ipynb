{
 "cells": [
  {
   "cell_type": "code",
   "execution_count": 1,
   "metadata": {},
   "outputs": [],
   "source": [
    "# import os\n",
    "# os.chdir(\"../\")"
   ]
  },
  {
   "cell_type": "code",
   "execution_count": 2,
   "metadata": {},
   "outputs": [],
   "source": [
    "import pandas as pd\n",
    "\n",
    "from clean.post_officer_history import clean"
   ]
  },
  {
   "cell_type": "code",
   "execution_count": 3,
   "metadata": {},
   "outputs": [
    {
     "name": "stdout",
     "output_type": "stream",
     "text": [
      "standardize_from_lookup_table: unmatched sequences:\n",
      "  {'sex: ', \"sex:'\"}\n"
     ]
    },
    {
     "name": "stderr",
     "output_type": "stream",
     "text": [
      "c:\\Users\\PC\\Desktop\\launch\\processing\\lib\\clean.py:458: SettingWithCopyWarning: \n",
      "A value is trying to be set on a copy of a slice from a DataFrame.\n",
      "Try using .loc[row_indexer,col_indexer] = value instead\n",
      "\n",
      "See the caveats in the documentation: https://pandas.pydata.org/pandas-docs/stable/user_guide/indexing.html#returning-a-view-versus-a-copy\n",
      "  df.loc[:, col] = (\n",
      "c:\\Users\\PC\\Desktop\\launch\\processing\\clean\\post_officer_history.py:134: FutureWarning: The default value of regex will change from True to False in a future version.\n",
      "  df.agency.str.strip()\n"
     ]
    }
   ],
   "source": [
    "df = clean()"
   ]
  },
  {
   "cell_type": "code",
   "execution_count": 4,
   "metadata": {},
   "outputs": [
    {
     "data": {
      "text/html": [
       "<div>\n",
       "<style scoped>\n",
       "    .dataframe tbody tr th:only-of-type {\n",
       "        vertical-align: middle;\n",
       "    }\n",
       "\n",
       "    .dataframe tbody tr th {\n",
       "        vertical-align: top;\n",
       "    }\n",
       "\n",
       "    .dataframe thead th {\n",
       "        text-align: right;\n",
       "    }\n",
       "</style>\n",
       "<table border=\"1\" class=\"dataframe\">\n",
       "  <thead>\n",
       "    <tr style=\"text-align: right;\">\n",
       "      <th></th>\n",
       "      <th>history_id</th>\n",
       "      <th>agency</th>\n",
       "      <th>last_name</th>\n",
       "      <th>first_name</th>\n",
       "      <th>middle_name</th>\n",
       "      <th>left_reason</th>\n",
       "      <th>hire_date</th>\n",
       "      <th>left_date</th>\n",
       "      <th>employment_status</th>\n",
       "      <th>uid</th>\n",
       "      <th>switched_job</th>\n",
       "      <th>source_agency</th>\n",
       "    </tr>\n",
       "  </thead>\n",
       "  <tbody>\n",
       "    <tr>\n",
       "      <th>1</th>\n",
       "      <td>2</td>\n",
       "      <td>west-monroe-pd</td>\n",
       "      <td>Wall</td>\n",
       "      <td>Dennis</td>\n",
       "      <td>Edward</td>\n",
       "      <td></td>\n",
       "      <td>2/23/1999</td>\n",
       "      <td>NaN</td>\n",
       "      <td>full-time</td>\n",
       "      <td>d548b5bb6c965c77b3d698c9dc4660de</td>\n",
       "      <td>True</td>\n",
       "      <td>post</td>\n",
       "    </tr>\n",
       "    <tr>\n",
       "      <th>2</th>\n",
       "      <td>2</td>\n",
       "      <td>monroe-pd</td>\n",
       "      <td>Wall</td>\n",
       "      <td>Dennis</td>\n",
       "      <td>Edward</td>\n",
       "      <td></td>\n",
       "      <td>10/1/2004</td>\n",
       "      <td>NaN</td>\n",
       "      <td>full-time</td>\n",
       "      <td>21ed5093c58402cf547423c4617f380d</td>\n",
       "      <td>True</td>\n",
       "      <td>post</td>\n",
       "    </tr>\n",
       "    <tr>\n",
       "      <th>10</th>\n",
       "      <td>4</td>\n",
       "      <td>new-orleans-pd</td>\n",
       "      <td>Moore</td>\n",
       "      <td>Matthewi</td>\n",
       "      <td>D</td>\n",
       "      <td></td>\n",
       "      <td>12/26/2004</td>\n",
       "      <td>NaN</td>\n",
       "      <td>full-time</td>\n",
       "      <td>7d810c7cb89e7f404f1a2b2ffa18b846</td>\n",
       "      <td>False</td>\n",
       "      <td>post</td>\n",
       "    </tr>\n",
       "    <tr>\n",
       "      <th>14</th>\n",
       "      <td>9</td>\n",
       "      <td>lsuhsc-new-orleans-university-pd</td>\n",
       "      <td>Jackson</td>\n",
       "      <td>Taskaras</td>\n",
       "      <td></td>\n",
       "      <td></td>\n",
       "      <td>11/25/2013</td>\n",
       "      <td>8/1/2016</td>\n",
       "      <td>full-time</td>\n",
       "      <td>5c2f8fb54e90e64189f2bd426083034f</td>\n",
       "      <td>True</td>\n",
       "      <td>post</td>\n",
       "    </tr>\n",
       "    <tr>\n",
       "      <th>15</th>\n",
       "      <td>9</td>\n",
       "      <td>orleans-levee-pd</td>\n",
       "      <td>Jackson</td>\n",
       "      <td>Taskaras</td>\n",
       "      <td></td>\n",
       "      <td></td>\n",
       "      <td>8/2/2016</td>\n",
       "      <td>NaN</td>\n",
       "      <td>full-time</td>\n",
       "      <td>58b594b3ad3cc815b5db5af86c220c87</td>\n",
       "      <td>True</td>\n",
       "      <td>post</td>\n",
       "    </tr>\n",
       "    <tr>\n",
       "      <th>17</th>\n",
       "      <td>13</td>\n",
       "      <td>new-orleans-pd</td>\n",
       "      <td>Wheeler</td>\n",
       "      <td>Kevin</td>\n",
       "      <td>L</td>\n",
       "      <td></td>\n",
       "      <td>12/10/2007</td>\n",
       "      <td>11/27/2012</td>\n",
       "      <td>full-time</td>\n",
       "      <td>82504d15567e036bf5cba6072f1d25e0</td>\n",
       "      <td>True</td>\n",
       "      <td>post</td>\n",
       "    </tr>\n",
       "    <tr>\n",
       "      <th>18</th>\n",
       "      <td>13</td>\n",
       "      <td>orleans-levee-pd</td>\n",
       "      <td>Wheeler</td>\n",
       "      <td>Kevin</td>\n",
       "      <td>L</td>\n",
       "      <td></td>\n",
       "      <td>5/9/2016</td>\n",
       "      <td>NaN</td>\n",
       "      <td>full-time</td>\n",
       "      <td>f3a807b5117fa0d88d7d6dc66a97e207</td>\n",
       "      <td>True</td>\n",
       "      <td>post</td>\n",
       "    </tr>\n",
       "    <tr>\n",
       "      <th>19</th>\n",
       "      <td>13</td>\n",
       "      <td>loyola-university-pd</td>\n",
       "      <td>Wheeler</td>\n",
       "      <td>Kevin</td>\n",
       "      <td>L</td>\n",
       "      <td>voluntary resignation</td>\n",
       "      <td>11/1/2019</td>\n",
       "      <td>1/21/2020</td>\n",
       "      <td>full-time</td>\n",
       "      <td>deeb30995ad06909936910a3339767a8</td>\n",
       "      <td>True</td>\n",
       "      <td>post</td>\n",
       "    </tr>\n",
       "    <tr>\n",
       "      <th>23</th>\n",
       "      <td>17</td>\n",
       "      <td>tulane-university-pd</td>\n",
       "      <td>Solorzano</td>\n",
       "      <td>Rodrigo</td>\n",
       "      <td>Miguel</td>\n",
       "      <td></td>\n",
       "      <td>1/9/2015</td>\n",
       "      <td>NaN</td>\n",
       "      <td>full-time</td>\n",
       "      <td>0a618e1f9a72d6e5bd6bf1cffff87a99</td>\n",
       "      <td>False</td>\n",
       "      <td>post</td>\n",
       "    </tr>\n",
       "    <tr>\n",
       "      <th>24</th>\n",
       "      <td>19</td>\n",
       "      <td>tulane-university-pd</td>\n",
       "      <td>Downs</td>\n",
       "      <td>Joseph</td>\n",
       "      <td>C</td>\n",
       "      <td></td>\n",
       "      <td>10/1/2003</td>\n",
       "      <td>NaN</td>\n",
       "      <td>full-time</td>\n",
       "      <td>9636468f281ab87e0588ba7e1232e282</td>\n",
       "      <td>True</td>\n",
       "      <td>post</td>\n",
       "    </tr>\n",
       "  </tbody>\n",
       "</table>\n",
       "</div>"
      ],
      "text/plain": [
       "    history_id                            agency  last_name first_name  \\\n",
       "1            2                    west-monroe-pd       Wall     Dennis   \n",
       "2            2                         monroe-pd       Wall     Dennis   \n",
       "10           4                    new-orleans-pd      Moore   Matthewi   \n",
       "14           9  lsuhsc-new-orleans-university-pd    Jackson   Taskaras   \n",
       "15           9                  orleans-levee-pd    Jackson   Taskaras   \n",
       "17          13                    new-orleans-pd    Wheeler      Kevin   \n",
       "18          13                  orleans-levee-pd    Wheeler      Kevin   \n",
       "19          13              loyola-university-pd    Wheeler      Kevin   \n",
       "23          17              tulane-university-pd  Solorzano    Rodrigo   \n",
       "24          19              tulane-university-pd      Downs     Joseph   \n",
       "\n",
       "   middle_name            left_reason   hire_date   left_date  \\\n",
       "1       Edward                          2/23/1999         NaN   \n",
       "2       Edward                          10/1/2004         NaN   \n",
       "10           D                         12/26/2004         NaN   \n",
       "14                                     11/25/2013    8/1/2016   \n",
       "15                                       8/2/2016         NaN   \n",
       "17           L                         12/10/2007  11/27/2012   \n",
       "18           L                           5/9/2016         NaN   \n",
       "19           L  voluntary resignation   11/1/2019   1/21/2020   \n",
       "23      Miguel                           1/9/2015         NaN   \n",
       "24           C                          10/1/2003         NaN   \n",
       "\n",
       "   employment_status                               uid  switched_job  \\\n",
       "1          full-time  d548b5bb6c965c77b3d698c9dc4660de          True   \n",
       "2          full-time  21ed5093c58402cf547423c4617f380d          True   \n",
       "10         full-time  7d810c7cb89e7f404f1a2b2ffa18b846         False   \n",
       "14         full-time  5c2f8fb54e90e64189f2bd426083034f          True   \n",
       "15         full-time  58b594b3ad3cc815b5db5af86c220c87          True   \n",
       "17         full-time  82504d15567e036bf5cba6072f1d25e0          True   \n",
       "18         full-time  f3a807b5117fa0d88d7d6dc66a97e207          True   \n",
       "19         full-time  deeb30995ad06909936910a3339767a8          True   \n",
       "23         full-time  0a618e1f9a72d6e5bd6bf1cffff87a99         False   \n",
       "24         full-time  9636468f281ab87e0588ba7e1232e282          True   \n",
       "\n",
       "   source_agency  \n",
       "1           post  \n",
       "2           post  \n",
       "10          post  \n",
       "14          post  \n",
       "15          post  \n",
       "17          post  \n",
       "18          post  \n",
       "19          post  \n",
       "23          post  \n",
       "24          post  "
      ]
     },
     "execution_count": 4,
     "metadata": {},
     "output_type": "execute_result"
    }
   ],
   "source": [
    "\"\"\"\n",
    "Preview\n",
    "\"\"\"\n",
    "df.head(10)"
   ]
  },
  {
   "cell_type": "code",
   "execution_count": 5,
   "metadata": {},
   "outputs": [],
   "source": [
    "\"\"\"\n",
    "Filter out officers who haven't switched employers\n",
    "\"\"\"\n",
    "df = df[df.switched_job == True]"
   ]
  },
  {
   "cell_type": "code",
   "execution_count": 6,
   "metadata": {},
   "outputs": [],
   "source": [
    "\"\"\"\n",
    "Act 272 of 2017 requires all law enforcement agencies to report changes to an officer's employment status\n",
    "---------------------------------------------------------------------------------------------------------\n",
    "Filter out data prior to 2018\n",
    "Filter out officers who retired or are deceased \n",
    "Fill na rows with n/a\n",
    "\"\"\"\n",
    "def filter_years(df):\n",
    "    year = df.left_date.str.extract(r\"(\\w{4})\")\n",
    "    df.loc[:, \"left_year\"] = year[0]\n",
    "\n",
    "    df = df[(df.left_year.isin([\"2018\", \"2019\", \"2020\", \"2021\", \"2022\"]))]\n",
    "    return df\n",
    "\n",
    "def filter_employment_status(df):\n",
    "    df = df[~((df.employment_status == \"retired\"))]\n",
    "    df = df[~((df.employment_status == \"deceased\"))]\n",
    "    df.loc[:, \"left_reason\"] = df.left_reason.str.replace(r\"deceased\", \"\", regex=False)\n",
    "    return df\n",
    "\n",
    "def fill_na_values(df):\n",
    "    df.loc[:, \"left_reason\"] = df.left_reason.fillna(\"n/a\")\n",
    "    return df"
   ]
  },
  {
   "cell_type": "code",
   "execution_count": 7,
   "metadata": {},
   "outputs": [],
   "source": [
    "df = df.pipe(filter_years).pipe(filter_employment_status).pipe(fill_na_values)"
   ]
  },
  {
   "cell_type": "code",
   "execution_count": 8,
   "metadata": {},
   "outputs": [
    {
     "data": {
      "text/plain": [
       "129"
      ]
     },
     "execution_count": 8,
     "metadata": {},
     "output_type": "execute_result"
    }
   ],
   "source": [
    "\"\"\"\n",
    "Number of officers who have switched employers\n",
    "\"\"\"\n",
    "df.history_id.nunique()"
   ]
  },
  {
   "cell_type": "code",
   "execution_count": 9,
   "metadata": {},
   "outputs": [
    {
     "data": {
      "text/plain": [
       "64"
      ]
     },
     "execution_count": 9,
     "metadata": {},
     "output_type": "execute_result"
    }
   ],
   "source": [
    "\"\"\"\n",
    "Officers who switched employers in these years moved between the following number of agencies\n",
    "\"\"\"\n",
    "df.agency.nunique()"
   ]
  },
  {
   "cell_type": "code",
   "execution_count": 10,
   "metadata": {},
   "outputs": [
    {
     "data": {
      "text/plain": [
       "voluntary resignation      0.464516\n",
       "                           0.451613\n",
       "termination                0.058065\n",
       "resignation                0.019355\n",
       "involuntary resignation    0.006452\n",
       "Name: left_reason, dtype: float64"
      ]
     },
     "execution_count": 10,
     "metadata": {},
     "output_type": "execute_result"
    }
   ],
   "source": [
    "\"\"\"\n",
    "A left reason is provided for 49% of the officers\n",
    "\"\"\"\n",
    "df.left_reason.value_counts(normalize=True)"
   ]
  },
  {
   "cell_type": "code",
   "execution_count": 11,
   "metadata": {},
   "outputs": [],
   "source": [
    "def drop_na_rows(df):\n",
    "    df.loc[:, \"left_reason\"] = df.left_reason.str.replace(r\"^$\", \"\", regex=True)\n",
    "    return df[~((df.left_reason == \"\"))]"
   ]
  },
  {
   "cell_type": "code",
   "execution_count": 12,
   "metadata": {},
   "outputs": [],
   "source": [
    "df = df.pipe(drop_na_rows)"
   ]
  },
  {
   "cell_type": "code",
   "execution_count": 13,
   "metadata": {},
   "outputs": [
    {
     "data": {
      "text/plain": [
       "voluntary resignation      0.847059\n",
       "termination                0.105882\n",
       "resignation                0.035294\n",
       "involuntary resignation    0.011765\n",
       "Name: left_reason, dtype: float64"
      ]
     },
     "execution_count": 13,
     "metadata": {},
     "output_type": "execute_result"
    }
   ],
   "source": [
    "\"\"\"\n",
    "Of the 49%, the most commonly reported left_reason is voluntary resignation, followed by termination and resignation.\n",
    "\"\"\"\n",
    "df.left_reason.value_counts(normalize=True)"
   ]
  }
 ],
 "metadata": {
  "kernelspec": {
   "display_name": "Python 3",
   "language": "python",
   "name": "python3"
  },
  "language_info": {
   "codemirror_mode": {
    "name": "ipython",
    "version": 3
   },
   "file_extension": ".py",
   "mimetype": "text/x-python",
   "name": "python",
   "nbconvert_exporter": "python",
   "pygments_lexer": "ipython3",
   "version": "3.9.11"
  },
  "orig_nbformat": 4,
  "vscode": {
   "interpreter": {
    "hash": "f6c8f846148a3e4d140e6ddf63c190cff559dcf260a4a21539f0978f2b58638c"
   }
  }
 },
 "nbformat": 4,
 "nbformat_minor": 2
}

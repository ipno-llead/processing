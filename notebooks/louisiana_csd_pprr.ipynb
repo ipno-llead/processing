{
 "metadata": {
  "language_info": {
   "codemirror_mode": {
    "name": "ipython",
    "version": 3
   },
   "file_extension": ".py",
   "mimetype": "text/x-python",
   "name": "python",
   "nbconvert_exporter": "python",
   "pygments_lexer": "ipython3",
   "version": "3.9.2"
  },
  "orig_nbformat": 2,
  "kernelspec": {
   "name": "python3",
   "display_name": "Python 3.9.2 64-bit ('base': virtualenvwrapper)"
  },
  "interpreter": {
   "hash": "55d6dfa6f6295e03bf132df3e61c1565ff1c22b645ef82a5638b280b97b3597b"
  }
 },
 "nbformat": 4,
 "nbformat_minor": 2,
 "cells": [
  {
   "cell_type": "code",
   "execution_count": 1,
   "metadata": {},
   "outputs": [],
   "source": [
    "import sys; sys.path.append('../')\n",
    "import pandas as pd\n",
    "\n",
    "from clean.louisiana_csd_pprr_2021 import clean_pprr_demographic, clean_pprr_termination"
   ]
  },
  {
   "cell_type": "code",
   "execution_count": 2,
   "metadata": {},
   "outputs": [
    {
     "output_type": "execute_result",
     "data": {
      "text/plain": [
       "                            department_desc last_name   first_name  \\\n",
       "0    crime investigation division- region 1     mckay       august   \n",
       "1                 investigative support sec    reggio        scott   \n",
       "2                      lsp troop i/region 2     bajat         mark   \n",
       "3                      lsp troop e/region 3   satcher      michael   \n",
       "4                      lsp troop e/region 3    towell  christopher   \n",
       "..                                      ...       ...          ...   \n",
       "568                      right to know/tess   leblanc         gary   \n",
       "569                    lsp troop a/region 1     clesi       gerard   \n",
       "570                        patrols/osp-supt  mitchell        ralph   \n",
       "571  crime investigation division- region 2     perry         paul   \n",
       "572                    lsp troop d/region 2    dalton        duane   \n",
       "\n",
       "                            rank_desc   left_date left_reason  \\\n",
       "0                             trooper  12/31/2020       death   \n",
       "1                             captain  12/28/2020      resign   \n",
       "2                      master trooper  12/28/2020  retirement   \n",
       "3                               pilot  12/19/2020      resign   \n",
       "4                      master trooper  12/14/2020  retirement   \n",
       "..                                ...         ...         ...   \n",
       "568         emergency services deputy    2/8/2010  retirement   \n",
       "569                        lieutenant   1/21/2010  retirement   \n",
       "570  deputy superintendent for patrol   1/17/2010  retirement   \n",
       "571                        lieutenant   1/16/2010  retirement   \n",
       "572                    master trooper   1/13/2010       death   \n",
       "\n",
       "                     agency data_production_year  \\\n",
       "0    Louisiana State Police                 2021   \n",
       "1    Louisiana State Police                 2021   \n",
       "2    Louisiana State Police                 2021   \n",
       "3    Louisiana State Police                 2021   \n",
       "4    Louisiana State Police                 2021   \n",
       "..                      ...                  ...   \n",
       "568  Louisiana State Police                 2021   \n",
       "569  Louisiana State Police                 2021   \n",
       "570  Louisiana State Police                 2021   \n",
       "571  Louisiana State Police                 2021   \n",
       "572  Louisiana State Police                 2021   \n",
       "\n",
       "                                  uid  \n",
       "0    2d21dadf97c8105096a6af7d4ead8e23  \n",
       "1    4d21d0eb56b54415f27f70aa6934274b  \n",
       "2    d275fa83c717ec0bc07e8a117185bf7f  \n",
       "3    d03d6a5ae2e24dbe103ee2a81fda8952  \n",
       "4    a5b2729500f37c26a71bd1340a9399b3  \n",
       "..                                ...  \n",
       "568  b37293b7afd706091f840a7f67fbdf4f  \n",
       "569  22ef4f9c916a9a538361bbba06aad17a  \n",
       "570  6c598b65ca26c16d79a2d20708a2f0b5  \n",
       "571  f47547f2c961d2f48466f3c0671e59f1  \n",
       "572  c6b41ed9f9c6c9f385c653563fd7f24d  \n",
       "\n",
       "[573 rows x 9 columns]"
      ],
      "text/html": "<div>\n<style scoped>\n    .dataframe tbody tr th:only-of-type {\n        vertical-align: middle;\n    }\n\n    .dataframe tbody tr th {\n        vertical-align: top;\n    }\n\n    .dataframe thead th {\n        text-align: right;\n    }\n</style>\n<table border=\"1\" class=\"dataframe\">\n  <thead>\n    <tr style=\"text-align: right;\">\n      <th></th>\n      <th>department_desc</th>\n      <th>last_name</th>\n      <th>first_name</th>\n      <th>rank_desc</th>\n      <th>left_date</th>\n      <th>left_reason</th>\n      <th>agency</th>\n      <th>data_production_year</th>\n      <th>uid</th>\n    </tr>\n  </thead>\n  <tbody>\n    <tr>\n      <th>0</th>\n      <td>crime investigation division- region 1</td>\n      <td>mckay</td>\n      <td>august</td>\n      <td>trooper</td>\n      <td>12/31/2020</td>\n      <td>death</td>\n      <td>Louisiana State Police</td>\n      <td>2021</td>\n      <td>2d21dadf97c8105096a6af7d4ead8e23</td>\n    </tr>\n    <tr>\n      <th>1</th>\n      <td>investigative support sec</td>\n      <td>reggio</td>\n      <td>scott</td>\n      <td>captain</td>\n      <td>12/28/2020</td>\n      <td>resign</td>\n      <td>Louisiana State Police</td>\n      <td>2021</td>\n      <td>4d21d0eb56b54415f27f70aa6934274b</td>\n    </tr>\n    <tr>\n      <th>2</th>\n      <td>lsp troop i/region 2</td>\n      <td>bajat</td>\n      <td>mark</td>\n      <td>master trooper</td>\n      <td>12/28/2020</td>\n      <td>retirement</td>\n      <td>Louisiana State Police</td>\n      <td>2021</td>\n      <td>d275fa83c717ec0bc07e8a117185bf7f</td>\n    </tr>\n    <tr>\n      <th>3</th>\n      <td>lsp troop e/region 3</td>\n      <td>satcher</td>\n      <td>michael</td>\n      <td>pilot</td>\n      <td>12/19/2020</td>\n      <td>resign</td>\n      <td>Louisiana State Police</td>\n      <td>2021</td>\n      <td>d03d6a5ae2e24dbe103ee2a81fda8952</td>\n    </tr>\n    <tr>\n      <th>4</th>\n      <td>lsp troop e/region 3</td>\n      <td>towell</td>\n      <td>christopher</td>\n      <td>master trooper</td>\n      <td>12/14/2020</td>\n      <td>retirement</td>\n      <td>Louisiana State Police</td>\n      <td>2021</td>\n      <td>a5b2729500f37c26a71bd1340a9399b3</td>\n    </tr>\n    <tr>\n      <th>...</th>\n      <td>...</td>\n      <td>...</td>\n      <td>...</td>\n      <td>...</td>\n      <td>...</td>\n      <td>...</td>\n      <td>...</td>\n      <td>...</td>\n      <td>...</td>\n    </tr>\n    <tr>\n      <th>568</th>\n      <td>right to know/tess</td>\n      <td>leblanc</td>\n      <td>gary</td>\n      <td>emergency services deputy</td>\n      <td>2/8/2010</td>\n      <td>retirement</td>\n      <td>Louisiana State Police</td>\n      <td>2021</td>\n      <td>b37293b7afd706091f840a7f67fbdf4f</td>\n    </tr>\n    <tr>\n      <th>569</th>\n      <td>lsp troop a/region 1</td>\n      <td>clesi</td>\n      <td>gerard</td>\n      <td>lieutenant</td>\n      <td>1/21/2010</td>\n      <td>retirement</td>\n      <td>Louisiana State Police</td>\n      <td>2021</td>\n      <td>22ef4f9c916a9a538361bbba06aad17a</td>\n    </tr>\n    <tr>\n      <th>570</th>\n      <td>patrols/osp-supt</td>\n      <td>mitchell</td>\n      <td>ralph</td>\n      <td>deputy superintendent for patrol</td>\n      <td>1/17/2010</td>\n      <td>retirement</td>\n      <td>Louisiana State Police</td>\n      <td>2021</td>\n      <td>6c598b65ca26c16d79a2d20708a2f0b5</td>\n    </tr>\n    <tr>\n      <th>571</th>\n      <td>crime investigation division- region 2</td>\n      <td>perry</td>\n      <td>paul</td>\n      <td>lieutenant</td>\n      <td>1/16/2010</td>\n      <td>retirement</td>\n      <td>Louisiana State Police</td>\n      <td>2021</td>\n      <td>f47547f2c961d2f48466f3c0671e59f1</td>\n    </tr>\n    <tr>\n      <th>572</th>\n      <td>lsp troop d/region 2</td>\n      <td>dalton</td>\n      <td>duane</td>\n      <td>master trooper</td>\n      <td>1/13/2010</td>\n      <td>death</td>\n      <td>Louisiana State Police</td>\n      <td>2021</td>\n      <td>c6b41ed9f9c6c9f385c653563fd7f24d</td>\n    </tr>\n  </tbody>\n</table>\n<p>573 rows × 9 columns</p>\n</div>"
     },
     "metadata": {},
     "execution_count": 2
    }
   ],
   "source": [
    "dft = clean_pprr_termination()\n",
    "dft"
   ]
  },
  {
   "cell_type": "code",
   "execution_count": 3,
   "metadata": {},
   "outputs": [
    {
     "output_type": "execute_result",
     "data": {
      "text/plain": [
       "array(['crime investigation division- region 1',\n",
       "       'investigative support sec', 'lsp troop i/region 2',\n",
       "       'lsp troop e/region 3', 'lsp troop f/region 3',\n",
       "       'crime investigation division- region 3',\n",
       "       'technical support services/support', 'chief of staff/osp-supt',\n",
       "       'crime investigation division- region 2', 'lsp troop f/region 2',\n",
       "       'lsp troop l/region 1', 'enforcement-st landry',\n",
       "       'region 1/weights & standards',\n",
       "       'mcsap region 1/mcsap administration', 'lsp troop a/region 1',\n",
       "       'support services/support sf', 'region 1/patrol',\n",
       "       'lsp troop b/region 1', 'indian-charenton', 'iss-ciu-lake charles',\n",
       "       'lsp troop g/region 3', 'enforcement-baton rouge',\n",
       "       'licensing-headquarters', 'operations planning & training',\n",
       "       'hazmat-explosives/tess', 'gaming enforcement',\n",
       "       'alexandria/towing & recovery', nan, 'lsp troop d/region 2',\n",
       "       'protective services/osp-s', 'region 2/patrol',\n",
       "       'lsp troop c/region 2', 'licensing-new orleans',\n",
       "       'air support unit/osp-supt',\n",
       "       'transport & environment safety (tess)',\n",
       "       'mcsap region 3/mcsap administration',\n",
       "       'mcsap region 2/mcsap administration', 'district g/region 3',\n",
       "       'tess/emergency services', 'fleet operations/support',\n",
       "       'eeoc & recruiting/osp-sup', 'bossier city/towing & recovery',\n",
       "       'mcsap admin/tess', 'patrols/osp-supt', 'licensing-houma',\n",
       "       'ged administration', 'indian-marksville', 'iss-ciu-new orleans',\n",
       "       'enforcement-lake charles', 'lsp crime lab/su',\n",
       "       'region 2/weights & standards', 'criminal administration',\n",
       "       'licensing-shreveport', 'lsp troop e/region 2',\n",
       "       'iss-tso-baton rouge', 'train ac salaries-osp pai',\n",
       "       'deq emission and anti-tampering', 'licensing-lafayette',\n",
       "       'cid- special investigations/ child exploitation',\n",
       "       'region 3/patrol', 'public affairs', 'iss-ciu-lafayette',\n",
       "       'iss-ciu-alexandria', 'crisis response', 'indian-kinder',\n",
       "       'lsp troop c/region 1', 'lsp troop g/region 2',\n",
       "       'enforcement-new orleans', 'lafayette/towing & recovery',\n",
       "       'iss-ciu-shreveport', 'iss-ciu-monroe',\n",
       "       'crime admin- asset forfeiture', 'right to know/tess'],\n",
       "      dtype=object)"
      ]
     },
     "metadata": {},
     "execution_count": 3
    }
   ],
   "source": [
    "dft.department_desc.unique()"
   ]
  },
  {
   "cell_type": "code",
   "execution_count": 5,
   "metadata": {},
   "outputs": [
    {
     "output_type": "execute_result",
     "data": {
      "text/plain": [
       "                                department_desc     rank_desc     salary  \\\n",
       "0                     air support unit/osp-supt  master pilot  127837.84   \n",
       "1                     air support unit/osp-supt  master pilot  120499.34   \n",
       "2                     air support unit/osp-supt  master pilot  127837.84   \n",
       "3                  alexandria/towing & recovery       trooper   59044.18   \n",
       "4                  alexandria/towing & recovery      sergeant   77904.58   \n",
       "...                                         ...           ...        ...   \n",
       "13615     transport & environment safety (tess)       captain   79040.26   \n",
       "13616     transport & environment safety (tess)       captain   82074.72   \n",
       "13617  weights & standards admin/administration     captain-a   70657.60   \n",
       "13618  weights & standards admin/administration  lieutenant-a   62129.60   \n",
       "13619  weights & standards admin/administration  lieutenant-a   57636.80   \n",
       "\n",
       "        hire_date   race   sex                  agency data_production_year  \\\n",
       "0      04/24/1999  white  male  Louisiana State Police                 2021   \n",
       "1      12/10/2001  white  male  Louisiana State Police                 2021   \n",
       "2      04/24/1999  white  male  Louisiana State Police                 2021   \n",
       "3      01/14/2008  white  male  Louisiana State Police                 2021   \n",
       "4      04/11/2008  white  male  Louisiana State Police                 2021   \n",
       "...           ...    ...   ...                     ...                  ...   \n",
       "13615  06/19/1994  white  male  Louisiana State Police                 2021   \n",
       "13616  01/20/1990  white  male  Louisiana State Police                 2021   \n",
       "13617  05/29/1978  white  male  Louisiana State Police                 2021   \n",
       "13618  10/20/1980  white  male  Louisiana State Police                 2021   \n",
       "13619  10/30/1990  black  male  Louisiana State Police                 2021   \n",
       "\n",
       "      salary_freq    last_name first_name middle_name middle_initial  \\\n",
       "0          yearly         gros      keith           j              j   \n",
       "1          yearly        haley    michael           l              l   \n",
       "2          yearly     levergne    darrell           d              d   \n",
       "3          yearly        brown      james           l              l   \n",
       "4          yearly        owens     rodney           t              t   \n",
       "...           ...          ...        ...         ...            ...   \n",
       "13615      yearly     morrison       mark           e              e   \n",
       "13616      yearly        white     donald           d              d   \n",
       "13617      yearly     davidson    wallace           h              h   \n",
       "13618      yearly  helmstetter      james           s              s   \n",
       "13619      yearly        moses      eddie                              \n",
       "\n",
       "                                    uid  \n",
       "0      9aced2773f9beda5375ae5ce144dc7d8  \n",
       "1      9ebbf1055c45f2cf4a511b73b4d88cb6  \n",
       "2      dd9148d2dae718edae5c6e20bafa2f92  \n",
       "3      4d9ecf24c6a54e396b4fb087cffddeca  \n",
       "4      0809f23e22f05b9681f1f19f2862ae16  \n",
       "...                                 ...  \n",
       "13615  343d88e6762b7d0722029f94ffeb1c2b  \n",
       "13616  67497c9624d79c0034414b9660d4ffca  \n",
       "13617  59b49698674f90708c1910c3896b3c16  \n",
       "13618  7e998aad945f5c06e30bd3d5eaba82db  \n",
       "13619  2ee917f3ebd5911fa3b00af3e89df77f  \n",
       "\n",
       "[13620 rows x 14 columns]"
      ],
      "text/html": "<div>\n<style scoped>\n    .dataframe tbody tr th:only-of-type {\n        vertical-align: middle;\n    }\n\n    .dataframe tbody tr th {\n        vertical-align: top;\n    }\n\n    .dataframe thead th {\n        text-align: right;\n    }\n</style>\n<table border=\"1\" class=\"dataframe\">\n  <thead>\n    <tr style=\"text-align: right;\">\n      <th></th>\n      <th>department_desc</th>\n      <th>rank_desc</th>\n      <th>salary</th>\n      <th>hire_date</th>\n      <th>race</th>\n      <th>sex</th>\n      <th>agency</th>\n      <th>data_production_year</th>\n      <th>salary_freq</th>\n      <th>last_name</th>\n      <th>first_name</th>\n      <th>middle_name</th>\n      <th>middle_initial</th>\n      <th>uid</th>\n    </tr>\n  </thead>\n  <tbody>\n    <tr>\n      <th>0</th>\n      <td>air support unit/osp-supt</td>\n      <td>master pilot</td>\n      <td>127837.84</td>\n      <td>04/24/1999</td>\n      <td>white</td>\n      <td>male</td>\n      <td>Louisiana State Police</td>\n      <td>2021</td>\n      <td>yearly</td>\n      <td>gros</td>\n      <td>keith</td>\n      <td>j</td>\n      <td>j</td>\n      <td>9aced2773f9beda5375ae5ce144dc7d8</td>\n    </tr>\n    <tr>\n      <th>1</th>\n      <td>air support unit/osp-supt</td>\n      <td>master pilot</td>\n      <td>120499.34</td>\n      <td>12/10/2001</td>\n      <td>white</td>\n      <td>male</td>\n      <td>Louisiana State Police</td>\n      <td>2021</td>\n      <td>yearly</td>\n      <td>haley</td>\n      <td>michael</td>\n      <td>l</td>\n      <td>l</td>\n      <td>9ebbf1055c45f2cf4a511b73b4d88cb6</td>\n    </tr>\n    <tr>\n      <th>2</th>\n      <td>air support unit/osp-supt</td>\n      <td>master pilot</td>\n      <td>127837.84</td>\n      <td>04/24/1999</td>\n      <td>white</td>\n      <td>male</td>\n      <td>Louisiana State Police</td>\n      <td>2021</td>\n      <td>yearly</td>\n      <td>levergne</td>\n      <td>darrell</td>\n      <td>d</td>\n      <td>d</td>\n      <td>dd9148d2dae718edae5c6e20bafa2f92</td>\n    </tr>\n    <tr>\n      <th>3</th>\n      <td>alexandria/towing &amp; recovery</td>\n      <td>trooper</td>\n      <td>59044.18</td>\n      <td>01/14/2008</td>\n      <td>white</td>\n      <td>male</td>\n      <td>Louisiana State Police</td>\n      <td>2021</td>\n      <td>yearly</td>\n      <td>brown</td>\n      <td>james</td>\n      <td>l</td>\n      <td>l</td>\n      <td>4d9ecf24c6a54e396b4fb087cffddeca</td>\n    </tr>\n    <tr>\n      <th>4</th>\n      <td>alexandria/towing &amp; recovery</td>\n      <td>sergeant</td>\n      <td>77904.58</td>\n      <td>04/11/2008</td>\n      <td>white</td>\n      <td>male</td>\n      <td>Louisiana State Police</td>\n      <td>2021</td>\n      <td>yearly</td>\n      <td>owens</td>\n      <td>rodney</td>\n      <td>t</td>\n      <td>t</td>\n      <td>0809f23e22f05b9681f1f19f2862ae16</td>\n    </tr>\n    <tr>\n      <th>...</th>\n      <td>...</td>\n      <td>...</td>\n      <td>...</td>\n      <td>...</td>\n      <td>...</td>\n      <td>...</td>\n      <td>...</td>\n      <td>...</td>\n      <td>...</td>\n      <td>...</td>\n      <td>...</td>\n      <td>...</td>\n      <td>...</td>\n      <td>...</td>\n    </tr>\n    <tr>\n      <th>13615</th>\n      <td>transport &amp; environment safety (tess)</td>\n      <td>captain</td>\n      <td>79040.26</td>\n      <td>06/19/1994</td>\n      <td>white</td>\n      <td>male</td>\n      <td>Louisiana State Police</td>\n      <td>2021</td>\n      <td>yearly</td>\n      <td>morrison</td>\n      <td>mark</td>\n      <td>e</td>\n      <td>e</td>\n      <td>343d88e6762b7d0722029f94ffeb1c2b</td>\n    </tr>\n    <tr>\n      <th>13616</th>\n      <td>transport &amp; environment safety (tess)</td>\n      <td>captain</td>\n      <td>82074.72</td>\n      <td>01/20/1990</td>\n      <td>white</td>\n      <td>male</td>\n      <td>Louisiana State Police</td>\n      <td>2021</td>\n      <td>yearly</td>\n      <td>white</td>\n      <td>donald</td>\n      <td>d</td>\n      <td>d</td>\n      <td>67497c9624d79c0034414b9660d4ffca</td>\n    </tr>\n    <tr>\n      <th>13617</th>\n      <td>weights &amp; standards admin/administration</td>\n      <td>captain-a</td>\n      <td>70657.60</td>\n      <td>05/29/1978</td>\n      <td>white</td>\n      <td>male</td>\n      <td>Louisiana State Police</td>\n      <td>2021</td>\n      <td>yearly</td>\n      <td>davidson</td>\n      <td>wallace</td>\n      <td>h</td>\n      <td>h</td>\n      <td>59b49698674f90708c1910c3896b3c16</td>\n    </tr>\n    <tr>\n      <th>13618</th>\n      <td>weights &amp; standards admin/administration</td>\n      <td>lieutenant-a</td>\n      <td>62129.60</td>\n      <td>10/20/1980</td>\n      <td>white</td>\n      <td>male</td>\n      <td>Louisiana State Police</td>\n      <td>2021</td>\n      <td>yearly</td>\n      <td>helmstetter</td>\n      <td>james</td>\n      <td>s</td>\n      <td>s</td>\n      <td>7e998aad945f5c06e30bd3d5eaba82db</td>\n    </tr>\n    <tr>\n      <th>13619</th>\n      <td>weights &amp; standards admin/administration</td>\n      <td>lieutenant-a</td>\n      <td>57636.80</td>\n      <td>10/30/1990</td>\n      <td>black</td>\n      <td>male</td>\n      <td>Louisiana State Police</td>\n      <td>2021</td>\n      <td>yearly</td>\n      <td>moses</td>\n      <td>eddie</td>\n      <td></td>\n      <td></td>\n      <td>2ee917f3ebd5911fa3b00af3e89df77f</td>\n    </tr>\n  </tbody>\n</table>\n<p>13620 rows × 14 columns</p>\n</div>"
     },
     "metadata": {},
     "execution_count": 5
    }
   ],
   "source": [
    "dfd = clean_pprr_demographic()\n",
    "dfd"
   ]
  },
  {
   "cell_type": "code",
   "execution_count": 13,
   "metadata": {},
   "outputs": [],
   "source": [
    "df2 = dfd[['uid', 'first_name', 'last_name', 'middle_name', 'race', 'sex', 'department_desc', 'rank_desc', 'salary', 'hire_date']]\n",
    "df2[df2.duplicated(subset=['uid', 'hire_date'], keep=False)].sort_values(['uid', 'hire_date']).to_csv('../data/lsp_pprr_duplicates.csv', index=False)"
   ]
  },
  {
   "cell_type": "code",
   "execution_count": null,
   "metadata": {},
   "outputs": [],
   "source": []
  }
 ]
}
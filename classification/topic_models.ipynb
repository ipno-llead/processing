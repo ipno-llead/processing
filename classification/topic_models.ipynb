{
 "cells": [
  {
   "cell_type": "code",
   "execution_count": 53,
   "metadata": {},
   "outputs": [
    {
     "name": "stderr",
     "output_type": "stream",
     "text": [
      "[nltk_data] Downloading package stopwords to\n",
      "[nltk_data]     C:\\Users\\PC\\AppData\\Roaming\\nltk_data...\n",
      "[nltk_data]   Package stopwords is already up-to-date!\n"
     ]
    }
   ],
   "source": [
    "import pandas as pd\n",
    "import sys\n",
    "from top2vec import Top2Vec\n",
    "from nltk.corpus import stopwords\n",
    "import nltk\n",
    "from nltk.tokenize import punkt\n",
    "from nltk.stem import WordNetLemmatizer\n",
    "from collections import Counter\n",
    "# import umap.umap_ as umap\n",
    "# import umap.plot\n",
    "nltk.download(\"stopwords\")\n",
    "import numpy as np\n",
    "import json\n",
    "import glob\n",
    "import gensim\n",
    "import gensim.corpora as corpora \n",
    "from gensim.utils import simple_preprocess\n",
    "from gensim.models import CoherenceModel\n",
    "from gensim.models import TfidfModel\n",
    "import spacy\n",
    "from nltk.corpus import stopwords\n",
    "import pyLDAvis\n",
    "import pyLDAvis.gensim_models\n",
    "from bertopic import BERTopic\n",
    "from sentence_transformers import SentenceTransformer\n",
    "from sklearn.model_selection import train_test_split\n",
    "from sklearn.feature_extraction.text import CountVectorizer\n",
    "from lib.clean import split_rows_with_multiple_labels\n",
    "from lib.gensim import generate_corpus, generate_gensim_vecs"
   ]
  },
  {
   "cell_type": "code",
   "execution_count": 54,
   "metadata": {},
   "outputs": [],
   "source": [
    "def read_data():\n",
    "    df = pd.read_csv(\"../data/classification/data/complaint_classification_labeled_data_1_31_2023.csv\")\n",
    "    return df"
   ]
  },
  {
   "cell_type": "code",
   "execution_count": 55,
   "metadata": {},
   "outputs": [],
   "source": [
    "df = read_data()"
   ]
  },
  {
   "cell_type": "code",
   "execution_count": 56,
   "metadata": {},
   "outputs": [],
   "source": [
    "################################################### preprocess ##################################################################"
   ]
  },
  {
   "cell_type": "code",
   "execution_count": 57,
   "metadata": {},
   "outputs": [],
   "source": [
    "def clean_labels(df):\n",
    "    df.loc[:, \"label\"] = (df.label.str.lower()\n",
    "                                  .str.strip()\n",
    "                                  .str.replace(r\"#\", \"/\", regex=False)\n",
    "                                  .str.replace(r\"internal misconduct\\/administrative infraction\",\n",
    "                                               \"internal misconduct; administrative infraction\", regex=True)\n",
    "    )\n",
    "    return df"
   ]
  },
  {
   "cell_type": "code",
   "execution_count": 58,
   "metadata": {},
   "outputs": [],
   "source": [
    "df = df.pipe(clean_labels).pipe(split_rows_with_multiple_labels)"
   ]
  },
  {
   "cell_type": "code",
   "execution_count": 59,
   "metadata": {},
   "outputs": [],
   "source": [
    "def extract_targets(df):\n",
    "    dfa = df\n",
    "    dfa.loc[:, \"target\"] = (df.label.str.lower()\n",
    "                                    .str.strip()\n",
    "                                    .str.replace(r\"internal misconduct; administrative infraction\", \"\", regex=False)\n",
    "    )\n",
    "    dfa = dfa[~((dfa.target.fillna(\"\") == \"\"))]\n",
    "    dfa.loc[:, \"target\"] = dfa.target.str.replace(r\"(.+)\", \"0\", regex=True)\n",
    "\n",
    "    extract_targets = df.label.str.lower().str.strip().str.extract(r\"(internal misconduct; administrative infraction)\")\n",
    "\n",
    "    df.loc[:, \"target\"] = extract_targets[0].str.replace(r\"(.+)\", \"1\", regex=True)\n",
    "    df = df[~((df.target.fillna(\"\") == \"\"))]\n",
    "\n",
    "    df = pd.concat([df, dfa], axis=0)\n",
    "    df = df.rename(columns={\"text\": \"allegation_desc\"})\n",
    "    return df"
   ]
  },
  {
   "cell_type": "code",
   "execution_count": 60,
   "metadata": {},
   "outputs": [],
   "source": [
    "df = df.pipe(extract_targets)"
   ]
  },
  {
   "cell_type": "code",
   "execution_count": 61,
   "metadata": {},
   "outputs": [],
   "source": [
    "def split_data(df):\n",
    "    training_data, test_data = train_test_split(df, test_size=0.3)\n",
    "    return training_data, test_data, df"
   ]
  },
  {
   "cell_type": "code",
   "execution_count": 62,
   "metadata": {},
   "outputs": [],
   "source": [
    "training_data, test_data, og_df = split_data(df)\n",
    "\n",
    "training_data.to_csv(\"../data/classification/training_data/training_data.csv\", index=False)\n",
    "test_data.to_csv(\"../data/classification/test_data/test_data.csv\", index=False)"
   ]
  },
  {
   "cell_type": "code",
   "execution_count": 63,
   "metadata": {},
   "outputs": [],
   "source": [
    "################################################### top2vec ##################################################################"
   ]
  },
  {
   "cell_type": "code",
   "execution_count": 64,
   "metadata": {},
   "outputs": [],
   "source": [
    "def create_model(df):\n",
    "    df = [x for x in df[\"allegation_desc\"]]\n",
    "\n",
    "    model = Top2Vec(\n",
    "        df,\n",
    "        ngram_vocab=True,\n",
    "        speed=\"deep-learn\",\n",
    "        use_embedding_model_tokenizer=True,\n",
    "        min_count=5,\n",
    "    )\n",
    "    return model"
   ]
  },
  {
   "cell_type": "code",
   "execution_count": 65,
   "metadata": {},
   "outputs": [],
   "source": [
    "def model():\n",
    "    top2vec = create_model(og_df)\n",
    "    return top2vec"
   ]
  },
  {
   "cell_type": "code",
   "execution_count": 66,
   "metadata": {},
   "outputs": [
    {
     "name": "stderr",
     "output_type": "stream",
     "text": [
      "2023-02-09 15:18:20,178 - top2vec - INFO - Pre-processing documents for training\n",
      "2023-02-09 15:18:20,305 - top2vec - INFO - Creating joint document/word embedding\n",
      "2023-02-09 15:18:52,677 - top2vec - INFO - Creating lower dimension embedding of documents\n",
      "2023-02-09 15:18:58,379 - top2vec - INFO - Finding dense areas of documents\n",
      "2023-02-09 15:18:58,441 - top2vec - INFO - Finding topics\n"
     ]
    }
   ],
   "source": [
    "model = model()"
   ]
  },
  {
   "cell_type": "code",
   "execution_count": 67,
   "metadata": {},
   "outputs": [],
   "source": [
    "model.save(\"models/top2vec_train_model\")"
   ]
  },
  {
   "cell_type": "code",
   "execution_count": 68,
   "metadata": {},
   "outputs": [],
   "source": [
    "############################################################ bertopic #################################################################"
   ]
  },
  {
   "cell_type": "code",
   "execution_count": 69,
   "metadata": {},
   "outputs": [],
   "source": [
    "docs = og_df.allegation_desc"
   ]
  },
  {
   "cell_type": "code",
   "execution_count": 70,
   "metadata": {},
   "outputs": [],
   "source": [
    "docs = json.loads(docs.to_json(orient='records'))"
   ]
  },
  {
   "cell_type": "code",
   "execution_count": 71,
   "metadata": {},
   "outputs": [
    {
     "name": "stderr",
     "output_type": "stream",
     "text": [
      "Batches: 100%|██████████| 49/49 [00:19<00:00,  2.57it/s]\n"
     ]
    }
   ],
   "source": [
    "sentence_model = SentenceTransformer(\"all-MiniLM-L6-v2\")\n",
    "embeddings = sentence_model.encode(docs, show_progress_bar=True)\n",
    "embeddings = np.array(embeddings)\n",
    "embeddings = pd.DataFrame(embeddings).to_csv(\"vectors/bert_train_vecs.csv\", index=False)"
   ]
  },
  {
   "cell_type": "code",
   "execution_count": 72,
   "metadata": {},
   "outputs": [],
   "source": [
    "vectorizer_model = CountVectorizer(stop_words=\"english\")\n",
    "topic_model = BERTopic(embedding_model=\"all-MiniLM-L6-v2\", vectorizer_model=vectorizer_model, diversity=0.2)"
   ]
  },
  {
   "cell_type": "code",
   "execution_count": 73,
   "metadata": {},
   "outputs": [],
   "source": [
    "topic, probs = topic_model.fit_transform(docs)"
   ]
  },
  {
   "cell_type": "code",
   "execution_count": null,
   "metadata": {},
   "outputs": [],
   "source": [
    "topic_model.save(\"models/bert_train_model\")"
   ]
  },
  {
   "cell_type": "code",
   "execution_count": null,
   "metadata": {},
   "outputs": [],
   "source": [
    "############################################################ gensim ##############################################################################"
   ]
  },
  {
   "cell_type": "code",
   "execution_count": null,
   "metadata": {},
   "outputs": [],
   "source": [
    "docs = og_df.allegation_desc"
   ]
  },
  {
   "cell_type": "code",
   "execution_count": null,
   "metadata": {},
   "outputs": [],
   "source": [
    "train_corpus, id2word = generate_corpus(docs)"
   ]
  },
  {
   "cell_type": "code",
   "execution_count": null,
   "metadata": {},
   "outputs": [],
   "source": [
    "gensim_model = gensim.models.ldamodel.LdaModel(corpus=train_corpus,\n",
    "                                           id2word=id2word,\n",
    "                                           num_topics=20,\n",
    "                                           random_state=100,\n",
    "                                           update_every=1,\n",
    "                                           chunksize=100,\n",
    "                                           passes=10,\n",
    "                                           alpha=\"auto\")"
   ]
  },
  {
   "cell_type": "code",
   "execution_count": null,
   "metadata": {},
   "outputs": [],
   "source": [
    "gensim_model.save('models/gensim_train.model')"
   ]
  },
  {
   "cell_type": "code",
   "execution_count": null,
   "metadata": {},
   "outputs": [],
   "source": [
    "gensim_vecs = generate_gensim_vecs(docs, gensim_model, train_corpus)\n",
    "gensim_vecs = np.array(gensim_vecs)\n",
    "gensim_vecs = pd.DataFrame(gensim_vecs).to_csv(\"vectors/gensim_train_vecs.csv\", index=False)"
   ]
  }
 ],
 "metadata": {
  "kernelspec": {
   "display_name": "Python 3.9.11 64-bit",
   "language": "python",
   "name": "python3"
  },
  "language_info": {
   "codemirror_mode": {
    "name": "ipython",
    "version": 3
   },
   "file_extension": ".py",
   "mimetype": "text/x-python",
   "name": "python",
   "nbconvert_exporter": "python",
   "pygments_lexer": "ipython3",
   "version": "3.9.11"
  },
  "orig_nbformat": 4,
  "vscode": {
   "interpreter": {
    "hash": "f6c8f846148a3e4d140e6ddf63c190cff559dcf260a4a21539f0978f2b58638c"
   }
  }
 },
 "nbformat": 4,
 "nbformat_minor": 2
}

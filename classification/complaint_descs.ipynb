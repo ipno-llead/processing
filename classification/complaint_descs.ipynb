{
 "cells": [
  {
   "cell_type": "code",
   "execution_count": 26,
   "metadata": {},
   "outputs": [],
   "source": [
    "import pandas as pd"
   ]
  },
  {
   "cell_type": "code",
   "execution_count": 27,
   "metadata": {},
   "outputs": [],
   "source": [
    "def read_dfs():\n",
    "    dfa = pd.read_csv(\"../data/fuse/com_abbeville_pd.csv\")\n",
    "    dfa = dfa[[\"allegation_desc\", \"tracking_id_og\", \"agency\"]]\n",
    "    dfb = pd.read_csv(\"../data/fuse/com_baton_rouge_pd.csv\")\n",
    "    dfb = dfb[[\"allegation_desc\", \"tracking_id_og\", \"agency\"]]\n",
    "    dfc = pd.read_csv(\"../data/fuse/com_benton_pd.csv\")\n",
    "    dfc = dfc[[\"allegation_desc\", \"agency\"]]\n",
    "    dfd = pd.read_csv(\"../data/fuse/com_bossier_city_pd.csv\")\n",
    "    dfd = dfd[[\"allegation_desc\", \"tracking_id_og\", \"agency\"]]\n",
    "    dfe = pd.read_csv(\"../data/fuse/com_denham_springs_pd.csv\")\n",
    "    dfe = dfe[[\"allegation_desc\", \"tracking_id_og\", \"agency\"]]\n",
    "    dff = pd.read_csv(\"../data/fuse/com_new_orleans_so.csv\")\n",
    "    dff = dff[[\"allegation_desc\", \"tracking_id_og\", \"agency\"]]\n",
    "    dfg = pd.read_csv(\"../data/fuse/com_rayne_pd.csv\")\n",
    "    dfg = dfg[[\"allegation_desc\", \"agency\"]]\n",
    "    dfh = pd.read_csv(\"../data/clean/cprr_new_orleans_pd_pib_reports_2014_2020.csv\")\n",
    "    dfh = dfh[[\"allegation_desc\", \"tracking_id_og\", \"agency\"]]\n",
    "    dfg = pd.read_csv(\"../data/fuse/com_jefferson_davis_so.csv\")\n",
    "    dfg = dfg[[\"allegation_desc\", \"agency\"]]\n",
    "\n",
    "    dfs = [dfa, dfb, dfc, dfd, dfe, dff, dfg, dfh, dfg]\n",
    "    df = pd.concat(dfs, axis=0)\n",
    "    return df[~((df.allegation_desc.fillna(\"\") == \"\"))]"
   ]
  },
  {
   "cell_type": "code",
   "execution_count": 28,
   "metadata": {},
   "outputs": [],
   "source": [
    "df = read_dfs()"
   ]
  },
  {
   "cell_type": "code",
   "execution_count": 29,
   "metadata": {},
   "outputs": [],
   "source": [
    "df = df.rename(columns={\"allegation_desc\": \"text\", \"agency\": \"meta_agency\", \"tracking_id_og\": \"meta_tracking_id\"})\n",
    "df = df.drop_duplicates(subset=[\"text\"])"
   ]
  },
  {
   "cell_type": "code",
   "execution_count": 30,
   "metadata": {},
   "outputs": [],
   "source": [
    "df[\"label\"] = \"\""
   ]
  },
  {
   "cell_type": "code",
   "execution_count": 31,
   "metadata": {},
   "outputs": [
    {
     "data": {
      "text/html": [
       "<div>\n",
       "<style scoped>\n",
       "    .dataframe tbody tr th:only-of-type {\n",
       "        vertical-align: middle;\n",
       "    }\n",
       "\n",
       "    .dataframe tbody tr th {\n",
       "        vertical-align: top;\n",
       "    }\n",
       "\n",
       "    .dataframe thead th {\n",
       "        text-align: right;\n",
       "    }\n",
       "</style>\n",
       "<table border=\"1\" class=\"dataframe\">\n",
       "  <thead>\n",
       "    <tr style=\"text-align: right;\">\n",
       "      <th></th>\n",
       "      <th>text</th>\n",
       "      <th>meta_tracking_id</th>\n",
       "      <th>meta_agency</th>\n",
       "      <th>label</th>\n",
       "    </tr>\n",
       "  </thead>\n",
       "  <tbody>\n",
       "    <tr>\n",
       "      <th>0</th>\n",
       "      <td>bodycam footage clearly displays proper protoc...</td>\n",
       "      <td>19-003</td>\n",
       "      <td>abbeville-pd</td>\n",
       "      <td></td>\n",
       "    </tr>\n",
       "    <tr>\n",
       "      <th>4</th>\n",
       "      <td>findings sent to chief of police</td>\n",
       "      <td>21-003</td>\n",
       "      <td>abbeville-pd</td>\n",
       "      <td></td>\n",
       "    </tr>\n",
       "    <tr>\n",
       "      <th>6</th>\n",
       "      <td>handled by chief, no formal investigation</td>\n",
       "      <td>21-005</td>\n",
       "      <td>abbeville-pd</td>\n",
       "      <td></td>\n",
       "    </tr>\n",
       "    <tr>\n",
       "      <th>9</th>\n",
       "      <td>officer resigned prior to discipline</td>\n",
       "      <td>20-001</td>\n",
       "      <td>abbeville-pd</td>\n",
       "      <td></td>\n",
       "    </tr>\n",
       "    <tr>\n",
       "      <th>13</th>\n",
       "      <td>no date completed or discipline in file</td>\n",
       "      <td>NaN</td>\n",
       "      <td>abbeville-pd</td>\n",
       "      <td></td>\n",
       "    </tr>\n",
       "    <tr>\n",
       "      <th>...</th>\n",
       "      <td>...</td>\n",
       "      <td>...</td>\n",
       "      <td>...</td>\n",
       "      <td>...</td>\n",
       "    </tr>\n",
       "    <tr>\n",
       "      <th>4169</th>\n",
       "      <td>the complainant stated the candidate selection...</td>\n",
       "      <td>2020-0609-p</td>\n",
       "      <td>new-orleans-pd</td>\n",
       "      <td></td>\n",
       "    </tr>\n",
       "    <tr>\n",
       "      <th>4170</th>\n",
       "      <td>complainant stated that the nopd was not trans...</td>\n",
       "      <td>2020-0610-p</td>\n",
       "      <td>new-orleans-pd</td>\n",
       "      <td></td>\n",
       "    </tr>\n",
       "    <tr>\n",
       "      <th>4175</th>\n",
       "      <td>the officer struck the complainant with a clos...</td>\n",
       "      <td>2020-0616-p</td>\n",
       "      <td>new-orleans-pd</td>\n",
       "      <td></td>\n",
       "    </tr>\n",
       "    <tr>\n",
       "      <th>4178</th>\n",
       "      <td>officer ignored orders from two ranking office...</td>\n",
       "      <td>2020-0620-r</td>\n",
       "      <td>new-orleans-pd</td>\n",
       "      <td></td>\n",
       "    </tr>\n",
       "    <tr>\n",
       "      <th>4179</th>\n",
       "      <td>complainant stated that the officer did not tr...</td>\n",
       "      <td>2020-0632-p</td>\n",
       "      <td>new-orleans-pd</td>\n",
       "      <td></td>\n",
       "    </tr>\n",
       "  </tbody>\n",
       "</table>\n",
       "<p>4411 rows × 4 columns</p>\n",
       "</div>"
      ],
      "text/plain": [
       "                                                   text meta_tracking_id  \\\n",
       "0     bodycam footage clearly displays proper protoc...           19-003   \n",
       "4                      findings sent to chief of police           21-003   \n",
       "6             handled by chief, no formal investigation           21-005   \n",
       "9                  officer resigned prior to discipline           20-001   \n",
       "13              no date completed or discipline in file              NaN   \n",
       "...                                                 ...              ...   \n",
       "4169  the complainant stated the candidate selection...      2020-0609-p   \n",
       "4170  complainant stated that the nopd was not trans...      2020-0610-p   \n",
       "4175  the officer struck the complainant with a clos...      2020-0616-p   \n",
       "4178  officer ignored orders from two ranking office...      2020-0620-r   \n",
       "4179  complainant stated that the officer did not tr...      2020-0632-p   \n",
       "\n",
       "         meta_agency label  \n",
       "0       abbeville-pd        \n",
       "4       abbeville-pd        \n",
       "6       abbeville-pd        \n",
       "9       abbeville-pd        \n",
       "13      abbeville-pd        \n",
       "...              ...   ...  \n",
       "4169  new-orleans-pd        \n",
       "4170  new-orleans-pd        \n",
       "4175  new-orleans-pd        \n",
       "4178  new-orleans-pd        \n",
       "4179  new-orleans-pd        \n",
       "\n",
       "[4411 rows x 4 columns]"
      ]
     },
     "execution_count": 31,
     "metadata": {},
     "output_type": "execute_result"
    }
   ],
   "source": [
    "df"
   ]
  },
  {
   "cell_type": "code",
   "execution_count": 32,
   "metadata": {},
   "outputs": [],
   "source": [
    "df.to_csv(\"../data/training_data/allegation_desc.csv\", index=False)"
   ]
  }
 ],
 "metadata": {
  "kernelspec": {
   "display_name": "Python 3.9.11 64-bit",
   "language": "python",
   "name": "python3"
  },
  "language_info": {
   "codemirror_mode": {
    "name": "ipython",
    "version": 3
   },
   "file_extension": ".py",
   "mimetype": "text/x-python",
   "name": "python",
   "nbconvert_exporter": "python",
   "pygments_lexer": "ipython3",
   "version": "3.9.11"
  },
  "orig_nbformat": 4,
  "vscode": {
   "interpreter": {
    "hash": "f6c8f846148a3e4d140e6ddf63c190cff559dcf260a4a21539f0978f2b58638c"
   }
  }
 },
 "nbformat": 4,
 "nbformat_minor": 2
}
